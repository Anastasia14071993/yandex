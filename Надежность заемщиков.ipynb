{
 "cells": [
  {
   "cell_type": "markdown",
   "id": "cc5c6d20",
   "metadata": {
    "deletable": false,
    "editable": false,
    "id": "c81daeeb"
   },
   "source": [
    "# Исследование надежности заемщиков\n"
   ]
  },
  {
   "cell_type": "markdown",
   "id": "614eb268",
   "metadata": {
    "deletable": false,
    "editable": false,
    "id": "827c20bf"
   },
   "source": [
    "Во второй части проекта вы выполните шаги 3 и 4. Их вручную проверит ревьюер.\n",
    "Чтобы вам не пришлось писать код заново для шагов 1 и 2, мы добавили авторские решения в ячейки с кодом. \n",
    "\n"
   ]
  },
  {
   "cell_type": "markdown",
   "id": "cf5c70d9",
   "metadata": {
    "deletable": false,
    "editable": false,
    "id": "744d7639"
   },
   "source": [
    "## Откройте таблицу и изучите общую информацию о данных"
   ]
  },
  {
   "cell_type": "markdown",
   "id": "96854761",
   "metadata": {
    "deletable": false,
    "editable": false,
    "id": "e7a14c31"
   },
   "source": [
    "**Задание 1. Импортируйте библиотеку pandas. Считайте данные из csv-файла в датафрейм и сохраните в переменную `data`. Путь к файлу:**\n",
    "\n",
    "`/datasets/data.csv`"
   ]
  },
  {
   "cell_type": "code",
   "execution_count": 35,
   "id": "fc9ebe48",
   "metadata": {
    "deletable": false,
    "id": "7bcf75c9"
   },
   "outputs": [],
   "source": [
    "import pandas as pd\n",
    "\n",
    "try:\n",
    "    data = pd.read_csv('/datasets/data.csv')\n",
    "except:\n",
    "    data = pd.read_csv('https://code.s3.yandex.net/datasets/data.csv')"
   ]
  },
  {
   "cell_type": "markdown",
   "id": "c51b1ee5",
   "metadata": {
    "deletable": false,
    "editable": false,
    "id": "b8038fe3"
   },
   "source": [
    "**Задание 2. Выведите первые 20 строчек датафрейма `data` на экран.**"
   ]
  },
  {
   "cell_type": "code",
   "execution_count": 36,
   "id": "c00400a4",
   "metadata": {
    "collapsed": true,
    "deletable": false,
    "id": "2a7cab99",
    "outputId": "1a8f3ef2-d323-4ec2-ddf7-89670b5944c4"
   },
   "outputs": [
    {
     "data": {
      "text/html": [
       "<div>\n",
       "<style scoped>\n",
       "    .dataframe tbody tr th:only-of-type {\n",
       "        vertical-align: middle;\n",
       "    }\n",
       "\n",
       "    .dataframe tbody tr th {\n",
       "        vertical-align: top;\n",
       "    }\n",
       "\n",
       "    .dataframe thead th {\n",
       "        text-align: right;\n",
       "    }\n",
       "</style>\n",
       "<table border=\"1\" class=\"dataframe\">\n",
       "  <thead>\n",
       "    <tr style=\"text-align: right;\">\n",
       "      <th></th>\n",
       "      <th>children</th>\n",
       "      <th>days_employed</th>\n",
       "      <th>dob_years</th>\n",
       "      <th>education</th>\n",
       "      <th>education_id</th>\n",
       "      <th>family_status</th>\n",
       "      <th>family_status_id</th>\n",
       "      <th>gender</th>\n",
       "      <th>income_type</th>\n",
       "      <th>debt</th>\n",
       "      <th>total_income</th>\n",
       "      <th>purpose</th>\n",
       "    </tr>\n",
       "  </thead>\n",
       "  <tbody>\n",
       "    <tr>\n",
       "      <th>0</th>\n",
       "      <td>1</td>\n",
       "      <td>-8437.673028</td>\n",
       "      <td>42</td>\n",
       "      <td>высшее</td>\n",
       "      <td>0</td>\n",
       "      <td>женат / замужем</td>\n",
       "      <td>0</td>\n",
       "      <td>F</td>\n",
       "      <td>сотрудник</td>\n",
       "      <td>0</td>\n",
       "      <td>253875.639453</td>\n",
       "      <td>покупка жилья</td>\n",
       "    </tr>\n",
       "    <tr>\n",
       "      <th>1</th>\n",
       "      <td>1</td>\n",
       "      <td>-4024.803754</td>\n",
       "      <td>36</td>\n",
       "      <td>среднее</td>\n",
       "      <td>1</td>\n",
       "      <td>женат / замужем</td>\n",
       "      <td>0</td>\n",
       "      <td>F</td>\n",
       "      <td>сотрудник</td>\n",
       "      <td>0</td>\n",
       "      <td>112080.014102</td>\n",
       "      <td>приобретение автомобиля</td>\n",
       "    </tr>\n",
       "    <tr>\n",
       "      <th>2</th>\n",
       "      <td>0</td>\n",
       "      <td>-5623.422610</td>\n",
       "      <td>33</td>\n",
       "      <td>Среднее</td>\n",
       "      <td>1</td>\n",
       "      <td>женат / замужем</td>\n",
       "      <td>0</td>\n",
       "      <td>M</td>\n",
       "      <td>сотрудник</td>\n",
       "      <td>0</td>\n",
       "      <td>145885.952297</td>\n",
       "      <td>покупка жилья</td>\n",
       "    </tr>\n",
       "    <tr>\n",
       "      <th>3</th>\n",
       "      <td>3</td>\n",
       "      <td>-4124.747207</td>\n",
       "      <td>32</td>\n",
       "      <td>среднее</td>\n",
       "      <td>1</td>\n",
       "      <td>женат / замужем</td>\n",
       "      <td>0</td>\n",
       "      <td>M</td>\n",
       "      <td>сотрудник</td>\n",
       "      <td>0</td>\n",
       "      <td>267628.550329</td>\n",
       "      <td>дополнительное образование</td>\n",
       "    </tr>\n",
       "    <tr>\n",
       "      <th>4</th>\n",
       "      <td>0</td>\n",
       "      <td>340266.072047</td>\n",
       "      <td>53</td>\n",
       "      <td>среднее</td>\n",
       "      <td>1</td>\n",
       "      <td>гражданский брак</td>\n",
       "      <td>1</td>\n",
       "      <td>F</td>\n",
       "      <td>пенсионер</td>\n",
       "      <td>0</td>\n",
       "      <td>158616.077870</td>\n",
       "      <td>сыграть свадьбу</td>\n",
       "    </tr>\n",
       "    <tr>\n",
       "      <th>5</th>\n",
       "      <td>0</td>\n",
       "      <td>-926.185831</td>\n",
       "      <td>27</td>\n",
       "      <td>высшее</td>\n",
       "      <td>0</td>\n",
       "      <td>гражданский брак</td>\n",
       "      <td>1</td>\n",
       "      <td>M</td>\n",
       "      <td>компаньон</td>\n",
       "      <td>0</td>\n",
       "      <td>255763.565419</td>\n",
       "      <td>покупка жилья</td>\n",
       "    </tr>\n",
       "    <tr>\n",
       "      <th>6</th>\n",
       "      <td>0</td>\n",
       "      <td>-2879.202052</td>\n",
       "      <td>43</td>\n",
       "      <td>высшее</td>\n",
       "      <td>0</td>\n",
       "      <td>женат / замужем</td>\n",
       "      <td>0</td>\n",
       "      <td>F</td>\n",
       "      <td>компаньон</td>\n",
       "      <td>0</td>\n",
       "      <td>240525.971920</td>\n",
       "      <td>операции с жильем</td>\n",
       "    </tr>\n",
       "    <tr>\n",
       "      <th>7</th>\n",
       "      <td>0</td>\n",
       "      <td>-152.779569</td>\n",
       "      <td>50</td>\n",
       "      <td>СРЕДНЕЕ</td>\n",
       "      <td>1</td>\n",
       "      <td>женат / замужем</td>\n",
       "      <td>0</td>\n",
       "      <td>M</td>\n",
       "      <td>сотрудник</td>\n",
       "      <td>0</td>\n",
       "      <td>135823.934197</td>\n",
       "      <td>образование</td>\n",
       "    </tr>\n",
       "    <tr>\n",
       "      <th>8</th>\n",
       "      <td>2</td>\n",
       "      <td>-6929.865299</td>\n",
       "      <td>35</td>\n",
       "      <td>ВЫСШЕЕ</td>\n",
       "      <td>0</td>\n",
       "      <td>гражданский брак</td>\n",
       "      <td>1</td>\n",
       "      <td>F</td>\n",
       "      <td>сотрудник</td>\n",
       "      <td>0</td>\n",
       "      <td>95856.832424</td>\n",
       "      <td>на проведение свадьбы</td>\n",
       "    </tr>\n",
       "    <tr>\n",
       "      <th>9</th>\n",
       "      <td>0</td>\n",
       "      <td>-2188.756445</td>\n",
       "      <td>41</td>\n",
       "      <td>среднее</td>\n",
       "      <td>1</td>\n",
       "      <td>женат / замужем</td>\n",
       "      <td>0</td>\n",
       "      <td>M</td>\n",
       "      <td>сотрудник</td>\n",
       "      <td>0</td>\n",
       "      <td>144425.938277</td>\n",
       "      <td>покупка жилья для семьи</td>\n",
       "    </tr>\n",
       "    <tr>\n",
       "      <th>10</th>\n",
       "      <td>2</td>\n",
       "      <td>-4171.483647</td>\n",
       "      <td>36</td>\n",
       "      <td>высшее</td>\n",
       "      <td>0</td>\n",
       "      <td>женат / замужем</td>\n",
       "      <td>0</td>\n",
       "      <td>M</td>\n",
       "      <td>компаньон</td>\n",
       "      <td>0</td>\n",
       "      <td>113943.491460</td>\n",
       "      <td>покупка недвижимости</td>\n",
       "    </tr>\n",
       "    <tr>\n",
       "      <th>11</th>\n",
       "      <td>0</td>\n",
       "      <td>-792.701887</td>\n",
       "      <td>40</td>\n",
       "      <td>среднее</td>\n",
       "      <td>1</td>\n",
       "      <td>женат / замужем</td>\n",
       "      <td>0</td>\n",
       "      <td>F</td>\n",
       "      <td>сотрудник</td>\n",
       "      <td>0</td>\n",
       "      <td>77069.234271</td>\n",
       "      <td>покупка коммерческой недвижимости</td>\n",
       "    </tr>\n",
       "    <tr>\n",
       "      <th>12</th>\n",
       "      <td>0</td>\n",
       "      <td>NaN</td>\n",
       "      <td>65</td>\n",
       "      <td>среднее</td>\n",
       "      <td>1</td>\n",
       "      <td>гражданский брак</td>\n",
       "      <td>1</td>\n",
       "      <td>M</td>\n",
       "      <td>пенсионер</td>\n",
       "      <td>0</td>\n",
       "      <td>NaN</td>\n",
       "      <td>сыграть свадьбу</td>\n",
       "    </tr>\n",
       "    <tr>\n",
       "      <th>13</th>\n",
       "      <td>0</td>\n",
       "      <td>-1846.641941</td>\n",
       "      <td>54</td>\n",
       "      <td>неоконченное высшее</td>\n",
       "      <td>2</td>\n",
       "      <td>женат / замужем</td>\n",
       "      <td>0</td>\n",
       "      <td>F</td>\n",
       "      <td>сотрудник</td>\n",
       "      <td>0</td>\n",
       "      <td>130458.228857</td>\n",
       "      <td>приобретение автомобиля</td>\n",
       "    </tr>\n",
       "    <tr>\n",
       "      <th>14</th>\n",
       "      <td>0</td>\n",
       "      <td>-1844.956182</td>\n",
       "      <td>56</td>\n",
       "      <td>высшее</td>\n",
       "      <td>0</td>\n",
       "      <td>гражданский брак</td>\n",
       "      <td>1</td>\n",
       "      <td>F</td>\n",
       "      <td>компаньон</td>\n",
       "      <td>1</td>\n",
       "      <td>165127.911772</td>\n",
       "      <td>покупка жилой недвижимости</td>\n",
       "    </tr>\n",
       "    <tr>\n",
       "      <th>15</th>\n",
       "      <td>1</td>\n",
       "      <td>-972.364419</td>\n",
       "      <td>26</td>\n",
       "      <td>среднее</td>\n",
       "      <td>1</td>\n",
       "      <td>женат / замужем</td>\n",
       "      <td>0</td>\n",
       "      <td>F</td>\n",
       "      <td>сотрудник</td>\n",
       "      <td>0</td>\n",
       "      <td>116820.904450</td>\n",
       "      <td>строительство собственной недвижимости</td>\n",
       "    </tr>\n",
       "    <tr>\n",
       "      <th>16</th>\n",
       "      <td>0</td>\n",
       "      <td>-1719.934226</td>\n",
       "      <td>35</td>\n",
       "      <td>среднее</td>\n",
       "      <td>1</td>\n",
       "      <td>женат / замужем</td>\n",
       "      <td>0</td>\n",
       "      <td>F</td>\n",
       "      <td>сотрудник</td>\n",
       "      <td>0</td>\n",
       "      <td>289202.704229</td>\n",
       "      <td>недвижимость</td>\n",
       "    </tr>\n",
       "    <tr>\n",
       "      <th>17</th>\n",
       "      <td>0</td>\n",
       "      <td>-2369.999720</td>\n",
       "      <td>33</td>\n",
       "      <td>высшее</td>\n",
       "      <td>0</td>\n",
       "      <td>гражданский брак</td>\n",
       "      <td>1</td>\n",
       "      <td>M</td>\n",
       "      <td>сотрудник</td>\n",
       "      <td>0</td>\n",
       "      <td>90410.586745</td>\n",
       "      <td>строительство недвижимости</td>\n",
       "    </tr>\n",
       "    <tr>\n",
       "      <th>18</th>\n",
       "      <td>0</td>\n",
       "      <td>400281.136913</td>\n",
       "      <td>53</td>\n",
       "      <td>среднее</td>\n",
       "      <td>1</td>\n",
       "      <td>вдовец / вдова</td>\n",
       "      <td>2</td>\n",
       "      <td>F</td>\n",
       "      <td>пенсионер</td>\n",
       "      <td>0</td>\n",
       "      <td>56823.777243</td>\n",
       "      <td>на покупку подержанного автомобиля</td>\n",
       "    </tr>\n",
       "    <tr>\n",
       "      <th>19</th>\n",
       "      <td>0</td>\n",
       "      <td>-10038.818549</td>\n",
       "      <td>48</td>\n",
       "      <td>СРЕДНЕЕ</td>\n",
       "      <td>1</td>\n",
       "      <td>в разводе</td>\n",
       "      <td>3</td>\n",
       "      <td>F</td>\n",
       "      <td>сотрудник</td>\n",
       "      <td>0</td>\n",
       "      <td>242831.107982</td>\n",
       "      <td>на покупку своего автомобиля</td>\n",
       "    </tr>\n",
       "  </tbody>\n",
       "</table>\n",
       "</div>"
      ],
      "text/plain": [
       "    children  days_employed  dob_years            education  education_id  \\\n",
       "0          1   -8437.673028         42               высшее             0   \n",
       "1          1   -4024.803754         36              среднее             1   \n",
       "2          0   -5623.422610         33              Среднее             1   \n",
       "3          3   -4124.747207         32              среднее             1   \n",
       "4          0  340266.072047         53              среднее             1   \n",
       "5          0    -926.185831         27               высшее             0   \n",
       "6          0   -2879.202052         43               высшее             0   \n",
       "7          0    -152.779569         50              СРЕДНЕЕ             1   \n",
       "8          2   -6929.865299         35               ВЫСШЕЕ             0   \n",
       "9          0   -2188.756445         41              среднее             1   \n",
       "10         2   -4171.483647         36               высшее             0   \n",
       "11         0    -792.701887         40              среднее             1   \n",
       "12         0            NaN         65              среднее             1   \n",
       "13         0   -1846.641941         54  неоконченное высшее             2   \n",
       "14         0   -1844.956182         56               высшее             0   \n",
       "15         1    -972.364419         26              среднее             1   \n",
       "16         0   -1719.934226         35              среднее             1   \n",
       "17         0   -2369.999720         33               высшее             0   \n",
       "18         0  400281.136913         53              среднее             1   \n",
       "19         0  -10038.818549         48              СРЕДНЕЕ             1   \n",
       "\n",
       "       family_status  family_status_id gender income_type  debt  \\\n",
       "0    женат / замужем                 0      F   сотрудник     0   \n",
       "1    женат / замужем                 0      F   сотрудник     0   \n",
       "2    женат / замужем                 0      M   сотрудник     0   \n",
       "3    женат / замужем                 0      M   сотрудник     0   \n",
       "4   гражданский брак                 1      F   пенсионер     0   \n",
       "5   гражданский брак                 1      M   компаньон     0   \n",
       "6    женат / замужем                 0      F   компаньон     0   \n",
       "7    женат / замужем                 0      M   сотрудник     0   \n",
       "8   гражданский брак                 1      F   сотрудник     0   \n",
       "9    женат / замужем                 0      M   сотрудник     0   \n",
       "10   женат / замужем                 0      M   компаньон     0   \n",
       "11   женат / замужем                 0      F   сотрудник     0   \n",
       "12  гражданский брак                 1      M   пенсионер     0   \n",
       "13   женат / замужем                 0      F   сотрудник     0   \n",
       "14  гражданский брак                 1      F   компаньон     1   \n",
       "15   женат / замужем                 0      F   сотрудник     0   \n",
       "16   женат / замужем                 0      F   сотрудник     0   \n",
       "17  гражданский брак                 1      M   сотрудник     0   \n",
       "18    вдовец / вдова                 2      F   пенсионер     0   \n",
       "19         в разводе                 3      F   сотрудник     0   \n",
       "\n",
       "     total_income                                 purpose  \n",
       "0   253875.639453                           покупка жилья  \n",
       "1   112080.014102                 приобретение автомобиля  \n",
       "2   145885.952297                           покупка жилья  \n",
       "3   267628.550329              дополнительное образование  \n",
       "4   158616.077870                         сыграть свадьбу  \n",
       "5   255763.565419                           покупка жилья  \n",
       "6   240525.971920                       операции с жильем  \n",
       "7   135823.934197                             образование  \n",
       "8    95856.832424                   на проведение свадьбы  \n",
       "9   144425.938277                 покупка жилья для семьи  \n",
       "10  113943.491460                    покупка недвижимости  \n",
       "11   77069.234271       покупка коммерческой недвижимости  \n",
       "12            NaN                         сыграть свадьбу  \n",
       "13  130458.228857                 приобретение автомобиля  \n",
       "14  165127.911772              покупка жилой недвижимости  \n",
       "15  116820.904450  строительство собственной недвижимости  \n",
       "16  289202.704229                            недвижимость  \n",
       "17   90410.586745              строительство недвижимости  \n",
       "18   56823.777243      на покупку подержанного автомобиля  \n",
       "19  242831.107982            на покупку своего автомобиля  "
      ]
     },
     "execution_count": 36,
     "metadata": {},
     "output_type": "execute_result"
    }
   ],
   "source": [
    "data.head(20)"
   ]
  },
  {
   "cell_type": "markdown",
   "id": "cd3c9a1b",
   "metadata": {
    "deletable": false,
    "editable": false,
    "id": "1c12e233"
   },
   "source": [
    "**Задание 3. Выведите основную информацию о датафрейме с помощью метода `info()`.**"
   ]
  },
  {
   "cell_type": "code",
   "execution_count": 37,
   "id": "6998baaf",
   "metadata": {
    "deletable": false,
    "id": "2b757bca",
    "outputId": "15376089-8dad-46c9-b520-c05248d43158"
   },
   "outputs": [
    {
     "name": "stdout",
     "output_type": "stream",
     "text": [
      "<class 'pandas.core.frame.DataFrame'>\n",
      "RangeIndex: 21525 entries, 0 to 21524\n",
      "Data columns (total 12 columns):\n",
      " #   Column            Non-Null Count  Dtype  \n",
      "---  ------            --------------  -----  \n",
      " 0   children          21525 non-null  int64  \n",
      " 1   days_employed     19351 non-null  float64\n",
      " 2   dob_years         21525 non-null  int64  \n",
      " 3   education         21525 non-null  object \n",
      " 4   education_id      21525 non-null  int64  \n",
      " 5   family_status     21525 non-null  object \n",
      " 6   family_status_id  21525 non-null  int64  \n",
      " 7   gender            21525 non-null  object \n",
      " 8   income_type       21525 non-null  object \n",
      " 9   debt              21525 non-null  int64  \n",
      " 10  total_income      19351 non-null  float64\n",
      " 11  purpose           21525 non-null  object \n",
      "dtypes: float64(2), int64(5), object(5)\n",
      "memory usage: 2.0+ MB\n"
     ]
    }
   ],
   "source": [
    "data.info()"
   ]
  },
  {
   "cell_type": "markdown",
   "id": "1155d86d",
   "metadata": {
    "deletable": false,
    "editable": false,
    "id": "333ec665"
   },
   "source": [
    "## Предобработка данных"
   ]
  },
  {
   "cell_type": "markdown",
   "id": "bf0d1af3",
   "metadata": {
    "deletable": false,
    "editable": false,
    "id": "02d92d53"
   },
   "source": [
    "### Удаление пропусков"
   ]
  },
  {
   "cell_type": "markdown",
   "id": "d8e8c704",
   "metadata": {
    "deletable": false,
    "editable": false,
    "id": "cd84967c"
   },
   "source": [
    "**Задание 4. Выведите количество пропущенных значений для каждого столбца. Используйте комбинацию двух методов.**"
   ]
  },
  {
   "cell_type": "code",
   "execution_count": 38,
   "id": "a26266e4",
   "metadata": {
    "deletable": false,
    "id": "7f9b2309",
    "outputId": "81f4d817-781c-465c-ed15-91ce4446810d"
   },
   "outputs": [
    {
     "data": {
      "text/plain": [
       "children               0\n",
       "days_employed       2174\n",
       "dob_years              0\n",
       "education              0\n",
       "education_id           0\n",
       "family_status          0\n",
       "family_status_id       0\n",
       "gender                 0\n",
       "income_type            0\n",
       "debt                   0\n",
       "total_income        2174\n",
       "purpose                0\n",
       "dtype: int64"
      ]
     },
     "execution_count": 38,
     "metadata": {},
     "output_type": "execute_result"
    }
   ],
   "source": [
    "data.isna().sum()"
   ]
  },
  {
   "cell_type": "markdown",
   "id": "126994c5",
   "metadata": {
    "deletable": false,
    "editable": false,
    "id": "db86e27b"
   },
   "source": [
    "**Задание 5. В двух столбцах есть пропущенные значения. Один из них — `days_employed`. Пропуски в этом столбце вы обработаете на следующем этапе. Другой столбец с пропущенными значениями — `total_income` — хранит данные о доходах. На сумму дохода сильнее всего влияет тип занятости, поэтому заполнить пропуски в этом столбце нужно медианным значением по каждому типу из столбца `income_type`. Например, у человека с типом занятости `сотрудник` пропуск в столбце `total_income` должен быть заполнен медианным доходом среди всех записей с тем же типом.**"
   ]
  },
  {
   "cell_type": "code",
   "execution_count": 39,
   "id": "125019eb",
   "metadata": {
    "deletable": false,
    "id": "42006a93"
   },
   "outputs": [],
   "source": [
    "for t in data['income_type'].unique():\n",
    "    data.loc[(data['income_type'] == t) & (data['total_income'].isna()), 'total_income'] = \\\n",
    "    data.loc[(data['income_type'] == t), 'total_income'].median()"
   ]
  },
  {
   "cell_type": "markdown",
   "id": "f546abbd",
   "metadata": {
    "deletable": false,
    "editable": false,
    "id": "89da5ece"
   },
   "source": [
    "### Обработка аномальных значений"
   ]
  },
  {
   "cell_type": "markdown",
   "id": "66134ad3",
   "metadata": {
    "deletable": false,
    "editable": false,
    "id": "57964554"
   },
   "source": [
    "**Задание 6. В данных могут встречаться артефакты (аномалии) — значения, которые не отражают действительность и появились по какой-то ошибке. таким артефактом будет отрицательное количество дней трудового стажа в столбце `days_employed`. Для реальных данных это нормально. Обработайте значения в этом столбце: замените все отрицательные значения положительными с помощью метода `abs()`.**"
   ]
  },
  {
   "cell_type": "code",
   "execution_count": 40,
   "id": "3d5f135d",
   "metadata": {
    "deletable": false,
    "id": "f6f055bf"
   },
   "outputs": [],
   "source": [
    "data['days_employed'] = data['days_employed'].abs()"
   ]
  },
  {
   "cell_type": "markdown",
   "id": "0cfecd9e",
   "metadata": {
    "deletable": false,
    "editable": false,
    "id": "6107dd2f"
   },
   "source": [
    "**Задание 7. Для каждого типа занятости выведите медианное значение трудового стажа `days_employed` в днях.**"
   ]
  },
  {
   "cell_type": "code",
   "execution_count": 41,
   "id": "b4ff45c7",
   "metadata": {
    "deletable": false,
    "id": "85a5faf6",
    "outputId": "801ef80e-522b-4668-f34e-565af7432bcf"
   },
   "outputs": [
    {
     "data": {
      "text/plain": [
       "income_type\n",
       "безработный        366413.652744\n",
       "в декрете            3296.759962\n",
       "госслужащий          2689.368353\n",
       "компаньон            1547.382223\n",
       "пенсионер          365213.306266\n",
       "предприниматель       520.848083\n",
       "сотрудник            1574.202821\n",
       "студент               578.751554\n",
       "Name: days_employed, dtype: float64"
      ]
     },
     "execution_count": 41,
     "metadata": {},
     "output_type": "execute_result"
    }
   ],
   "source": [
    "data.groupby('income_type')['days_employed'].agg('median')"
   ]
  },
  {
   "cell_type": "markdown",
   "id": "18813823",
   "metadata": {
    "deletable": false,
    "editable": false,
    "id": "38d1a030"
   },
   "source": [
    "У двух типов (безработные и пенсионеры) получатся аномально большие значения. Исправить такие значения сложно, поэтому оставьте их как есть. Тем более этот столбец не понадобится вам для исследования."
   ]
  },
  {
   "cell_type": "markdown",
   "id": "c67c25b4",
   "metadata": {
    "deletable": false,
    "editable": false,
    "id": "d8a9f147"
   },
   "source": [
    "**Задание 8. Выведите перечень уникальных значений столбца `children`.**"
   ]
  },
  {
   "cell_type": "code",
   "execution_count": 42,
   "id": "dc4eb9f6",
   "metadata": {
    "deletable": false,
    "id": "ef5056eb",
    "outputId": "6975b15c-7f95-4697-d16d-a0c79b657b03"
   },
   "outputs": [
    {
     "data": {
      "text/plain": [
       "array([ 1,  0,  3,  2, -1,  4, 20,  5])"
      ]
     },
     "execution_count": 42,
     "metadata": {},
     "output_type": "execute_result"
    }
   ],
   "source": [
    "data['children'].unique()"
   ]
  },
  {
   "cell_type": "markdown",
   "id": "c217469e",
   "metadata": {
    "deletable": false,
    "editable": false,
    "id": "40b9ebf2"
   },
   "source": [
    "**Задание 9. В столбце `children` есть два аномальных значения. Удалите строки, в которых встречаются такие аномальные значения из датафрейма `data`.**"
   ]
  },
  {
   "cell_type": "code",
   "execution_count": 43,
   "id": "91032e67",
   "metadata": {
    "deletable": false,
    "id": "3ff9801d"
   },
   "outputs": [],
   "source": [
    "data = data[(data['children'] != -1) & (data['children'] != 20)]"
   ]
  },
  {
   "cell_type": "markdown",
   "id": "7dee4ea7",
   "metadata": {
    "deletable": false,
    "editable": false,
    "id": "bbc4d0ce"
   },
   "source": [
    "**Задание 10. Ещё раз выведите перечень уникальных значений столбца `children`, чтобы убедиться, что артефакты удалены.**"
   ]
  },
  {
   "cell_type": "code",
   "execution_count": 44,
   "id": "65b5ebe6",
   "metadata": {
    "deletable": false,
    "id": "ad4fa8b7",
    "outputId": "b2097101-d49d-44d9-901b-32a65c9463d1"
   },
   "outputs": [
    {
     "data": {
      "text/plain": [
       "array([1, 0, 3, 2, 4, 5])"
      ]
     },
     "execution_count": 44,
     "metadata": {},
     "output_type": "execute_result"
    }
   ],
   "source": [
    "data['children'].unique()"
   ]
  },
  {
   "cell_type": "markdown",
   "id": "47a5dc59",
   "metadata": {
    "deletable": false,
    "editable": false,
    "id": "75440b63"
   },
   "source": [
    "### Удаление пропусков (продолжение)"
   ]
  },
  {
   "cell_type": "markdown",
   "id": "eb561731",
   "metadata": {
    "deletable": false,
    "editable": false,
    "id": "f4ea573f"
   },
   "source": [
    "**Задание 11. Заполните пропуски в столбце `days_employed` медианными значениями по каждого типа занятости `income_type`.**"
   ]
  },
  {
   "cell_type": "code",
   "execution_count": 45,
   "id": "1b296b64",
   "metadata": {
    "deletable": false,
    "id": "af6b1a7e"
   },
   "outputs": [],
   "source": [
    "for t in data['income_type'].unique():\n",
    "    data.loc[(data['income_type'] == t) & (data['days_employed'].isna()), 'days_employed'] = \\\n",
    "    data.loc[(data['income_type'] == t), 'days_employed'].median()"
   ]
  },
  {
   "cell_type": "markdown",
   "id": "02b9ed8e",
   "metadata": {
    "deletable": false,
    "editable": false,
    "id": "2753f40d"
   },
   "source": [
    "**Задание 12. Убедитесь, что все пропуски заполнены. Проверьте себя и ещё раз выведите количество пропущенных значений для каждого столбца с помощью двух методов.**"
   ]
  },
  {
   "cell_type": "code",
   "execution_count": 46,
   "id": "c09a49ab",
   "metadata": {
    "deletable": false,
    "id": "55f78bc2",
    "outputId": "8da1e4e1-358e-4e87-98c9-f261bce0a7b2"
   },
   "outputs": [
    {
     "data": {
      "text/plain": [
       "children            0\n",
       "days_employed       0\n",
       "dob_years           0\n",
       "education           0\n",
       "education_id        0\n",
       "family_status       0\n",
       "family_status_id    0\n",
       "gender              0\n",
       "income_type         0\n",
       "debt                0\n",
       "total_income        0\n",
       "purpose             0\n",
       "dtype: int64"
      ]
     },
     "execution_count": 46,
     "metadata": {},
     "output_type": "execute_result"
    }
   ],
   "source": [
    "data.isna().sum()"
   ]
  },
  {
   "cell_type": "markdown",
   "id": "baa95d8b",
   "metadata": {
    "deletable": false,
    "editable": false,
    "id": "ddc81e43"
   },
   "source": [
    "### Изменение типов данных"
   ]
  },
  {
   "cell_type": "markdown",
   "id": "f047b420",
   "metadata": {
    "deletable": false,
    "editable": false,
    "id": "42d19d24"
   },
   "source": [
    "**Задание 13. Замените вещественный тип данных в столбце `total_income` на целочисленный с помощью метода `astype()`.**"
   ]
  },
  {
   "cell_type": "code",
   "execution_count": 47,
   "id": "fd9c7d2c",
   "metadata": {
    "deletable": false,
    "id": "920b65ad"
   },
   "outputs": [],
   "source": [
    "data['total_income'] = data['total_income'].astype(int)"
   ]
  },
  {
   "cell_type": "markdown",
   "id": "d082b50f",
   "metadata": {
    "deletable": false,
    "editable": false,
    "id": "80c420ba"
   },
   "source": [
    "### Обработка дубликатов"
   ]
  },
  {
   "cell_type": "markdown",
   "id": "9d499c7a",
   "metadata": {
    "deletable": false,
    "editable": false
   },
   "source": [
    "**Задание 14. Обработайте неявные дубликаты в столбце `education`. В этом столбце есть одни и те же значения, но записанные по-разному: с использованием заглавных и строчных букв. Приведите их к нижнему регистру. Проверьте остальные столбцы.**"
   ]
  },
  {
   "cell_type": "code",
   "execution_count": 48,
   "id": "f2f6d2c6",
   "metadata": {
    "deletable": false
   },
   "outputs": [],
   "source": [
    "data['education'] = data['education'].str.lower()"
   ]
  },
  {
   "cell_type": "markdown",
   "id": "b03ed155",
   "metadata": {
    "deletable": false,
    "editable": false,
    "id": "dc587695"
   },
   "source": [
    "**Задание 15. Выведите на экран количество строк-дубликатов в данных. Если такие строки присутствуют, удалите их.**"
   ]
  },
  {
   "cell_type": "code",
   "execution_count": 49,
   "id": "59122365",
   "metadata": {
    "deletable": false,
    "id": "3ee445e4",
    "outputId": "9684deba-1934-42d1-99e1-cda61740f822"
   },
   "outputs": [
    {
     "data": {
      "text/plain": [
       "71"
      ]
     },
     "execution_count": 49,
     "metadata": {},
     "output_type": "execute_result"
    }
   ],
   "source": [
    "data.duplicated().sum()"
   ]
  },
  {
   "cell_type": "code",
   "execution_count": 50,
   "id": "6ffcdb3a",
   "metadata": {
    "deletable": false,
    "id": "8575fe05"
   },
   "outputs": [],
   "source": [
    "data = data.drop_duplicates()"
   ]
  },
  {
   "cell_type": "markdown",
   "id": "95847f97",
   "metadata": {
    "deletable": false,
    "editable": false,
    "id": "9904cf55"
   },
   "source": [
    "### Категоризация данных"
   ]
  },
  {
   "cell_type": "markdown",
   "id": "63c9901b",
   "metadata": {
    "deletable": false,
    "editable": false,
    "id": "72fcc8a2"
   },
   "source": [
    "**Задание 16. На основании диапазонов, указанных ниже, создайте в датафрейме `data` столбец `total_income_category` с категориями:**\n",
    "\n",
    "- 0–30000 — `'E'`;\n",
    "- 30001–50000 — `'D'`;\n",
    "- 50001–200000 — `'C'`;\n",
    "- 200001–1000000 — `'B'`;\n",
    "- 1000001 и выше — `'A'`.\n",
    "\n",
    "\n",
    "**Например, кредитополучателю с доходом 25000 нужно назначить категорию `'E'`, а клиенту, получающему 235000, — `'B'`. Используйте собственную функцию с именем `categorize_income()` и метод `apply()`.**"
   ]
  },
  {
   "cell_type": "code",
   "execution_count": 51,
   "id": "c691b083",
   "metadata": {
    "deletable": false,
    "id": "e1771346"
   },
   "outputs": [],
   "source": [
    "def categorize_income(income):\n",
    "    try:\n",
    "        if 0 <= income <= 30000:\n",
    "            return 'E'\n",
    "        elif 30001 <= income <= 50000:\n",
    "            return 'D'\n",
    "        elif 50001 <= income <= 200000:\n",
    "            return 'C'\n",
    "        elif 200001 <= income <= 1000000:\n",
    "            return 'B'\n",
    "        elif income >= 1000001:\n",
    "            return 'A'\n",
    "    except:\n",
    "        pass"
   ]
  },
  {
   "cell_type": "code",
   "execution_count": 52,
   "id": "7c9cab94",
   "metadata": {
    "deletable": false,
    "id": "d5f3586d"
   },
   "outputs": [],
   "source": [
    "data['total_income_category'] = data['total_income'].apply(categorize_income)"
   ]
  },
  {
   "cell_type": "markdown",
   "id": "77c7e9e7",
   "metadata": {
    "deletable": false,
    "editable": false,
    "id": "dde49b5c"
   },
   "source": [
    "**Задание 17. Выведите на экран перечень уникальных целей взятия кредита из столбца `purpose`.**"
   ]
  },
  {
   "cell_type": "code",
   "execution_count": 53,
   "id": "058b4ed1",
   "metadata": {
    "deletable": false,
    "id": "f67ce9b3",
    "outputId": "673c12d9-7d7e-4ae0-9812-c622c89dd244"
   },
   "outputs": [
    {
     "data": {
      "text/plain": [
       "array(['покупка жилья', 'приобретение автомобиля',\n",
       "       'дополнительное образование', 'сыграть свадьбу',\n",
       "       'операции с жильем', 'образование', 'на проведение свадьбы',\n",
       "       'покупка жилья для семьи', 'покупка недвижимости',\n",
       "       'покупка коммерческой недвижимости', 'покупка жилой недвижимости',\n",
       "       'строительство собственной недвижимости', 'недвижимость',\n",
       "       'строительство недвижимости', 'на покупку подержанного автомобиля',\n",
       "       'на покупку своего автомобиля',\n",
       "       'операции с коммерческой недвижимостью',\n",
       "       'строительство жилой недвижимости', 'жилье',\n",
       "       'операции со своей недвижимостью', 'автомобили',\n",
       "       'заняться образованием', 'сделка с подержанным автомобилем',\n",
       "       'получение образования', 'автомобиль', 'свадьба',\n",
       "       'получение дополнительного образования', 'покупка своего жилья',\n",
       "       'операции с недвижимостью', 'получение высшего образования',\n",
       "       'свой автомобиль', 'сделка с автомобилем',\n",
       "       'профильное образование', 'высшее образование',\n",
       "       'покупка жилья для сдачи', 'на покупку автомобиля', 'ремонт жилью',\n",
       "       'заняться высшим образованием'], dtype=object)"
      ]
     },
     "execution_count": 53,
     "metadata": {},
     "output_type": "execute_result"
    }
   ],
   "source": [
    "data['purpose'].unique()"
   ]
  },
  {
   "cell_type": "markdown",
   "id": "a012c56f",
   "metadata": {
    "deletable": false,
    "editable": false,
    "id": "85d0aef0"
   },
   "source": [
    "**Задание 18. Создайте функцию, которая на основании данных из столбца `purpose` сформирует новый столбец `purpose_category`, в который войдут следующие категории:**\n",
    "\n",
    "- `'операции с автомобилем'`,\n",
    "- `'операции с недвижимостью'`,\n",
    "- `'проведение свадьбы'`,\n",
    "- `'получение образования'`.\n",
    "\n",
    "**Например, если в столбце `purpose` находится подстрока `'на покупку автомобиля'`, то в столбце `purpose_category` должна появиться строка `'операции с автомобилем'`.**\n",
    "\n",
    "**Используйте собственную функцию с именем `categorize_purpose()` и метод `apply()`. Изучите данные в столбце `purpose` и определите, какие подстроки помогут вам правильно определить категорию.**"
   ]
  },
  {
   "cell_type": "code",
   "execution_count": 54,
   "id": "1968abaa",
   "metadata": {
    "deletable": false,
    "id": "e149fab4"
   },
   "outputs": [],
   "source": [
    "def categorize_purpose(row):\n",
    "    try:\n",
    "        if 'автом' in row:\n",
    "            return 'операции с автомобилем'\n",
    "        elif 'жил' in row or 'недвиж' in row:\n",
    "            return 'операции с недвижимостью'\n",
    "        elif 'свад' in row:\n",
    "            return 'проведение свадьбы'\n",
    "        elif 'образов' in row:\n",
    "            return 'получение образования'\n",
    "    except:\n",
    "        return 'нет категории'"
   ]
  },
  {
   "cell_type": "code",
   "execution_count": 55,
   "id": "1e6a87c1",
   "metadata": {
    "deletable": false,
    "id": "bf36e69b"
   },
   "outputs": [],
   "source": [
    "data['purpose_category'] = data['purpose'].apply(categorize_purpose)"
   ]
  },
  {
   "cell_type": "markdown",
   "id": "7b1a0dc7",
   "metadata": {
    "deletable": false,
    "editable": false,
    "id": "09b242bf"
   },
   "source": [
    "### Шаг 3. Исследуйте данные и ответьте на вопросы"
   ]
  },
  {
   "cell_type": "markdown",
   "id": "ae6e90dc",
   "metadata": {
    "deletable": false,
    "editable": false,
    "id": "c5d66278"
   },
   "source": [
    "#### 3.1 Есть ли зависимость между количеством детей и возвратом кредита в срок?"
   ]
  },
  {
   "cell_type": "code",
   "execution_count": null,
   "id": "9d72a566",
   "metadata": {
    "deletable": false,
    "id": "2cacfc4a",
    "scrolled": true
   },
   "outputs": [],
   "source": []
  },
  {
   "cell_type": "markdown",
   "id": "62860bac",
   "metadata": {
    "deletable": false,
    "id": "3a6b99ec"
   },
   "source": [
    "\n"
   ]
  },
  {
   "cell_type": "code",
   "execution_count": 57,
   "id": "b69741b8",
   "metadata": {},
   "outputs": [
    {
     "data": {
      "text/html": [
       "<div>\n",
       "<style scoped>\n",
       "    .dataframe tbody tr th:only-of-type {\n",
       "        vertical-align: middle;\n",
       "    }\n",
       "\n",
       "    .dataframe tbody tr th {\n",
       "        vertical-align: top;\n",
       "    }\n",
       "\n",
       "    .dataframe thead th {\n",
       "        text-align: right;\n",
       "    }\n",
       "</style>\n",
       "<table border=\"1\" class=\"dataframe\">\n",
       "  <thead>\n",
       "    <tr style=\"text-align: right;\">\n",
       "      <th></th>\n",
       "      <th>Количество заемщиков, всего</th>\n",
       "      <th>Количество должников</th>\n",
       "      <th>Доля должников</th>\n",
       "    </tr>\n",
       "    <tr>\n",
       "      <th>children</th>\n",
       "      <th></th>\n",
       "      <th></th>\n",
       "      <th></th>\n",
       "    </tr>\n",
       "  </thead>\n",
       "  <tbody>\n",
       "    <tr>\n",
       "      <th>0</th>\n",
       "      <td>14091</td>\n",
       "      <td>1063</td>\n",
       "      <td>7.543822</td>\n",
       "    </tr>\n",
       "    <tr>\n",
       "      <th>1</th>\n",
       "      <td>4808</td>\n",
       "      <td>444</td>\n",
       "      <td>9.234609</td>\n",
       "    </tr>\n",
       "    <tr>\n",
       "      <th>2</th>\n",
       "      <td>2052</td>\n",
       "      <td>194</td>\n",
       "      <td>9.454191</td>\n",
       "    </tr>\n",
       "    <tr>\n",
       "      <th>3</th>\n",
       "      <td>330</td>\n",
       "      <td>27</td>\n",
       "      <td>8.181818</td>\n",
       "    </tr>\n",
       "    <tr>\n",
       "      <th>4</th>\n",
       "      <td>41</td>\n",
       "      <td>4</td>\n",
       "      <td>9.756098</td>\n",
       "    </tr>\n",
       "    <tr>\n",
       "      <th>5</th>\n",
       "      <td>9</td>\n",
       "      <td>0</td>\n",
       "      <td>0.000000</td>\n",
       "    </tr>\n",
       "  </tbody>\n",
       "</table>\n",
       "</div>"
      ],
      "text/plain": [
       "          Количество заемщиков, всего  Количество должников  Доля должников\n",
       "children                                                                   \n",
       "0                               14091                  1063        7.543822\n",
       "1                                4808                   444        9.234609\n",
       "2                                2052                   194        9.454191\n",
       "3                                 330                    27        8.181818\n",
       "4                                  41                     4        9.756098\n",
       "5                                   9                     0        0.000000"
      ]
     },
     "metadata": {},
     "output_type": "display_data"
    }
   ],
   "source": [
    "#создадим сводную таблицу с общим количеством заемщиков, количеством должников и их долей, в зависимости от количества детей\n",
    "res=pd.pivot_table(data,index=['children'], values=['debt'], aggfunc=['count', 'sum', 'mean'])\n",
    "res.columns=['Количество заемщиков, всего', 'Количество должников', 'Доля должников'] # для удобства чтения кода, переименуем столбцы\n",
    "res['Доля должников']=res['Доля должников']*100 # умножим весь столбец на 100, что бы получить проценты\n",
    "display(res)\n"
   ]
  },
  {
   "cell_type": "markdown",
   "id": "3bd98b58",
   "metadata": {},
   "source": [
    "Вывод\n",
    "\n",
    "    -Доля должников не имеющих детей составляет 7,5%; \n",
    "    -Доля должников с одним ребенком составляет 9,2%;\n",
    "    -Доля должников с двумя детьми составляет 9,4%; \n",
    "    -Доля должников с треми детьми составляет 8,2%; \n",
    "    -Доля должников с четырьмя детьми составляет 9,7%; \n",
    "    -Доля должников с пятью детьми составляет 0%;\n",
    "    \n",
    "В данном случае, доля должников колеблется между 7,5% и 9,7%, за исключением лиц с пятью детьми, где должников нет. Для более широкого анализа составим сводную таблицу по заемщикам с пятью детьми, целям кредитования и уровнем дохода.\n",
    "\n"
   ]
  },
  {
   "cell_type": "code",
   "execution_count": 58,
   "id": "f0682b8e",
   "metadata": {},
   "outputs": [
    {
     "data": {
      "text/html": [
       "<div>\n",
       "<style scoped>\n",
       "    .dataframe tbody tr th:only-of-type {\n",
       "        vertical-align: middle;\n",
       "    }\n",
       "\n",
       "    .dataframe tbody tr th {\n",
       "        vertical-align: top;\n",
       "    }\n",
       "\n",
       "    .dataframe thead th {\n",
       "        text-align: right;\n",
       "    }\n",
       "</style>\n",
       "<table border=\"1\" class=\"dataframe\">\n",
       "  <thead>\n",
       "    <tr style=\"text-align: right;\">\n",
       "      <th></th>\n",
       "      <th></th>\n",
       "      <th></th>\n",
       "      <th></th>\n",
       "      <th>Количество заемщиков, всего</th>\n",
       "      <th>Количество должников</th>\n",
       "      <th>Доля должников</th>\n",
       "    </tr>\n",
       "    <tr>\n",
       "      <th>children</th>\n",
       "      <th>purpose_category</th>\n",
       "      <th>total_income_category</th>\n",
       "      <th>total_income</th>\n",
       "      <th></th>\n",
       "      <th></th>\n",
       "      <th></th>\n",
       "    </tr>\n",
       "  </thead>\n",
       "  <tbody>\n",
       "    <tr>\n",
       "      <th rowspan=\"9\" valign=\"top\">5</th>\n",
       "      <th rowspan=\"2\" valign=\"top\">операции с автомобилем</th>\n",
       "      <th rowspan=\"2\" valign=\"top\">C</th>\n",
       "      <th>77552</th>\n",
       "      <td>1</td>\n",
       "      <td>0</td>\n",
       "      <td>0.0</td>\n",
       "    </tr>\n",
       "    <tr>\n",
       "      <th>142594</th>\n",
       "      <td>1</td>\n",
       "      <td>0</td>\n",
       "      <td>0.0</td>\n",
       "    </tr>\n",
       "    <tr>\n",
       "      <th rowspan=\"5\" valign=\"top\">операции с недвижимостью</th>\n",
       "      <th rowspan=\"3\" valign=\"top\">B</th>\n",
       "      <th>204241</th>\n",
       "      <td>1</td>\n",
       "      <td>0</td>\n",
       "      <td>0.0</td>\n",
       "    </tr>\n",
       "    <tr>\n",
       "      <th>256698</th>\n",
       "      <td>1</td>\n",
       "      <td>0</td>\n",
       "      <td>0.0</td>\n",
       "    </tr>\n",
       "    <tr>\n",
       "      <th>269068</th>\n",
       "      <td>1</td>\n",
       "      <td>0</td>\n",
       "      <td>0.0</td>\n",
       "    </tr>\n",
       "    <tr>\n",
       "      <th>C</th>\n",
       "      <th>168460</th>\n",
       "      <td>1</td>\n",
       "      <td>0</td>\n",
       "      <td>0.0</td>\n",
       "    </tr>\n",
       "    <tr>\n",
       "      <th>D</th>\n",
       "      <th>48772</th>\n",
       "      <td>1</td>\n",
       "      <td>0</td>\n",
       "      <td>0.0</td>\n",
       "    </tr>\n",
       "    <tr>\n",
       "      <th>получение образования</th>\n",
       "      <th>B</th>\n",
       "      <th>212545</th>\n",
       "      <td>1</td>\n",
       "      <td>0</td>\n",
       "      <td>0.0</td>\n",
       "    </tr>\n",
       "    <tr>\n",
       "      <th>проведение свадьбы</th>\n",
       "      <th>C</th>\n",
       "      <th>126102</th>\n",
       "      <td>1</td>\n",
       "      <td>0</td>\n",
       "      <td>0.0</td>\n",
       "    </tr>\n",
       "  </tbody>\n",
       "</table>\n",
       "</div>"
      ],
      "text/plain": [
       "                                                                      Количество заемщиков, всего  \\\n",
       "children purpose_category         total_income_category total_income                                \n",
       "5        операции с автомобилем   C                     77552                                   1   \n",
       "                                                        142594                                  1   \n",
       "         операции с недвижимостью B                     204241                                  1   \n",
       "                                                        256698                                  1   \n",
       "                                                        269068                                  1   \n",
       "                                  C                     168460                                  1   \n",
       "                                  D                     48772                                   1   \n",
       "         получение образования    B                     212545                                  1   \n",
       "         проведение свадьбы       C                     126102                                  1   \n",
       "\n",
       "                                                                      Количество должников  \\\n",
       "children purpose_category         total_income_category total_income                         \n",
       "5        операции с автомобилем   C                     77552                            0   \n",
       "                                                        142594                           0   \n",
       "         операции с недвижимостью B                     204241                           0   \n",
       "                                                        256698                           0   \n",
       "                                                        269068                           0   \n",
       "                                  C                     168460                           0   \n",
       "                                  D                     48772                            0   \n",
       "         получение образования    B                     212545                           0   \n",
       "         проведение свадьбы       C                     126102                           0   \n",
       "\n",
       "                                                                      Доля должников  \n",
       "children purpose_category         total_income_category total_income                  \n",
       "5        операции с автомобилем   C                     77552                    0.0  \n",
       "                                                        142594                   0.0  \n",
       "         операции с недвижимостью B                     204241                   0.0  \n",
       "                                                        256698                   0.0  \n",
       "                                                        269068                   0.0  \n",
       "                                  C                     168460                   0.0  \n",
       "                                  D                     48772                    0.0  \n",
       "         получение образования    B                     212545                   0.0  \n",
       "         проведение свадьбы       C                     126102                   0.0  "
      ]
     },
     "execution_count": 58,
     "metadata": {},
     "output_type": "execute_result"
    }
   ],
   "source": [
    "#конкретизируем предыдущую сводную таблицу: выделим заемщиков с 5 детьми, разбив уровень их дохода по целям\n",
    "res=pd.pivot_table(data,index=['children', 'purpose_category','total_income_category','total_income'], values=['debt'], aggfunc=['count', 'sum', 'mean'])\n",
    "res.columns=['Количество заемщиков, всего', 'Количество должников', 'Доля должников'] # для удобства чтения кода, переименуем столбцы\n",
    "res['Доля должников']=res['Доля должников']*100 # умножим весь столбец на 100, что бы получить проценты\n",
    "res.query('children==[5]')"
   ]
  },
  {
   "cell_type": "markdown",
   "id": "4bda0253",
   "metadata": {},
   "source": [
    "Вывод\n",
    "\n",
    "В представленной таблице видно, что заемщики с 5 детьми, чаще берут кредит на операции с недвижимостью. Так же, в основном, они имеют высокий уровень дохода. Реже кредит берут на операции с автомобилем и имеют средний уровень дохода. Заемщиков низким уровнем дохода не обнаружено. \n",
    "Для более полного анализа причины отсутствия должников с пятью детьми, не хватает суммы заёмных средств, а так же суммы ежемесячго платежа.\n"
   ]
  },
  {
   "cell_type": "markdown",
   "id": "2f59dab5",
   "metadata": {
    "deletable": false,
    "editable": false,
    "id": "97be82ca"
   },
   "source": [
    "#### 3.2 Есть ли зависимость между семейным положением и возвратом кредита в срок?"
   ]
  },
  {
   "cell_type": "code",
   "execution_count": null,
   "id": "9026d03b",
   "metadata": {
    "deletable": false,
    "id": "dc3f7ee8"
   },
   "outputs": [],
   "source": []
  },
  {
   "cell_type": "markdown",
   "id": "36357881",
   "metadata": {
    "deletable": false,
    "id": "1cef7837"
   },
   "source": []
  },
  {
   "cell_type": "code",
   "execution_count": 60,
   "id": "e46a6ee5",
   "metadata": {},
   "outputs": [
    {
     "data": {
      "text/html": [
       "<div>\n",
       "<style scoped>\n",
       "    .dataframe tbody tr th:only-of-type {\n",
       "        vertical-align: middle;\n",
       "    }\n",
       "\n",
       "    .dataframe tbody tr th {\n",
       "        vertical-align: top;\n",
       "    }\n",
       "\n",
       "    .dataframe thead th {\n",
       "        text-align: right;\n",
       "    }\n",
       "</style>\n",
       "<table border=\"1\" class=\"dataframe\">\n",
       "  <thead>\n",
       "    <tr style=\"text-align: right;\">\n",
       "      <th></th>\n",
       "      <th>Количество заемщиков, всего</th>\n",
       "      <th>Количество должников</th>\n",
       "      <th>Доля должников</th>\n",
       "    </tr>\n",
       "    <tr>\n",
       "      <th>family_status</th>\n",
       "      <th></th>\n",
       "      <th></th>\n",
       "      <th></th>\n",
       "    </tr>\n",
       "  </thead>\n",
       "  <tbody>\n",
       "    <tr>\n",
       "      <th>Не женат / не замужем</th>\n",
       "      <td>2796</td>\n",
       "      <td>273</td>\n",
       "      <td>9.763948</td>\n",
       "    </tr>\n",
       "    <tr>\n",
       "      <th>в разводе</th>\n",
       "      <td>1189</td>\n",
       "      <td>84</td>\n",
       "      <td>7.064760</td>\n",
       "    </tr>\n",
       "    <tr>\n",
       "      <th>вдовец / вдова</th>\n",
       "      <td>951</td>\n",
       "      <td>63</td>\n",
       "      <td>6.624606</td>\n",
       "    </tr>\n",
       "    <tr>\n",
       "      <th>гражданский брак</th>\n",
       "      <td>4134</td>\n",
       "      <td>385</td>\n",
       "      <td>9.313014</td>\n",
       "    </tr>\n",
       "    <tr>\n",
       "      <th>женат / замужем</th>\n",
       "      <td>12261</td>\n",
       "      <td>927</td>\n",
       "      <td>7.560558</td>\n",
       "    </tr>\n",
       "  </tbody>\n",
       "</table>\n",
       "</div>"
      ],
      "text/plain": [
       "                       Количество заемщиков, всего  Количество должников  \\\n",
       "family_status                                                              \n",
       "Не женат / не замужем                         2796                   273   \n",
       "в разводе                                     1189                    84   \n",
       "вдовец / вдова                                 951                    63   \n",
       "гражданский брак                              4134                   385   \n",
       "женат / замужем                              12261                   927   \n",
       "\n",
       "                       Доля должников  \n",
       "family_status                          \n",
       "Не женат / не замужем        9.763948  \n",
       "в разводе                    7.064760  \n",
       "вдовец / вдова               6.624606  \n",
       "гражданский брак             9.313014  \n",
       "женат / замужем              7.560558  "
      ]
     },
     "metadata": {},
     "output_type": "display_data"
    }
   ],
   "source": [
    "#Создадим таблицу с информацией об общем количестве заемщиков, должников среди них и их долю, в зависимости от семейного положения\n",
    "res=pd.pivot_table(data,index=['family_status'], values=['debt'], aggfunc=['count', 'sum', 'mean'])\n",
    "res.columns=['Количество заемщиков, всего', 'Количество должников', 'Доля должников'] # для удобства чтения кода, переименуем столбцы\n",
    "res['Доля должников']=res['Доля должников']*100 # умножим столбец на 100, что бы получить проценты\n",
    "display(res)"
   ]
  },
  {
   "cell_type": "markdown",
   "id": "ef1d6b1d",
   "metadata": {},
   "source": [
    " \n",
    "Вывод\n",
    "\n",
    "    -Доля должников по кредитам среди лиц не состаящих в браке, составляет 9,7%;\n",
    "    -Доля должников по кредитам среди лиц в разводе, составляет 7%; \n",
    "    -Доля должников по кредитам среди овдовевших лиц, состаляет 6,6%;\n",
    "    -Доля должников по кредитам среди лиц,состоящих в гражданском браке, составляет 9,3%;\n",
    "    -Доля должников по кредитам среди лиц, состоящих в браке, составляет 8,1%. \n",
    "\n",
    "Исходя из произведенных расчетов, можно сделать вывод о том, что чаще всего кредиты берут женатые люди. Доля порядочных заемщиков больше всего у лиц, не состоящих в браке, живущих в гражданском браке, и чуть меньше у женатых. Лица состоящие в разводе или овдовевшие, реже берут кредиты и доля порядочных заемщиков ниже, чем по остальным категориям.\n",
    "\n"
   ]
  },
  {
   "cell_type": "markdown",
   "id": "034322b6",
   "metadata": {
    "deletable": false,
    "editable": false,
    "id": "1e8b2fca"
   },
   "source": [
    "#### 3.3 Есть ли зависимость между уровнем дохода и возвратом кредита в срок?"
   ]
  },
  {
   "cell_type": "code",
   "execution_count": null,
   "id": "edbd9472",
   "metadata": {
    "deletable": false,
    "id": "cd7e3720"
   },
   "outputs": [],
   "source": []
  },
  {
   "cell_type": "markdown",
   "id": "3378b7fc",
   "metadata": {},
   "source": []
  },
  {
   "cell_type": "code",
   "execution_count": null,
   "id": "63069b56",
   "metadata": {},
   "outputs": [],
   "source": []
  },
  {
   "cell_type": "code",
   "execution_count": 63,
   "id": "9dda0181",
   "metadata": {},
   "outputs": [
    {
     "data": {
      "text/html": [
       "<div>\n",
       "<style scoped>\n",
       "    .dataframe tbody tr th:only-of-type {\n",
       "        vertical-align: middle;\n",
       "    }\n",
       "\n",
       "    .dataframe tbody tr th {\n",
       "        vertical-align: top;\n",
       "    }\n",
       "\n",
       "    .dataframe thead th {\n",
       "        text-align: right;\n",
       "    }\n",
       "</style>\n",
       "<table border=\"1\" class=\"dataframe\">\n",
       "  <thead>\n",
       "    <tr style=\"text-align: right;\">\n",
       "      <th></th>\n",
       "      <th>Количество заемщиков, всего</th>\n",
       "      <th>Количество должников</th>\n",
       "      <th>Доля должников</th>\n",
       "      <th>Средний доход</th>\n",
       "    </tr>\n",
       "    <tr>\n",
       "      <th>total_income_category</th>\n",
       "      <th></th>\n",
       "      <th></th>\n",
       "      <th></th>\n",
       "      <th></th>\n",
       "    </tr>\n",
       "  </thead>\n",
       "  <tbody>\n",
       "    <tr>\n",
       "      <th>A</th>\n",
       "      <td>25</td>\n",
       "      <td>2</td>\n",
       "      <td>8.000000</td>\n",
       "      <td>1223042</td>\n",
       "    </tr>\n",
       "    <tr>\n",
       "      <th>B</th>\n",
       "      <td>5014</td>\n",
       "      <td>354</td>\n",
       "      <td>7.060231</td>\n",
       "      <td>257558</td>\n",
       "    </tr>\n",
       "    <tr>\n",
       "      <th>C</th>\n",
       "      <td>15921</td>\n",
       "      <td>1353</td>\n",
       "      <td>8.498210</td>\n",
       "      <td>130355</td>\n",
       "    </tr>\n",
       "    <tr>\n",
       "      <th>D</th>\n",
       "      <td>349</td>\n",
       "      <td>21</td>\n",
       "      <td>6.017192</td>\n",
       "      <td>43929</td>\n",
       "    </tr>\n",
       "    <tr>\n",
       "      <th>E</th>\n",
       "      <td>22</td>\n",
       "      <td>2</td>\n",
       "      <td>9.090909</td>\n",
       "      <td>26431</td>\n",
       "    </tr>\n",
       "  </tbody>\n",
       "</table>\n",
       "</div>"
      ],
      "text/plain": [
       "                       Количество заемщиков, всего  Количество должников  \\\n",
       "total_income_category                                                      \n",
       "A                                               25                     2   \n",
       "B                                             5014                   354   \n",
       "C                                            15921                  1353   \n",
       "D                                              349                    21   \n",
       "E                                               22                     2   \n",
       "\n",
       "                       Доля должников  Средний доход  \n",
       "total_income_category                                 \n",
       "A                            8.000000        1223042  \n",
       "B                            7.060231         257558  \n",
       "C                            8.498210         130355  \n",
       "D                            6.017192          43929  \n",
       "E                            9.090909          26431  "
      ]
     },
     "metadata": {},
     "output_type": "display_data"
    }
   ],
   "source": [
    "#создадим сводную таблицу с общим количеством заемщиков, количеством должников и их долей, в зависимости от дохода\n",
    "res=pd.pivot_table(data,index=['total_income_category'], values=['debt'], aggfunc=['count', 'sum', 'mean', 'median'])\n",
    "res['median']=data.groupby('total_income_category')['total_income'].median()\n",
    "res.columns=['Количество заемщиков, всего', 'Количество должников', 'Доля должников', 'Средний доход'] # для удобства чтения кода, переименуем столбцы\n",
    "res['Доля должников']=res['Доля должников']*100 # умножим весь столбец на 100, что бы получить проценты\n",
    "display(res)"
   ]
  },
  {
   "cell_type": "markdown",
   "id": "a25462c6",
   "metadata": {
    "deletable": false,
    "id": "e8593def"
   },
   "source": []
  },
  {
   "cell_type": "markdown",
   "id": "67b73194",
   "metadata": {},
   "source": [
    "Вывод\n",
    "\n",
    "    -Доля должников категории А составляет 8%;\n",
    "    -Доля должников категории В составляет 7%; \n",
    "    -Доля должников категории С составляет 8,5%;\n",
    "    -Доля должников категории D составляет 6%;\n",
    "    -Доля должников категории E составляет 9%;\n",
    "\n",
    "Лица с самым высоким уровнем дохода (в среднем 1 223 042 руб.) возвращают кредит в срок на 1% чаще лиц, с самым низким уровнем дохода (в среднем 26 431 руб.). В соответствии с этим, можно сделать вывод, что если уровень дохода и влияет на выплату кредита в срок, то несущественно.   \n"
   ]
  },
  {
   "cell_type": "markdown",
   "id": "b65bdc98",
   "metadata": {
    "deletable": false,
    "editable": false,
    "id": "99ecbd1f"
   },
   "source": [
    "#### 3.4 Как разные цели кредита влияют на его возврат в срок?"
   ]
  },
  {
   "cell_type": "code",
   "execution_count": null,
   "id": "fbaa96dd",
   "metadata": {
    "scrolled": true
   },
   "outputs": [],
   "source": []
  },
  {
   "cell_type": "code",
   "execution_count": null,
   "id": "f713d1e4",
   "metadata": {
    "deletable": false,
    "id": "2b687290"
   },
   "outputs": [],
   "source": []
  },
  {
   "cell_type": "markdown",
   "id": "0f6c4b0c",
   "metadata": {
    "deletable": false,
    "id": "b4bb2ce6"
   },
   "source": []
  },
  {
   "cell_type": "code",
   "execution_count": 65,
   "id": "1f0fc0c0",
   "metadata": {},
   "outputs": [
    {
     "data": {
      "text/html": [
       "<div>\n",
       "<style scoped>\n",
       "    .dataframe tbody tr th:only-of-type {\n",
       "        vertical-align: middle;\n",
       "    }\n",
       "\n",
       "    .dataframe tbody tr th {\n",
       "        vertical-align: top;\n",
       "    }\n",
       "\n",
       "    .dataframe thead th {\n",
       "        text-align: right;\n",
       "    }\n",
       "</style>\n",
       "<table border=\"1\" class=\"dataframe\">\n",
       "  <thead>\n",
       "    <tr style=\"text-align: right;\">\n",
       "      <th></th>\n",
       "      <th>Количество заемщиков, всего</th>\n",
       "      <th>Количество должников</th>\n",
       "      <th>Доля должников</th>\n",
       "    </tr>\n",
       "    <tr>\n",
       "      <th>purpose_category</th>\n",
       "      <th></th>\n",
       "      <th></th>\n",
       "      <th></th>\n",
       "    </tr>\n",
       "  </thead>\n",
       "  <tbody>\n",
       "    <tr>\n",
       "      <th>операции с автомобилем</th>\n",
       "      <td>4279</td>\n",
       "      <td>400</td>\n",
       "      <td>9.347978</td>\n",
       "    </tr>\n",
       "    <tr>\n",
       "      <th>операции с недвижимостью</th>\n",
       "      <td>10751</td>\n",
       "      <td>780</td>\n",
       "      <td>7.255139</td>\n",
       "    </tr>\n",
       "    <tr>\n",
       "      <th>получение образования</th>\n",
       "      <td>3988</td>\n",
       "      <td>369</td>\n",
       "      <td>9.252758</td>\n",
       "    </tr>\n",
       "    <tr>\n",
       "      <th>проведение свадьбы</th>\n",
       "      <td>2313</td>\n",
       "      <td>183</td>\n",
       "      <td>7.911803</td>\n",
       "    </tr>\n",
       "  </tbody>\n",
       "</table>\n",
       "</div>"
      ],
      "text/plain": [
       "                          Количество заемщиков, всего  Количество должников  \\\n",
       "purpose_category                                                              \n",
       "операции с автомобилем                           4279                   400   \n",
       "операции с недвижимостью                        10751                   780   \n",
       "получение образования                            3988                   369   \n",
       "проведение свадьбы                               2313                   183   \n",
       "\n",
       "                          Доля должников  \n",
       "purpose_category                          \n",
       "операции с автомобилем          9.347978  \n",
       "операции с недвижимостью        7.255139  \n",
       "получение образования           9.252758  \n",
       "проведение свадьбы              7.911803  "
      ]
     },
     "metadata": {},
     "output_type": "display_data"
    }
   ],
   "source": [
    "#создадим сводную таблицу с общим количеством заемщиков, количеством должников и их долей, в зависимости от цели\n",
    "res=pd.pivot_table(data,index=['purpose_category'], values=['debt'], aggfunc=['count', 'sum', 'mean'])\n",
    "res.columns=['Количество заемщиков, всего', 'Количество должников', 'Доля должников'] # для удобства чтения кода, переименуем столбцы\n",
    "res['Доля должников']=res['Доля должников']*100 # умножим весь столбец на 100, что бы получить проценты\n",
    "display(res)"
   ]
  },
  {
   "cell_type": "markdown",
   "id": "5366c02c",
   "metadata": {},
   "source": [
    "Вывод\n",
    "\n",
    "    -Доля должников в категории \"операции с автомобилем\" составляет 9,3%;\n",
    "    -Доля должников в категории \"операции с недвижимостью\" составляет 7,2%;\n",
    "    -Доля должников в категории \"получение образования\" составляет 9,2%;\n",
    "    -Доля должников в категории \"проведение свадьбы \" составляет 7,9%;\n",
    "    \n",
    "Чаще всего, вовремя возвращают кредиты, взятые на операции с недвижимостью. Реже всего возвращают кредиты, взятые на операции с автомобилем. Разница в этих долях составляет 2,1%\n",
    "    В связи с тем, что в категории \"операции с недвижимостью\" самое большое количество заёмщиков, а доля должников составляет 7,2%, можно предположить, что процентная ставка по ипотеке зависит от данного показателя. Так как на данный момент она колеблется от 5 до 11%. \n",
    "    \n",
    "\n"
   ]
  },
  {
   "cell_type": "markdown",
   "id": "f2bfeed3",
   "metadata": {
    "deletable": false,
    "editable": false,
    "id": "09c3ac4c"
   },
   "source": [
    "#### 3.5 Приведите возможные причины появления пропусков в исходных данных."
   ]
  },
  {
   "cell_type": "markdown",
   "id": "8f973a01",
   "metadata": {
    "deletable": false,
    "id": "9da2ceda"
   },
   "source": [
    "*Ответ:* \n",
    "Версия 1: так как, количество пропусков в колонках доход и стаж в днях совпадают, можно предположить, что пропуски находятся в одних строках. Вероятно, клиент не имеет стажа работы и официального дохода\n",
    "Версия 2: в связи с тем, что пропущенные значения имеют тип float, можно предположить что произошел сбой с типом данных при открытии таблицы"
   ]
  },
  {
   "cell_type": "markdown",
   "id": "5c4dcc08",
   "metadata": {
    "deletable": false,
    "editable": false,
    "id": "7b0487d6"
   },
   "source": [
    "#### 3.6 Объясните, почему заполнить пропуски медианным значением — лучшее решение для количественных переменных."
   ]
  },
  {
   "cell_type": "markdown",
   "id": "07ea62ee",
   "metadata": {
    "deletable": false,
    "id": "7ecf2b8e"
   },
   "source": [
    "*Ответ:* Среднее арифметическое значение-это результат деления суммы на количество. При большом отклонении или \"вбросах\" этот показатель может быть искажен. А медиана в свою очередь делит выборку пополам, что дает нам более верное представление об усредненном показателе."
   ]
  },
  {
   "cell_type": "markdown",
   "id": "7e18a5d8",
   "metadata": {
    "deletable": false,
    "editable": false,
    "id": "6db5255a"
   },
   "source": [
    "### Шаг 4: общий вывод."
   ]
  },
  {
   "cell_type": "markdown",
   "id": "b7dd7552",
   "metadata": {
    "deletable": false,
    "id": "bad65432"
   },
   "source": [
    "В ходе предобработки данных были внесены некоторые корректировки, а именно:\n",
    "- пропущенные значения в столбцах days_employed и total_income заменены на медианные значения, что помогло произвести полноценные расчеты;<br> \n",
    "- в столбце days_employed заменены значения на противоположные. Так как отрицательное количество отработанных дней во всем столбце является явной ошибкой;<br> \n",
    "- в столбце children обнаружены аномальные показатели в виде отрицательного количества детей, а так же слишком большого количества. Возможно, у данного заёмщика действительно 20 детей, этот вопрос следует уточнить у менеджера. Но в рамках данного проекта, данные аномалии были удалены, так как их количество никак не влияет на основную выборку;<br> \n",
    "- удалены дублилующие строки, с целью избежания задвоенности показателей;<br> \n",
    "- уровень дохода разбит по категориям A, B, C, D, E для облегчения анализа;<br> \n",
    "- цели кредитования так же разбиты по категориям для облегчения анализа.<br> \n",
    "\n",
    "Исходя из проведенных расчетов самыми надёжными заемщиками являются семьи с пятью детьми и вдовцы. А ненадёжными заемщиками являются лица с четырьмя детьми и не состоящие в браке.\n",
    "При обобщении, можно сделать вывод, что всегда есть доля клиентов, которые не возвращают кредит в срок. Процент задержки выплаты кредита колеблется от 6% до 9%. \n"
   ]
  },
  {
   "cell_type": "code",
   "execution_count": null,
   "id": "ca8f7d7b",
   "metadata": {},
   "outputs": [],
   "source": []
  }
 ],
 "metadata": {
  "ExecuteTimeLog": [
   {
    "duration": 52,
    "start_time": "2022-09-07T10:51:30.159Z"
   },
   {
    "duration": 546,
    "start_time": "2022-09-07T10:51:48.922Z"
   },
   {
    "duration": 23,
    "start_time": "2022-09-07T10:51:49.470Z"
   },
   {
    "duration": 17,
    "start_time": "2022-09-07T10:51:49.494Z"
   },
   {
    "duration": 17,
    "start_time": "2022-09-07T10:51:49.514Z"
   },
   {
    "duration": 33,
    "start_time": "2022-09-07T10:51:49.533Z"
   },
   {
    "duration": 3,
    "start_time": "2022-09-07T10:51:49.568Z"
   },
   {
    "duration": 13,
    "start_time": "2022-09-07T10:51:49.573Z"
   },
   {
    "duration": 6,
    "start_time": "2022-09-07T10:51:49.604Z"
   },
   {
    "duration": 22,
    "start_time": "2022-09-07T10:51:49.612Z"
   },
   {
    "duration": 5,
    "start_time": "2022-09-07T10:51:49.637Z"
   },
   {
    "duration": 37,
    "start_time": "2022-09-07T10:51:49.644Z"
   },
   {
    "duration": 22,
    "start_time": "2022-09-07T10:51:49.683Z"
   },
   {
    "duration": 4,
    "start_time": "2022-09-07T10:51:49.707Z"
   },
   {
    "duration": 32,
    "start_time": "2022-09-07T10:51:49.713Z"
   },
   {
    "duration": 26,
    "start_time": "2022-09-07T10:51:49.747Z"
   },
   {
    "duration": 17,
    "start_time": "2022-09-07T10:51:49.775Z"
   },
   {
    "duration": 9,
    "start_time": "2022-09-07T10:51:49.795Z"
   },
   {
    "duration": 19,
    "start_time": "2022-09-07T10:51:49.806Z"
   },
   {
    "duration": 8,
    "start_time": "2022-09-07T10:51:49.827Z"
   },
   {
    "duration": 4,
    "start_time": "2022-09-07T10:51:49.836Z"
   },
   {
    "duration": 12,
    "start_time": "2022-09-07T10:51:49.842Z"
   },
   {
    "duration": 11,
    "start_time": "2022-09-07T10:51:49.855Z"
   },
   {
    "duration": 2,
    "start_time": "2022-09-07T10:51:49.868Z"
   },
   {
    "duration": 31,
    "start_time": "2022-09-07T10:51:49.872Z"
   },
   {
    "duration": 14,
    "start_time": "2022-09-07T10:51:49.905Z"
   },
   {
    "duration": 1441,
    "start_time": "2022-09-07T10:57:50.121Z"
   },
   {
    "duration": 81,
    "start_time": "2022-09-07T11:04:53.894Z"
   },
   {
    "duration": 7,
    "start_time": "2022-09-07T11:05:01.796Z"
   },
   {
    "duration": 10,
    "start_time": "2022-09-07T11:05:33.025Z"
   },
   {
    "duration": 170,
    "start_time": "2022-09-07T11:05:44.097Z"
   },
   {
    "duration": 6,
    "start_time": "2022-09-07T11:06:14.126Z"
   },
   {
    "duration": 1028,
    "start_time": "2022-09-07T11:15:08.688Z"
   },
   {
    "duration": 1801,
    "start_time": "2022-09-07T11:15:31.057Z"
   },
   {
    "duration": 9421,
    "start_time": "2022-09-07T11:15:57.843Z"
   },
   {
    "duration": 3754,
    "start_time": "2022-09-07T11:21:00.999Z"
   },
   {
    "duration": 21116,
    "start_time": "2022-09-07T11:22:56.863Z"
   },
   {
    "duration": 11252,
    "start_time": "2022-09-07T11:26:49.895Z"
   },
   {
    "duration": 80,
    "start_time": "2022-09-07T11:27:29.447Z"
   },
   {
    "duration": 11538,
    "start_time": "2022-09-07T11:27:46.893Z"
   },
   {
    "duration": 6194,
    "start_time": "2022-09-07T11:29:00.055Z"
   },
   {
    "duration": 2942,
    "start_time": "2022-09-07T11:33:44.223Z"
   },
   {
    "duration": 3028,
    "start_time": "2022-09-07T11:34:07.488Z"
   },
   {
    "duration": 7,
    "start_time": "2022-09-07T11:34:28.212Z"
   },
   {
    "duration": 7,
    "start_time": "2022-09-07T11:35:00.813Z"
   },
   {
    "duration": 8,
    "start_time": "2022-09-07T11:36:28.488Z"
   },
   {
    "duration": 22,
    "start_time": "2022-09-07T11:45:31.837Z"
   },
   {
    "duration": 66,
    "start_time": "2022-09-07T11:47:23.589Z"
   },
   {
    "duration": 14,
    "start_time": "2022-09-07T11:48:06.390Z"
   },
   {
    "duration": 46,
    "start_time": "2022-09-07T11:49:33.318Z"
   },
   {
    "duration": 39,
    "start_time": "2022-09-07T11:49:45.794Z"
   },
   {
    "duration": 27,
    "start_time": "2022-09-07T11:51:30.101Z"
   },
   {
    "duration": 40,
    "start_time": "2022-09-07T11:52:14.477Z"
   },
   {
    "duration": 21,
    "start_time": "2022-09-07T11:53:43.870Z"
   },
   {
    "duration": 15,
    "start_time": "2022-09-07T11:54:01.859Z"
   },
   {
    "duration": 20,
    "start_time": "2022-09-07T11:54:28.323Z"
   },
   {
    "duration": 26,
    "start_time": "2022-09-07T11:56:04.898Z"
   },
   {
    "duration": 19,
    "start_time": "2022-09-07T11:58:06.137Z"
   },
   {
    "duration": 22,
    "start_time": "2022-09-07T11:58:18.357Z"
   },
   {
    "duration": 28,
    "start_time": "2022-09-07T11:58:42.789Z"
   },
   {
    "duration": 30,
    "start_time": "2022-09-07T11:59:22.585Z"
   },
   {
    "duration": 15,
    "start_time": "2022-09-07T11:59:51.631Z"
   },
   {
    "duration": 55,
    "start_time": "2022-09-08T05:45:51.460Z"
   },
   {
    "duration": 557,
    "start_time": "2022-09-08T05:46:02.407Z"
   },
   {
    "duration": 26,
    "start_time": "2022-09-08T05:46:02.966Z"
   },
   {
    "duration": 17,
    "start_time": "2022-09-08T05:46:02.994Z"
   },
   {
    "duration": 12,
    "start_time": "2022-09-08T05:46:03.014Z"
   },
   {
    "duration": 65,
    "start_time": "2022-09-08T05:46:03.028Z"
   },
   {
    "duration": 4,
    "start_time": "2022-09-08T05:46:03.095Z"
   },
   {
    "duration": 21,
    "start_time": "2022-09-08T05:46:03.101Z"
   },
   {
    "duration": 5,
    "start_time": "2022-09-08T05:46:03.124Z"
   },
   {
    "duration": 10,
    "start_time": "2022-09-08T05:46:03.130Z"
   },
   {
    "duration": 4,
    "start_time": "2022-09-08T05:46:03.144Z"
   },
   {
    "duration": 58,
    "start_time": "2022-09-08T05:46:03.150Z"
   },
   {
    "duration": 18,
    "start_time": "2022-09-08T05:46:03.210Z"
   },
   {
    "duration": 29,
    "start_time": "2022-09-08T05:46:03.231Z"
   },
   {
    "duration": 24,
    "start_time": "2022-09-08T05:46:03.262Z"
   },
   {
    "duration": 28,
    "start_time": "2022-09-08T05:46:03.289Z"
   },
   {
    "duration": 20,
    "start_time": "2022-09-08T05:46:03.319Z"
   },
   {
    "duration": 5,
    "start_time": "2022-09-08T05:46:03.340Z"
   },
   {
    "duration": 12,
    "start_time": "2022-09-08T05:46:03.347Z"
   },
   {
    "duration": 10,
    "start_time": "2022-09-08T05:46:03.361Z"
   },
   {
    "duration": 4,
    "start_time": "2022-09-08T05:46:03.391Z"
   },
   {
    "duration": 13,
    "start_time": "2022-09-08T05:46:03.397Z"
   },
   {
    "duration": 15,
    "start_time": "2022-09-08T05:46:03.412Z"
   },
   {
    "duration": 6,
    "start_time": "2022-09-08T05:46:03.429Z"
   },
   {
    "duration": 12,
    "start_time": "2022-09-08T05:46:03.437Z"
   },
   {
    "duration": 6,
    "start_time": "2022-09-08T05:46:03.450Z"
   },
   {
    "duration": 39,
    "start_time": "2022-09-08T05:47:47.876Z"
   },
   {
    "duration": 19,
    "start_time": "2022-09-08T05:48:01.446Z"
   },
   {
    "duration": 17,
    "start_time": "2022-09-08T05:48:40.746Z"
   },
   {
    "duration": 31,
    "start_time": "2022-09-08T06:56:21.788Z"
   },
   {
    "duration": 32,
    "start_time": "2022-09-08T06:56:32.706Z"
   },
   {
    "duration": 35,
    "start_time": "2022-09-08T06:57:02.876Z"
   },
   {
    "duration": 16,
    "start_time": "2022-09-08T06:59:45.506Z"
   },
   {
    "duration": 18,
    "start_time": "2022-09-08T07:01:37.626Z"
   },
   {
    "duration": 13,
    "start_time": "2022-09-08T07:02:49.480Z"
   },
   {
    "duration": 19,
    "start_time": "2022-09-08T07:03:23.806Z"
   },
   {
    "duration": 19,
    "start_time": "2022-09-08T07:03:53.100Z"
   },
   {
    "duration": 13,
    "start_time": "2022-09-08T07:04:06.918Z"
   },
   {
    "duration": 25,
    "start_time": "2022-09-08T07:06:34.051Z"
   },
   {
    "duration": 8,
    "start_time": "2022-09-08T07:07:17.695Z"
   },
   {
    "duration": 7,
    "start_time": "2022-09-08T07:07:26.123Z"
   },
   {
    "duration": 15,
    "start_time": "2022-09-08T07:07:32.037Z"
   },
   {
    "duration": 11,
    "start_time": "2022-09-08T07:07:54.544Z"
   },
   {
    "duration": 11,
    "start_time": "2022-09-08T07:08:15.144Z"
   },
   {
    "duration": 15,
    "start_time": "2022-09-08T07:08:56.774Z"
   },
   {
    "duration": 11,
    "start_time": "2022-09-08T07:09:07.931Z"
   },
   {
    "duration": 17,
    "start_time": "2022-09-08T07:13:05.278Z"
   },
   {
    "duration": 8,
    "start_time": "2022-09-08T07:14:04.976Z"
   },
   {
    "duration": 18,
    "start_time": "2022-09-08T07:14:09.916Z"
   },
   {
    "duration": 39,
    "start_time": "2022-09-08T07:31:59.892Z"
   },
   {
    "duration": 23,
    "start_time": "2022-09-08T07:38:52.901Z"
   },
   {
    "duration": 21,
    "start_time": "2022-09-08T07:39:12.574Z"
   },
   {
    "duration": 90,
    "start_time": "2022-09-08T08:29:11.499Z"
   },
   {
    "duration": 16,
    "start_time": "2022-09-08T08:29:22.187Z"
   },
   {
    "duration": 147,
    "start_time": "2022-09-08T08:39:58.982Z"
   },
   {
    "duration": 148,
    "start_time": "2022-09-08T08:40:18.786Z"
   },
   {
    "duration": 9,
    "start_time": "2022-09-08T08:43:24.534Z"
   },
   {
    "duration": 33,
    "start_time": "2022-09-08T08:43:28.686Z"
   },
   {
    "duration": 4,
    "start_time": "2022-09-08T08:44:09.591Z"
   },
   {
    "duration": 41,
    "start_time": "2022-09-08T08:45:03.849Z"
   },
   {
    "duration": 39,
    "start_time": "2022-09-08T08:45:12.423Z"
   },
   {
    "duration": 36,
    "start_time": "2022-09-08T08:45:33.475Z"
   },
   {
    "duration": 6,
    "start_time": "2022-09-08T09:30:31.123Z"
   },
   {
    "duration": 8,
    "start_time": "2022-09-08T09:35:37.667Z"
   },
   {
    "duration": 9,
    "start_time": "2022-09-08T09:36:07.809Z"
   },
   {
    "duration": 9,
    "start_time": "2022-09-08T09:36:15.997Z"
   },
   {
    "duration": 8,
    "start_time": "2022-09-08T09:36:33.301Z"
   },
   {
    "duration": 9,
    "start_time": "2022-09-08T09:40:23.328Z"
   },
   {
    "duration": 8,
    "start_time": "2022-09-08T09:40:46.516Z"
   },
   {
    "duration": 7,
    "start_time": "2022-09-08T09:41:01.249Z"
   },
   {
    "duration": 8,
    "start_time": "2022-09-08T09:41:29.353Z"
   },
   {
    "duration": 9,
    "start_time": "2022-09-08T09:54:39.787Z"
   },
   {
    "duration": 18,
    "start_time": "2022-09-08T09:55:07.600Z"
   },
   {
    "duration": 7,
    "start_time": "2022-09-08T09:56:31.307Z"
   },
   {
    "duration": 4,
    "start_time": "2022-09-08T09:56:37.966Z"
   },
   {
    "duration": 45,
    "start_time": "2022-09-08T09:57:32.378Z"
   },
   {
    "duration": 51,
    "start_time": "2022-09-08T09:58:02.064Z"
   },
   {
    "duration": 44,
    "start_time": "2022-09-08T09:58:30.319Z"
   },
   {
    "duration": 9,
    "start_time": "2022-09-08T10:01:05.420Z"
   },
   {
    "duration": 38,
    "start_time": "2022-09-08T10:01:47.868Z"
   },
   {
    "duration": 94,
    "start_time": "2022-09-08T10:06:54.952Z"
   },
   {
    "duration": 4,
    "start_time": "2022-09-08T10:40:06.615Z"
   },
   {
    "duration": 42,
    "start_time": "2022-09-08T10:47:24.737Z"
   },
   {
    "duration": 42,
    "start_time": "2022-09-08T10:47:46.043Z"
   },
   {
    "duration": 2110,
    "start_time": "2022-09-08T11:12:50.823Z"
   },
   {
    "duration": 1678,
    "start_time": "2022-09-08T11:13:23.168Z"
   },
   {
    "duration": 2044,
    "start_time": "2022-09-08T11:13:48.092Z"
   },
   {
    "duration": 2172,
    "start_time": "2022-09-08T11:14:07.455Z"
   },
   {
    "duration": 2000,
    "start_time": "2022-09-08T11:14:22.642Z"
   },
   {
    "duration": 40,
    "start_time": "2022-09-08T11:14:44.078Z"
   },
   {
    "duration": 447,
    "start_time": "2022-09-08T12:24:21.130Z"
   },
   {
    "duration": 20,
    "start_time": "2022-09-08T12:24:21.579Z"
   },
   {
    "duration": 13,
    "start_time": "2022-09-08T12:24:21.602Z"
   },
   {
    "duration": 9,
    "start_time": "2022-09-08T12:24:21.616Z"
   },
   {
    "duration": 31,
    "start_time": "2022-09-08T12:24:21.627Z"
   },
   {
    "duration": 3,
    "start_time": "2022-09-08T12:24:21.660Z"
   },
   {
    "duration": 11,
    "start_time": "2022-09-08T12:24:21.665Z"
   },
   {
    "duration": 5,
    "start_time": "2022-09-08T12:24:21.677Z"
   },
   {
    "duration": 8,
    "start_time": "2022-09-08T12:24:21.709Z"
   },
   {
    "duration": 6,
    "start_time": "2022-09-08T12:24:21.718Z"
   },
   {
    "duration": 31,
    "start_time": "2022-09-08T12:24:21.726Z"
   },
   {
    "duration": 9,
    "start_time": "2022-09-08T12:24:21.758Z"
   },
   {
    "duration": 5,
    "start_time": "2022-09-08T12:24:21.768Z"
   },
   {
    "duration": 37,
    "start_time": "2022-09-08T12:24:21.775Z"
   },
   {
    "duration": 28,
    "start_time": "2022-09-08T12:24:21.813Z"
   },
   {
    "duration": 16,
    "start_time": "2022-09-08T12:24:21.842Z"
   },
   {
    "duration": 4,
    "start_time": "2022-09-08T12:24:21.860Z"
   },
   {
    "duration": 25,
    "start_time": "2022-09-08T12:24:21.865Z"
   },
   {
    "duration": 17,
    "start_time": "2022-09-08T12:24:21.892Z"
   },
   {
    "duration": 5,
    "start_time": "2022-09-08T12:24:21.911Z"
   },
   {
    "duration": 16,
    "start_time": "2022-09-08T12:24:21.917Z"
   },
   {
    "duration": 54,
    "start_time": "2022-09-08T12:24:21.935Z"
   },
   {
    "duration": 52,
    "start_time": "2022-09-08T12:24:21.990Z"
   },
   {
    "duration": 34,
    "start_time": "2022-09-08T12:24:22.044Z"
   },
   {
    "duration": 7,
    "start_time": "2022-09-08T12:24:22.080Z"
   },
   {
    "duration": 43,
    "start_time": "2022-09-08T12:24:22.109Z"
   },
   {
    "duration": 41,
    "start_time": "2022-09-08T17:23:49.362Z"
   },
   {
    "duration": 640,
    "start_time": "2022-09-08T17:24:01.152Z"
   },
   {
    "duration": 19,
    "start_time": "2022-09-08T17:24:01.794Z"
   },
   {
    "duration": 39,
    "start_time": "2022-09-08T17:24:01.814Z"
   },
   {
    "duration": 14,
    "start_time": "2022-09-08T17:24:01.854Z"
   },
   {
    "duration": 46,
    "start_time": "2022-09-08T17:24:01.869Z"
   },
   {
    "duration": 4,
    "start_time": "2022-09-08T17:24:01.916Z"
   },
   {
    "duration": 12,
    "start_time": "2022-09-08T17:24:01.921Z"
   },
   {
    "duration": 8,
    "start_time": "2022-09-08T17:24:01.934Z"
   },
   {
    "duration": 22,
    "start_time": "2022-09-08T17:24:01.943Z"
   },
   {
    "duration": 3,
    "start_time": "2022-09-08T17:24:01.968Z"
   },
   {
    "duration": 31,
    "start_time": "2022-09-08T17:24:01.972Z"
   },
   {
    "duration": 8,
    "start_time": "2022-09-08T17:24:02.004Z"
   },
   {
    "duration": 7,
    "start_time": "2022-09-08T17:24:02.013Z"
   },
   {
    "duration": 12,
    "start_time": "2022-09-08T17:24:02.021Z"
   },
   {
    "duration": 25,
    "start_time": "2022-09-08T17:24:02.034Z"
   },
   {
    "duration": 15,
    "start_time": "2022-09-08T17:24:02.060Z"
   },
   {
    "duration": 3,
    "start_time": "2022-09-08T17:24:02.077Z"
   },
   {
    "duration": 22,
    "start_time": "2022-09-08T17:24:02.081Z"
   },
   {
    "duration": 5,
    "start_time": "2022-09-08T17:24:02.104Z"
   },
   {
    "duration": 4,
    "start_time": "2022-09-08T17:24:02.110Z"
   },
   {
    "duration": 10,
    "start_time": "2022-09-08T17:24:02.115Z"
   },
   {
    "duration": 37,
    "start_time": "2022-09-08T17:24:02.127Z"
   },
   {
    "duration": 37,
    "start_time": "2022-09-08T17:24:02.165Z"
   },
   {
    "duration": 31,
    "start_time": "2022-09-08T17:24:02.203Z"
   },
   {
    "duration": 29,
    "start_time": "2022-09-08T17:24:02.236Z"
   },
   {
    "duration": 6,
    "start_time": "2022-09-08T17:24:02.266Z"
   },
   {
    "duration": 58,
    "start_time": "2022-09-08T17:24:02.274Z"
   },
   {
    "duration": 21,
    "start_time": "2022-09-08T17:29:19.528Z"
   },
   {
    "duration": 24,
    "start_time": "2022-09-08T17:30:08.488Z"
   },
   {
    "duration": 38,
    "start_time": "2022-09-08T17:30:52.611Z"
   },
   {
    "duration": 22,
    "start_time": "2022-09-08T17:30:58.858Z"
   },
   {
    "duration": 23,
    "start_time": "2022-09-08T17:31:49.721Z"
   },
   {
    "duration": 21,
    "start_time": "2022-09-08T17:32:28.724Z"
   },
   {
    "duration": 75,
    "start_time": "2022-09-09T05:13:31.888Z"
   },
   {
    "duration": 43,
    "start_time": "2022-09-09T05:13:44.322Z"
   },
   {
    "duration": 686,
    "start_time": "2022-09-09T05:13:55.396Z"
   },
   {
    "duration": 21,
    "start_time": "2022-09-09T05:13:56.084Z"
   },
   {
    "duration": 14,
    "start_time": "2022-09-09T05:13:56.107Z"
   },
   {
    "duration": 9,
    "start_time": "2022-09-09T05:13:56.122Z"
   },
   {
    "duration": 54,
    "start_time": "2022-09-09T05:13:56.133Z"
   },
   {
    "duration": 4,
    "start_time": "2022-09-09T05:13:56.189Z"
   },
   {
    "duration": 11,
    "start_time": "2022-09-09T05:13:56.194Z"
   },
   {
    "duration": 4,
    "start_time": "2022-09-09T05:13:56.206Z"
   },
   {
    "duration": 9,
    "start_time": "2022-09-09T05:13:56.211Z"
   },
   {
    "duration": 4,
    "start_time": "2022-09-09T05:13:56.224Z"
   },
   {
    "duration": 61,
    "start_time": "2022-09-09T05:13:56.229Z"
   },
   {
    "duration": 10,
    "start_time": "2022-09-09T05:13:56.292Z"
   },
   {
    "duration": 4,
    "start_time": "2022-09-09T05:13:56.304Z"
   },
   {
    "duration": 13,
    "start_time": "2022-09-09T05:13:56.309Z"
   },
   {
    "duration": 20,
    "start_time": "2022-09-09T05:13:56.323Z"
   },
   {
    "duration": 42,
    "start_time": "2022-09-09T05:13:56.345Z"
   },
   {
    "duration": 4,
    "start_time": "2022-09-09T05:13:56.389Z"
   },
   {
    "duration": 19,
    "start_time": "2022-09-09T05:13:56.394Z"
   },
   {
    "duration": 9,
    "start_time": "2022-09-09T05:13:56.415Z"
   },
   {
    "duration": 5,
    "start_time": "2022-09-09T05:13:56.426Z"
   },
   {
    "duration": 10,
    "start_time": "2022-09-09T05:13:56.432Z"
   },
   {
    "duration": 56,
    "start_time": "2022-09-09T05:13:56.444Z"
   },
   {
    "duration": 22,
    "start_time": "2022-09-09T05:13:56.501Z"
   },
   {
    "duration": 32,
    "start_time": "2022-09-09T05:13:56.525Z"
   },
   {
    "duration": 35,
    "start_time": "2022-09-09T05:13:56.576Z"
   },
   {
    "duration": 8,
    "start_time": "2022-09-09T05:13:56.612Z"
   },
   {
    "duration": 59,
    "start_time": "2022-09-09T05:13:56.621Z"
   },
   {
    "duration": 192,
    "start_time": "2022-09-09T05:15:04.791Z"
   },
   {
    "duration": 25,
    "start_time": "2022-09-09T05:15:14.425Z"
   },
   {
    "duration": 49,
    "start_time": "2022-09-09T05:17:07.948Z"
   },
   {
    "duration": 27,
    "start_time": "2022-09-09T05:17:16.781Z"
   },
   {
    "duration": 25,
    "start_time": "2022-09-09T05:28:33.355Z"
   },
   {
    "duration": 23,
    "start_time": "2022-09-09T05:31:49.032Z"
   },
   {
    "duration": 25,
    "start_time": "2022-09-09T05:34:44.198Z"
   },
   {
    "duration": 25,
    "start_time": "2022-09-09T05:42:00.829Z"
   },
   {
    "duration": 34,
    "start_time": "2022-09-09T05:47:34.911Z"
   },
   {
    "duration": 30,
    "start_time": "2022-09-09T05:48:19.205Z"
   },
   {
    "duration": 24,
    "start_time": "2022-09-09T05:53:56.048Z"
   },
   {
    "duration": 24,
    "start_time": "2022-09-09T05:55:13.328Z"
   },
   {
    "duration": 27,
    "start_time": "2022-09-09T05:55:47.563Z"
   },
   {
    "duration": 25,
    "start_time": "2022-09-09T06:05:42.622Z"
   },
   {
    "duration": 42,
    "start_time": "2022-09-09T06:09:46.356Z"
   },
   {
    "duration": 37,
    "start_time": "2022-09-09T06:20:24.760Z"
   },
   {
    "duration": 36,
    "start_time": "2022-09-09T06:25:30.060Z"
   },
   {
    "duration": 30,
    "start_time": "2022-09-09T06:29:18.074Z"
   },
   {
    "duration": 25,
    "start_time": "2022-09-09T06:43:14.055Z"
   },
   {
    "duration": 36,
    "start_time": "2022-09-09T06:44:23.312Z"
   },
   {
    "duration": 1474,
    "start_time": "2022-09-09T06:45:26.285Z"
   },
   {
    "duration": 827,
    "start_time": "2022-09-09T06:45:47.513Z"
   },
   {
    "duration": 1028,
    "start_time": "2022-09-09T06:46:04.190Z"
   },
   {
    "duration": 772,
    "start_time": "2022-09-09T06:46:34.294Z"
   },
   {
    "duration": 1017,
    "start_time": "2022-09-09T06:46:39.624Z"
   },
   {
    "duration": 789,
    "start_time": "2022-09-09T06:47:07.428Z"
   },
   {
    "duration": 710,
    "start_time": "2022-09-09T06:47:52.990Z"
   },
   {
    "duration": 38,
    "start_time": "2022-09-09T06:48:03.432Z"
   },
   {
    "duration": 36,
    "start_time": "2022-09-09T06:49:10.499Z"
   },
   {
    "duration": 6,
    "start_time": "2022-09-09T06:49:51.577Z"
   },
   {
    "duration": 211,
    "start_time": "2022-09-09T06:50:33.889Z"
   },
   {
    "duration": 248,
    "start_time": "2022-09-09T06:51:53.527Z"
   },
   {
    "duration": 230,
    "start_time": "2022-09-09T06:52:14.054Z"
   },
   {
    "duration": 33,
    "start_time": "2022-09-09T06:53:37.695Z"
   },
   {
    "duration": 14,
    "start_time": "2022-09-09T06:56:21.395Z"
   },
   {
    "duration": 376,
    "start_time": "2022-09-09T06:56:38.721Z"
   },
   {
    "duration": 31,
    "start_time": "2022-09-09T06:57:17.793Z"
   },
   {
    "duration": 38,
    "start_time": "2022-09-09T06:57:59.822Z"
   },
   {
    "duration": 46,
    "start_time": "2022-09-09T06:58:16.379Z"
   },
   {
    "duration": 39,
    "start_time": "2022-09-09T07:01:12.937Z"
   },
   {
    "duration": 39,
    "start_time": "2022-09-09T07:01:38.274Z"
   },
   {
    "duration": 43,
    "start_time": "2022-09-09T07:02:00.216Z"
   },
   {
    "duration": 39,
    "start_time": "2022-09-09T08:01:49.442Z"
   },
   {
    "duration": 48,
    "start_time": "2022-09-09T08:02:06.012Z"
   },
   {
    "duration": 517,
    "start_time": "2022-09-09T08:02:55.852Z"
   },
   {
    "duration": 44,
    "start_time": "2022-09-09T08:03:15.678Z"
   },
   {
    "duration": 87,
    "start_time": "2022-09-09T08:04:07.244Z"
   },
   {
    "duration": 104,
    "start_time": "2022-09-09T08:04:31.960Z"
   },
   {
    "duration": 54,
    "start_time": "2022-09-09T08:29:46.811Z"
   },
   {
    "duration": 90,
    "start_time": "2022-09-09T08:30:10.390Z"
   },
   {
    "duration": 42,
    "start_time": "2022-09-09T08:37:12.204Z"
   },
   {
    "duration": 68,
    "start_time": "2022-09-09T09:29:33.170Z"
   },
   {
    "duration": 15,
    "start_time": "2022-09-09T09:29:33.240Z"
   },
   {
    "duration": 24,
    "start_time": "2022-09-09T09:29:33.256Z"
   },
   {
    "duration": 9,
    "start_time": "2022-09-09T09:29:33.282Z"
   },
   {
    "duration": 31,
    "start_time": "2022-09-09T09:29:33.292Z"
   },
   {
    "duration": 3,
    "start_time": "2022-09-09T09:29:33.324Z"
   },
   {
    "duration": 11,
    "start_time": "2022-09-09T09:29:33.328Z"
   },
   {
    "duration": 4,
    "start_time": "2022-09-09T09:29:33.341Z"
   },
   {
    "duration": 30,
    "start_time": "2022-09-09T09:29:33.346Z"
   },
   {
    "duration": 4,
    "start_time": "2022-09-09T09:29:33.379Z"
   },
   {
    "duration": 34,
    "start_time": "2022-09-09T09:29:33.384Z"
   },
   {
    "duration": 8,
    "start_time": "2022-09-09T09:29:33.420Z"
   },
   {
    "duration": 4,
    "start_time": "2022-09-09T09:29:33.429Z"
   },
   {
    "duration": 14,
    "start_time": "2022-09-09T09:29:33.434Z"
   },
   {
    "duration": 40,
    "start_time": "2022-09-09T09:29:33.449Z"
   },
   {
    "duration": 17,
    "start_time": "2022-09-09T09:29:33.490Z"
   },
   {
    "duration": 4,
    "start_time": "2022-09-09T09:29:33.508Z"
   },
   {
    "duration": 14,
    "start_time": "2022-09-09T09:29:33.513Z"
   },
   {
    "duration": 5,
    "start_time": "2022-09-09T09:29:33.528Z"
   },
   {
    "duration": 3,
    "start_time": "2022-09-09T09:29:33.535Z"
   },
   {
    "duration": 10,
    "start_time": "2022-09-09T09:29:33.539Z"
   },
   {
    "duration": 58,
    "start_time": "2022-09-09T09:29:33.551Z"
   },
   {
    "duration": 22,
    "start_time": "2022-09-09T09:29:33.611Z"
   },
   {
    "duration": 100,
    "start_time": "2022-09-09T09:29:33.635Z"
   },
   {
    "duration": 41,
    "start_time": "2022-09-09T09:29:33.736Z"
   },
   {
    "duration": 27,
    "start_time": "2022-09-09T09:29:33.778Z"
   },
   {
    "duration": 34,
    "start_time": "2022-09-09T09:29:33.806Z"
   },
   {
    "duration": 6,
    "start_time": "2022-09-09T09:29:33.843Z"
   },
   {
    "duration": 59,
    "start_time": "2022-09-09T09:29:33.851Z"
   },
   {
    "duration": 35,
    "start_time": "2022-09-09T09:29:33.912Z"
   },
   {
    "duration": 48,
    "start_time": "2022-09-09T09:29:33.949Z"
   },
   {
    "duration": 72,
    "start_time": "2022-09-09T09:31:45.620Z"
   },
   {
    "duration": 16,
    "start_time": "2022-09-09T09:31:45.693Z"
   },
   {
    "duration": 17,
    "start_time": "2022-09-09T09:31:45.711Z"
   },
   {
    "duration": 8,
    "start_time": "2022-09-09T09:31:45.731Z"
   },
   {
    "duration": 59,
    "start_time": "2022-09-09T09:31:45.741Z"
   },
   {
    "duration": 3,
    "start_time": "2022-09-09T09:31:45.802Z"
   },
   {
    "duration": 14,
    "start_time": "2022-09-09T09:31:45.807Z"
   },
   {
    "duration": 5,
    "start_time": "2022-09-09T09:31:45.822Z"
   },
   {
    "duration": 6,
    "start_time": "2022-09-09T09:31:45.828Z"
   },
   {
    "duration": 4,
    "start_time": "2022-09-09T09:31:45.837Z"
   },
   {
    "duration": 58,
    "start_time": "2022-09-09T09:31:45.843Z"
   },
   {
    "duration": 10,
    "start_time": "2022-09-09T09:31:45.902Z"
   },
   {
    "duration": 6,
    "start_time": "2022-09-09T09:31:45.914Z"
   },
   {
    "duration": 22,
    "start_time": "2022-09-09T09:31:45.922Z"
   },
   {
    "duration": 34,
    "start_time": "2022-09-09T09:31:45.946Z"
   },
   {
    "duration": 19,
    "start_time": "2022-09-09T09:31:45.982Z"
   },
   {
    "duration": 4,
    "start_time": "2022-09-09T09:31:46.003Z"
   },
   {
    "duration": 16,
    "start_time": "2022-09-09T09:31:46.009Z"
   },
   {
    "duration": 6,
    "start_time": "2022-09-09T09:31:46.027Z"
   },
   {
    "duration": 4,
    "start_time": "2022-09-09T09:31:46.035Z"
   },
   {
    "duration": 42,
    "start_time": "2022-09-09T09:31:46.040Z"
   },
   {
    "duration": 49,
    "start_time": "2022-09-09T09:31:46.083Z"
   },
   {
    "duration": 44,
    "start_time": "2022-09-09T09:31:46.134Z"
   },
   {
    "duration": 101,
    "start_time": "2022-09-09T09:31:46.180Z"
   },
   {
    "duration": 35,
    "start_time": "2022-09-09T09:31:46.283Z"
   },
   {
    "duration": 28,
    "start_time": "2022-09-09T09:31:46.320Z"
   },
   {
    "duration": 58,
    "start_time": "2022-09-09T09:31:46.350Z"
   },
   {
    "duration": 7,
    "start_time": "2022-09-09T09:31:46.411Z"
   },
   {
    "duration": 35,
    "start_time": "2022-09-09T09:31:46.420Z"
   },
   {
    "duration": 55,
    "start_time": "2022-09-09T09:31:46.457Z"
   },
   {
    "duration": 29,
    "start_time": "2022-09-09T09:31:46.514Z"
   },
   {
    "duration": 53,
    "start_time": "2023-01-06T19:46:45.289Z"
   },
   {
    "duration": 659,
    "start_time": "2023-01-06T19:46:51.253Z"
   },
   {
    "duration": 20,
    "start_time": "2023-01-06T19:46:51.914Z"
   },
   {
    "duration": 27,
    "start_time": "2023-01-06T19:46:51.936Z"
   },
   {
    "duration": 21,
    "start_time": "2023-01-06T19:46:51.964Z"
   },
   {
    "duration": 60,
    "start_time": "2023-01-06T19:46:51.986Z"
   },
   {
    "duration": 3,
    "start_time": "2023-01-06T19:46:52.048Z"
   },
   {
    "duration": 32,
    "start_time": "2023-01-06T19:46:52.052Z"
   },
   {
    "duration": 16,
    "start_time": "2023-01-06T19:46:52.085Z"
   },
   {
    "duration": 34,
    "start_time": "2023-01-06T19:46:52.102Z"
   },
   {
    "duration": 23,
    "start_time": "2023-01-06T19:46:52.138Z"
   },
   {
    "duration": 52,
    "start_time": "2023-01-06T19:46:52.162Z"
   },
   {
    "duration": 9,
    "start_time": "2023-01-06T19:46:52.216Z"
   },
   {
    "duration": 25,
    "start_time": "2023-01-06T19:46:52.226Z"
   },
   {
    "duration": 38,
    "start_time": "2023-01-06T19:46:52.253Z"
   },
   {
    "duration": 48,
    "start_time": "2023-01-06T19:46:52.292Z"
   },
   {
    "duration": 24,
    "start_time": "2023-01-06T19:46:52.342Z"
   },
   {
    "duration": 15,
    "start_time": "2023-01-06T19:46:52.368Z"
   },
   {
    "duration": 41,
    "start_time": "2023-01-06T19:46:52.385Z"
   },
   {
    "duration": 22,
    "start_time": "2023-01-06T19:46:52.428Z"
   },
   {
    "duration": 30,
    "start_time": "2023-01-06T19:46:52.451Z"
   },
   {
    "duration": 57,
    "start_time": "2023-01-06T19:46:52.482Z"
   },
   {
    "duration": 75,
    "start_time": "2023-01-06T19:46:52.540Z"
   },
   {
    "duration": 23,
    "start_time": "2023-01-06T19:46:52.616Z"
   },
   {
    "duration": 89,
    "start_time": "2023-01-06T19:46:52.640Z"
   },
   {
    "duration": 32,
    "start_time": "2023-01-06T19:46:52.731Z"
   },
   {
    "duration": 37,
    "start_time": "2023-01-06T19:46:52.764Z"
   },
   {
    "duration": 68,
    "start_time": "2023-01-06T19:46:52.803Z"
   },
   {
    "duration": 7,
    "start_time": "2023-01-06T19:46:52.874Z"
   },
   {
    "duration": 44,
    "start_time": "2023-01-06T19:46:52.883Z"
   },
   {
    "duration": 38,
    "start_time": "2023-01-06T19:46:52.929Z"
   },
   {
    "duration": 28,
    "start_time": "2023-01-06T19:46:52.968Z"
   },
   {
    "duration": 3,
    "start_time": "2023-01-06T19:48:32.369Z"
   },
   {
    "duration": 84,
    "start_time": "2023-01-06T19:51:19.957Z"
   },
   {
    "duration": 73,
    "start_time": "2023-01-06T19:52:38.747Z"
   },
   {
    "duration": 15,
    "start_time": "2023-01-06T19:52:38.823Z"
   },
   {
    "duration": 18,
    "start_time": "2023-01-06T19:52:38.839Z"
   },
   {
    "duration": 9,
    "start_time": "2023-01-06T19:52:38.859Z"
   },
   {
    "duration": 53,
    "start_time": "2023-01-06T19:52:38.869Z"
   },
   {
    "duration": 4,
    "start_time": "2023-01-06T19:52:38.924Z"
   },
   {
    "duration": 14,
    "start_time": "2023-01-06T19:52:38.930Z"
   },
   {
    "duration": 16,
    "start_time": "2023-01-06T19:52:38.945Z"
   },
   {
    "duration": 9,
    "start_time": "2023-01-06T19:52:38.962Z"
   },
   {
    "duration": 6,
    "start_time": "2023-01-06T19:52:38.973Z"
   },
   {
    "duration": 41,
    "start_time": "2023-01-06T19:52:38.980Z"
   },
   {
    "duration": 8,
    "start_time": "2023-01-06T19:52:39.023Z"
   },
   {
    "duration": 5,
    "start_time": "2023-01-06T19:52:39.033Z"
   },
   {
    "duration": 18,
    "start_time": "2023-01-06T19:52:39.040Z"
   },
   {
    "duration": 26,
    "start_time": "2023-01-06T19:52:39.060Z"
   },
   {
    "duration": 17,
    "start_time": "2023-01-06T19:52:39.088Z"
   },
   {
    "duration": 8,
    "start_time": "2023-01-06T19:52:39.106Z"
   },
   {
    "duration": 11,
    "start_time": "2023-01-06T19:52:39.121Z"
   },
   {
    "duration": 7,
    "start_time": "2023-01-06T19:52:39.133Z"
   },
   {
    "duration": 31,
    "start_time": "2023-01-06T19:52:39.141Z"
   },
   {
    "duration": 25,
    "start_time": "2023-01-06T19:52:39.174Z"
   },
   {
    "duration": 45,
    "start_time": "2023-01-06T19:52:39.200Z"
   },
   {
    "duration": 23,
    "start_time": "2023-01-06T19:52:39.246Z"
   },
   {
    "duration": 97,
    "start_time": "2023-01-06T19:52:39.270Z"
   },
   {
    "duration": 32,
    "start_time": "2023-01-06T19:52:39.368Z"
   },
   {
    "duration": 41,
    "start_time": "2023-01-06T19:52:39.402Z"
   },
   {
    "duration": 32,
    "start_time": "2023-01-06T19:52:39.445Z"
   },
   {
    "duration": 8,
    "start_time": "2023-01-06T19:52:39.478Z"
   },
   {
    "duration": 58,
    "start_time": "2023-01-06T19:52:39.487Z"
   },
   {
    "duration": 51,
    "start_time": "2023-01-06T19:52:39.547Z"
   },
   {
    "duration": 26,
    "start_time": "2023-01-06T19:52:39.600Z"
   }
  ],
  "colab": {
   "name": "dpp_template_part2.ipynb",
   "provenance": []
  },
  "kernelspec": {
   "display_name": "Python 3 (ipykernel)",
   "language": "python",
   "name": "python3"
  },
  "language_info": {
   "codemirror_mode": {
    "name": "ipython",
    "version": 3
   },
   "file_extension": ".py",
   "mimetype": "text/x-python",
   "name": "python",
   "nbconvert_exporter": "python",
   "pygments_lexer": "ipython3",
   "version": "3.9.5"
  },
  "toc": {
   "base_numbering": 1,
   "nav_menu": {},
   "number_sections": true,
   "sideBar": true,
   "skip_h1_title": true,
   "title_cell": "Table of Contents",
   "title_sidebar": "Contents",
   "toc_cell": false,
   "toc_position": {},
   "toc_section_display": true,
   "toc_window_display": false
  }
 },
 "nbformat": 4,
 "nbformat_minor": 5
}
