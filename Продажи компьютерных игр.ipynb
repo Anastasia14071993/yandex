{
 "cells": [
  {
   "cell_type": "markdown",
   "metadata": {},
   "source": [
    "# Цель проекта:\n",
    "Необходимо выявить потенциально популярный продукт для рекламных кампаний на 2017 год. \n",
    "По данным  интернет-магазина «Стримчик» за предыдущие года о продажах игр, оценки пользователей и экспертов, жанры и платформы выявим закономерности, определяющие успешность игры.\n",
    "\n",
    "Проект содержит следующие этапы:\n",
    "- Обзор данных.\n",
    "- Предобработка данных.\n",
    "- Исследлвательский анализ.\n",
    "- Проверка двух гипотез: Средние пользовательские рейтинги платформ Xbox One и PC одинаковые; средние пользовательские рейтинги жанров Action (англ. «действие», экшен-игры) и Sports (англ. «спортивные соревнования») разные."
   ]
  },
  {
   "cell_type": "code",
   "execution_count": 1,
   "metadata": {},
   "outputs": [],
   "source": [
    "import pandas as pd"
   ]
  },
  {
   "cell_type": "code",
   "execution_count": 2,
   "metadata": {},
   "outputs": [],
   "source": [
    "data=pd.read_csv('/datasets/games.csv')"
   ]
  },
  {
   "cell_type": "markdown",
   "metadata": {},
   "source": [
    "## Подготовка данных\n",
    "- Замените названия столбцов (приведите к нижнему регистру);\n",
    "- Преобразуйте данные в нужные типы. Опишите, в каких столбцах заменили тип данных и почему;\n",
    "- Обработайте пропуски при необходимости:\n",
    "- Объясните, почему заполнили пропуски определённым образом или почему не стали это делать;\n",
    "- Опишите причины, которые могли привести к пропускам;\n",
    "- Обратите внимание на аббревиатуру 'tbd' в столбце с оценкой пользователей. Отдельно разберите это значение и опишите, как его обработать;\n",
    "- Посчитайте суммарные продажи во всех регионах и запишите их в отдельный столбец."
   ]
  },
  {
   "cell_type": "code",
   "execution_count": null,
   "metadata": {},
   "outputs": [],
   "source": [
    "display(data.head())"
   ]
  },
  {
   "cell_type": "code",
   "execution_count": 4,
   "metadata": {},
   "outputs": [
    {
     "name": "stdout",
     "output_type": "stream",
     "text": [
      "<class 'pandas.core.frame.DataFrame'>\n",
      "RangeIndex: 16715 entries, 0 to 16714\n",
      "Data columns (total 11 columns):\n",
      " #   Column           Non-Null Count  Dtype  \n",
      "---  ------           --------------  -----  \n",
      " 0   Name             16713 non-null  object \n",
      " 1   Platform         16715 non-null  object \n",
      " 2   Year_of_Release  16446 non-null  float64\n",
      " 3   Genre            16713 non-null  object \n",
      " 4   NA_sales         16715 non-null  float64\n",
      " 5   EU_sales         16715 non-null  float64\n",
      " 6   JP_sales         16715 non-null  float64\n",
      " 7   Other_sales      16715 non-null  float64\n",
      " 8   Critic_Score     8137 non-null   float64\n",
      " 9   User_Score       10014 non-null  object \n",
      " 10  Rating           9949 non-null   object \n",
      "dtypes: float64(6), object(5)\n",
      "memory usage: 1.4+ MB\n",
      "None\n"
     ]
    }
   ],
   "source": [
    "print(data.info())"
   ]
  },
  {
   "cell_type": "markdown",
   "metadata": {},
   "source": [
    "Проверим, присутствуют ли в данных явные дубликаты"
   ]
  },
  {
   "cell_type": "code",
   "execution_count": 5,
   "metadata": {},
   "outputs": [
    {
     "data": {
      "text/plain": [
       "0"
      ]
     },
     "execution_count": 5,
     "metadata": {},
     "output_type": "execute_result"
    }
   ],
   "source": [
    "data.duplicated().sum()"
   ]
  },
  {
   "cell_type": "markdown",
   "metadata": {},
   "source": [
    "Заменим названия столбцов на нижний регистр"
   ]
  },
  {
   "cell_type": "code",
   "execution_count": 6,
   "metadata": {},
   "outputs": [
    {
     "name": "stdout",
     "output_type": "stream",
     "text": [
      "Index(['Name', 'Platform', 'Year_of_Release', 'Genre', 'NA_sales', 'EU_sales',\n",
      "       'JP_sales', 'Other_sales', 'Critic_Score', 'User_Score', 'Rating'],\n",
      "      dtype='object')\n"
     ]
    }
   ],
   "source": [
    "print(data.columns)"
   ]
  },
  {
   "cell_type": "code",
   "execution_count": 7,
   "metadata": {},
   "outputs": [],
   "source": [
    "data.columns = data.columns.str.lower()"
   ]
  },
  {
   "cell_type": "code",
   "execution_count": 8,
   "metadata": {},
   "outputs": [
    {
     "name": "stdout",
     "output_type": "stream",
     "text": [
      "Index(['name', 'platform', 'year_of_release', 'genre', 'na_sales', 'eu_sales',\n",
      "       'jp_sales', 'other_sales', 'critic_score', 'user_score', 'rating'],\n",
      "      dtype='object')\n"
     ]
    }
   ],
   "source": [
    "print(data.columns)"
   ]
  },
  {
   "cell_type": "markdown",
   "metadata": {},
   "source": [
    "Измменим тип данных в столбце year_of_release. Так как год не может быть дробным числом"
   ]
  },
  {
   "cell_type": "code",
   "execution_count": 9,
   "metadata": {},
   "outputs": [],
   "source": [
    "data=data.dropna(subset=['year_of_release']) # пропушенных значений в годах очень мало, целесообразнее их удалить\n",
    "data['year_of_release']=data['year_of_release'].astype('int')"
   ]
  },
  {
   "cell_type": "markdown",
   "metadata": {},
   "source": [
    "Удалим строки с пропущенными значениями в столбцах name и genre так как количество пропусков слишком мало и не повлияет на результат исследования."
   ]
  },
  {
   "cell_type": "code",
   "execution_count": 10,
   "metadata": {},
   "outputs": [],
   "source": [
    "data=data.dropna(subset=['name', 'genre'])"
   ]
  },
  {
   "cell_type": "code",
   "execution_count": 11,
   "metadata": {},
   "outputs": [
    {
     "name": "stdout",
     "output_type": "stream",
     "text": [
      "<class 'pandas.core.frame.DataFrame'>\n",
      "Int64Index: 16444 entries, 0 to 16714\n",
      "Data columns (total 11 columns):\n",
      " #   Column           Non-Null Count  Dtype  \n",
      "---  ------           --------------  -----  \n",
      " 0   name             16444 non-null  object \n",
      " 1   platform         16444 non-null  object \n",
      " 2   year_of_release  16444 non-null  int64  \n",
      " 3   genre            16444 non-null  object \n",
      " 4   na_sales         16444 non-null  float64\n",
      " 5   eu_sales         16444 non-null  float64\n",
      " 6   jp_sales         16444 non-null  float64\n",
      " 7   other_sales      16444 non-null  float64\n",
      " 8   critic_score     7983 non-null   float64\n",
      " 9   user_score       9839 non-null   object \n",
      " 10  rating           9768 non-null   object \n",
      "dtypes: float64(5), int64(1), object(5)\n",
      "memory usage: 1.5+ MB\n",
      "None\n"
     ]
    }
   ],
   "source": [
    "print(data.info())"
   ]
  },
  {
   "cell_type": "markdown",
   "metadata": {},
   "source": [
    "В столбцах critic_score и user_score есть пропуски, которые необходимо заменить. Для этого выведем на экран эти два стобца для ознакомления."
   ]
  },
  {
   "cell_type": "code",
   "execution_count": 12,
   "metadata": {},
   "outputs": [
    {
     "data": {
      "text/html": [
       "<div>\n",
       "<style scoped>\n",
       "    .dataframe tbody tr th:only-of-type {\n",
       "        vertical-align: middle;\n",
       "    }\n",
       "\n",
       "    .dataframe tbody tr th {\n",
       "        vertical-align: top;\n",
       "    }\n",
       "\n",
       "    .dataframe thead th {\n",
       "        text-align: right;\n",
       "    }\n",
       "</style>\n",
       "<table border=\"1\" class=\"dataframe\">\n",
       "  <thead>\n",
       "    <tr style=\"text-align: right;\">\n",
       "      <th></th>\n",
       "      <th>critic_score</th>\n",
       "      <th>user_score</th>\n",
       "    </tr>\n",
       "  </thead>\n",
       "  <tbody>\n",
       "    <tr>\n",
       "      <th>0</th>\n",
       "      <td>76.0</td>\n",
       "      <td>8</td>\n",
       "    </tr>\n",
       "    <tr>\n",
       "      <th>1</th>\n",
       "      <td>NaN</td>\n",
       "      <td>NaN</td>\n",
       "    </tr>\n",
       "    <tr>\n",
       "      <th>2</th>\n",
       "      <td>82.0</td>\n",
       "      <td>8.3</td>\n",
       "    </tr>\n",
       "    <tr>\n",
       "      <th>3</th>\n",
       "      <td>80.0</td>\n",
       "      <td>8</td>\n",
       "    </tr>\n",
       "    <tr>\n",
       "      <th>4</th>\n",
       "      <td>NaN</td>\n",
       "      <td>NaN</td>\n",
       "    </tr>\n",
       "    <tr>\n",
       "      <th>5</th>\n",
       "      <td>NaN</td>\n",
       "      <td>NaN</td>\n",
       "    </tr>\n",
       "    <tr>\n",
       "      <th>6</th>\n",
       "      <td>89.0</td>\n",
       "      <td>8.5</td>\n",
       "    </tr>\n",
       "    <tr>\n",
       "      <th>7</th>\n",
       "      <td>58.0</td>\n",
       "      <td>6.6</td>\n",
       "    </tr>\n",
       "    <tr>\n",
       "      <th>8</th>\n",
       "      <td>87.0</td>\n",
       "      <td>8.4</td>\n",
       "    </tr>\n",
       "    <tr>\n",
       "      <th>9</th>\n",
       "      <td>NaN</td>\n",
       "      <td>NaN</td>\n",
       "    </tr>\n",
       "  </tbody>\n",
       "</table>\n",
       "</div>"
      ],
      "text/plain": [
       "   critic_score user_score\n",
       "0          76.0          8\n",
       "1           NaN        NaN\n",
       "2          82.0        8.3\n",
       "3          80.0          8\n",
       "4           NaN        NaN\n",
       "5           NaN        NaN\n",
       "6          89.0        8.5\n",
       "7          58.0        6.6\n",
       "8          87.0        8.4\n",
       "9           NaN        NaN"
      ]
     },
     "metadata": {},
     "output_type": "display_data"
    }
   ],
   "source": [
    "display(data[['critic_score','user_score']].head(10))"
   ]
  },
  {
   "cell_type": "markdown",
   "metadata": {},
   "source": [
    "Заменим пропущенные значения в стоблце critic_score и user_score на медианные значения относительно наименования игры."
   ]
  },
  {
   "cell_type": "code",
   "execution_count": 13,
   "metadata": {},
   "outputs": [
    {
     "name": "stdout",
     "output_type": "stream",
     "text": [
      "70.0    252\n",
      "71.0    248\n",
      "75.0    240\n",
      "80.0    235\n",
      "73.0    234\n",
      "       ... \n",
      "29.0      3\n",
      "20.0      3\n",
      "13.0      1\n",
      "17.0      1\n",
      "21.0      1\n",
      "Name: critic_score, Length: 81, dtype: int64\n"
     ]
    }
   ],
   "source": [
    "print(data['critic_score'].value_counts())"
   ]
  },
  {
   "cell_type": "code",
   "execution_count": 14,
   "metadata": {},
   "outputs": [],
   "source": [
    "import warnings #импортируем библиотеку\n",
    "\n",
    "warnings.filterwarnings('ignore') # отключаем предупреждения"
   ]
  },
  {
   "cell_type": "code",
   "execution_count": 15,
   "metadata": {},
   "outputs": [],
   "source": [
    "data['critic_score']=data['critic_score'].fillna(-1) # поставим заглушку на пропуски в виде отрицательного значения"
   ]
  },
  {
   "cell_type": "code",
   "execution_count": 16,
   "metadata": {},
   "outputs": [
    {
     "name": "stdout",
     "output_type": "stream",
     "text": [
      "tbd    2376\n",
      "7.8     322\n",
      "8       285\n",
      "8.2     276\n",
      "8.3     252\n",
      "       ... \n",
      "0.6       2\n",
      "0.5       2\n",
      "1.3       2\n",
      "0         1\n",
      "9.7       1\n",
      "Name: user_score, Length: 96, dtype: int64\n"
     ]
    }
   ],
   "source": [
    "print(data['user_score'].value_counts())"
   ]
  },
  {
   "cell_type": "markdown",
   "metadata": {},
   "source": [
    "Так как в столбце user_score присутствуют значения tbd, эти значения мы заменим на 0, в связи с тем, что оценка, по видимому, еще не подсчитана\n",
    "\n",
    "\n",
    "TBD - To Be Determined, то есть \"Будет определено\". Очень часто подобное сокращение можно встретить в анонсах компьютерных игр в графе \"Дата выхода\". Когда разработчик той или иной игры уже сообщил о том, что она готовится к выходу, но пока еще не может назвать точную дату, именно это сокращение и используется. Естественно, оно может применяться и в других случаях, но данный вариант является самым распространенным.\n"
   ]
  },
  {
   "cell_type": "code",
   "execution_count": 17,
   "metadata": {},
   "outputs": [],
   "source": [
    "data['user_score']=data['user_score'].replace('tbd', -2) # поставим заглушку на значения tbd"
   ]
  },
  {
   "cell_type": "code",
   "execution_count": 18,
   "metadata": {},
   "outputs": [],
   "source": [
    "data['user_score']=data['user_score'].fillna(-1)"
   ]
  },
  {
   "cell_type": "code",
   "execution_count": 19,
   "metadata": {},
   "outputs": [
    {
     "name": "stdout",
     "output_type": "stream",
     "text": [
      "<class 'pandas.core.frame.DataFrame'>\n",
      "Int64Index: 16444 entries, 0 to 16714\n",
      "Data columns (total 11 columns):\n",
      " #   Column           Non-Null Count  Dtype  \n",
      "---  ------           --------------  -----  \n",
      " 0   name             16444 non-null  object \n",
      " 1   platform         16444 non-null  object \n",
      " 2   year_of_release  16444 non-null  int64  \n",
      " 3   genre            16444 non-null  object \n",
      " 4   na_sales         16444 non-null  float64\n",
      " 5   eu_sales         16444 non-null  float64\n",
      " 6   jp_sales         16444 non-null  float64\n",
      " 7   other_sales      16444 non-null  float64\n",
      " 8   critic_score     16444 non-null  float64\n",
      " 9   user_score       16444 non-null  object \n",
      " 10  rating           9768 non-null   object \n",
      "dtypes: float64(5), int64(1), object(5)\n",
      "memory usage: 1.5+ MB\n",
      "None\n"
     ]
    }
   ],
   "source": [
    "print(data.info())"
   ]
  },
  {
   "cell_type": "code",
   "execution_count": 20,
   "metadata": {},
   "outputs": [],
   "source": [
    "data['user_score']=data['user_score'].astype(float)"
   ]
  },
  {
   "cell_type": "markdown",
   "metadata": {},
   "source": [
    "В данных присутствует столбец rating — рейтинг от организации ESRB (англ. Entertainment Software Rating Board). Эта ассоциация определяет рейтинг компьютерных игр и присваивает им подходящую возрастную категорию. В данном столбце есть большое количество пропущенных значений. В связи с тем, что рейтинг устанавливается по неизвестным нам факторам, заполнять пропуски мы не будем."
   ]
  },
  {
   "cell_type": "code",
   "execution_count": 21,
   "metadata": {},
   "outputs": [],
   "source": [
    "data['sum_sales']=data[['na_sales','eu_sales','jp_sales', 'other_sales']].sum(axis = 1)"
   ]
  },
  {
   "cell_type": "markdown",
   "metadata": {},
   "source": [
    "### Промежуточный вывод по предобработке данных\n",
    "На данном этапе были проведены следующие действия:\n",
    " - замена столбцов на нижний регистр;\n",
    " - заменены пропуски в столбце year_of_release на 0, так как в анализе эти строки участвовать не будут, но для общей картины оставить их можно;\n",
    " - удалены строки с пропусками в стоблцах name и genre. Заполнить пропуски не представляется возможным, а количество таких строк на столько мало, что никак не повляет на ход исследования;\n",
    " - заменены пропуски в стоблцах critic_score и user_score, в зависимости от названия игры. Так как одна и та же игра может быть выпущена на разных платформах;\n",
    " - в столбце user_score есть значения tbd, что означает что оценка еще не посчитана. Так как для дальнейшего анализа нужен числовой формат данного столбца, была произведена замена tbd на 0. Такая замена не повлияет на анализ, так как подобных значений не очень много.\n",
    " - создана дополнительная колонка с общей суммой продаж каждой игры во всех регионах"
   ]
  },
  {
   "cell_type": "code",
   "execution_count": null,
   "metadata": {},
   "outputs": [],
   "source": [
    "display(data.head())"
   ]
  },
  {
   "cell_type": "markdown",
   "metadata": {},
   "source": [
    "## Исследовательский анализ данных\n",
    "- Посмотрите, сколько игр выпускалось в разные годы. Важны ли данные за все периоды?\n",
    "- Посмотрите, как менялись продажи по платформам. Выберите платформы с наибольшими суммарными продажами и постройте распределение по годам. За какой характерный срок появляются новые и исчезают старые платформы?\n",
    "- Возьмите данные за соответствующий актуальный период. Актуальный период определите самостоятельно в результате исследования предыдущих вопросов. Основной фактор — эти данные помогут построить прогноз на 2017 год.\n",
    "- Не учитывайте в работе данные за предыдущие годы.\n",
    "- Какие платформы лидируют по продажам, растут или падают? Выберите несколько потенциально прибыльных платформ.\n",
    "- Постройте график «ящик с усами» по глобальным продажам игр в разбивке по платформам. Опишите результат.\n",
    "- Посмотрите, как влияют на продажи внутри одной популярной платформы отзывы пользователей и критиков. Постройте диаграмму рассеяния и посчитайте корреляцию между отзывами и продажами. Сформулируйте выводы.\n",
    "- Соотнесите выводы с продажами игр на других платформах.\n",
    "- Посмотрите на общее распределение игр по жанрам. Что можно сказать о самых прибыльных жанрах? Выделяются ли жанры с высокими и низкими продажами?"
   ]
  },
  {
   "cell_type": "markdown",
   "metadata": {},
   "source": [
    "Посчитаем, сколько игр выпускалось в каждом году."
   ]
  },
  {
   "cell_type": "code",
   "execution_count": 23,
   "metadata": {},
   "outputs": [
    {
     "data": {
      "text/plain": [
       "<AxesSubplot:xlabel='year_of_release'>"
      ]
     },
     "execution_count": 23,
     "metadata": {},
     "output_type": "execute_result"
    },
    {
     "data": {
      "image/png": "[encoded data removed]",
      "text/plain": [
       "<Figure size 432x288 with 1 Axes>"
      ]
     },
     "metadata": {
      "needs_background": "light"
     },
     "output_type": "display_data"
    }
   ],
   "source": [
    "data.pivot_table(index='year_of_release', values='name', aggfunc='count').plot()"
   ]
  },
  {
   "cell_type": "markdown",
   "metadata": {},
   "source": [
    "Рост выпуска игр наблюдается в период с 1990 года до 2010, затем начинается резкий спад. Примерно в 2013 году присутствует присутствует небольшой подъем выпуска, но после 2015 года он опять начинает снижаться. "
   ]
  },
  {
   "cell_type": "markdown",
   "metadata": {},
   "source": [
    "Так как целью проекта является прогнозирование продаж в 2017 году, нет необходимости анализировать все данные. Более целесообразным будет взять данные за 2016, 2015 и 2014 года. Так же эти показатели в дальнейшем можно будет сопоставить с данными финансовой отчетности, которая так же составляется за 3 года."
   ]
  },
  {
   "cell_type": "code",
   "execution_count": 24,
   "metadata": {},
   "outputs": [
    {
     "data": {
      "text/plain": [
       "<AxesSubplot:xlabel='year_of_release'>"
      ]
     },
     "execution_count": 24,
     "metadata": {},
     "output_type": "execute_result"
    },
    {
     "data": {
      "image/png": "[encoded data removed]",
      "text/plain": [
       "<Figure size 1440x720 with 1 Axes>"
      ]
     },
     "metadata": {
      "needs_background": "light"
     },
     "output_type": "display_data"
    }
   ],
   "source": [
    "data.pivot_table(index='year_of_release', columns='platform', values='name', aggfunc='count').plot(figsize=(20,10))"
   ]
  },
  {
   "cell_type": "markdown",
   "metadata": {},
   "source": [
    "На данном графике видно, когда появляются и исчезают различные платформы. Например \"долгожителем\" можно смело назвать PC. Но в основном, из за большого количества платформ, трудно разобрать какой цвет принадлежит какой платформе. Для детального анализа лучше брать либо определенный отрезок времени, либо определенные платформы."
   ]
  },
  {
   "cell_type": "code",
   "execution_count": 25,
   "metadata": {},
   "outputs": [],
   "source": [
    "actual_years=data.query('year_of_release>=2014')"
   ]
  },
  {
   "cell_type": "markdown",
   "metadata": {},
   "source": [
    "Посмотрим, как менялись продажи по платформам. Для этого составим сводную таблицу по каждой платформе и годам выпуска игры"
   ]
  },
  {
   "cell_type": "code",
   "execution_count": 26,
   "metadata": {},
   "outputs": [
    {
     "data": {
      "text/html": [
       "<div>\n",
       "<style scoped>\n",
       "    .dataframe tbody tr th:only-of-type {\n",
       "        vertical-align: middle;\n",
       "    }\n",
       "\n",
       "    .dataframe tbody tr th {\n",
       "        vertical-align: top;\n",
       "    }\n",
       "\n",
       "    .dataframe thead th {\n",
       "        text-align: right;\n",
       "    }\n",
       "</style>\n",
       "<table border=\"1\" class=\"dataframe\">\n",
       "  <thead>\n",
       "    <tr style=\"text-align: right;\">\n",
       "      <th></th>\n",
       "      <th></th>\n",
       "      <th>sum_sales</th>\n",
       "    </tr>\n",
       "    <tr>\n",
       "      <th>platform</th>\n",
       "      <th>year_of_release</th>\n",
       "      <th></th>\n",
       "    </tr>\n",
       "  </thead>\n",
       "  <tbody>\n",
       "    <tr>\n",
       "      <th rowspan=\"3\" valign=\"top\">3DS</th>\n",
       "      <th>2014</th>\n",
       "      <td>43.76</td>\n",
       "    </tr>\n",
       "    <tr>\n",
       "      <th>2015</th>\n",
       "      <td>27.78</td>\n",
       "    </tr>\n",
       "    <tr>\n",
       "      <th>2016</th>\n",
       "      <td>15.14</td>\n",
       "    </tr>\n",
       "    <tr>\n",
       "      <th rowspan=\"3\" valign=\"top\">PC</th>\n",
       "      <th>2014</th>\n",
       "      <td>13.28</td>\n",
       "    </tr>\n",
       "    <tr>\n",
       "      <th>2015</th>\n",
       "      <td>8.52</td>\n",
       "    </tr>\n",
       "    <tr>\n",
       "      <th>2016</th>\n",
       "      <td>5.25</td>\n",
       "    </tr>\n",
       "    <tr>\n",
       "      <th rowspan=\"3\" valign=\"top\">PS3</th>\n",
       "      <th>2014</th>\n",
       "      <td>47.76</td>\n",
       "    </tr>\n",
       "    <tr>\n",
       "      <th>2015</th>\n",
       "      <td>16.82</td>\n",
       "    </tr>\n",
       "    <tr>\n",
       "      <th>2016</th>\n",
       "      <td>3.60</td>\n",
       "    </tr>\n",
       "    <tr>\n",
       "      <th rowspan=\"3\" valign=\"top\">PS4</th>\n",
       "      <th>2014</th>\n",
       "      <td>100.00</td>\n",
       "    </tr>\n",
       "    <tr>\n",
       "      <th>2015</th>\n",
       "      <td>118.90</td>\n",
       "    </tr>\n",
       "    <tr>\n",
       "      <th>2016</th>\n",
       "      <td>69.25</td>\n",
       "    </tr>\n",
       "    <tr>\n",
       "      <th rowspan=\"2\" valign=\"top\">PSP</th>\n",
       "      <th>2014</th>\n",
       "      <td>0.24</td>\n",
       "    </tr>\n",
       "    <tr>\n",
       "      <th>2015</th>\n",
       "      <td>0.12</td>\n",
       "    </tr>\n",
       "    <tr>\n",
       "      <th rowspan=\"3\" valign=\"top\">PSV</th>\n",
       "      <th>2014</th>\n",
       "      <td>11.90</td>\n",
       "    </tr>\n",
       "    <tr>\n",
       "      <th>2015</th>\n",
       "      <td>6.25</td>\n",
       "    </tr>\n",
       "    <tr>\n",
       "      <th>2016</th>\n",
       "      <td>4.25</td>\n",
       "    </tr>\n",
       "    <tr>\n",
       "      <th rowspan=\"3\" valign=\"top\">Wii</th>\n",
       "      <th>2014</th>\n",
       "      <td>3.75</td>\n",
       "    </tr>\n",
       "    <tr>\n",
       "      <th>2015</th>\n",
       "      <td>1.14</td>\n",
       "    </tr>\n",
       "    <tr>\n",
       "      <th>2016</th>\n",
       "      <td>0.18</td>\n",
       "    </tr>\n",
       "    <tr>\n",
       "      <th rowspan=\"3\" valign=\"top\">WiiU</th>\n",
       "      <th>2014</th>\n",
       "      <td>22.03</td>\n",
       "    </tr>\n",
       "    <tr>\n",
       "      <th>2015</th>\n",
       "      <td>16.35</td>\n",
       "    </tr>\n",
       "    <tr>\n",
       "      <th>2016</th>\n",
       "      <td>4.60</td>\n",
       "    </tr>\n",
       "    <tr>\n",
       "      <th rowspan=\"3\" valign=\"top\">X360</th>\n",
       "      <th>2014</th>\n",
       "      <td>34.74</td>\n",
       "    </tr>\n",
       "    <tr>\n",
       "      <th>2015</th>\n",
       "      <td>11.96</td>\n",
       "    </tr>\n",
       "    <tr>\n",
       "      <th>2016</th>\n",
       "      <td>1.52</td>\n",
       "    </tr>\n",
       "    <tr>\n",
       "      <th rowspan=\"3\" valign=\"top\">XOne</th>\n",
       "      <th>2014</th>\n",
       "      <td>54.07</td>\n",
       "    </tr>\n",
       "    <tr>\n",
       "      <th>2015</th>\n",
       "      <td>60.14</td>\n",
       "    </tr>\n",
       "    <tr>\n",
       "      <th>2016</th>\n",
       "      <td>26.15</td>\n",
       "    </tr>\n",
       "  </tbody>\n",
       "</table>\n",
       "</div>"
      ],
      "text/plain": [
       "                          sum_sales\n",
       "platform year_of_release           \n",
       "3DS      2014                 43.76\n",
       "         2015                 27.78\n",
       "         2016                 15.14\n",
       "PC       2014                 13.28\n",
       "         2015                  8.52\n",
       "         2016                  5.25\n",
       "PS3      2014                 47.76\n",
       "         2015                 16.82\n",
       "         2016                  3.60\n",
       "PS4      2014                100.00\n",
       "         2015                118.90\n",
       "         2016                 69.25\n",
       "PSP      2014                  0.24\n",
       "         2015                  0.12\n",
       "PSV      2014                 11.90\n",
       "         2015                  6.25\n",
       "         2016                  4.25\n",
       "Wii      2014                  3.75\n",
       "         2015                  1.14\n",
       "         2016                  0.18\n",
       "WiiU     2014                 22.03\n",
       "         2015                 16.35\n",
       "         2016                  4.60\n",
       "X360     2014                 34.74\n",
       "         2015                 11.96\n",
       "         2016                  1.52\n",
       "XOne     2014                 54.07\n",
       "         2015                 60.14\n",
       "         2016                 26.15"
      ]
     },
     "metadata": {},
     "output_type": "display_data"
    }
   ],
   "source": [
    "platform=actual_years.pivot_table(index=['platform', 'year_of_release'], values='sum_sales', aggfunc='sum')\n",
    "display(platform)"
   ]
  },
  {
   "cell_type": "code",
   "execution_count": 27,
   "metadata": {},
   "outputs": [
    {
     "data": {
      "text/html": [
       "<div>\n",
       "<style scoped>\n",
       "    .dataframe tbody tr th:only-of-type {\n",
       "        vertical-align: middle;\n",
       "    }\n",
       "\n",
       "    .dataframe tbody tr th {\n",
       "        vertical-align: top;\n",
       "    }\n",
       "\n",
       "    .dataframe thead th {\n",
       "        text-align: right;\n",
       "    }\n",
       "</style>\n",
       "<table border=\"1\" class=\"dataframe\">\n",
       "  <thead>\n",
       "    <tr style=\"text-align: right;\">\n",
       "      <th></th>\n",
       "      <th>sum_sales</th>\n",
       "    </tr>\n",
       "    <tr>\n",
       "      <th>platform</th>\n",
       "      <th></th>\n",
       "    </tr>\n",
       "  </thead>\n",
       "  <tbody>\n",
       "    <tr>\n",
       "      <th>PS4</th>\n",
       "      <td>288.15</td>\n",
       "    </tr>\n",
       "    <tr>\n",
       "      <th>XOne</th>\n",
       "      <td>140.36</td>\n",
       "    </tr>\n",
       "    <tr>\n",
       "      <th>3DS</th>\n",
       "      <td>86.68</td>\n",
       "    </tr>\n",
       "    <tr>\n",
       "      <th>PS3</th>\n",
       "      <td>68.18</td>\n",
       "    </tr>\n",
       "    <tr>\n",
       "      <th>X360</th>\n",
       "      <td>48.22</td>\n",
       "    </tr>\n",
       "    <tr>\n",
       "      <th>WiiU</th>\n",
       "      <td>42.98</td>\n",
       "    </tr>\n",
       "    <tr>\n",
       "      <th>PC</th>\n",
       "      <td>27.05</td>\n",
       "    </tr>\n",
       "    <tr>\n",
       "      <th>PSV</th>\n",
       "      <td>22.40</td>\n",
       "    </tr>\n",
       "    <tr>\n",
       "      <th>Wii</th>\n",
       "      <td>5.07</td>\n",
       "    </tr>\n",
       "    <tr>\n",
       "      <th>PSP</th>\n",
       "      <td>0.36</td>\n",
       "    </tr>\n",
       "  </tbody>\n",
       "</table>\n",
       "</div>"
      ],
      "text/plain": [
       "          sum_sales\n",
       "platform           \n",
       "PS4          288.15\n",
       "XOne         140.36\n",
       "3DS           86.68\n",
       "PS3           68.18\n",
       "X360          48.22\n",
       "WiiU          42.98\n",
       "PC            27.05\n",
       "PSV           22.40\n",
       "Wii            5.07\n",
       "PSP            0.36"
      ]
     },
     "execution_count": 27,
     "metadata": {},
     "output_type": "execute_result"
    }
   ],
   "source": [
    "(platform.groupby('platform').sum()\n",
    " .sort_values(by='sum_sales', ascending=False))"
   ]
  },
  {
   "cell_type": "code",
   "execution_count": 28,
   "metadata": {},
   "outputs": [
    {
     "data": {
      "text/plain": [
       "<AxesSubplot:xlabel='platform'>"
      ]
     },
     "execution_count": 28,
     "metadata": {},
     "output_type": "execute_result"
    },
    {
     "data": {
      "image/png": "[encoded data removed]",
      "text/plain": [
       "<Figure size 432x288 with 1 Axes>"
      ]
     },
     "metadata": {
      "needs_background": "light"
     },
     "output_type": "display_data"
    }
   ],
   "source": [
    "(platform.groupby('platform').sum()\n",
    " .sort_values(by='sum_sales', ascending=False)\n",
    " .plot(kind='bar'))"
   ]
  },
  {
   "cell_type": "markdown",
   "metadata": {},
   "source": [
    "Построим распределение по годам трех платформ, с самыми высокими продажами: PS4, XOne и 3DS."
   ]
  },
  {
   "cell_type": "code",
   "execution_count": 29,
   "metadata": {},
   "outputs": [],
   "source": [
    "import matplotlib.pyplot as plt"
   ]
  },
  {
   "cell_type": "code",
   "execution_count": 30,
   "metadata": {},
   "outputs": [
    {
     "data": {
      "text/plain": [
       "<AxesSubplot:xlabel='year_of_release'>"
      ]
     },
     "execution_count": 30,
     "metadata": {},
     "output_type": "execute_result"
    },
    {
     "data": {
      "image/png": "[encoded data removed]",
      "text/plain": [
       "<Figure size 432x288 with 1 Axes>"
      ]
     },
     "metadata": {
      "needs_background": "light"
     },
     "output_type": "display_data"
    }
   ],
   "source": [
    "(actual_years\n",
    " .query('platform ==\"PS4\" | platform ==\"XOne\" | platform == \"3DS\"')\n",
    " .pivot_table(index='year_of_release', columns='platform', values='sum_sales', aggfunc='sum')\n",
    " .plot())\n"
   ]
  },
  {
   "cell_type": "markdown",
   "metadata": {},
   "source": [
    "На данном графике видно, что продаж игр на платформе PS4 больше, чем на XOne и 3DS. В 2015 году наблюдается небольшой рост продаж у PS4 и XOne, но так же к 2016 году видно падение. Платформа 3DS без взлетов, просто плавно падает вниз.\n"
   ]
  },
  {
   "cell_type": "markdown",
   "metadata": {},
   "source": [
    "Построим ящик с усами по глобальным продажам игр на каждой платформе"
   ]
  },
  {
   "cell_type": "code",
   "execution_count": 31,
   "metadata": {},
   "outputs": [
    {
     "data": {
      "text/plain": [
       "<AxesSubplot:>"
      ]
     },
     "execution_count": 31,
     "metadata": {},
     "output_type": "execute_result"
    },
    {
     "data": {
      "image/png": "[encoded data removed]",
      "text/plain": [
       "<Figure size 432x288 with 1 Axes>"
      ]
     },
     "metadata": {
      "needs_background": "light"
     },
     "output_type": "display_data"
    }
   ],
   "source": [
    "(actual_years\n",
    " .pivot_table(index='name', columns='platform', values='sum_sales', aggfunc='sum')\n",
    " .boxplot())"
   ]
  },
  {
   "cell_type": "markdown",
   "metadata": {},
   "source": [
    "На графике большое количество выбросов. Максимальные суммы продаж:\n",
    "\n",
    "- у 3DS - 12;\n",
    "- у PC - 3;\n",
    "- у PS3 - 5;\n",
    "- у PS4 - 15;\n",
    "- у PSP - 0;\n",
    "- у PSV - 2;\n",
    "- у Wii - 2;\n",
    "- у WiiU - 7;\n",
    "- у X360 -4;\n",
    "- у XOne - 7.\n",
    "\n",
    "Увеличим масштаб графика, что бы увидеть средние значения"
   ]
  },
  {
   "cell_type": "code",
   "execution_count": 32,
   "metadata": {},
   "outputs": [
    {
     "data": {
      "text/plain": [
       "(0.0, 1.6)"
      ]
     },
     "execution_count": 32,
     "metadata": {},
     "output_type": "execute_result"
    },
    {
     "data": {
      "image/png": "[encoded data removed]",
      "text/plain": [
       "<Figure size 432x288 with 1 Axes>"
      ]
     },
     "metadata": {
      "needs_background": "light"
     },
     "output_type": "display_data"
    }
   ],
   "source": [
    "import matplotlib.pyplot as plt\n",
    "(actual_years\n",
    " .pivot_table(index='name', columns='platform', values='sum_sales', aggfunc='sum')\n",
    " .boxplot())\n",
    "plt.ylim(0, 1.6)\n"
   ]
  },
  {
   "cell_type": "markdown",
   "metadata": {},
   "source": [
    "На данном графике видно, что на всех платформах медианные значения продаж стремятся к нижней границе. Что говорит о том, что в большая часть продаж состоит из мелких сумм. У платформ  PS4, Wii, WiiU, X360 и XOne медианное значение составляет 0,2. У 3DS, PC и PS3 медианное значение составляет 0,1."
   ]
  },
  {
   "cell_type": "markdown",
   "metadata": {},
   "source": [
    "Проверим влияние отзывов критиков и пользователей на общую сумму продаж игр по каждой платформе. Для этого построим диаграмму рассеивания и посчитаем корреляцию. "
   ]
  },
  {
   "cell_type": "code",
   "execution_count": 33,
   "metadata": {},
   "outputs": [],
   "source": [
    "filtr_actual_years_cs=actual_years.query('critic_score>=0')#отфильтруем поставленную заглушку"
   ]
  },
  {
   "cell_type": "code",
   "execution_count": 34,
   "metadata": {},
   "outputs": [
    {
     "data": {
      "text/plain": [
       "<AxesSubplot:title={'center':'Влияние оценки критиков на продажи игр на платформе 3DS'}, xlabel='sum_sales', ylabel='critic_score'>"
      ]
     },
     "execution_count": 34,
     "metadata": {},
     "output_type": "execute_result"
    },
    {
     "data": {
      "image/png": "[encoded data removed]",
      "text/plain": [
       "<Figure size 432x288 with 1 Axes>"
      ]
     },
     "metadata": {
      "needs_background": "light"
     },
     "output_type": "display_data"
    },
    {
     "data": {
      "image/png": "[encoded data removed]",
      "text/plain": [
       "<Figure size 432x288 with 1 Axes>"
      ]
     },
     "metadata": {
      "needs_background": "light"
     },
     "output_type": "display_data"
    },
    {
     "data": {
      "image/png": "[encoded data removed]",
      "text/plain": [
       "<Figure size 432x288 with 1 Axes>"
      ]
     },
     "metadata": {
      "needs_background": "light"
     },
     "output_type": "display_data"
    }
   ],
   "source": [
    "(filtr_actual_years_cs\n",
    " .query('platform ==\"PS4\"')\n",
    " .plot(x='sum_sales',y='critic_score', kind='scatter', alpha=0.5, title='Влияние оценки критиков на продажи игр на платформе PS4'))\n",
    "(filtr_actual_years_cs\n",
    " .query('platform ==\"XOne\"')\n",
    " .plot(x='sum_sales',y='critic_score', kind='scatter', alpha=0.5, title='Влияние оценки критиков на продажи игр на платформе XOne'))\n",
    "(filtr_actual_years_cs\n",
    " .query('platform ==\"3DS\"')\n",
    " .plot(x='sum_sales',y='critic_score', kind='scatter', alpha=0.5, title='Влияние оценки критиков на продажи игр на платформе 3DS'))"
   ]
  },
  {
   "cell_type": "code",
   "execution_count": 35,
   "metadata": {},
   "outputs": [
    {
     "name": "stdout",
     "output_type": "stream",
     "text": [
      "Корреляция между оценкой критиков и продажами на платформе PS4: 0.40266141068104083\n",
      "Корреляция между оценкой критиков и продажами на платформе XOne: 0.42867694370333226\n",
      "Корреляция между оценкой критиков и продажами на платформе 3DS: 0.31411749286905105\n"
     ]
    }
   ],
   "source": [
    "print('Корреляция между оценкой критиков и продажами на платформе PS4:'\n",
    "      , filtr_actual_years_cs.query('platform ==\"PS4\"')['sum_sales'].corr(actual_years.query('platform ==\"PS4\"')['critic_score']))\n",
    "print('Корреляция между оценкой критиков и продажами на платформе XOne:'\n",
    "      , filtr_actual_years_cs.query('platform ==\"XOne\"')['sum_sales'].corr(actual_years.query('platform ==\"XOne\"')['critic_score']))\n",
    "print('Корреляция между оценкой критиков и продажами на платформе 3DS:'\n",
    "      , filtr_actual_years_cs.query('platform ==\"3DS\"')['sum_sales'].corr(actual_years.query('platform ==\"3DS\"')['critic_score']))"
   ]
  },
  {
   "cell_type": "markdown",
   "metadata": {},
   "source": [
    "Влияние отзывов критиков на объемы продажи слабое. На графиках видно  рассеянные продажи, при оценке критиков 40 и выше. Основная концентрация продаж игр на платформе PS4 находится на уровне от 0 до 1, при оценке критиков от 60 до 80. На платформе XOne основные продажи от 0 до 1, при оценке критиков 60 до 80. На платформе 3DS при оценке критиков от 60 до 80 есть небольшое скопление единичных продаж. О слабой взаимосвязи говорят и коэффициенты корреляции, которые составили 0,4 для PS4, 0,42 для XOne и 0,31 для 3DS."
   ]
  },
  {
   "cell_type": "code",
   "execution_count": 36,
   "metadata": {},
   "outputs": [],
   "source": [
    "filtr_actual_years_us=actual_years.query('user_score>=0') # отфильтруем заглушку"
   ]
  },
  {
   "cell_type": "code",
   "execution_count": 37,
   "metadata": {},
   "outputs": [
    {
     "data": {
      "text/plain": [
       "<AxesSubplot:title={'center':'Влияние оценки критиков на продажи игр на платформе 3DS'}, xlabel='sum_sales', ylabel='user_score'>"
      ]
     },
     "execution_count": 37,
     "metadata": {},
     "output_type": "execute_result"
    },
    {
     "data": {
      "image/png": "[encoded data removed]",
      "text/plain": [
       "<Figure size 432x288 with 1 Axes>"
      ]
     },
     "metadata": {
      "needs_background": "light"
     },
     "output_type": "display_data"
    },
    {
     "data": {
      "image/png": "[encoded data removed]",
      "text/plain": [
       "<Figure size 432x288 with 1 Axes>"
      ]
     },
     "metadata": {
      "needs_background": "light"
     },
     "output_type": "display_data"
    },
    {
     "data": {
      "image/png": "[encoded data removed]",
      "text/plain": [
       "<Figure size 432x288 with 1 Axes>"
      ]
     },
     "metadata": {
      "needs_background": "light"
     },
     "output_type": "display_data"
    }
   ],
   "source": [
    "(filtr_actual_years_us\n",
    " .query('platform ==\"PS4\"')\n",
    " .plot(x='sum_sales',y='user_score', kind='scatter', alpha=0.5, title='Влияние оценки критиков на продажи игр на платформе PS4'))\n",
    "(filtr_actual_years_us\n",
    " .query('platform ==\"XOne\"')\n",
    " .plot(x='sum_sales',y='user_score', kind='scatter', alpha=0.5, title='Влияние оценки критиков на продажи игр на платформе XOne'))\n",
    "(filtr_actual_years_us\n",
    " .query('platform ==\"3DS\"')\n",
    " .plot(x='sum_sales',y='user_score', kind='scatter', alpha=0.5, title='Влияние оценки критиков на продажи игр на платформе 3DS'))"
   ]
  },
  {
   "cell_type": "code",
   "execution_count": 38,
   "metadata": {},
   "outputs": [
    {
     "name": "stdout",
     "output_type": "stream",
     "text": [
      "Корреляция между оценкой пользователей и продажами на платформе PS4: -0.040131589472697356\n",
      "Корреляция между оценкой пользователей и продажами на платформе XOne: -0.0703839280647581\n",
      "Корреляция между оценкой пользователей и продажами на платформе 3DS: 0.2151932718527028\n"
     ]
    }
   ],
   "source": [
    "print('Корреляция между оценкой пользователей и продажами на платформе PS4:'\n",
    "      , filtr_actual_years_us.query('platform ==\"PS4\"')['sum_sales'].corr(actual_years.query('platform ==\"PS4\"')['user_score']))\n",
    "print('Корреляция между оценкой пользователей и продажами на платформе XOne:'\n",
    "      , filtr_actual_years_us.query('platform ==\"XOne\"')['sum_sales'].corr(actual_years.query('platform ==\"XOne\"')['user_score']))\n",
    "print('Корреляция между оценкой пользователей и продажами на платформе 3DS:'\n",
    "      , filtr_actual_years_us.query('platform ==\"3DS\"')['sum_sales'].corr(actual_years.query('platform ==\"3DS\"')['user_score']))"
   ]
  },
  {
   "cell_type": "markdown",
   "metadata": {},
   "source": [
    "Взаимосвязь между оценкой пользователей и уровнем продаж игр на выбранных платформах практически отсутствует. На всех трех графиках наблюдается присутствие продаж при отсутствии оценок. Помимо этого, на платформе PS4 наблюдается скопление продаж от 0 до 1, при оценке прользователей от 6 до 8. На платформе XOne скопление продаж от 0 до 0,5, при оценке от 6 до 8. На платформе 3DS отсутствует скопление продаж, есть только единичные продажи игр с иценками пользователей свыше 6. \n",
    "\n",
    "Присутствует рассеивание продаж независимо от оценки. \n",
    "Об отсутствии взаимосвязи говорит так же коэффициент корреляции, который составил -0,04 для PS4,-0,07 для XOne и 0,21 для 3DS."
   ]
  },
  {
   "cell_type": "markdown",
   "metadata": {},
   "source": [
    "Посмотрим, как на уровень продаж влияет жанр игры. Построим гистограмму, по которой будет видно, какой жанр продается лучше всего."
   ]
  },
  {
   "cell_type": "code",
   "execution_count": 39,
   "metadata": {},
   "outputs": [
    {
     "data": {
      "text/html": [
       "<div>\n",
       "<style scoped>\n",
       "    .dataframe tbody tr th:only-of-type {\n",
       "        vertical-align: middle;\n",
       "    }\n",
       "\n",
       "    .dataframe tbody tr th {\n",
       "        vertical-align: top;\n",
       "    }\n",
       "\n",
       "    .dataframe thead th {\n",
       "        text-align: right;\n",
       "    }\n",
       "</style>\n",
       "<table border=\"1\" class=\"dataframe\">\n",
       "  <thead>\n",
       "    <tr style=\"text-align: right;\">\n",
       "      <th></th>\n",
       "      <th>sum_sales</th>\n",
       "    </tr>\n",
       "    <tr>\n",
       "      <th>genre</th>\n",
       "      <th></th>\n",
       "    </tr>\n",
       "  </thead>\n",
       "  <tbody>\n",
       "    <tr>\n",
       "      <th>Action</th>\n",
       "      <td>199.36</td>\n",
       "    </tr>\n",
       "    <tr>\n",
       "      <th>Shooter</th>\n",
       "      <td>170.94</td>\n",
       "    </tr>\n",
       "    <tr>\n",
       "      <th>Sports</th>\n",
       "      <td>109.48</td>\n",
       "    </tr>\n",
       "    <tr>\n",
       "      <th>Role-Playing</th>\n",
       "      <td>101.44</td>\n",
       "    </tr>\n",
       "    <tr>\n",
       "      <th>Misc</th>\n",
       "      <td>37.55</td>\n",
       "    </tr>\n",
       "    <tr>\n",
       "      <th>Fighting</th>\n",
       "      <td>28.22</td>\n",
       "    </tr>\n",
       "    <tr>\n",
       "      <th>Racing</th>\n",
       "      <td>27.52</td>\n",
       "    </tr>\n",
       "    <tr>\n",
       "      <th>Platform</th>\n",
       "      <td>18.09</td>\n",
       "    </tr>\n",
       "    <tr>\n",
       "      <th>Adventure</th>\n",
       "      <td>17.55</td>\n",
       "    </tr>\n",
       "    <tr>\n",
       "      <th>Simulation</th>\n",
       "      <td>13.13</td>\n",
       "    </tr>\n",
       "    <tr>\n",
       "      <th>Strategy</th>\n",
       "      <td>3.96</td>\n",
       "    </tr>\n",
       "    <tr>\n",
       "      <th>Puzzle</th>\n",
       "      <td>2.21</td>\n",
       "    </tr>\n",
       "  </tbody>\n",
       "</table>\n",
       "</div>"
      ],
      "text/plain": [
       "              sum_sales\n",
       "genre                  \n",
       "Action           199.36\n",
       "Shooter          170.94\n",
       "Sports           109.48\n",
       "Role-Playing     101.44\n",
       "Misc              37.55\n",
       "Fighting          28.22\n",
       "Racing            27.52\n",
       "Platform          18.09\n",
       "Adventure         17.55\n",
       "Simulation        13.13\n",
       "Strategy           3.96\n",
       "Puzzle             2.21"
      ]
     },
     "metadata": {},
     "output_type": "display_data"
    }
   ],
   "source": [
    "# создадим сводную таблицу по жанрам и суммам продаж\n",
    "genre_sales=actual_years.pivot_table(index='genre', values='sum_sales', aggfunc='sum').sort_values(by='sum_sales', ascending=False)\n",
    "display(genre_sales)"
   ]
  },
  {
   "cell_type": "code",
   "execution_count": 40,
   "metadata": {},
   "outputs": [
    {
     "data": {
      "text/plain": [
       "<AxesSubplot:xlabel='genre'>"
      ]
     },
     "execution_count": 40,
     "metadata": {},
     "output_type": "execute_result"
    },
    {
     "data": {
      "image/png": "[encoded data removed]",
      "text/plain": [
       "<Figure size 432x288 with 1 Axes>"
      ]
     },
     "metadata": {
      "needs_background": "light"
     },
     "output_type": "display_data"
    }
   ],
   "source": [
    "genre_sales.plot(kind='bar')"
   ]
  },
  {
   "cell_type": "markdown",
   "metadata": {},
   "source": [
    "Самыми продаваемыми жанрами являются Action, Shooter, Sports и Role-Playing. Уровень их продаж превышает 100. Остальные же жанры заметно ниже данного показателя в два раза и больше. Таким образом, можно сказать, что присутствует достаточно сильный разброс между \"продаваемыми\" и \"непродаваемыми\" жанрами."
   ]
  },
  {
   "cell_type": "code",
   "execution_count": 41,
   "metadata": {},
   "outputs": [
    {
     "data": {
      "text/plain": [
       "<AxesSubplot:>"
      ]
     },
     "execution_count": 41,
     "metadata": {},
     "output_type": "execute_result"
    },
    {
     "data": {
      "image/png": "[encoded data removed]",
      "text/plain": [
       "<Figure size 936x504 with 1 Axes>"
      ]
     },
     "metadata": {
      "needs_background": "light"
     },
     "output_type": "display_data"
    }
   ],
   "source": [
    "actual_years.pivot_table(index='name',columns='genre', values='sum_sales', aggfunc='sum').boxplot(figsize=(13, 7))"
   ]
  },
  {
   "cell_type": "markdown",
   "metadata": {},
   "source": [
    "На графике видно, что игры жанров Action, Shooter, Sports и Role-Playing имеют много выбросов в суммах продаж. За счет этого они и являются самыми популярными. "
   ]
  },
  {
   "cell_type": "code",
   "execution_count": 42,
   "metadata": {},
   "outputs": [
    {
     "data": {
      "text/plain": [
       "(0.0, 9.0)"
      ]
     },
     "execution_count": 42,
     "metadata": {},
     "output_type": "execute_result"
    },
    {
     "data": {
      "image/png": "[encoded data removed]",
      "text/plain": [
       "<Figure size 936x504 with 1 Axes>"
      ]
     },
     "metadata": {
      "needs_background": "light"
     },
     "output_type": "display_data"
    }
   ],
   "source": [
    "actual_years.pivot_table(index='name',columns='genre', values='sum_sales', aggfunc='sum').boxplot(figsize=(13, 7))\n",
    "plt.ylim(0,9)"
   ]
  },
  {
   "cell_type": "markdown",
   "metadata": {},
   "source": [
    "При сравнении медианных значений на диаграме размаха, можно сделать вывод о том, что самым прибыльным является жанр Shooter. Жанр Action же наоборот, несмотря на большое количество продаж, не является прибыльным, из-за того что средняя цена близится к 0.  Наиболее стабильными жанрами являются Shooter, Sports, Platform."
   ]
  },
  {
   "cell_type": "markdown",
   "metadata": {},
   "source": [
    "### Промежуточный вывод по исследовательскому анализу данных\n",
    "На данном этапе изучен объем выпущенных игр за все года. Отобраны для дальнейшей работы данные за 2014,2015 и 2016 года. Данный промежуток взят исходя из того, что поведение пользователей может меняться из года в год и выборка за один год будет не полной. А так же, вся финансовая отчетность составляется за последние три года и информацию а данной работе можно будет сравнить с отчетностью. \n",
    "Проанализировано поведение в течении этого срока трех самых популярных платформ: PS4, XOne и 3DS. Продаж игр на платформе PS4 больше, чем на XOne и 3DS. В 2015 году наблюдается небольшой рост продаж у PS4 и XOne, но так же к 2016 году показатели понижаются. Платформа 3DS без взлетов, просто плавно падает вниз. \n",
    "\n",
    "При анализе сумм продаж на каждой платформе выявлено большое количество выбросов, которые влияют на общую картину популярности платформ. Если рассматривать средние показатели продаж, большая часть состоит из мелких сумм. У платформ PS4, Wii, WiiU, X360 и XOne медианное значение составляет 0,2. У 3DS, PC и PS3 медианное значение составляет 0,1.\n",
    "Так же проанализирована взаимосвзять оценки критиков и пользователей, с продажей игр на каждой платформе. Установлено, что взаимосвязь практически отсутствует. Об этом же говорят коэффициенты кореляции - они не достигают значеия 0,3.\n",
    "Проанализировано распределение продаж по жанрам игр. Самыми популярными жанрами являются Action, Shooter, Sports и Role-Playing. Но, при сравнении цен на диаграме размаха, можно сделать вывод о том, что самым прибыльным является жанр Shooter. Жанр Action же наоборот, несмотря на большое количество продаж, не является прибыльным, из-за того что средняя цена близится к 0.  Наиболее стабильными жанрами являются Shooter, Sports, Platform."
   ]
  },
  {
   "cell_type": "markdown",
   "metadata": {},
   "source": [
    "## Портрет пользователя каждого региона\n",
    "Определите для пользователя каждого региона (NA, EU, JP):\n",
    "- Самые популярные платформы (топ-5). Опишите различия в долях продаж.\n",
    "- Самые популярные жанры (топ-5). Поясните разницу.\n",
    "- Влияет ли рейтинг ESRB на продажи в отдельном регионе?"
   ]
  },
  {
   "cell_type": "markdown",
   "metadata": {},
   "source": [
    "Определим для каждого региона самые популярные платформы. Для этого сначала составим общую гистограмму по всем регионам и платформам. Затем разберем отдельно каждый регион."
   ]
  },
  {
   "cell_type": "code",
   "execution_count": 43,
   "metadata": {},
   "outputs": [
    {
     "name": "stdout",
     "output_type": "stream",
     "text": [
      "Index(['name', 'platform', 'year_of_release', 'genre', 'na_sales', 'eu_sales',\n",
      "       'jp_sales', 'other_sales', 'critic_score', 'user_score', 'rating',\n",
      "       'sum_sales'],\n",
      "      dtype='object')\n"
     ]
    }
   ],
   "source": [
    "print(actual_years.columns) #для удобства выведем наименования колонок таблицы"
   ]
  },
  {
   "cell_type": "code",
   "execution_count": 44,
   "metadata": {},
   "outputs": [
    {
     "data": {
      "text/plain": [
       "<AxesSubplot:xlabel='platform'>"
      ]
     },
     "execution_count": 44,
     "metadata": {},
     "output_type": "execute_result"
    },
    {
     "data": {
      "image/png": "[encoded data removed]",
      "text/plain": [
       "<Figure size 432x288 with 1 Axes>"
      ]
     },
     "metadata": {
      "needs_background": "light"
     },
     "output_type": "display_data"
    }
   ],
   "source": [
    "actual_years.pivot_table(index='platform', values=['na_sales','eu_sales','jp_sales'], aggfunc='sum').plot(kind='bar')"
   ]
  },
  {
   "cell_type": "markdown",
   "metadata": {},
   "source": [
    "Расшифровка:\n",
    "- eu_sales - Европа\n",
    "- jp_sales - Япония\n",
    "- na_sales - Америка"
   ]
  },
  {
   "cell_type": "markdown",
   "metadata": {},
   "source": [
    "На графике видно, что лидирует по продажам платформа PS4 в Европе и в Америке. Так же в Америке пользуются спросом игры на платформе XOne, но уже чуть меньше. В Японии пользователи играют в основном на платформе 3DS. "
   ]
  },
  {
   "cell_type": "markdown",
   "metadata": {},
   "source": [
    "Для определения пяти самых популярных платформ в каждом регионе, построим гистограммы."
   ]
  },
  {
   "cell_type": "code",
   "execution_count": 45,
   "metadata": {},
   "outputs": [
    {
     "data": {
      "text/plain": [
       "<AxesSubplot:title={'center':'Топ-5 платформ в Америке'}, ylabel='na_sales'>"
      ]
     },
     "execution_count": 45,
     "metadata": {},
     "output_type": "execute_result"
    },
    {
     "data": {
      "image/png": "[encoded data removed]",
      "text/plain": [
       "<Figure size 432x432 with 1 Axes>"
      ]
     },
     "metadata": {},
     "output_type": "display_data"
    }
   ],
   "source": [
    "na=actual_years.pivot_table(index='platform', values='na_sales', aggfunc='sum').sort_values(by='na_sales', ascending=False)\n",
    "na_top=na[:5]\n",
    "na['group']=na.index.where(na.index.isin(na_top.index), 'Другие')\n",
    "na_group=na.pivot_table(index='group', values='na_sales', aggfunc=['sum'])\n",
    "na_group.plot(y='sum', kind='pie', figsize=(6,6), title='Топ-5 платформ в Америке', autopct='%.1f%%')"
   ]
  },
  {
   "cell_type": "markdown",
   "metadata": {},
   "source": [
    "Как видно на графике,по сумме продаж игр в Америке лидирует платформа PS4, доля продаж составляет 37,7%. Чуть менее прибыльной является платформа XOne, доля ее продаж составляет 28,6%. Далее идут X360 - 10%, 3DS - 8% и PS3 - 7,8%. Доля продаж игр на всех остальных платформах составила 11%."
   ]
  },
  {
   "cell_type": "code",
   "execution_count": 46,
   "metadata": {},
   "outputs": [
    {
     "data": {
      "text/plain": [
       "<AxesSubplot:title={'center':'Топ-5 платформ в Европе'}, ylabel='доля'>"
      ]
     },
     "execution_count": 46,
     "metadata": {},
     "output_type": "execute_result"
    },
    {
     "data": {
      "image/png": "[encoded data removed]",
      "text/plain": [
       "<Figure size 432x432 with 1 Axes>"
      ]
     },
     "metadata": {},
     "output_type": "display_data"
    }
   ],
   "source": [
    "eu=actual_years.pivot_table(index='platform', values='eu_sales', aggfunc='sum').sort_values(by='eu_sales', ascending=False)\n",
    "eu_top=eu[:5]\n",
    "eu['group']=eu.index.where(eu.index.isin(eu_top.index), 'Другие')\n",
    "eu_group=eu.pivot_table(index='group', values='eu_sales', aggfunc='sum')\n",
    "eu_group.columns=['доля']\n",
    "eu_group.plot(y='доля', kind='pie', figsize=(6,6), title='Топ-5 платформ в Европе', autopct='%.1f%%')\n"
   ]
  },
  {
   "cell_type": "markdown",
   "metadata": {},
   "source": [
    "В Европе как и в Америке лидирует платформа PS4. Доля ее продаж составила 48%. Менее популярной является XOne, с долей продаж 17,1%. Далее идут PS3 - 9,4%, PC- 6,6%, 3DS - 6%. Доля продаж игр на всех остальных платформах составила 12,8%."
   ]
  },
  {
   "cell_type": "code",
   "execution_count": 47,
   "metadata": {},
   "outputs": [
    {
     "data": {
      "text/plain": [
       "<AxesSubplot:title={'center':'Топ-5 платформ в Японии'}, ylabel='доля'>"
      ]
     },
     "execution_count": 47,
     "metadata": {},
     "output_type": "execute_result"
    },
    {
     "data": {
      "image/png": "[encoded data removed]",
      "text/plain": [
       "<Figure size 432x432 with 1 Axes>"
      ]
     },
     "metadata": {},
     "output_type": "display_data"
    }
   ],
   "source": [
    "jp=actual_years.pivot_table(index='platform', values='jp_sales', aggfunc='sum').sort_values(by='jp_sales', ascending=False)\n",
    "jp_top=jp[:5]\n",
    "jp['group']=jp.index.where(jp.index.isin(jp_top.index), 'Другие')\n",
    "jp_group=jp.pivot_table(index='group', values='jp_sales', aggfunc='sum')\n",
    "jp_group.columns=['доля']\n",
    "jp_group.plot(y='доля', kind='pie', figsize=(6,6), title='Топ-5 платформ в Японии', autopct='%.1f%%')"
   ]
  },
  {
   "cell_type": "markdown",
   "metadata": {},
   "source": [
    "В Японии лидирующую позицию по продажам занимает платформа 3DS, доля продаж составляет 47,5%. Далее следуют PS4 - 16,1%, PSV - 15,6%, PS3 - 12,1% и WiiU - 7,9%. Остальные же платформы в Японии можно сказать не пользуются спросом, так как доля продаж игр на все остальные платформы составила всего 0,8%."
   ]
  },
  {
   "cell_type": "markdown",
   "metadata": {},
   "source": [
    "Топ-5 платформ в Америке составляет: PS4, XOne, X360, 3DS и PS3.\n",
    "\n",
    "Топ-5 платформ в Европе составляет: PS4, XOne, PS3, PC, 3DS.\n",
    "\n",
    "Топ-5 платформ в Японии составляет: 3DS, PS4, PSV, PS3 и WiiU.\n",
    "\n",
    "Обобщая выводы, можно сказать, что платформа PS4 лидирует в Америке и в Европе. В Японии же  самую большую долю продаж занимает платформа 3DS, а PS4 занимает 2 место. В Америке и Европе так же пользуются спросом платформа XOne, чего нет в Японии. "
   ]
  },
  {
   "cell_type": "code",
   "execution_count": 48,
   "metadata": {},
   "outputs": [
    {
     "data": {
      "text/plain": [
       "<AxesSubplot:xlabel='genre'>"
      ]
     },
     "execution_count": 48,
     "metadata": {},
     "output_type": "execute_result"
    },
    {
     "data": {
      "image/png": "[encoded data removed]",
      "text/plain": [
       "<Figure size 432x288 with 1 Axes>"
      ]
     },
     "metadata": {
      "needs_background": "light"
     },
     "output_type": "display_data"
    }
   ],
   "source": [
    "actual_years.pivot_table(index='genre', values=['na_sales','eu_sales','jp_sales'], aggfunc='sum').plot(kind='bar')"
   ]
  },
  {
   "cell_type": "markdown",
   "metadata": {},
   "source": [
    "Как видно на графике, самыми популярными жанрами в Америке и Европе являются Shooter (в Европе популярность чуть меньше), Action, Sports и Role-Playing. В Японии же лидируют с большим отрывом 2 жанра: Action и Playing. "
   ]
  },
  {
   "cell_type": "markdown",
   "metadata": {},
   "source": [
    "Для более детального анализа жанров по регионам, построим гистограммы."
   ]
  },
  {
   "cell_type": "code",
   "execution_count": 49,
   "metadata": {},
   "outputs": [
    {
     "data": {
      "text/plain": [
       "<AxesSubplot:title={'center':'Топ-5 жанров в Америке'}, ylabel='na_sales'>"
      ]
     },
     "execution_count": 49,
     "metadata": {},
     "output_type": "execute_result"
    },
    {
     "data": {
      "image/png": "[encoded data removed]",
      "text/plain": [
       "<Figure size 432x432 with 1 Axes>"
      ]
     },
     "metadata": {},
     "output_type": "display_data"
    }
   ],
   "source": [
    "na=actual_years.pivot_table(index='genre', values='na_sales', aggfunc='sum').sort_values(by='na_sales', ascending=False)\n",
    "na_top=na[:5]\n",
    "na['group']=na.index.where(na.index.isin(na_top.index), 'Другие')\n",
    "na_group=na.pivot_table(index='group', values='na_sales', aggfunc=['sum'])\n",
    "na_group.plot(y='sum', kind='pie', figsize=(6,6), title='Топ-5 жанров в Америке', autopct='%.1f%%')"
   ]
  },
  {
   "cell_type": "markdown",
   "metadata": {},
   "source": [
    "В Америке лидирует жанр Shooter с долей продаж 27.8%. Немного меньше доля продаж у жанра Action, которая составила 25,5%. Доля Sports составила 16,2%, доля Role-Playing составила 11,8%, Misc-5,3%. Доля продаж других жанров составила 13,3%."
   ]
  },
  {
   "cell_type": "code",
   "execution_count": 50,
   "metadata": {},
   "outputs": [
    {
     "data": {
      "text/plain": [
       "<AxesSubplot:title={'center':'Топ-5 жанров в Европе'}, ylabel='доля'>"
      ]
     },
     "execution_count": 50,
     "metadata": {},
     "output_type": "execute_result"
    },
    {
     "data": {
      "image/png": "[encoded data removed]",
      "text/plain": [
       "<Figure size 432x432 with 1 Axes>"
      ]
     },
     "metadata": {},
     "output_type": "display_data"
    }
   ],
   "source": [
    "eu=actual_years.pivot_table(index='genre', values='eu_sales', aggfunc='sum').sort_values(by='eu_sales', ascending=False)\n",
    "eu_top=eu[:5]\n",
    "eu['group']=eu.index.where(eu.index.isin(eu_top.index), 'Другие')\n",
    "eu_group=eu.pivot_table(index='group', values='eu_sales', aggfunc='sum')\n",
    "eu_group.columns=['доля']\n",
    "eu_group.plot(y='доля', kind='pie', figsize=(6,6), title='Топ-5 жанров в Европе', autopct='%.1f%%')"
   ]
  },
  {
   "cell_type": "markdown",
   "metadata": {},
   "source": [
    "Самую большую долю жанров в Европе имеет Action, 27,6%. Чуть менее популярным является жанр Shooter, его доля составляет 24,2%. Доля продаж Sports - 16,9%, доля продаж Role-Playing - 10,4%, доля продаж Racing - 5,2%.  Все остальные платформы имеют долю 15,7%. "
   ]
  },
  {
   "cell_type": "code",
   "execution_count": 51,
   "metadata": {},
   "outputs": [
    {
     "data": {
      "text/plain": [
       "<AxesSubplot:title={'center':'Топ-5 жанров в Японии'}, ylabel='доля'>"
      ]
     },
     "execution_count": 51,
     "metadata": {},
     "output_type": "execute_result"
    },
    {
     "data": {
      "image/png": "[encoded data removed]",
      "text/plain": [
       "<Figure size 432x432 with 1 Axes>"
      ]
     },
     "metadata": {},
     "output_type": "display_data"
    }
   ],
   "source": [
    "jp=actual_years.pivot_table(index='genre', values='jp_sales', aggfunc='sum').sort_values(by='jp_sales', ascending=False)\n",
    "jp_top=jp[:5]\n",
    "jp['group']=jp.index.where(jp.index.isin(jp_top.index), 'Другие')\n",
    "jp_group=jp.pivot_table(index='group', values='jp_sales', aggfunc='sum')\n",
    "jp_group.columns=['доля']\n",
    "jp_group.plot(y='доля', kind='pie', figsize=(6,6), title='Топ-5 жанров в Японии', autopct='%.1f%%')"
   ]
  },
  {
   "cell_type": "markdown",
   "metadata": {},
   "source": [
    "В Японии самую большую долю продаж занимает жанр Role-Playing - 33,5%. Чуть меньше, 31,8% занимает Action. Жанры Fighting, Misc, Shooter имеют доли 6,8%, 6%, 5,2% соответственно.  Доля всех остальных жанров составляет 16.7%."
   ]
  },
  {
   "cell_type": "markdown",
   "metadata": {},
   "source": [
    "Топ-5 жанров в Америке составляет: Shooter, Action, Sports, Role-Playing, Misc.\n",
    "\n",
    "Топ-5 жанров в Европе составляет: Action, Shooter, Sports, Role-Playing, Racing. \n",
    "\n",
    "Топ-5 жанров в Японии составляет: Role-Playing, Action, Fighting, Misc, Shooter. \n",
    "\n",
    "Обобщая проведенный анализ о продажах определенных жанров,  можно сделать вывод, что жанры Action, Shooter являются самыми популярными в Америке и Европе. В Японии самые продаваемые жанры это Role-Playing и Action"
   ]
  },
  {
   "cell_type": "markdown",
   "metadata": {},
   "source": [
    "Проведем исследование, как на продажи игр влияет рейтинг ESRB"
   ]
  },
  {
   "cell_type": "code",
   "execution_count": 52,
   "metadata": {},
   "outputs": [],
   "source": [
    "import warnings #импортируем библиотеку\n",
    "\n",
    "warnings.filterwarnings('ignore') # отключаем предупреждения\n",
    "\n",
    "# посставим заглушку \"-1\" на пропуски в стоблце rating\n",
    "actual_years['rating']=actual_years['rating'].fillna('-1')"
   ]
  },
  {
   "cell_type": "code",
   "execution_count": 53,
   "metadata": {},
   "outputs": [
    {
     "data": {
      "text/plain": [
       "<AxesSubplot:xlabel='rating'>"
      ]
     },
     "execution_count": 53,
     "metadata": {},
     "output_type": "execute_result"
    },
    {
     "data": {
      "image/png": "[encoded data removed]",
      "text/plain": [
       "<Figure size 432x288 with 1 Axes>"
      ]
     },
     "metadata": {
      "needs_background": "light"
     },
     "output_type": "display_data"
    }
   ],
   "source": [
    "actual_years.pivot_table(index='rating', values=['na_sales','eu_sales','jp_sales'], aggfunc='sum').plot(kind='bar')#сводная таблица по продажам в Америке"
   ]
  },
  {
   "cell_type": "code",
   "execution_count": 54,
   "metadata": {},
   "outputs": [
    {
     "data": {
      "text/plain": [
       "-1      749\n",
       "T       271\n",
       "M       265\n",
       "E       219\n",
       "E10+    185\n",
       "Name: rating, dtype: int64"
      ]
     },
     "execution_count": 54,
     "metadata": {},
     "output_type": "execute_result"
    }
   ],
   "source": [
    "# проверим заглушку\n",
    "actual_years['rating'].value_counts()"
   ]
  },
  {
   "cell_type": "markdown",
   "metadata": {},
   "source": [
    "Расшифровка:\n",
    " - E - подходит для всех возрастных категорий. Игра не должна содержать звуков или изображений, которые могут напугать маленьких детей. Не должна использоваться ненормативная лексика. Примеры: Просто таннцуй, FIFA. \n",
    " - E10+ - подходит для лиц старше 10 лет. Игра может содержать умеренные формы насилия, а некоторые сцены могут пугать детей. Примеры: Minecraft Dungeons, Растения против зомби.\n",
    " - M - подходит для лиц старше 17 лет. Этот рейтинг используется, когда насилие становится реалистичным и похожим на реальную жизнь. Также может присутствовать ненормативная лексика, употребление табака, алкоголя или запрещенных наркотиков. Примеры: Ark: Survival Evolved, Destiny 2.\n",
    " - T - подходит для лиц старше 13 лет. Игра может содержать более реалистичные и натуралистические сцены насилия. Примеры: Fortnite, Sims 4."
   ]
  },
  {
   "cell_type": "code",
   "execution_count": 55,
   "metadata": {},
   "outputs": [
    {
     "data": {
      "text/plain": [
       "<AxesSubplot:title={'center':'Рейтинг ESRB игр в Америке'}, ylabel='na_sales'>"
      ]
     },
     "execution_count": 55,
     "metadata": {},
     "output_type": "execute_result"
    },
    {
     "data": {
      "image/png": "[encoded data removed]",
      "text/plain": [
       "<Figure size 432x432 with 1 Axes>"
      ]
     },
     "metadata": {},
     "output_type": "display_data"
    }
   ],
   "source": [
    "rating_na=actual_years.pivot_table(index='rating', values='na_sales', aggfunc='sum')\n",
    "\n",
    "rating_na.plot(y='na_sales', kind='pie', figsize=(6,6), title='Рейтинг ESRB игр в Америке', autopct='%.1f%%')"
   ]
  },
  {
   "cell_type": "markdown",
   "metadata": {},
   "source": [
    "Большая часть игр в Америке имеют рейтинг M, доля продаж игр данного рейтинга составляет 33,9%. Доля продаж игр рейтинга E составляет 17,9%. Т - 13,7%, Е10+ - 11,7%. Не малую долю, 22,8% занимают игры европеских стран."
   ]
  },
  {
   "cell_type": "code",
   "execution_count": 56,
   "metadata": {},
   "outputs": [
    {
     "data": {
      "text/plain": [
       "<AxesSubplot:title={'center':'Рейтинг ESRB игр в Европе'}, ylabel='eu_sales'>"
      ]
     },
     "execution_count": 56,
     "metadata": {},
     "output_type": "execute_result"
    },
    {
     "data": {
      "image/png": "[encoded data removed]",
      "text/plain": [
       "<Figure size 432x432 with 1 Axes>"
      ]
     },
     "metadata": {},
     "output_type": "display_data"
    }
   ],
   "source": [
    "rating_eu=actual_years.pivot_table(index='rating', values='eu_sales', aggfunc='sum')\n",
    "\n",
    "rating_eu.plot(y='eu_sales', kind='pie', figsize=(6,6), title='Рейтинг ESRB игр в Европе', autopct='%.1f%%')"
   ]
  },
  {
   "cell_type": "markdown",
   "metadata": {},
   "source": [
    "В Европе популярностью пользуются игры с рейтингом М - 34,5%. Доля продаж игр с ретингом Е составляет 21,4%, рейтинг Т - 12,6%, Е10+ - 9,7%. Так же как и в Америке, достаточно большую долю продаж имеют игры других стран, что составляют 21,8%."
   ]
  },
  {
   "cell_type": "code",
   "execution_count": 57,
   "metadata": {},
   "outputs": [
    {
     "data": {
      "text/plain": [
       "<AxesSubplot:title={'center':'Рейтинг ESRB игр в Японии'}, ylabel='jp_sales'>"
      ]
     },
     "execution_count": 57,
     "metadata": {},
     "output_type": "execute_result"
    },
    {
     "data": {
      "image/png": "[encoded data removed]",
      "text/plain": [
       "<Figure size 432x432 with 1 Axes>"
      ]
     },
     "metadata": {},
     "output_type": "display_data"
    }
   ],
   "source": [
    "rating_jp=actual_years.pivot_table(index='rating', values='jp_sales', aggfunc='sum')\n",
    "\n",
    "rating_jp.plot(y='jp_sales', kind='pie', figsize=(6,6), title='Рейтинг ESRB игр в Японии', autopct='%.1f%%')"
   ]
  },
  {
   "cell_type": "markdown",
   "metadata": {},
   "source": [
    "В Японии львиную долю продаж занимают игры не входящие в рейтинг ESRB, соответственно они имеют другие обозначения возрастных ограничений. Доля таких игр занимает 61,1%. Доли продаж игр с маркоровкой США и Канады следующие:\n",
    "\n",
    "- Т - 15,9%;\n",
    "- Е - 9,6%;\n",
    "- М - 8,6%;\n",
    "- Е10+ - 4,8%."
   ]
  },
  {
   "cell_type": "markdown",
   "metadata": {},
   "source": [
    "Обобщая проведенное исследование по влиянию рейтинга на продажи, можно сделать вывод о том, что в Америке и Европе пользуются большим спросом игры с рейтингом M (для лиц старше 17 лет).Так же пользуются спросом и игры с рейтингами других стран, 21-22%. Наименьшим спросом пользуются игры с рейтингом Е10+(для лиц старше 10 лет). В Японии же самую большую долю продаж занимают игры с маркировкой не входящей в перечень ESRB, 61.1%. Самыми не популярными играми являются так же игры с рейтингом E10+."
   ]
  },
  {
   "cell_type": "markdown",
   "metadata": {},
   "source": [
    "### Промежуточный вывод по портрету пользователя каждого региона\n",
    "Самой продаваемой платформой в Европе и Америке является PS4. В Японии же самую большую долю продаж занимает платформа 3DS, а PS4 занимает 2 место.\n",
    "\n",
    "Жанры Action, Shooter являются самыми популярными в Америке и Европе. В Японии самые продаваемые жанры это Role-Playing и Action.\n",
    "\n",
    "По имеющимся данным о рейтингах игр, можно сделать вывод о том, что в Америке и Европе популярны игры с рейтингом M (для лиц старше 17 лет).  В Японии же самую большую долю продаж занимают игры с маркировкой не входящей в перечень ESRB и составляют 61.1%. Самыми не популярными играми являются игры с рейтингом E10+(для лиц старше 10 лет). Наименьшим спросом пользуются игры с рейтингом Е10+."
   ]
  },
  {
   "cell_type": "markdown",
   "metadata": {},
   "source": [
    "## Проверим гипотезы\n",
    "- Средние пользовательские рейтинги платформ Xbox One и PC одинаковые;\n",
    "- Средние пользовательские рейтинги жанров Action (англ. «действие», экшен-игры) и Sports (англ. «спортивные соревнования») разные.\n",
    "<p>Задайте самостоятельно пороговое значение alpha.<br>\n",
    "Поясните:\n",
    "- Как вы сформулировали нулевую и альтернативную гипотезы;\n",
    "- Какой критерий применили для проверки гипотез и почему."
   ]
  },
  {
   "cell_type": "markdown",
   "metadata": {},
   "source": [
    "Проверим две гипотезы:\n",
    " - Средние пользовательские рейтинги платформ Xbox One и PC одинаковые;\n",
    " - Средние пользовательские рейтинги жанров Action (англ. «действие», экшен-игры) и Sports (англ. «спортивные соревнования») разные."
   ]
  },
  {
   "cell_type": "markdown",
   "metadata": {},
   "source": [
    "1.\n",
    "\n",
    "H0-cредние пользовательские рейтинги платформ Xbox One и PC одинаковые\n",
    "\n",
    "H1-cредние пользовательские рейтинги платформ Xbox One и PC разные"
   ]
  },
  {
   "cell_type": "code",
   "execution_count": 58,
   "metadata": {},
   "outputs": [
    {
     "name": "stdout",
     "output_type": "stream",
     "text": [
      "величина выборки по жанру XOne: 165\n",
      "величина выборки по жанру PC: 122\n"
     ]
    }
   ],
   "source": [
    "xone_score=filtr_actual_years_us.loc[filtr_actual_years_us['platform']=='XOne','user_score']\n",
    "xone_score=xone_score.dropna()\n",
    "pc_score=filtr_actual_years_us.loc[filtr_actual_years_us['platform']=='PC','user_score']\n",
    "pc_score=pc_score.dropna()\n",
    "print('величина выборки по жанру XOne:', len(xone_score)) # для определения критического уровня значимости проверим величину выборки\n",
    "print('величина выборки по жанру PC:', len(pc_score))"
   ]
  },
  {
   "cell_type": "code",
   "execution_count": 59,
   "metadata": {},
   "outputs": [],
   "source": [
    "from scipy import stats as st"
   ]
  },
  {
   "cell_type": "code",
   "execution_count": 60,
   "metadata": {},
   "outputs": [
    {
     "name": "stdout",
     "output_type": "stream",
     "text": [
      "p-значение: 0.11601398086668832\n",
      "Не получилось отвергнуть нулевую гипотезу\n"
     ]
    }
   ],
   "source": [
    "alpha = 0.01# критический уровень статистической значимости\n",
    "\n",
    "results = st.ttest_ind(\n",
    "    xone_score,\n",
    "    pc_score,\n",
    "    equal_var = False)# проверим гипотезу о равенстве средних двух независимых совокупностей с помощью ttest\n",
    "\n",
    "print('p-значение:', results.pvalue)\n",
    "\n",
    "if (results.pvalue<alpha):# ваш код: сравните получившееся p-значение с заданным уровнем статистической значимости:\n",
    "    print(\"Отвергаем нулевую гипотезу\")\n",
    "else:\n",
    "    print(\"Не получилось отвергнуть нулевую гипотезу\")"
   ]
  },
  {
   "cell_type": "code",
   "execution_count": 61,
   "metadata": {},
   "outputs": [
    {
     "data": {
      "image/png": "[encoded data removed]",
      "text/plain": [
       "<Figure size 432x288 with 1 Axes>"
      ]
     },
     "metadata": {
      "needs_background": "light"
     },
     "output_type": "display_data"
    }
   ],
   "source": [
    "xone_pc=(filtr_actual_years_us.query('platform ==\"XOne\" | platform ==\"PC\"')\n",
    "              .pivot_table(index='platform', values='user_score', aggfunc='mean')\n",
    "              .plot(kind='bar'))\n",
    "plt.show()"
   ]
  },
  {
   "cell_type": "markdown",
   "metadata": {},
   "source": [
    "По графику видно, что средние пользовательские рейтинги примерно одинаковые"
   ]
  },
  {
   "cell_type": "markdown",
   "metadata": {},
   "source": [
    "Так как величина выборок превышает 100 пунктов, и они не являются одинаковыми, критический уровень значимости целесообразнее установить 0,01."
   ]
  },
  {
   "cell_type": "markdown",
   "metadata": {},
   "source": [
    "2.\n",
    "\n",
    "H0 - Средние пользовательские рейтинги жанров Action и Sports одинаковые\n",
    "\n",
    "H1 - Средние пользовательские рейтинги жанров Action и Sports разные"
   ]
  },
  {
   "cell_type": "code",
   "execution_count": 62,
   "metadata": {},
   "outputs": [
    {
     "name": "stdout",
     "output_type": "stream",
     "text": [
      "величина выборки по жанру Action: 297\n",
      "величина выборки по жанру Sports: 127\n"
     ]
    }
   ],
   "source": [
    "action_score=filtr_actual_years_us.loc[filtr_actual_years_us['genre']=='Action','user_score']\n",
    "action_score=action_score.dropna()\n",
    "sports_score=filtr_actual_years_us.loc[filtr_actual_years_us['genre']=='Sports','user_score']\n",
    "sports_score=sports_score.dropna()\n",
    "print('величина выборки по жанру Action:', len(action_score)) # для определения критического уровня значимости проверим величину выборки\n",
    "print('величина выборки по жанру Sports:', len(sports_score))"
   ]
  },
  {
   "cell_type": "code",
   "execution_count": 63,
   "metadata": {},
   "outputs": [
    {
     "name": "stdout",
     "output_type": "stream",
     "text": [
      "p-значение: 1.1825550382644557e-14\n",
      "Отвергаем нулевую гипотезу\n"
     ]
    }
   ],
   "source": [
    "alpha = 0.01# так как размер выборки превышает 100, установим уровень значимости 0,01\n",
    "\n",
    "results = st.ttest_ind(\n",
    "    action_score,\n",
    "    sports_score,\n",
    "    equal_var = False)# проверим гипотезу о равенстве средних двух независимых совокупностей с помощью ttest\n",
    "\n",
    "print('p-значение:', results.pvalue)\n",
    "\n",
    "if (results.pvalue<alpha):\n",
    "    print(\"Отвергаем нулевую гипотезу\")\n",
    "else:\n",
    "    print(\"Не получилось отвергнуть нулевую гипотезу\")"
   ]
  },
  {
   "cell_type": "code",
   "execution_count": 64,
   "metadata": {},
   "outputs": [
    {
     "data": {
      "image/png": "[encoded data removed]",
      "text/plain": [
       "<Figure size 432x288 with 1 Axes>"
      ]
     },
     "metadata": {
      "needs_background": "light"
     },
     "output_type": "display_data"
    }
   ],
   "source": [
    "action_sports=(filtr_actual_years_us.query('genre ==\"Action\" | genre ==\"Sports\"')\n",
    "              .pivot_table(index='genre', values='user_score', aggfunc='mean')\n",
    "              .plot(kind='bar'))\n",
    "plt.show()"
   ]
  },
  {
   "cell_type": "markdown",
   "metadata": {},
   "source": [
    "Так как величина выборок превышает 100 пунктов, и они не являются одинаковыми, критический уровень значимости целесообразнее установить 0,01."
   ]
  },
  {
   "cell_type": "markdown",
   "metadata": {},
   "source": [
    "### Промежуточный вывод по проверке гипотез\n",
    "На основании имеющихся данных, при уровне занчимости 1% мы принимаем гипотезу \"Средние пользовательские рейтинги платформ Xbox One и PC одинаковые\".\n",
    "На основании имеющихся данных, при уровне занчимости 1% мы отвергаем гипотезу \"Средние пользовательские рейтинги жанров Action и Sports одинаковые\" в пользу альтернативной \"Средние пользовательские рейтинги жанров Action и Sports разные\""
   ]
  },
  {
   "cell_type": "markdown",
   "metadata": {},
   "source": [
    "# Общий вывод\n",
    "На этапе предъобработки данных были проведены следующие мероприятия:\n",
    " - замена названий столбцов на нижний регистр;\n",
    " - заменены пропуски в столбце year_of_release на 0;\n",
    " - удалены строки с пропусками в стоблцах name и genre;\n",
    " - заменены пропуски в стоблцах critic_score и user_score, так же в столбце user_score значения tbd заменены 0;\n",
    " - создана дополнительная колонка с общей суммой продаж каждой игры во всех регионах.\n",
    " \n",
    "Из полученных данных были отобраны 2014,2015 и 2016 года. Данный промежуток обоснован тем, что поведение пользователей меняется из года в год и меньшей выборки не достаточно. А так же, вся финансовая отчетность составляется за последние три года и информацию в данной работе можно будет сравнить с отчетностью. \n",
    " \n",
    " За выбранный период времени выявлено три самые популярные платформы: PS4, XOne и 3DS. По количеству покупок игр лидирует PS4. В 2015 году наблюдается небольшой рост продаж у PS4 и XOne, но потом ближе к 2016 году продажи снижаются ниже уровня 2014 года. Продажи игр на платформе 3DS с 2014 года снижаются. \n",
    "\n",
    "При анализе средних показателей сумм продаж было установлено, что большая часть состоит из мелких сумм. У платформ PS4, Wii, WiiU, X360 и XOne медианное значение составляет 0,2. У 3DS, PC и PS3 медианное значение составляет 0,1. Наиболее стабильными платформами являются PS4, XOne, Wii\n",
    "\n",
    "Так же проанализирована взаимосвзять оценки критиков и пользователей, с продажей игр на каждой платформе. Установлено, оценка критиков слабо влияет на продажи, а оценка пользователей не влияет вовсе.\n",
    "При построении диаграммы размаха по суммам продаж и жанрам,был сделан вывод, что самым прибыльным является жанр Shooter. Жанр Action же наоборот, несмотря на большое количество продаж, не является прибыльным, из-за того что средняя цена близится к 0.  Наиболее стабильными жанрами являются Shooter, Sports, Platform.\n",
    " \n",
    " При исследовании продаж игр на различных платформах в каждом регионе было выявлено: \n",
    " - Топ-5 платформ в Америке составляет: PS4, XOne, X360, 3DS и PS3.\n",
    " - Топ-5 платформ в Европе составляет: PS4, XOne, PS3, PC, 3DS.\n",
    " - Топ-5 платформ в Японии составляет: 3DS, PS4, PSV, PS3 и WiiU.\n",
    "\n",
    "Платформа PS4 лидирует в Америке и в Европе. В Японии же самую большую долю продаж занимает платформа 3DS, а PS4 занимает 2 место. В Америке и Европе так же пользуются спросом платформа XOne, чего нет в Японии.\n",
    "\n",
    "При исследовании продаж игр различных жанров в каждом регионе было выявлено: \n",
    "- Топ-5 жанров в Америке составляет: Shooter, Action, Sports, Role-Playing, Misc.\n",
    "- Топ-5 жанров в Европе составляет: Action, Shooter, Sports, Role-Playing, Racing. \n",
    "- Топ-5 жанров в Японии составляет: Role-Playing, Action, Fighting, Misc, Shooter. \n",
    "\n",
    "Жанры Action, Shooter являются самыми популярными в Америке и Европе. В Японии самые продаваемые жанры это Role-Playing и Action\n",
    "\n",
    "При исследовании продаж игр в зависимости от рейтинга ESRB в каждом регионе было выявлено, что в Америке и Европе пользуются большим спросом игры с рейтингом M (для лиц старше 17 лет).Так же пользуются спросом и игры с рейтингами других стран, 21-22%. Наименьшим спросом пользуются игры с рейтингом Е10+(для лиц старше 10 лет). В Японии же самую большую долю продаж занимают игры с маркировкой не входящей в перечень ESRB, 61.1%. Самыми не популярными играми являются так же игры с рейтингом E10+.\n",
    "Для полноценного анализа влияние возрастных ограничений на продажи игр, необходимо добавить информацию с рейтингами других стран.\n",
    " \n",
    " Так же были проверены две гипотезы:\n",
    " - Средние пользовательские рейтинги платформ Xbox One и PC одинаковые;\n",
    " - Средние пользовательские рейтинги жанров Action и Sports разные.\n",
    " На основании имеющихся данных, при уровне занчимости 1% мы принимаем гипотезу \"Средние пользовательские рейтинги платформ Xbox One и PC одинаковые\". На основании имеющихся данных, при уровне занчимости 1% мы отвергаем гипотезу \"Средние пользовательские рейтинги жанров Action и Sports одинаковые\" в пользу альтернативной \"Средние пользовательские рейтинги жанров Action и Sports разные\"\n",
    " \n",
    "**При планировании рекламной кампании на 2017 год исходя из вышеизложенной информации: \n",
    " Игры в жанрах Shooter, Action на платформах PS4 и XOne, для лиц старше 17 лет, выгоднее рекламировать в Америке и Европе. Для запуска рекламной кампании в Японии недостаточно данных по возрастным ограничениям.**\n",
    " "
   ]
  }
 ],
 "metadata": {
  "ExecuteTimeLog": [
   {
    "duration": 327,
    "start_time": "2022-10-10T10:43:54.456Z"
   },
   {
    "duration": 189,
    "start_time": "2022-10-10T10:44:08.065Z"
   },
   {
    "duration": 4,
    "start_time": "2022-10-10T11:46:14.960Z"
   },
   {
    "duration": 4,
    "start_time": "2022-10-10T11:51:28.925Z"
   },
   {
    "duration": 3,
    "start_time": "2022-10-10T11:51:34.076Z"
   },
   {
    "duration": 19,
    "start_time": "2022-10-10T11:52:21.164Z"
   },
   {
    "duration": 368,
    "start_time": "2022-10-10T11:52:49.625Z"
   },
   {
    "duration": 53,
    "start_time": "2022-10-10T11:52:50.209Z"
   },
   {
    "duration": 17,
    "start_time": "2022-10-10T11:52:54.105Z"
   },
   {
    "duration": 4,
    "start_time": "2022-10-10T11:52:58.332Z"
   },
   {
    "duration": 4,
    "start_time": "2022-10-10T11:52:59.247Z"
   },
   {
    "duration": 3,
    "start_time": "2022-10-10T11:53:00.006Z"
   },
   {
    "duration": 12,
    "start_time": "2022-10-10T11:55:30.163Z"
   },
   {
    "duration": 84,
    "start_time": "2022-10-10T12:16:32.757Z"
   },
   {
    "duration": 11,
    "start_time": "2022-10-10T12:16:44.429Z"
   },
   {
    "duration": 4,
    "start_time": "2022-10-10T12:20:06.167Z"
   },
   {
    "duration": 3,
    "start_time": "2022-10-10T12:20:08.759Z"
   },
   {
    "duration": 4,
    "start_time": "2022-10-10T12:20:26.985Z"
   },
   {
    "duration": 9,
    "start_time": "2022-10-10T12:27:13.371Z"
   },
   {
    "duration": 13,
    "start_time": "2022-10-10T12:27:22.496Z"
   },
   {
    "duration": 12,
    "start_time": "2022-10-10T12:31:31.857Z"
   },
   {
    "duration": 10,
    "start_time": "2022-10-10T12:31:51.356Z"
   },
   {
    "duration": 12,
    "start_time": "2022-10-10T12:32:40.349Z"
   },
   {
    "duration": 1262,
    "start_time": "2022-10-10T12:32:57.972Z"
   },
   {
    "duration": 1492,
    "start_time": "2022-10-10T12:33:23.026Z"
   },
   {
    "duration": 7,
    "start_time": "2022-10-10T12:33:35.720Z"
   },
   {
    "duration": 79,
    "start_time": "2022-10-10T12:34:27.879Z"
   },
   {
    "duration": 42,
    "start_time": "2022-10-10T12:34:36.241Z"
   },
   {
    "duration": 9,
    "start_time": "2022-10-10T12:35:10.234Z"
   },
   {
    "duration": 3,
    "start_time": "2022-10-10T12:35:36.897Z"
   },
   {
    "duration": 2702,
    "start_time": "2022-10-10T12:35:43.917Z"
   },
   {
    "duration": 3731,
    "start_time": "2022-10-10T12:36:05.988Z"
   },
   {
    "duration": 12,
    "start_time": "2022-10-10T12:37:08.120Z"
   },
   {
    "duration": 7,
    "start_time": "2022-10-10T12:38:15.328Z"
   },
   {
    "duration": 79,
    "start_time": "2022-10-10T12:38:32.840Z"
   },
   {
    "duration": 7,
    "start_time": "2022-10-10T12:38:36.422Z"
   },
   {
    "duration": 3,
    "start_time": "2022-10-10T12:39:17.071Z"
   },
   {
    "duration": 1372,
    "start_time": "2022-10-10T12:39:30.457Z"
   },
   {
    "duration": 3,
    "start_time": "2022-10-10T12:39:50.981Z"
   },
   {
    "duration": 12,
    "start_time": "2022-10-10T12:39:55.152Z"
   },
   {
    "duration": 12,
    "start_time": "2022-10-10T12:42:26.239Z"
   },
   {
    "duration": 9,
    "start_time": "2022-10-10T12:46:28.480Z"
   },
   {
    "duration": 19,
    "start_time": "2022-10-10T12:46:52.520Z"
   },
   {
    "duration": 9,
    "start_time": "2022-10-10T12:47:18.036Z"
   },
   {
    "duration": 14,
    "start_time": "2022-10-10T12:47:29.337Z"
   },
   {
    "duration": 19,
    "start_time": "2022-10-10T12:48:58.462Z"
   },
   {
    "duration": 13,
    "start_time": "2022-10-10T12:51:36.495Z"
   },
   {
    "duration": 13,
    "start_time": "2022-10-10T12:51:50.817Z"
   },
   {
    "duration": 3,
    "start_time": "2022-10-10T12:52:29.064Z"
   },
   {
    "duration": 7,
    "start_time": "2022-10-10T12:52:54.581Z"
   },
   {
    "duration": 17,
    "start_time": "2022-10-10T12:53:56.173Z"
   },
   {
    "duration": 6,
    "start_time": "2022-10-10T12:55:16.577Z"
   },
   {
    "duration": 12,
    "start_time": "2022-10-10T12:59:22.689Z"
   },
   {
    "duration": 11,
    "start_time": "2022-10-10T12:59:57.190Z"
   },
   {
    "duration": 14,
    "start_time": "2022-10-10T13:00:33.594Z"
   },
   {
    "duration": 13,
    "start_time": "2022-10-10T13:00:45.704Z"
   },
   {
    "duration": 7,
    "start_time": "2022-10-10T13:04:45.802Z"
   },
   {
    "duration": 15,
    "start_time": "2022-10-10T13:30:58.951Z"
   },
   {
    "duration": 4,
    "start_time": "2022-10-10T13:35:38.177Z"
   },
   {
    "duration": 17,
    "start_time": "2022-10-10T13:35:42.896Z"
   },
   {
    "duration": 7,
    "start_time": "2022-10-10T13:36:05.783Z"
   },
   {
    "duration": 7,
    "start_time": "2022-10-10T13:36:28.126Z"
   },
   {
    "duration": 7,
    "start_time": "2022-10-10T13:36:41.903Z"
   },
   {
    "duration": 6,
    "start_time": "2022-10-10T13:46:24.143Z"
   },
   {
    "duration": 390,
    "start_time": "2022-10-10T13:47:06.875Z"
   },
   {
    "duration": 49,
    "start_time": "2022-10-10T13:47:07.267Z"
   },
   {
    "duration": 19,
    "start_time": "2022-10-10T13:47:07.318Z"
   },
   {
    "duration": 13,
    "start_time": "2022-10-10T13:47:07.338Z"
   },
   {
    "duration": 3,
    "start_time": "2022-10-10T13:47:07.352Z"
   },
   {
    "duration": 5,
    "start_time": "2022-10-10T13:47:07.356Z"
   },
   {
    "duration": 6,
    "start_time": "2022-10-10T13:47:07.363Z"
   },
   {
    "duration": 6,
    "start_time": "2022-10-10T13:47:07.370Z"
   },
   {
    "duration": 31,
    "start_time": "2022-10-10T13:47:07.377Z"
   },
   {
    "duration": 11,
    "start_time": "2022-10-10T13:47:07.410Z"
   },
   {
    "duration": 12,
    "start_time": "2022-10-10T13:47:07.422Z"
   },
   {
    "duration": 9,
    "start_time": "2022-10-10T13:47:07.435Z"
   },
   {
    "duration": 7,
    "start_time": "2022-10-10T13:47:07.445Z"
   },
   {
    "duration": 88,
    "start_time": "2022-10-10T13:47:07.453Z"
   },
   {
    "duration": 4,
    "start_time": "2022-10-10T13:50:40.161Z"
   },
   {
    "duration": 45,
    "start_time": "2022-10-10T13:54:50.307Z"
   },
   {
    "duration": 15,
    "start_time": "2022-10-10T13:58:12.565Z"
   },
   {
    "duration": 24,
    "start_time": "2022-10-10T13:58:47.466Z"
   },
   {
    "duration": 17,
    "start_time": "2022-10-10T13:59:08.158Z"
   },
   {
    "duration": 15,
    "start_time": "2022-10-10T13:59:27.143Z"
   },
   {
    "duration": 7,
    "start_time": "2022-10-10T13:59:57.305Z"
   },
   {
    "duration": 11,
    "start_time": "2022-10-10T14:01:57.236Z"
   },
   {
    "duration": 21,
    "start_time": "2022-10-10T14:02:00.511Z"
   },
   {
    "duration": 379,
    "start_time": "2022-10-10T14:02:40.478Z"
   },
   {
    "duration": 51,
    "start_time": "2022-10-10T14:02:41.547Z"
   },
   {
    "duration": 19,
    "start_time": "2022-10-10T14:02:45.783Z"
   },
   {
    "duration": 14,
    "start_time": "2022-10-10T14:02:48.788Z"
   },
   {
    "duration": 3,
    "start_time": "2022-10-10T14:02:52.970Z"
   },
   {
    "duration": 5,
    "start_time": "2022-10-10T14:02:55.003Z"
   },
   {
    "duration": 3,
    "start_time": "2022-10-10T14:02:55.858Z"
   },
   {
    "duration": 5,
    "start_time": "2022-10-10T14:03:03.228Z"
   },
   {
    "duration": 9,
    "start_time": "2022-10-10T14:03:10.180Z"
   },
   {
    "duration": 13,
    "start_time": "2022-10-10T14:03:11.839Z"
   },
   {
    "duration": 18,
    "start_time": "2022-10-10T14:03:17.782Z"
   },
   {
    "duration": 9,
    "start_time": "2022-10-10T14:03:22.933Z"
   },
   {
    "duration": 6,
    "start_time": "2022-10-10T14:03:26.952Z"
   },
   {
    "duration": 39,
    "start_time": "2022-10-10T14:03:51.566Z"
   },
   {
    "duration": 6,
    "start_time": "2022-10-10T14:04:02.454Z"
   },
   {
    "duration": 4,
    "start_time": "2022-10-10T14:04:06.029Z"
   },
   {
    "duration": 55,
    "start_time": "2022-10-10T14:04:07.375Z"
   },
   {
    "duration": 20,
    "start_time": "2022-10-10T14:04:20.614Z"
   },
   {
    "duration": 381,
    "start_time": "2022-10-10T14:18:31.102Z"
   },
   {
    "duration": 50,
    "start_time": "2022-10-10T14:18:31.485Z"
   },
   {
    "duration": 18,
    "start_time": "2022-10-10T14:18:31.536Z"
   },
   {
    "duration": 23,
    "start_time": "2022-10-10T14:18:31.556Z"
   },
   {
    "duration": 3,
    "start_time": "2022-10-10T14:18:31.581Z"
   },
   {
    "duration": 7,
    "start_time": "2022-10-10T14:18:31.586Z"
   },
   {
    "duration": 8,
    "start_time": "2022-10-10T14:18:31.594Z"
   },
   {
    "duration": 7,
    "start_time": "2022-10-10T14:18:31.605Z"
   },
   {
    "duration": 12,
    "start_time": "2022-10-10T14:18:31.613Z"
   },
   {
    "duration": 17,
    "start_time": "2022-10-10T14:18:31.627Z"
   },
   {
    "duration": 11,
    "start_time": "2022-10-10T14:18:31.646Z"
   },
   {
    "duration": 16,
    "start_time": "2022-10-10T14:18:31.658Z"
   },
   {
    "duration": 40,
    "start_time": "2022-10-10T14:18:31.676Z"
   },
   {
    "duration": 6,
    "start_time": "2022-10-10T14:18:31.717Z"
   },
   {
    "duration": 9,
    "start_time": "2022-10-10T14:18:31.725Z"
   },
   {
    "duration": 49,
    "start_time": "2022-10-10T14:18:31.736Z"
   },
   {
    "duration": 23,
    "start_time": "2022-10-10T14:18:31.787Z"
   },
   {
    "duration": 5,
    "start_time": "2022-10-10T14:19:09.433Z"
   },
   {
    "duration": 5,
    "start_time": "2022-10-10T14:21:51.345Z"
   },
   {
    "duration": 397,
    "start_time": "2022-10-11T15:21:28.606Z"
   },
   {
    "duration": 102,
    "start_time": "2022-10-11T15:21:29.005Z"
   },
   {
    "duration": 23,
    "start_time": "2022-10-11T15:21:29.109Z"
   },
   {
    "duration": 14,
    "start_time": "2022-10-11T15:21:29.133Z"
   },
   {
    "duration": 3,
    "start_time": "2022-10-11T15:21:29.150Z"
   },
   {
    "duration": 16,
    "start_time": "2022-10-11T15:21:29.154Z"
   },
   {
    "duration": 7,
    "start_time": "2022-10-11T15:21:29.171Z"
   },
   {
    "duration": 33,
    "start_time": "2022-10-11T15:21:29.179Z"
   },
   {
    "duration": 11,
    "start_time": "2022-10-11T15:21:29.214Z"
   },
   {
    "duration": 14,
    "start_time": "2022-10-11T15:21:29.229Z"
   },
   {
    "duration": 12,
    "start_time": "2022-10-11T15:21:29.245Z"
   },
   {
    "duration": 10,
    "start_time": "2022-10-11T15:21:29.258Z"
   },
   {
    "duration": 62,
    "start_time": "2022-10-11T15:21:29.270Z"
   },
   {
    "duration": 6,
    "start_time": "2022-10-11T15:21:29.334Z"
   },
   {
    "duration": 7,
    "start_time": "2022-10-11T15:21:29.342Z"
   },
   {
    "duration": 65,
    "start_time": "2022-10-11T15:21:29.350Z"
   },
   {
    "duration": 23,
    "start_time": "2022-10-11T15:21:29.416Z"
   },
   {
    "duration": 7,
    "start_time": "2022-10-11T15:21:29.440Z"
   },
   {
    "duration": 69,
    "start_time": "2022-10-11T15:23:31.215Z"
   },
   {
    "duration": 5,
    "start_time": "2022-10-11T15:23:37.789Z"
   },
   {
    "duration": 12,
    "start_time": "2022-10-11T15:23:46.352Z"
   },
   {
    "duration": 13,
    "start_time": "2022-10-11T15:27:02.169Z"
   },
   {
    "duration": 5,
    "start_time": "2022-10-11T15:32:22.775Z"
   },
   {
    "duration": 13,
    "start_time": "2022-10-11T15:32:44.216Z"
   },
   {
    "duration": 65,
    "start_time": "2022-10-11T15:44:28.912Z"
   },
   {
    "duration": 8,
    "start_time": "2022-10-11T15:44:34.453Z"
   },
   {
    "duration": 10,
    "start_time": "2022-10-11T15:44:38.413Z"
   },
   {
    "duration": 10,
    "start_time": "2022-10-11T15:44:52.057Z"
   },
   {
    "duration": 13,
    "start_time": "2022-10-11T15:45:00.084Z"
   },
   {
    "duration": 13,
    "start_time": "2022-10-11T16:10:26.602Z"
   },
   {
    "duration": 56,
    "start_time": "2022-10-11T16:10:37.238Z"
   },
   {
    "duration": 60,
    "start_time": "2022-10-11T16:12:08.552Z"
   },
   {
    "duration": 35,
    "start_time": "2022-10-11T16:13:50.378Z"
   },
   {
    "duration": 63,
    "start_time": "2022-10-11T16:19:43.589Z"
   },
   {
    "duration": 379,
    "start_time": "2022-10-12T09:13:11.004Z"
   },
   {
    "duration": 181,
    "start_time": "2022-10-12T09:13:11.385Z"
   },
   {
    "duration": 19,
    "start_time": "2022-10-12T09:13:11.568Z"
   },
   {
    "duration": 13,
    "start_time": "2022-10-12T09:13:11.590Z"
   },
   {
    "duration": 4,
    "start_time": "2022-10-12T09:13:11.604Z"
   },
   {
    "duration": 10,
    "start_time": "2022-10-12T09:13:11.609Z"
   },
   {
    "duration": 9,
    "start_time": "2022-10-12T09:13:11.620Z"
   },
   {
    "duration": 10,
    "start_time": "2022-10-12T09:13:11.631Z"
   },
   {
    "duration": 15,
    "start_time": "2022-10-12T09:13:11.642Z"
   },
   {
    "duration": 16,
    "start_time": "2022-10-12T09:13:11.659Z"
   },
   {
    "duration": 10,
    "start_time": "2022-10-12T09:13:11.676Z"
   },
   {
    "duration": 18,
    "start_time": "2022-10-12T09:13:11.687Z"
   },
   {
    "duration": 34,
    "start_time": "2022-10-12T09:13:11.707Z"
   },
   {
    "duration": 5,
    "start_time": "2022-10-12T09:13:11.743Z"
   },
   {
    "duration": 5,
    "start_time": "2022-10-12T09:13:11.750Z"
   },
   {
    "duration": 64,
    "start_time": "2022-10-12T09:13:11.756Z"
   },
   {
    "duration": 14,
    "start_time": "2022-10-12T09:13:11.821Z"
   },
   {
    "duration": 4,
    "start_time": "2022-10-12T09:13:11.837Z"
   },
   {
    "duration": 5,
    "start_time": "2022-10-12T09:13:11.843Z"
   },
   {
    "duration": 13,
    "start_time": "2022-10-12T09:13:11.850Z"
   },
   {
    "duration": 41,
    "start_time": "2022-10-12T09:13:11.864Z"
   },
   {
    "duration": 57,
    "start_time": "2022-10-12T09:13:11.907Z"
   },
   {
    "duration": 366,
    "start_time": "2022-10-12T09:16:57.093Z"
   },
   {
    "duration": 364,
    "start_time": "2022-10-12T09:17:49.175Z"
   },
   {
    "duration": 1950,
    "start_time": "2022-10-12T09:18:22.948Z"
   },
   {
    "duration": 3,
    "start_time": "2022-10-12T09:23:26.837Z"
   },
   {
    "duration": 1395,
    "start_time": "2022-10-12T09:24:47.342Z"
   },
   {
    "duration": 1359,
    "start_time": "2022-10-12T09:24:59.388Z"
   },
   {
    "duration": 3,
    "start_time": "2022-10-12T09:25:51.702Z"
   },
   {
    "duration": 14,
    "start_time": "2022-10-12T09:25:54.855Z"
   },
   {
    "duration": 4,
    "start_time": "2022-10-12T09:26:01.490Z"
   },
   {
    "duration": 65,
    "start_time": "2022-10-12T09:38:09.596Z"
   },
   {
    "duration": 4,
    "start_time": "2022-10-12T09:39:25.620Z"
   },
   {
    "duration": 18,
    "start_time": "2022-10-12T09:40:00.558Z"
   },
   {
    "duration": 34,
    "start_time": "2022-10-12T09:40:56.834Z"
   },
   {
    "duration": 1077,
    "start_time": "2022-10-12T09:42:41.563Z"
   },
   {
    "duration": 994,
    "start_time": "2022-10-12T09:42:50.355Z"
   },
   {
    "duration": 1399,
    "start_time": "2022-10-12T09:43:18.731Z"
   },
   {
    "duration": 20,
    "start_time": "2022-10-12T09:43:28.536Z"
   },
   {
    "duration": 18,
    "start_time": "2022-10-12T09:47:25.479Z"
   },
   {
    "duration": 25,
    "start_time": "2022-10-12T10:48:44.642Z"
   },
   {
    "duration": 142,
    "start_time": "2022-10-13T10:21:40.988Z"
   },
   {
    "duration": 47,
    "start_time": "2022-10-13T10:21:45.626Z"
   },
   {
    "duration": 377,
    "start_time": "2022-10-13T10:21:54.552Z"
   },
   {
    "duration": 65,
    "start_time": "2022-10-13T10:21:54.930Z"
   },
   {
    "duration": 20,
    "start_time": "2022-10-13T10:21:54.996Z"
   },
   {
    "duration": 13,
    "start_time": "2022-10-13T10:21:55.018Z"
   },
   {
    "duration": 3,
    "start_time": "2022-10-13T10:21:55.033Z"
   },
   {
    "duration": 8,
    "start_time": "2022-10-13T10:21:55.037Z"
   },
   {
    "duration": 6,
    "start_time": "2022-10-13T10:21:55.047Z"
   },
   {
    "duration": 8,
    "start_time": "2022-10-13T10:21:55.054Z"
   },
   {
    "duration": 11,
    "start_time": "2022-10-13T10:21:55.063Z"
   },
   {
    "duration": 34,
    "start_time": "2022-10-13T10:21:55.077Z"
   },
   {
    "duration": 9,
    "start_time": "2022-10-13T10:21:55.113Z"
   },
   {
    "duration": 10,
    "start_time": "2022-10-13T10:21:55.123Z"
   },
   {
    "duration": 44,
    "start_time": "2022-10-13T10:21:55.135Z"
   },
   {
    "duration": 5,
    "start_time": "2022-10-13T10:21:55.181Z"
   },
   {
    "duration": 21,
    "start_time": "2022-10-13T10:21:55.188Z"
   },
   {
    "duration": 48,
    "start_time": "2022-10-13T10:21:55.210Z"
   },
   {
    "duration": 12,
    "start_time": "2022-10-13T10:21:55.260Z"
   },
   {
    "duration": 5,
    "start_time": "2022-10-13T10:21:55.273Z"
   },
   {
    "duration": 15,
    "start_time": "2022-10-13T10:21:55.279Z"
   },
   {
    "duration": 26,
    "start_time": "2022-10-13T10:21:55.296Z"
   },
   {
    "duration": 16,
    "start_time": "2022-10-13T10:21:55.324Z"
   },
   {
    "duration": 33,
    "start_time": "2022-10-13T10:21:55.341Z"
   },
   {
    "duration": 47,
    "start_time": "2022-10-13T10:21:55.376Z"
   },
   {
    "duration": 1076,
    "start_time": "2022-10-13T10:21:55.425Z"
   },
   {
    "duration": 156,
    "start_time": "2022-10-13T10:22:50.580Z"
   },
   {
    "duration": 193,
    "start_time": "2022-10-13T10:23:54.211Z"
   },
   {
    "duration": 18,
    "start_time": "2022-10-13T11:25:48.574Z"
   },
   {
    "duration": 9,
    "start_time": "2022-10-13T11:26:54.280Z"
   },
   {
    "duration": 41,
    "start_time": "2022-10-13T11:27:40.692Z"
   },
   {
    "duration": 8,
    "start_time": "2022-10-13T11:28:42.974Z"
   },
   {
    "duration": 9,
    "start_time": "2022-10-13T11:35:01.187Z"
   },
   {
    "duration": 12,
    "start_time": "2022-10-13T11:35:11.466Z"
   },
   {
    "duration": 22,
    "start_time": "2022-10-13T11:51:00.799Z"
   },
   {
    "duration": 23,
    "start_time": "2022-10-13T11:51:08.821Z"
   },
   {
    "duration": 28,
    "start_time": "2022-10-13T11:53:08.041Z"
   },
   {
    "duration": 29,
    "start_time": "2022-10-13T11:53:35.957Z"
   },
   {
    "duration": 73,
    "start_time": "2022-10-13T11:55:42.710Z"
   },
   {
    "duration": 156,
    "start_time": "2022-10-13T11:55:56.205Z"
   },
   {
    "duration": 135,
    "start_time": "2022-10-13T11:56:28.494Z"
   },
   {
    "duration": 133,
    "start_time": "2022-10-13T11:56:59.388Z"
   },
   {
    "duration": 105,
    "start_time": "2022-10-13T11:57:51.468Z"
   },
   {
    "duration": 62,
    "start_time": "2022-10-13T11:58:00.789Z"
   },
   {
    "duration": 98,
    "start_time": "2022-10-13T11:58:05.551Z"
   },
   {
    "duration": 92,
    "start_time": "2022-10-13T12:00:50.188Z"
   },
   {
    "duration": 13,
    "start_time": "2022-10-13T12:00:59.609Z"
   },
   {
    "duration": 2546,
    "start_time": "2022-10-13T12:01:26.797Z"
   },
   {
    "duration": 150,
    "start_time": "2022-10-13T12:38:02.771Z"
   },
   {
    "duration": 12,
    "start_time": "2022-10-13T12:38:16.541Z"
   },
   {
    "duration": 25,
    "start_time": "2022-10-13T12:41:05.666Z"
   },
   {
    "duration": 10,
    "start_time": "2022-10-13T12:41:41.959Z"
   },
   {
    "duration": 10,
    "start_time": "2022-10-13T15:04:17.525Z"
   },
   {
    "duration": 135,
    "start_time": "2022-10-13T15:12:49.620Z"
   },
   {
    "duration": 6,
    "start_time": "2022-10-13T15:23:11.814Z"
   },
   {
    "duration": 6,
    "start_time": "2022-10-13T15:23:24.795Z"
   },
   {
    "duration": 131,
    "start_time": "2022-10-13T15:23:31.247Z"
   },
   {
    "duration": 116,
    "start_time": "2022-10-13T15:26:17.756Z"
   },
   {
    "duration": 118,
    "start_time": "2022-10-13T15:28:12.825Z"
   },
   {
    "duration": 120,
    "start_time": "2022-10-13T15:28:21.400Z"
   },
   {
    "duration": 115,
    "start_time": "2022-10-13T15:28:29.437Z"
   },
   {
    "duration": 105,
    "start_time": "2022-10-13T15:29:15.192Z"
   },
   {
    "duration": 121,
    "start_time": "2022-10-13T15:29:25.187Z"
   },
   {
    "duration": 9,
    "start_time": "2022-10-13T15:31:06.349Z"
   },
   {
    "duration": 125,
    "start_time": "2022-10-13T15:32:16.326Z"
   },
   {
    "duration": 129,
    "start_time": "2022-10-13T15:32:35.289Z"
   },
   {
    "duration": 12,
    "start_time": "2022-10-13T15:32:50.805Z"
   },
   {
    "duration": 124,
    "start_time": "2022-10-13T15:33:30.031Z"
   },
   {
    "duration": 27,
    "start_time": "2022-10-13T15:38:09.357Z"
   },
   {
    "duration": 133,
    "start_time": "2022-10-13T15:38:56.260Z"
   },
   {
    "duration": 8,
    "start_time": "2022-10-13T15:40:07.027Z"
   },
   {
    "duration": 150,
    "start_time": "2022-10-13T15:40:20.261Z"
   },
   {
    "duration": 9,
    "start_time": "2022-10-13T15:49:49.939Z"
   },
   {
    "duration": 871,
    "start_time": "2022-10-13T15:51:15.260Z"
   },
   {
    "duration": 125,
    "start_time": "2022-10-13T15:55:39.985Z"
   },
   {
    "duration": 5,
    "start_time": "2022-10-13T15:58:13.041Z"
   },
   {
    "duration": 7,
    "start_time": "2022-10-13T15:58:30.197Z"
   },
   {
    "duration": 378,
    "start_time": "2022-10-13T15:59:38.233Z"
   },
   {
    "duration": 57,
    "start_time": "2022-10-13T16:02:31.334Z"
   },
   {
    "duration": 3,
    "start_time": "2022-10-13T16:02:40.333Z"
   },
   {
    "duration": 13,
    "start_time": "2022-10-13T16:02:47.284Z"
   },
   {
    "duration": 135,
    "start_time": "2022-10-13T16:03:23.752Z"
   },
   {
    "duration": 118,
    "start_time": "2022-10-13T16:03:35.296Z"
   },
   {
    "duration": 111,
    "start_time": "2022-10-13T16:04:16.616Z"
   },
   {
    "duration": 8,
    "start_time": "2022-10-13T16:04:32.139Z"
   },
   {
    "duration": 7,
    "start_time": "2022-10-13T16:04:38.033Z"
   },
   {
    "duration": 7,
    "start_time": "2022-10-13T16:04:41.504Z"
   },
   {
    "duration": 62,
    "start_time": "2022-10-13T16:05:30.519Z"
   },
   {
    "duration": 41,
    "start_time": "2022-10-13T16:05:36.690Z"
   },
   {
    "duration": 75,
    "start_time": "2022-10-13T16:11:44.479Z"
   },
   {
    "duration": 9,
    "start_time": "2022-10-13T16:11:53.306Z"
   },
   {
    "duration": 9,
    "start_time": "2022-10-13T16:14:56.270Z"
   },
   {
    "duration": 43,
    "start_time": "2022-10-13T16:18:54.321Z"
   },
   {
    "duration": 123,
    "start_time": "2022-10-13T16:19:11.409Z"
   },
   {
    "duration": 109,
    "start_time": "2022-10-13T16:20:00.637Z"
   },
   {
    "duration": 38,
    "start_time": "2022-10-13T16:20:44.162Z"
   },
   {
    "duration": 10,
    "start_time": "2022-10-13T16:21:30.682Z"
   },
   {
    "duration": 123,
    "start_time": "2022-10-13T16:21:39.916Z"
   },
   {
    "duration": 67,
    "start_time": "2022-10-13T16:24:01.004Z"
   },
   {
    "duration": 66,
    "start_time": "2022-10-13T16:24:17.070Z"
   },
   {
    "duration": 116,
    "start_time": "2022-10-13T16:25:01.108Z"
   },
   {
    "duration": 79,
    "start_time": "2022-10-13T16:26:59.529Z"
   },
   {
    "duration": 663,
    "start_time": "2022-10-13T16:27:39.875Z"
   },
   {
    "duration": 802,
    "start_time": "2022-10-13T16:28:33.677Z"
   },
   {
    "duration": 583,
    "start_time": "2022-10-13T16:28:50.814Z"
   },
   {
    "duration": 2713,
    "start_time": "2022-10-13T16:32:02.416Z"
   },
   {
    "duration": 1227,
    "start_time": "2022-10-13T16:33:32.605Z"
   },
   {
    "duration": 58,
    "start_time": "2022-10-13T16:35:13.253Z"
   },
   {
    "duration": 41,
    "start_time": "2022-10-13T16:35:23.627Z"
   },
   {
    "duration": 22,
    "start_time": "2022-10-13T16:35:33.440Z"
   },
   {
    "duration": 201,
    "start_time": "2022-10-13T16:36:59.440Z"
   },
   {
    "duration": 167,
    "start_time": "2022-10-13T16:38:15.409Z"
   },
   {
    "duration": 147,
    "start_time": "2022-10-13T16:38:36.792Z"
   },
   {
    "duration": 150,
    "start_time": "2022-10-13T16:39:37.411Z"
   },
   {
    "duration": 290,
    "start_time": "2022-10-13T16:47:14.987Z"
   },
   {
    "duration": 412,
    "start_time": "2022-10-13T16:47:24.511Z"
   },
   {
    "duration": 289,
    "start_time": "2022-10-13T16:47:34.311Z"
   },
   {
    "duration": 454,
    "start_time": "2022-10-13T16:48:03.203Z"
   },
   {
    "duration": 649,
    "start_time": "2022-10-13T16:49:02.662Z"
   },
   {
    "duration": 593,
    "start_time": "2022-10-13T16:49:17.572Z"
   },
   {
    "duration": 616,
    "start_time": "2022-10-13T16:49:59.856Z"
   },
   {
    "duration": 606,
    "start_time": "2022-10-13T16:50:12.732Z"
   },
   {
    "duration": 603,
    "start_time": "2022-10-13T16:51:04.513Z"
   },
   {
    "duration": 326,
    "start_time": "2022-10-13T16:51:53.429Z"
   },
   {
    "duration": 594,
    "start_time": "2022-10-13T16:53:26.638Z"
   },
   {
    "duration": 366,
    "start_time": "2022-10-14T09:57:43.803Z"
   },
   {
    "duration": 196,
    "start_time": "2022-10-14T09:57:44.171Z"
   },
   {
    "duration": 19,
    "start_time": "2022-10-14T09:57:44.368Z"
   },
   {
    "duration": 41,
    "start_time": "2022-10-14T09:57:44.388Z"
   },
   {
    "duration": 11,
    "start_time": "2022-10-14T09:57:44.431Z"
   },
   {
    "duration": 33,
    "start_time": "2022-10-14T09:57:44.444Z"
   },
   {
    "duration": 36,
    "start_time": "2022-10-14T09:57:44.478Z"
   },
   {
    "duration": 29,
    "start_time": "2022-10-14T09:57:44.516Z"
   },
   {
    "duration": 30,
    "start_time": "2022-10-14T09:57:44.546Z"
   },
   {
    "duration": 28,
    "start_time": "2022-10-14T09:57:44.577Z"
   },
   {
    "duration": 13,
    "start_time": "2022-10-14T09:57:44.607Z"
   },
   {
    "duration": 27,
    "start_time": "2022-10-14T09:57:44.622Z"
   },
   {
    "duration": 61,
    "start_time": "2022-10-14T09:57:44.651Z"
   },
   {
    "duration": 5,
    "start_time": "2022-10-14T09:57:44.715Z"
   },
   {
    "duration": 17,
    "start_time": "2022-10-14T09:57:44.722Z"
   },
   {
    "duration": 78,
    "start_time": "2022-10-14T09:57:44.740Z"
   },
   {
    "duration": 13,
    "start_time": "2022-10-14T09:57:44.819Z"
   },
   {
    "duration": 30,
    "start_time": "2022-10-14T09:57:44.833Z"
   },
   {
    "duration": 14,
    "start_time": "2022-10-14T09:57:44.865Z"
   },
   {
    "duration": 31,
    "start_time": "2022-10-14T09:57:44.880Z"
   },
   {
    "duration": 29,
    "start_time": "2022-10-14T09:57:44.913Z"
   },
   {
    "duration": 42,
    "start_time": "2022-10-14T09:57:44.943Z"
   },
   {
    "duration": 8,
    "start_time": "2022-10-14T09:57:44.987Z"
   },
   {
    "duration": 523,
    "start_time": "2022-10-14T09:57:44.997Z"
   },
   {
    "duration": 586,
    "start_time": "2022-10-14T09:57:45.522Z"
   },
   {
    "duration": 607,
    "start_time": "2022-10-14T09:58:10.174Z"
   },
   {
    "duration": 758,
    "start_time": "2022-10-14T09:58:54.624Z"
   },
   {
    "duration": 749,
    "start_time": "2022-10-14T09:59:13.240Z"
   },
   {
    "duration": 784,
    "start_time": "2022-10-14T09:59:47.229Z"
   },
   {
    "duration": 788,
    "start_time": "2022-10-14T10:00:44.672Z"
   },
   {
    "duration": 911,
    "start_time": "2022-10-14T10:01:35.398Z"
   },
   {
    "duration": 76,
    "start_time": "2022-10-14T10:08:03.415Z"
   },
   {
    "duration": 240,
    "start_time": "2022-10-14T10:08:17.806Z"
   },
   {
    "duration": 209,
    "start_time": "2022-10-14T10:08:29.440Z"
   },
   {
    "duration": 241,
    "start_time": "2022-10-14T10:08:50.747Z"
   },
   {
    "duration": 202,
    "start_time": "2022-10-14T10:09:02.515Z"
   },
   {
    "duration": 207,
    "start_time": "2022-10-14T10:09:27.411Z"
   },
   {
    "duration": 324,
    "start_time": "2022-10-14T10:09:34.053Z"
   },
   {
    "duration": 1015,
    "start_time": "2022-10-14T10:09:54.823Z"
   },
   {
    "duration": 3,
    "start_time": "2022-10-14T10:11:09.522Z"
   },
   {
    "duration": 232,
    "start_time": "2022-10-14T10:11:24.206Z"
   },
   {
    "duration": 265,
    "start_time": "2022-10-14T10:17:58.977Z"
   },
   {
    "duration": 208,
    "start_time": "2022-10-14T10:32:15.052Z"
   },
   {
    "duration": 212,
    "start_time": "2022-10-14T10:33:55.568Z"
   },
   {
    "duration": 212,
    "start_time": "2022-10-14T10:34:36.824Z"
   },
   {
    "duration": 52,
    "start_time": "2022-10-14T13:56:10.988Z"
   },
   {
    "duration": 377,
    "start_time": "2022-10-14T13:56:19.436Z"
   },
   {
    "duration": 212,
    "start_time": "2022-10-14T13:56:19.815Z"
   },
   {
    "duration": 22,
    "start_time": "2022-10-14T13:56:20.029Z"
   },
   {
    "duration": 16,
    "start_time": "2022-10-14T13:56:20.053Z"
   },
   {
    "duration": 4,
    "start_time": "2022-10-14T13:56:20.070Z"
   },
   {
    "duration": 14,
    "start_time": "2022-10-14T13:56:20.075Z"
   },
   {
    "duration": 3,
    "start_time": "2022-10-14T13:56:20.090Z"
   },
   {
    "duration": 9,
    "start_time": "2022-10-14T13:56:20.095Z"
   },
   {
    "duration": 10,
    "start_time": "2022-10-14T13:56:20.106Z"
   },
   {
    "duration": 16,
    "start_time": "2022-10-14T13:56:20.119Z"
   },
   {
    "duration": 10,
    "start_time": "2022-10-14T13:56:20.136Z"
   },
   {
    "duration": 8,
    "start_time": "2022-10-14T13:56:20.147Z"
   },
   {
    "duration": 73,
    "start_time": "2022-10-14T13:56:20.157Z"
   },
   {
    "duration": 7,
    "start_time": "2022-10-14T13:56:20.232Z"
   },
   {
    "duration": 8,
    "start_time": "2022-10-14T13:56:20.241Z"
   },
   {
    "duration": 71,
    "start_time": "2022-10-14T13:56:20.250Z"
   },
   {
    "duration": 17,
    "start_time": "2022-10-14T13:56:20.323Z"
   },
   {
    "duration": 5,
    "start_time": "2022-10-14T13:56:20.342Z"
   },
   {
    "duration": 7,
    "start_time": "2022-10-14T13:56:20.349Z"
   },
   {
    "duration": 33,
    "start_time": "2022-10-14T13:56:20.358Z"
   },
   {
    "duration": 18,
    "start_time": "2022-10-14T13:56:20.393Z"
   },
   {
    "duration": 36,
    "start_time": "2022-10-14T13:56:20.413Z"
   },
   {
    "duration": 11,
    "start_time": "2022-10-14T13:56:20.451Z"
   },
   {
    "duration": 614,
    "start_time": "2022-10-14T13:56:20.464Z"
   },
   {
    "duration": 3,
    "start_time": "2022-10-14T13:56:21.089Z"
   },
   {
    "duration": 230,
    "start_time": "2022-10-14T13:56:21.093Z"
   },
   {
    "duration": 206,
    "start_time": "2022-10-14T13:56:21.325Z"
   },
   {
    "duration": 37,
    "start_time": "2022-10-14T13:56:21.534Z"
   },
   {
    "duration": 225,
    "start_time": "2022-10-14T13:57:27.388Z"
   },
   {
    "duration": 295,
    "start_time": "2022-10-14T13:59:10.004Z"
   },
   {
    "duration": 215,
    "start_time": "2022-10-14T13:59:23.952Z"
   },
   {
    "duration": 37,
    "start_time": "2022-10-14T13:59:47.992Z"
   },
   {
    "duration": 249,
    "start_time": "2022-10-14T14:01:46.674Z"
   },
   {
    "duration": 384,
    "start_time": "2022-10-14T14:02:16.383Z"
   },
   {
    "duration": 224,
    "start_time": "2022-10-14T14:02:49.893Z"
   },
   {
    "duration": 59,
    "start_time": "2022-10-14T14:03:44.118Z"
   },
   {
    "duration": 22,
    "start_time": "2022-10-14T14:03:49.749Z"
   },
   {
    "duration": 79,
    "start_time": "2022-10-14T14:05:13.353Z"
   },
   {
    "duration": 90,
    "start_time": "2022-10-14T14:05:24.040Z"
   },
   {
    "duration": 49,
    "start_time": "2022-10-14T14:05:27.945Z"
   },
   {
    "duration": 371,
    "start_time": "2022-10-14T14:05:46.250Z"
   },
   {
    "duration": 244,
    "start_time": "2022-10-14T14:05:58.597Z"
   },
   {
    "duration": 7,
    "start_time": "2022-10-14T14:07:35.441Z"
   },
   {
    "duration": 207,
    "start_time": "2022-10-14T14:07:43.479Z"
   },
   {
    "duration": 27,
    "start_time": "2022-10-14T14:07:57.798Z"
   },
   {
    "duration": 29,
    "start_time": "2022-10-14T14:09:02.890Z"
   },
   {
    "duration": 216,
    "start_time": "2022-10-14T14:09:47.960Z"
   },
   {
    "duration": 6,
    "start_time": "2022-10-14T14:21:27.547Z"
   },
   {
    "duration": 18,
    "start_time": "2022-10-14T14:31:24.238Z"
   },
   {
    "duration": 8,
    "start_time": "2022-10-14T14:32:28.228Z"
   },
   {
    "duration": 17,
    "start_time": "2022-10-14T14:32:29.047Z"
   },
   {
    "duration": 14,
    "start_time": "2022-10-14T14:33:26.265Z"
   },
   {
    "duration": 16,
    "start_time": "2022-10-14T14:33:57.691Z"
   },
   {
    "duration": 15,
    "start_time": "2022-10-14T14:34:14.111Z"
   },
   {
    "duration": 17,
    "start_time": "2022-10-14T14:34:30.724Z"
   },
   {
    "duration": 213,
    "start_time": "2022-10-14T14:36:21.584Z"
   },
   {
    "duration": 73,
    "start_time": "2022-10-14T14:39:40.954Z"
   },
   {
    "duration": 13,
    "start_time": "2022-10-14T14:39:46.141Z"
   },
   {
    "duration": 28,
    "start_time": "2022-10-14T14:41:11.927Z"
   },
   {
    "duration": 22,
    "start_time": "2022-10-14T14:41:23.510Z"
   },
   {
    "duration": 274,
    "start_time": "2022-10-14T14:42:06.419Z"
   },
   {
    "duration": 18,
    "start_time": "2022-10-14T14:43:05.614Z"
   },
   {
    "duration": 1221,
    "start_time": "2022-10-14T14:43:09.604Z"
   },
   {
    "duration": 84,
    "start_time": "2022-10-14T14:43:25.781Z"
   },
   {
    "duration": 309,
    "start_time": "2022-10-14T14:43:32.564Z"
   },
   {
    "duration": 16,
    "start_time": "2022-10-14T14:59:04.338Z"
   },
   {
    "duration": 7,
    "start_time": "2022-10-14T15:00:01.708Z"
   },
   {
    "duration": 18,
    "start_time": "2022-10-14T15:00:31.665Z"
   },
   {
    "duration": 20,
    "start_time": "2022-10-14T15:00:56.369Z"
   },
   {
    "duration": 13,
    "start_time": "2022-10-14T15:01:14.169Z"
   },
   {
    "duration": 148,
    "start_time": "2022-10-14T15:01:23.788Z"
   },
   {
    "duration": 185,
    "start_time": "2022-10-14T15:11:38.013Z"
   },
   {
    "duration": 273,
    "start_time": "2022-10-14T15:26:40.535Z"
   },
   {
    "duration": 186,
    "start_time": "2022-10-14T15:29:02.313Z"
   },
   {
    "duration": 149,
    "start_time": "2022-10-14T15:35:40.796Z"
   },
   {
    "duration": 227,
    "start_time": "2022-10-14T15:38:43.551Z"
   },
   {
    "duration": 161,
    "start_time": "2022-10-14T15:38:58.207Z"
   },
   {
    "duration": 209,
    "start_time": "2022-10-14T16:05:43.397Z"
   },
   {
    "duration": 165,
    "start_time": "2022-10-14T16:06:20.746Z"
   },
   {
    "duration": 9,
    "start_time": "2022-10-14T16:09:28.464Z"
   },
   {
    "duration": 234,
    "start_time": "2022-10-14T16:09:38.018Z"
   },
   {
    "duration": 227,
    "start_time": "2022-10-14T16:10:11.070Z"
   },
   {
    "duration": 123,
    "start_time": "2022-10-14T16:11:08.331Z"
   },
   {
    "duration": 20,
    "start_time": "2022-10-14T16:11:42.873Z"
   },
   {
    "duration": 13,
    "start_time": "2022-10-14T16:16:12.987Z"
   },
   {
    "duration": 13,
    "start_time": "2022-10-14T16:16:38.491Z"
   },
   {
    "duration": 10,
    "start_time": "2022-10-14T16:18:08.490Z"
   },
   {
    "duration": 118,
    "start_time": "2022-10-14T16:19:11.206Z"
   },
   {
    "duration": 14,
    "start_time": "2022-10-14T16:19:41.569Z"
   },
   {
    "duration": 149,
    "start_time": "2022-10-14T16:20:55.646Z"
   },
   {
    "duration": 163,
    "start_time": "2022-10-14T16:51:18.313Z"
   },
   {
    "duration": 166,
    "start_time": "2022-10-14T16:52:00.101Z"
   },
   {
    "duration": 153,
    "start_time": "2022-10-14T16:53:54.978Z"
   },
   {
    "duration": 14,
    "start_time": "2022-10-14T17:18:34.644Z"
   },
   {
    "duration": 14,
    "start_time": "2022-10-14T17:20:20.599Z"
   },
   {
    "duration": 6,
    "start_time": "2022-10-14T17:25:38.759Z"
   },
   {
    "duration": 11,
    "start_time": "2022-10-14T17:26:59.272Z"
   },
   {
    "duration": 5,
    "start_time": "2022-10-14T17:40:28.033Z"
   },
   {
    "duration": 10,
    "start_time": "2022-10-14T17:40:54.874Z"
   },
   {
    "duration": 5,
    "start_time": "2022-10-14T17:41:13.135Z"
   },
   {
    "duration": 11,
    "start_time": "2022-10-14T17:41:27.003Z"
   },
   {
    "duration": 10,
    "start_time": "2022-10-14T17:41:53.223Z"
   },
   {
    "duration": 350,
    "start_time": "2022-10-14T17:53:01.523Z"
   },
   {
    "duration": 717,
    "start_time": "2022-10-14T17:55:44.397Z"
   },
   {
    "duration": 10,
    "start_time": "2022-10-14T17:57:59.059Z"
   },
   {
    "duration": 16,
    "start_time": "2022-10-14T17:58:42.112Z"
   },
   {
    "duration": 16,
    "start_time": "2022-10-14T17:58:51.529Z"
   },
   {
    "duration": 21,
    "start_time": "2022-10-14T17:59:32.310Z"
   },
   {
    "duration": 24,
    "start_time": "2022-10-14T18:00:32.002Z"
   },
   {
    "duration": 485,
    "start_time": "2022-10-14T18:12:25.525Z"
   },
   {
    "duration": 474,
    "start_time": "2022-10-14T18:14:02.010Z"
   },
   {
    "duration": 19,
    "start_time": "2022-10-14T18:15:08.804Z"
   },
   {
    "duration": 18,
    "start_time": "2022-10-14T18:32:43.558Z"
   },
   {
    "duration": 11,
    "start_time": "2022-10-14T18:33:53.273Z"
   },
   {
    "duration": 16,
    "start_time": "2022-10-14T18:34:07.990Z"
   },
   {
    "duration": 5,
    "start_time": "2022-10-14T18:34:34.002Z"
   },
   {
    "duration": 150,
    "start_time": "2022-10-14T18:35:18.663Z"
   },
   {
    "duration": 15,
    "start_time": "2022-10-14T18:37:27.018Z"
   },
   {
    "duration": 156,
    "start_time": "2022-10-14T18:39:29.173Z"
   },
   {
    "duration": 211,
    "start_time": "2022-10-14T18:40:09.861Z"
   },
   {
    "duration": 162,
    "start_time": "2022-10-14T18:40:30.880Z"
   },
   {
    "duration": 147,
    "start_time": "2022-10-14T18:42:04.331Z"
   },
   {
    "duration": 378,
    "start_time": "2022-10-15T05:05:48.139Z"
   },
   {
    "duration": 68,
    "start_time": "2022-10-15T05:05:48.519Z"
   },
   {
    "duration": 19,
    "start_time": "2022-10-15T05:05:48.589Z"
   },
   {
    "duration": 33,
    "start_time": "2022-10-15T05:05:48.609Z"
   },
   {
    "duration": 9,
    "start_time": "2022-10-15T05:05:48.644Z"
   },
   {
    "duration": 31,
    "start_time": "2022-10-15T05:05:48.654Z"
   },
   {
    "duration": 15,
    "start_time": "2022-10-15T05:05:48.686Z"
   },
   {
    "duration": 27,
    "start_time": "2022-10-15T05:05:48.702Z"
   },
   {
    "duration": 37,
    "start_time": "2022-10-15T05:05:48.730Z"
   },
   {
    "duration": 30,
    "start_time": "2022-10-15T05:05:48.769Z"
   },
   {
    "duration": 21,
    "start_time": "2022-10-15T05:05:48.800Z"
   },
   {
    "duration": 13,
    "start_time": "2022-10-15T05:05:48.822Z"
   },
   {
    "duration": 84,
    "start_time": "2022-10-15T05:05:48.836Z"
   },
   {
    "duration": 6,
    "start_time": "2022-10-15T05:05:48.922Z"
   },
   {
    "duration": 19,
    "start_time": "2022-10-15T05:05:48.930Z"
   },
   {
    "duration": 86,
    "start_time": "2022-10-15T05:05:48.951Z"
   },
   {
    "duration": 16,
    "start_time": "2022-10-15T05:05:49.039Z"
   },
   {
    "duration": 19,
    "start_time": "2022-10-15T05:05:49.057Z"
   },
   {
    "duration": 30,
    "start_time": "2022-10-15T05:05:49.077Z"
   },
   {
    "duration": 27,
    "start_time": "2022-10-15T05:05:49.108Z"
   },
   {
    "duration": 38,
    "start_time": "2022-10-15T05:05:49.137Z"
   },
   {
    "duration": 9,
    "start_time": "2022-10-15T05:05:49.176Z"
   },
   {
    "duration": 42,
    "start_time": "2022-10-15T05:05:49.186Z"
   },
   {
    "duration": 7,
    "start_time": "2022-10-15T05:05:49.230Z"
   },
   {
    "duration": 512,
    "start_time": "2022-10-15T05:05:49.238Z"
   },
   {
    "duration": 3,
    "start_time": "2022-10-15T05:05:49.751Z"
   },
   {
    "duration": 171,
    "start_time": "2022-10-15T05:05:49.755Z"
   },
   {
    "duration": 122,
    "start_time": "2022-10-15T05:05:49.929Z"
   },
   {
    "duration": 458,
    "start_time": "2022-10-15T05:05:50.053Z"
   },
   {
    "duration": 24,
    "start_time": "2022-10-15T05:05:50.513Z"
   },
   {
    "duration": 370,
    "start_time": "2022-10-15T05:05:50.539Z"
   },
   {
    "duration": 23,
    "start_time": "2022-10-15T05:05:50.911Z"
   },
   {
    "duration": 11,
    "start_time": "2022-10-15T05:05:50.935Z"
   },
   {
    "duration": 3,
    "start_time": "2022-10-15T05:05:50.948Z"
   },
   {
    "duration": 150,
    "start_time": "2022-10-15T05:05:50.952Z"
   },
   {
    "duration": 245,
    "start_time": "2022-10-15T05:09:40.150Z"
   },
   {
    "duration": 433,
    "start_time": "2022-10-15T05:09:55.397Z"
   },
   {
    "duration": 50,
    "start_time": "2022-10-15T05:10:47.265Z"
   },
   {
    "duration": 435,
    "start_time": "2022-10-15T05:11:10.695Z"
   },
   {
    "duration": 435,
    "start_time": "2022-10-15T05:11:26.018Z"
   },
   {
    "duration": 484,
    "start_time": "2022-10-15T05:11:39.298Z"
   },
   {
    "duration": 485,
    "start_time": "2022-10-15T05:37:56.495Z"
   },
   {
    "duration": 434,
    "start_time": "2022-10-15T05:38:04.547Z"
   },
   {
    "duration": 456,
    "start_time": "2022-10-15T05:39:08.160Z"
   },
   {
    "duration": 357,
    "start_time": "2022-10-15T05:41:19.323Z"
   },
   {
    "duration": 506,
    "start_time": "2022-10-15T05:41:28.378Z"
   },
   {
    "duration": 397,
    "start_time": "2022-10-15T05:41:36.415Z"
   },
   {
    "duration": 412,
    "start_time": "2022-10-15T05:41:49.665Z"
   },
   {
    "duration": 379,
    "start_time": "2022-10-15T05:44:56.440Z"
   },
   {
    "duration": 371,
    "start_time": "2022-10-15T05:45:53.135Z"
   },
   {
    "duration": 385,
    "start_time": "2022-10-15T05:45:58.378Z"
   },
   {
    "duration": 541,
    "start_time": "2022-10-15T05:47:51.865Z"
   },
   {
    "duration": 428,
    "start_time": "2022-10-15T05:48:54.415Z"
   },
   {
    "duration": 108,
    "start_time": "2022-10-15T07:42:19.204Z"
   },
   {
    "duration": 9,
    "start_time": "2022-10-15T07:42:35.896Z"
   },
   {
    "duration": 197,
    "start_time": "2022-10-15T07:42:40.540Z"
   },
   {
    "duration": 726,
    "start_time": "2022-10-15T07:54:41.889Z"
   },
   {
    "duration": 147,
    "start_time": "2022-10-15T07:55:24.289Z"
   },
   {
    "duration": 6,
    "start_time": "2022-10-15T08:17:24.457Z"
   },
   {
    "duration": 13,
    "start_time": "2022-10-15T08:17:55.672Z"
   },
   {
    "duration": 13,
    "start_time": "2022-10-15T08:19:20.886Z"
   },
   {
    "duration": 14,
    "start_time": "2022-10-15T08:20:05.684Z"
   },
   {
    "duration": 16,
    "start_time": "2022-10-15T08:20:52.392Z"
   },
   {
    "duration": 7,
    "start_time": "2022-10-15T08:23:03.433Z"
   },
   {
    "duration": 7,
    "start_time": "2022-10-15T08:23:10.663Z"
   },
   {
    "duration": 15,
    "start_time": "2022-10-15T08:23:21.185Z"
   },
   {
    "duration": 154,
    "start_time": "2022-10-15T08:25:12.213Z"
   },
   {
    "duration": 184,
    "start_time": "2022-10-15T08:26:42.295Z"
   },
   {
    "duration": 7,
    "start_time": "2022-10-15T08:37:21.488Z"
   },
   {
    "duration": 12,
    "start_time": "2022-10-15T08:37:28.425Z"
   },
   {
    "duration": 3,
    "start_time": "2022-10-15T08:37:55.175Z"
   },
   {
    "duration": 154,
    "start_time": "2022-10-15T08:50:00.152Z"
   },
   {
    "duration": 13,
    "start_time": "2022-10-15T08:52:05.368Z"
   },
   {
    "duration": 13,
    "start_time": "2022-10-15T08:52:12.229Z"
   },
   {
    "duration": 15,
    "start_time": "2022-10-15T08:53:02.594Z"
   },
   {
    "duration": 10,
    "start_time": "2022-10-15T08:53:10.549Z"
   },
   {
    "duration": 14,
    "start_time": "2022-10-15T08:53:31.146Z"
   },
   {
    "duration": 13,
    "start_time": "2022-10-15T08:54:07.779Z"
   },
   {
    "duration": 51,
    "start_time": "2022-10-15T08:54:28.267Z"
   },
   {
    "duration": 131,
    "start_time": "2022-10-15T08:54:44.459Z"
   },
   {
    "duration": 119,
    "start_time": "2022-10-15T08:54:54.941Z"
   },
   {
    "duration": 60,
    "start_time": "2022-10-15T10:06:58.134Z"
   },
   {
    "duration": 50,
    "start_time": "2022-10-15T10:07:09.858Z"
   },
   {
    "duration": 14,
    "start_time": "2022-10-15T10:07:18.673Z"
   },
   {
    "duration": 20,
    "start_time": "2022-10-15T10:07:35.859Z"
   },
   {
    "duration": 17,
    "start_time": "2022-10-15T10:09:11.052Z"
   },
   {
    "duration": 17,
    "start_time": "2022-10-15T10:09:27.538Z"
   },
   {
    "duration": 20,
    "start_time": "2022-10-15T10:09:36.918Z"
   },
   {
    "duration": 11,
    "start_time": "2022-10-15T10:09:48.075Z"
   },
   {
    "duration": 8,
    "start_time": "2022-10-15T10:10:01.532Z"
   },
   {
    "duration": 20,
    "start_time": "2022-10-15T10:10:09.422Z"
   },
   {
    "duration": 129,
    "start_time": "2022-10-15T10:11:49.128Z"
   },
   {
    "duration": 32,
    "start_time": "2022-10-15T10:11:59.015Z"
   },
   {
    "duration": 20,
    "start_time": "2022-10-15T10:12:56.990Z"
   },
   {
    "duration": 22,
    "start_time": "2022-10-15T10:14:11.509Z"
   },
   {
    "duration": 26,
    "start_time": "2022-10-15T10:14:16.885Z"
   },
   {
    "duration": 21,
    "start_time": "2022-10-15T10:19:38.313Z"
   },
   {
    "duration": 77,
    "start_time": "2022-10-15T10:22:01.488Z"
   },
   {
    "duration": 48,
    "start_time": "2022-10-15T10:22:31.037Z"
   },
   {
    "duration": 45,
    "start_time": "2022-10-15T10:22:47.521Z"
   },
   {
    "duration": 5,
    "start_time": "2022-10-15T10:23:12.185Z"
   },
   {
    "duration": 19,
    "start_time": "2022-10-15T10:23:16.705Z"
   },
   {
    "duration": 22,
    "start_time": "2022-10-15T10:23:26.774Z"
   },
   {
    "duration": 28,
    "start_time": "2022-10-15T10:24:10.875Z"
   },
   {
    "duration": 26,
    "start_time": "2022-10-15T10:24:18.725Z"
   },
   {
    "duration": 21,
    "start_time": "2022-10-15T10:24:40.878Z"
   },
   {
    "duration": 20,
    "start_time": "2022-10-15T10:25:02.545Z"
   },
   {
    "duration": 46,
    "start_time": "2022-10-15T10:26:20.039Z"
   },
   {
    "duration": 26,
    "start_time": "2022-10-15T10:26:49.654Z"
   },
   {
    "duration": 65,
    "start_time": "2022-10-15T10:27:35.611Z"
   },
   {
    "duration": 147,
    "start_time": "2022-10-15T10:27:43.602Z"
   },
   {
    "duration": 20,
    "start_time": "2022-10-15T10:28:24.889Z"
   },
   {
    "duration": 162,
    "start_time": "2022-10-15T10:41:05.946Z"
   },
   {
    "duration": 41,
    "start_time": "2022-10-15T10:45:13.937Z"
   },
   {
    "duration": 22,
    "start_time": "2022-10-15T10:45:18.842Z"
   },
   {
    "duration": 21,
    "start_time": "2022-10-15T10:45:44.874Z"
   },
   {
    "duration": 33,
    "start_time": "2022-10-15T10:47:54.210Z"
   },
   {
    "duration": 45,
    "start_time": "2022-10-15T10:49:24.383Z"
   },
   {
    "duration": 56,
    "start_time": "2022-10-15T10:49:38.823Z"
   },
   {
    "duration": 21,
    "start_time": "2022-10-15T10:51:06.153Z"
   },
   {
    "duration": 22,
    "start_time": "2022-10-15T10:59:55.400Z"
   },
   {
    "duration": 16,
    "start_time": "2022-10-15T11:00:29.102Z"
   },
   {
    "duration": 22,
    "start_time": "2022-10-15T11:00:36.063Z"
   },
   {
    "duration": 33,
    "start_time": "2022-10-15T11:04:50.271Z"
   },
   {
    "duration": 188,
    "start_time": "2022-10-15T11:14:36.147Z"
   },
   {
    "duration": 181,
    "start_time": "2022-10-15T11:14:56.028Z"
   },
   {
    "duration": 217,
    "start_time": "2022-10-15T11:52:38.742Z"
   },
   {
    "duration": 188,
    "start_time": "2022-10-15T11:55:31.114Z"
   },
   {
    "duration": 186,
    "start_time": "2022-10-15T11:55:45.174Z"
   },
   {
    "duration": 294,
    "start_time": "2022-10-15T11:56:06.949Z"
   },
   {
    "duration": 21,
    "start_time": "2022-10-15T12:00:29.042Z"
   },
   {
    "duration": 29,
    "start_time": "2022-10-15T12:00:40.036Z"
   },
   {
    "duration": 178,
    "start_time": "2022-10-15T12:28:04.828Z"
   },
   {
    "duration": 227,
    "start_time": "2022-10-15T12:35:16.202Z"
   },
   {
    "duration": 175,
    "start_time": "2022-10-15T12:38:51.186Z"
   },
   {
    "duration": 8,
    "start_time": "2022-10-15T12:47:07.243Z"
   },
   {
    "duration": 206,
    "start_time": "2022-10-15T12:47:13.095Z"
   },
   {
    "duration": 9,
    "start_time": "2022-10-15T12:47:18.831Z"
   },
   {
    "duration": 212,
    "start_time": "2022-10-15T12:47:26.936Z"
   },
   {
    "duration": 178,
    "start_time": "2022-10-15T12:48:19.717Z"
   },
   {
    "duration": 144,
    "start_time": "2022-10-15T12:49:06.142Z"
   },
   {
    "duration": 208,
    "start_time": "2022-10-15T12:49:16.610Z"
   },
   {
    "duration": 175,
    "start_time": "2022-10-15T12:50:43.650Z"
   },
   {
    "duration": 14,
    "start_time": "2022-10-15T13:08:56.374Z"
   },
   {
    "duration": 13,
    "start_time": "2022-10-15T13:09:27.107Z"
   },
   {
    "duration": 13,
    "start_time": "2022-10-15T13:09:32.056Z"
   },
   {
    "duration": 13,
    "start_time": "2022-10-15T13:09:55.580Z"
   },
   {
    "duration": 12,
    "start_time": "2022-10-15T13:11:10.923Z"
   },
   {
    "duration": 183,
    "start_time": "2022-10-15T13:12:46.906Z"
   },
   {
    "duration": 182,
    "start_time": "2022-10-15T13:13:39.154Z"
   },
   {
    "duration": 37,
    "start_time": "2022-10-15T13:40:48.025Z"
   },
   {
    "duration": 163,
    "start_time": "2022-10-15T13:42:18.720Z"
   },
   {
    "duration": 160,
    "start_time": "2022-10-15T13:45:41.453Z"
   },
   {
    "duration": 705,
    "start_time": "2022-10-15T13:49:28.464Z"
   },
   {
    "duration": 412,
    "start_time": "2022-10-15T13:49:51.312Z"
   },
   {
    "duration": 39,
    "start_time": "2022-10-15T13:49:51.726Z"
   },
   {
    "duration": 18,
    "start_time": "2022-10-15T13:49:51.767Z"
   },
   {
    "duration": 12,
    "start_time": "2022-10-15T13:49:51.787Z"
   },
   {
    "duration": 2,
    "start_time": "2022-10-15T13:49:51.802Z"
   },
   {
    "duration": 16,
    "start_time": "2022-10-15T13:49:51.806Z"
   },
   {
    "duration": 18,
    "start_time": "2022-10-15T13:49:51.824Z"
   },
   {
    "duration": 6,
    "start_time": "2022-10-15T13:49:51.843Z"
   },
   {
    "duration": 8,
    "start_time": "2022-10-15T13:49:51.850Z"
   },
   {
    "duration": 12,
    "start_time": "2022-10-15T13:49:51.860Z"
   },
   {
    "duration": 9,
    "start_time": "2022-10-15T13:49:51.873Z"
   },
   {
    "duration": 7,
    "start_time": "2022-10-15T13:49:51.883Z"
   },
   {
    "duration": 56,
    "start_time": "2022-10-15T13:49:51.892Z"
   },
   {
    "duration": 5,
    "start_time": "2022-10-15T13:49:51.951Z"
   },
   {
    "duration": 7,
    "start_time": "2022-10-15T13:49:51.958Z"
   },
   {
    "duration": 67,
    "start_time": "2022-10-15T13:49:51.967Z"
   },
   {
    "duration": 13,
    "start_time": "2022-10-15T13:49:52.035Z"
   },
   {
    "duration": 11,
    "start_time": "2022-10-15T13:49:52.050Z"
   },
   {
    "duration": 9,
    "start_time": "2022-10-15T13:49:52.063Z"
   },
   {
    "duration": 21,
    "start_time": "2022-10-15T13:49:52.074Z"
   },
   {
    "duration": 16,
    "start_time": "2022-10-15T13:49:52.096Z"
   },
   {
    "duration": 13,
    "start_time": "2022-10-15T13:49:52.113Z"
   },
   {
    "duration": 17,
    "start_time": "2022-10-15T13:49:52.127Z"
   },
   {
    "duration": 8,
    "start_time": "2022-10-15T13:49:52.145Z"
   },
   {
    "duration": 375,
    "start_time": "2022-10-15T13:49:52.155Z"
   },
   {
    "duration": 3,
    "start_time": "2022-10-15T13:49:52.531Z"
   },
   {
    "duration": 178,
    "start_time": "2022-10-15T13:49:52.535Z"
   },
   {
    "duration": 132,
    "start_time": "2022-10-15T13:49:52.715Z"
   },
   {
    "duration": 433,
    "start_time": "2022-10-15T13:49:52.849Z"
   },
   {
    "duration": 24,
    "start_time": "2022-10-15T13:49:53.284Z"
   },
   {
    "duration": 444,
    "start_time": "2022-10-15T13:49:53.323Z"
   },
   {
    "duration": 17,
    "start_time": "2022-10-15T13:49:53.768Z"
   },
   {
    "duration": 31,
    "start_time": "2022-10-15T13:49:53.786Z"
   },
   {
    "duration": 194,
    "start_time": "2022-10-15T13:49:53.818Z"
   },
   {
    "duration": 3,
    "start_time": "2022-10-15T13:49:54.013Z"
   },
   {
    "duration": 228,
    "start_time": "2022-10-15T13:49:54.022Z"
   },
   {
    "duration": 757,
    "start_time": "2022-10-15T13:49:54.251Z"
   },
   {
    "duration": 0,
    "start_time": "2022-10-15T13:49:55.010Z"
   },
   {
    "duration": 0,
    "start_time": "2022-10-15T13:49:55.011Z"
   },
   {
    "duration": 0,
    "start_time": "2022-10-15T13:49:55.012Z"
   },
   {
    "duration": 0,
    "start_time": "2022-10-15T13:49:55.013Z"
   },
   {
    "duration": 0,
    "start_time": "2022-10-15T13:49:55.014Z"
   },
   {
    "duration": 0,
    "start_time": "2022-10-15T13:49:55.015Z"
   },
   {
    "duration": 0,
    "start_time": "2022-10-15T13:49:55.016Z"
   },
   {
    "duration": 205,
    "start_time": "2022-10-15T13:50:20.811Z"
   },
   {
    "duration": 422,
    "start_time": "2022-10-15T13:50:33.701Z"
   },
   {
    "duration": 45,
    "start_time": "2022-10-15T13:50:34.127Z"
   },
   {
    "duration": 18,
    "start_time": "2022-10-15T13:50:34.173Z"
   },
   {
    "duration": 13,
    "start_time": "2022-10-15T13:50:34.192Z"
   },
   {
    "duration": 7,
    "start_time": "2022-10-15T13:50:34.207Z"
   },
   {
    "duration": 20,
    "start_time": "2022-10-15T13:50:34.215Z"
   },
   {
    "duration": 17,
    "start_time": "2022-10-15T13:50:34.238Z"
   },
   {
    "duration": 14,
    "start_time": "2022-10-15T13:50:34.257Z"
   },
   {
    "duration": 17,
    "start_time": "2022-10-15T13:50:34.272Z"
   },
   {
    "duration": 25,
    "start_time": "2022-10-15T13:50:34.290Z"
   },
   {
    "duration": 25,
    "start_time": "2022-10-15T13:50:34.317Z"
   },
   {
    "duration": 7,
    "start_time": "2022-10-15T13:50:34.347Z"
   },
   {
    "duration": 45,
    "start_time": "2022-10-15T13:50:34.355Z"
   },
   {
    "duration": 6,
    "start_time": "2022-10-15T13:50:34.402Z"
   },
   {
    "duration": 15,
    "start_time": "2022-10-15T13:50:34.409Z"
   },
   {
    "duration": 64,
    "start_time": "2022-10-15T13:50:34.426Z"
   },
   {
    "duration": 14,
    "start_time": "2022-10-15T13:50:34.491Z"
   },
   {
    "duration": 6,
    "start_time": "2022-10-15T13:50:34.506Z"
   },
   {
    "duration": 27,
    "start_time": "2022-10-15T13:50:34.514Z"
   },
   {
    "duration": 28,
    "start_time": "2022-10-15T13:50:34.543Z"
   },
   {
    "duration": 21,
    "start_time": "2022-10-15T13:50:34.572Z"
   },
   {
    "duration": 5,
    "start_time": "2022-10-15T13:50:34.595Z"
   },
   {
    "duration": 27,
    "start_time": "2022-10-15T13:50:34.602Z"
   },
   {
    "duration": 13,
    "start_time": "2022-10-15T13:50:34.631Z"
   },
   {
    "duration": 334,
    "start_time": "2022-10-15T13:50:34.645Z"
   },
   {
    "duration": 4,
    "start_time": "2022-10-15T13:50:34.980Z"
   },
   {
    "duration": 204,
    "start_time": "2022-10-15T13:50:34.986Z"
   },
   {
    "duration": 146,
    "start_time": "2022-10-15T13:50:35.192Z"
   },
   {
    "duration": 496,
    "start_time": "2022-10-15T13:50:35.343Z"
   },
   {
    "duration": 17,
    "start_time": "2022-10-15T13:50:35.841Z"
   },
   {
    "duration": 486,
    "start_time": "2022-10-15T13:50:35.860Z"
   },
   {
    "duration": 18,
    "start_time": "2022-10-15T13:50:36.349Z"
   },
   {
    "duration": 26,
    "start_time": "2022-10-15T13:50:36.369Z"
   },
   {
    "duration": 201,
    "start_time": "2022-10-15T13:50:36.397Z"
   },
   {
    "duration": 3,
    "start_time": "2022-10-15T13:50:36.601Z"
   },
   {
    "duration": 249,
    "start_time": "2022-10-15T13:50:36.606Z"
   },
   {
    "duration": 217,
    "start_time": "2022-10-15T13:50:36.856Z"
   },
   {
    "duration": 217,
    "start_time": "2022-10-15T13:50:37.076Z"
   },
   {
    "duration": 223,
    "start_time": "2022-10-15T13:50:37.294Z"
   },
   {
    "duration": 241,
    "start_time": "2022-10-15T13:50:37.523Z"
   },
   {
    "duration": 189,
    "start_time": "2022-10-15T13:50:37.767Z"
   },
   {
    "duration": 220,
    "start_time": "2022-10-15T13:50:37.957Z"
   },
   {
    "duration": 214,
    "start_time": "2022-10-15T13:50:38.179Z"
   },
   {
    "duration": 254,
    "start_time": "2022-10-15T13:50:38.395Z"
   },
   {
    "duration": 208,
    "start_time": "2022-10-15T14:16:40.796Z"
   },
   {
    "duration": 181,
    "start_time": "2022-10-15T14:21:30.349Z"
   },
   {
    "duration": 173,
    "start_time": "2022-10-15T14:37:23.332Z"
   },
   {
    "duration": 53,
    "start_time": "2022-10-16T06:27:02.836Z"
   },
   {
    "duration": 367,
    "start_time": "2022-10-16T06:27:13.911Z"
   },
   {
    "duration": 73,
    "start_time": "2022-10-16T06:27:14.280Z"
   },
   {
    "duration": 24,
    "start_time": "2022-10-16T06:27:14.355Z"
   },
   {
    "duration": 53,
    "start_time": "2022-10-16T06:27:14.381Z"
   },
   {
    "duration": 17,
    "start_time": "2022-10-16T06:27:14.437Z"
   },
   {
    "duration": 27,
    "start_time": "2022-10-16T06:27:14.456Z"
   },
   {
    "duration": 22,
    "start_time": "2022-10-16T06:27:14.485Z"
   },
   {
    "duration": 19,
    "start_time": "2022-10-16T06:27:14.510Z"
   },
   {
    "duration": 22,
    "start_time": "2022-10-16T06:27:14.531Z"
   },
   {
    "duration": 31,
    "start_time": "2022-10-16T06:27:14.555Z"
   },
   {
    "duration": 10,
    "start_time": "2022-10-16T06:27:14.588Z"
   },
   {
    "duration": 19,
    "start_time": "2022-10-16T06:27:14.599Z"
   },
   {
    "duration": 53,
    "start_time": "2022-10-16T06:27:14.620Z"
   },
   {
    "duration": 6,
    "start_time": "2022-10-16T06:27:14.676Z"
   },
   {
    "duration": 14,
    "start_time": "2022-10-16T06:27:14.684Z"
   },
   {
    "duration": 60,
    "start_time": "2022-10-16T06:27:14.700Z"
   },
   {
    "duration": 14,
    "start_time": "2022-10-16T06:27:14.762Z"
   },
   {
    "duration": 11,
    "start_time": "2022-10-16T06:27:14.777Z"
   },
   {
    "duration": 16,
    "start_time": "2022-10-16T06:27:14.789Z"
   },
   {
    "duration": 21,
    "start_time": "2022-10-16T06:27:14.807Z"
   },
   {
    "duration": 20,
    "start_time": "2022-10-16T06:27:14.830Z"
   },
   {
    "duration": 7,
    "start_time": "2022-10-16T06:27:14.851Z"
   },
   {
    "duration": 27,
    "start_time": "2022-10-16T06:27:14.860Z"
   },
   {
    "duration": 9,
    "start_time": "2022-10-16T06:27:14.889Z"
   },
   {
    "duration": 568,
    "start_time": "2022-10-16T06:27:14.899Z"
   },
   {
    "duration": 3,
    "start_time": "2022-10-16T06:27:15.469Z"
   },
   {
    "duration": 219,
    "start_time": "2022-10-16T06:27:15.474Z"
   },
   {
    "duration": 144,
    "start_time": "2022-10-16T06:27:15.695Z"
   },
   {
    "duration": 553,
    "start_time": "2022-10-16T06:27:15.841Z"
   },
   {
    "duration": 19,
    "start_time": "2022-10-16T06:27:16.395Z"
   },
   {
    "duration": 447,
    "start_time": "2022-10-16T06:27:16.415Z"
   },
   {
    "duration": 19,
    "start_time": "2022-10-16T06:27:16.864Z"
   },
   {
    "duration": 15,
    "start_time": "2022-10-16T06:27:16.885Z"
   },
   {
    "duration": 213,
    "start_time": "2022-10-16T06:27:16.902Z"
   },
   {
    "duration": 4,
    "start_time": "2022-10-16T06:27:17.117Z"
   },
   {
    "duration": 227,
    "start_time": "2022-10-16T06:27:17.122Z"
   },
   {
    "duration": 233,
    "start_time": "2022-10-16T06:27:17.354Z"
   },
   {
    "duration": 226,
    "start_time": "2022-10-16T06:27:17.589Z"
   },
   {
    "duration": 225,
    "start_time": "2022-10-16T06:27:17.817Z"
   },
   {
    "duration": 265,
    "start_time": "2022-10-16T06:27:18.044Z"
   },
   {
    "duration": 231,
    "start_time": "2022-10-16T06:27:18.313Z"
   },
   {
    "duration": 242,
    "start_time": "2022-10-16T06:27:18.546Z"
   },
   {
    "duration": 304,
    "start_time": "2022-10-16T06:27:18.790Z"
   },
   {
    "duration": 167,
    "start_time": "2022-10-16T06:27:19.095Z"
   },
   {
    "duration": 201,
    "start_time": "2022-10-16T06:27:19.263Z"
   },
   {
    "duration": 167,
    "start_time": "2022-10-16T06:27:26.090Z"
   },
   {
    "duration": 5,
    "start_time": "2022-10-16T06:51:07.305Z"
   },
   {
    "duration": 6,
    "start_time": "2022-10-16T06:51:42.177Z"
   },
   {
    "duration": 14,
    "start_time": "2022-10-16T06:52:17.844Z"
   },
   {
    "duration": 20,
    "start_time": "2022-10-16T06:53:06.196Z"
   },
   {
    "duration": 11,
    "start_time": "2022-10-16T06:53:49.182Z"
   },
   {
    "duration": 13,
    "start_time": "2022-10-16T06:53:59.282Z"
   },
   {
    "duration": 15,
    "start_time": "2022-10-16T06:54:32.059Z"
   },
   {
    "duration": 28,
    "start_time": "2022-10-16T06:55:47.606Z"
   },
   {
    "duration": 26,
    "start_time": "2022-10-16T06:55:56.944Z"
   },
   {
    "duration": 32463,
    "start_time": "2022-10-16T06:58:06.766Z"
   },
   {
    "duration": 506,
    "start_time": "2022-10-16T06:59:41.052Z"
   },
   {
    "duration": 57,
    "start_time": "2022-10-16T06:59:41.561Z"
   },
   {
    "duration": 32,
    "start_time": "2022-10-16T06:59:41.620Z"
   },
   {
    "duration": 22,
    "start_time": "2022-10-16T06:59:41.655Z"
   },
   {
    "duration": 11,
    "start_time": "2022-10-16T06:59:41.680Z"
   },
   {
    "duration": 7,
    "start_time": "2022-10-16T06:59:41.694Z"
   },
   {
    "duration": 12,
    "start_time": "2022-10-16T06:59:41.703Z"
   },
   {
    "duration": 7,
    "start_time": "2022-10-16T06:59:41.717Z"
   },
   {
    "duration": 13,
    "start_time": "2022-10-16T06:59:41.726Z"
   },
   {
    "duration": 37,
    "start_time": "2022-10-16T06:59:41.742Z"
   },
   {
    "duration": 12,
    "start_time": "2022-10-16T06:59:41.782Z"
   },
   {
    "duration": 14,
    "start_time": "2022-10-16T06:59:41.796Z"
   },
   {
    "duration": 36448,
    "start_time": "2022-10-16T06:59:41.812Z"
   },
   {
    "duration": 7,
    "start_time": "2022-10-16T07:00:18.262Z"
   },
   {
    "duration": 8,
    "start_time": "2022-10-16T07:00:18.271Z"
   },
   {
    "duration": 44633,
    "start_time": "2022-10-16T07:00:18.281Z"
   },
   {
    "duration": 15,
    "start_time": "2022-10-16T07:01:02.916Z"
   },
   {
    "duration": 22,
    "start_time": "2022-10-16T07:01:02.932Z"
   },
   {
    "duration": 7,
    "start_time": "2022-10-16T07:01:02.955Z"
   },
   {
    "duration": 42,
    "start_time": "2022-10-16T07:01:02.963Z"
   },
   {
    "duration": 43,
    "start_time": "2022-10-16T07:01:03.007Z"
   },
   {
    "duration": 15,
    "start_time": "2022-10-16T07:01:03.052Z"
   },
   {
    "duration": 28,
    "start_time": "2022-10-16T07:01:03.069Z"
   },
   {
    "duration": 30,
    "start_time": "2022-10-16T07:01:03.098Z"
   },
   {
    "duration": 69,
    "start_time": "2022-10-16T07:01:03.129Z"
   },
   {
    "duration": 13,
    "start_time": "2022-10-16T07:01:03.200Z"
   },
   {
    "duration": 403,
    "start_time": "2022-10-16T07:01:03.214Z"
   },
   {
    "duration": 3,
    "start_time": "2022-10-16T07:01:03.620Z"
   },
   {
    "duration": 197,
    "start_time": "2022-10-16T07:01:03.625Z"
   },
   {
    "duration": 155,
    "start_time": "2022-10-16T07:01:03.824Z"
   },
   {
    "duration": 537,
    "start_time": "2022-10-16T07:01:03.980Z"
   },
   {
    "duration": 18,
    "start_time": "2022-10-16T07:01:04.519Z"
   },
   {
    "duration": 453,
    "start_time": "2022-10-16T07:01:04.539Z"
   },
   {
    "duration": 21,
    "start_time": "2022-10-16T07:01:04.994Z"
   },
   {
    "duration": 15,
    "start_time": "2022-10-16T07:01:05.017Z"
   },
   {
    "duration": 201,
    "start_time": "2022-10-16T07:01:05.053Z"
   },
   {
    "duration": 4,
    "start_time": "2022-10-16T07:01:05.255Z"
   },
   {
    "duration": 219,
    "start_time": "2022-10-16T07:01:05.260Z"
   },
   {
    "duration": 225,
    "start_time": "2022-10-16T07:01:05.480Z"
   },
   {
    "duration": 211,
    "start_time": "2022-10-16T07:01:05.707Z"
   },
   {
    "duration": 206,
    "start_time": "2022-10-16T07:01:05.920Z"
   },
   {
    "duration": 259,
    "start_time": "2022-10-16T07:01:06.127Z"
   },
   {
    "duration": 204,
    "start_time": "2022-10-16T07:01:06.388Z"
   },
   {
    "duration": 225,
    "start_time": "2022-10-16T07:01:06.594Z"
   },
   {
    "duration": 293,
    "start_time": "2022-10-16T07:01:06.821Z"
   },
   {
    "duration": 173,
    "start_time": "2022-10-16T07:01:07.117Z"
   },
   {
    "duration": 3,
    "start_time": "2022-10-16T07:02:33.238Z"
   },
   {
    "duration": 33623,
    "start_time": "2022-10-16T07:02:35.622Z"
   },
   {
    "duration": 32655,
    "start_time": "2022-10-16T07:03:20.112Z"
   },
   {
    "duration": 18,
    "start_time": "2022-10-16T07:15:35.909Z"
   },
   {
    "duration": 253,
    "start_time": "2022-10-16T08:14:41.547Z"
   },
   {
    "duration": 25,
    "start_time": "2022-10-16T08:14:50.372Z"
   },
   {
    "duration": 43,
    "start_time": "2022-10-16T08:15:56.594Z"
   },
   {
    "duration": 80,
    "start_time": "2022-10-16T08:17:32.870Z"
   },
   {
    "duration": 13,
    "start_time": "2022-10-16T08:17:48.585Z"
   },
   {
    "duration": 6,
    "start_time": "2022-10-16T08:18:05.752Z"
   },
   {
    "duration": 43,
    "start_time": "2022-10-16T08:18:07.625Z"
   },
   {
    "duration": 52,
    "start_time": "2022-10-16T08:19:01.918Z"
   },
   {
    "duration": 7,
    "start_time": "2022-10-16T08:19:10.247Z"
   },
   {
    "duration": 54,
    "start_time": "2022-10-16T08:19:11.049Z"
   },
   {
    "duration": 8,
    "start_time": "2022-10-16T08:20:36.477Z"
   },
   {
    "duration": 45,
    "start_time": "2022-10-16T08:20:37.223Z"
   },
   {
    "duration": 6,
    "start_time": "2022-10-16T08:21:27.166Z"
   },
   {
    "duration": 23,
    "start_time": "2022-10-16T08:21:38.071Z"
   },
   {
    "duration": 6,
    "start_time": "2022-10-16T08:22:19.229Z"
   },
   {
    "duration": 40,
    "start_time": "2022-10-16T08:22:22.681Z"
   },
   {
    "duration": 47,
    "start_time": "2022-10-16T08:22:39.268Z"
   },
   {
    "duration": 27,
    "start_time": "2022-10-16T08:22:42.752Z"
   },
   {
    "duration": 19,
    "start_time": "2022-10-16T08:23:11.450Z"
   },
   {
    "duration": 23,
    "start_time": "2022-10-16T08:23:41.887Z"
   },
   {
    "duration": 192,
    "start_time": "2022-10-16T08:24:46.103Z"
   },
   {
    "duration": 12,
    "start_time": "2022-10-16T08:25:20.627Z"
   },
   {
    "duration": 15,
    "start_time": "2022-10-16T08:26:41.775Z"
   },
   {
    "duration": 18,
    "start_time": "2022-10-16T08:26:51.717Z"
   },
   {
    "duration": 23,
    "start_time": "2022-10-16T08:27:15.123Z"
   },
   {
    "duration": 17,
    "start_time": "2022-10-16T08:27:42.139Z"
   },
   {
    "duration": 428,
    "start_time": "2022-10-16T08:30:17.517Z"
   },
   {
    "duration": 45,
    "start_time": "2022-10-16T08:30:17.947Z"
   },
   {
    "duration": 22,
    "start_time": "2022-10-16T08:30:17.994Z"
   },
   {
    "duration": 14,
    "start_time": "2022-10-16T08:30:18.018Z"
   },
   {
    "duration": 3,
    "start_time": "2022-10-16T08:30:18.034Z"
   },
   {
    "duration": 18,
    "start_time": "2022-10-16T08:30:18.039Z"
   },
   {
    "duration": 10,
    "start_time": "2022-10-16T08:30:18.060Z"
   },
   {
    "duration": 11,
    "start_time": "2022-10-16T08:30:18.072Z"
   },
   {
    "duration": 13,
    "start_time": "2022-10-16T08:30:18.084Z"
   },
   {
    "duration": 16,
    "start_time": "2022-10-16T08:30:18.100Z"
   },
   {
    "duration": 8,
    "start_time": "2022-10-16T08:30:18.118Z"
   },
   {
    "duration": 31,
    "start_time": "2022-10-16T08:30:18.128Z"
   },
   {
    "duration": 6,
    "start_time": "2022-10-16T08:30:18.161Z"
   },
   {
    "duration": 34246,
    "start_time": "2022-10-16T08:30:18.169Z"
   },
   {
    "duration": 7,
    "start_time": "2022-10-16T08:30:52.417Z"
   },
   {
    "duration": 10,
    "start_time": "2022-10-16T08:30:52.425Z"
   },
   {
    "duration": 42476,
    "start_time": "2022-10-16T08:30:52.437Z"
   },
   {
    "duration": 14,
    "start_time": "2022-10-16T08:31:34.915Z"
   },
   {
    "duration": 16,
    "start_time": "2022-10-16T08:31:34.931Z"
   },
   {
    "duration": 13,
    "start_time": "2022-10-16T08:31:34.949Z"
   },
   {
    "duration": 23,
    "start_time": "2022-10-16T08:31:34.964Z"
   },
   {
    "duration": 20,
    "start_time": "2022-10-16T08:31:34.989Z"
   },
   {
    "duration": 7,
    "start_time": "2022-10-16T08:31:35.011Z"
   },
   {
    "duration": 26,
    "start_time": "2022-10-16T08:31:35.020Z"
   },
   {
    "duration": 18,
    "start_time": "2022-10-16T08:31:35.054Z"
   },
   {
    "duration": 433,
    "start_time": "2022-10-16T08:31:35.074Z"
   },
   {
    "duration": 3,
    "start_time": "2022-10-16T08:31:35.511Z"
   },
   {
    "duration": 216,
    "start_time": "2022-10-16T08:31:35.519Z"
   },
   {
    "duration": 149,
    "start_time": "2022-10-16T08:31:35.736Z"
   },
   {
    "duration": 562,
    "start_time": "2022-10-16T08:31:35.887Z"
   },
   {
    "duration": 20,
    "start_time": "2022-10-16T08:31:36.452Z"
   },
   {
    "duration": 471,
    "start_time": "2022-10-16T08:31:36.474Z"
   },
   {
    "duration": 27,
    "start_time": "2022-10-16T08:31:36.953Z"
   },
   {
    "duration": 18,
    "start_time": "2022-10-16T08:31:36.982Z"
   },
   {
    "duration": 242,
    "start_time": "2022-10-16T08:31:37.002Z"
   },
   {
    "duration": 10,
    "start_time": "2022-10-16T08:31:37.246Z"
   },
   {
    "duration": 233,
    "start_time": "2022-10-16T08:31:37.258Z"
   },
   {
    "duration": 219,
    "start_time": "2022-10-16T08:31:37.493Z"
   },
   {
    "duration": 215,
    "start_time": "2022-10-16T08:31:37.714Z"
   },
   {
    "duration": 224,
    "start_time": "2022-10-16T08:31:37.930Z"
   },
   {
    "duration": 292,
    "start_time": "2022-10-16T08:31:38.157Z"
   },
   {
    "duration": 225,
    "start_time": "2022-10-16T08:31:38.452Z"
   },
   {
    "duration": 218,
    "start_time": "2022-10-16T08:31:38.679Z"
   },
   {
    "duration": 301,
    "start_time": "2022-10-16T08:31:38.899Z"
   },
   {
    "duration": 177,
    "start_time": "2022-10-16T08:31:39.202Z"
   },
   {
    "duration": 6,
    "start_time": "2022-10-16T08:31:39.381Z"
   },
   {
    "duration": 21,
    "start_time": "2022-10-16T08:31:39.389Z"
   },
   {
    "duration": 4,
    "start_time": "2022-10-16T08:36:53.879Z"
   },
   {
    "duration": 11,
    "start_time": "2022-10-16T08:37:04.161Z"
   },
   {
    "duration": 7,
    "start_time": "2022-10-16T08:38:09.098Z"
   },
   {
    "duration": 10,
    "start_time": "2022-10-16T08:38:22.734Z"
   },
   {
    "duration": 16,
    "start_time": "2022-10-16T08:39:18.421Z"
   },
   {
    "duration": 411,
    "start_time": "2022-10-16T08:39:38.166Z"
   },
   {
    "duration": 13,
    "start_time": "2022-10-16T08:39:44.610Z"
   },
   {
    "duration": 4,
    "start_time": "2022-10-16T08:39:52.508Z"
   },
   {
    "duration": 4,
    "start_time": "2022-10-16T08:39:59.554Z"
   },
   {
    "duration": 25,
    "start_time": "2022-10-16T08:40:04.274Z"
   },
   {
    "duration": 13,
    "start_time": "2022-10-16T08:40:07.791Z"
   },
   {
    "duration": 749,
    "start_time": "2022-10-16T09:07:13.094Z"
   },
   {
    "duration": 771,
    "start_time": "2022-10-16T09:07:28.284Z"
   },
   {
    "duration": 3,
    "start_time": "2022-10-16T09:09:07.835Z"
   },
   {
    "duration": 8,
    "start_time": "2022-10-16T09:09:20.759Z"
   },
   {
    "duration": 4,
    "start_time": "2022-10-16T09:10:57.814Z"
   },
   {
    "duration": 5,
    "start_time": "2022-10-16T09:11:32.900Z"
   },
   {
    "duration": 432,
    "start_time": "2022-10-16T09:12:35.942Z"
   },
   {
    "duration": 7,
    "start_time": "2022-10-16T09:14:22.887Z"
   },
   {
    "duration": 5,
    "start_time": "2022-10-16T09:15:12.619Z"
   },
   {
    "duration": 7,
    "start_time": "2022-10-16T09:15:30.363Z"
   },
   {
    "duration": 3,
    "start_time": "2022-10-16T09:15:31.071Z"
   },
   {
    "duration": 6,
    "start_time": "2022-10-16T09:15:31.742Z"
   },
   {
    "duration": 5,
    "start_time": "2022-10-16T09:15:38.208Z"
   },
   {
    "duration": 6,
    "start_time": "2022-10-16T09:15:41.792Z"
   },
   {
    "duration": 53,
    "start_time": "2022-10-16T09:27:20.262Z"
   },
   {
    "duration": 5,
    "start_time": "2022-10-16T09:28:42.601Z"
   },
   {
    "duration": 18,
    "start_time": "2022-10-16T09:29:14.273Z"
   },
   {
    "duration": 8,
    "start_time": "2022-10-16T09:29:34.789Z"
   },
   {
    "duration": 8,
    "start_time": "2022-10-16T09:29:46.592Z"
   },
   {
    "duration": 7,
    "start_time": "2022-10-16T09:30:02.194Z"
   },
   {
    "duration": 10,
    "start_time": "2022-10-16T09:30:15.658Z"
   },
   {
    "duration": 5,
    "start_time": "2022-10-16T09:31:50.111Z"
   },
   {
    "duration": 8,
    "start_time": "2022-10-16T09:32:04.811Z"
   },
   {
    "duration": 10,
    "start_time": "2022-10-16T09:32:22.871Z"
   },
   {
    "duration": 5,
    "start_time": "2022-10-16T09:32:46.747Z"
   },
   {
    "duration": 6,
    "start_time": "2022-10-16T09:33:10.375Z"
   },
   {
    "duration": 6,
    "start_time": "2022-10-16T09:33:29.082Z"
   },
   {
    "duration": 6,
    "start_time": "2022-10-16T09:33:30.161Z"
   },
   {
    "duration": 6,
    "start_time": "2022-10-16T09:34:13.095Z"
   },
   {
    "duration": 5,
    "start_time": "2022-10-16T09:34:14.201Z"
   },
   {
    "duration": 6,
    "start_time": "2022-10-16T10:35:02.102Z"
   },
   {
    "duration": 44,
    "start_time": "2022-10-16T10:38:16.923Z"
   },
   {
    "duration": 7,
    "start_time": "2022-10-16T10:38:21.801Z"
   },
   {
    "duration": 9,
    "start_time": "2022-10-16T10:38:49.146Z"
   },
   {
    "duration": 7,
    "start_time": "2022-10-16T10:51:45.347Z"
   },
   {
    "duration": 8,
    "start_time": "2022-10-16T10:52:11.835Z"
   },
   {
    "duration": 9,
    "start_time": "2022-10-16T11:02:44.594Z"
   },
   {
    "duration": 7,
    "start_time": "2022-10-16T11:14:39.433Z"
   },
   {
    "duration": 6,
    "start_time": "2022-10-16T11:15:03.207Z"
   },
   {
    "duration": 6,
    "start_time": "2022-10-16T11:15:18.261Z"
   },
   {
    "duration": 12,
    "start_time": "2022-10-16T11:15:24.645Z"
   },
   {
    "duration": 8,
    "start_time": "2022-10-16T11:18:19.678Z"
   },
   {
    "duration": 430,
    "start_time": "2022-10-16T12:09:20.354Z"
   },
   {
    "duration": 43,
    "start_time": "2022-10-16T12:09:20.786Z"
   },
   {
    "duration": 35,
    "start_time": "2022-10-16T12:09:20.831Z"
   },
   {
    "duration": 17,
    "start_time": "2022-10-16T12:09:20.872Z"
   },
   {
    "duration": 19,
    "start_time": "2022-10-16T12:09:20.892Z"
   },
   {
    "duration": 17,
    "start_time": "2022-10-16T12:09:20.913Z"
   },
   {
    "duration": 7,
    "start_time": "2022-10-16T12:09:20.932Z"
   },
   {
    "duration": 10,
    "start_time": "2022-10-16T12:09:20.941Z"
   },
   {
    "duration": 34,
    "start_time": "2022-10-16T12:09:20.953Z"
   },
   {
    "duration": 18,
    "start_time": "2022-10-16T12:09:20.991Z"
   },
   {
    "duration": 12,
    "start_time": "2022-10-16T12:09:21.011Z"
   },
   {
    "duration": 15,
    "start_time": "2022-10-16T12:09:21.025Z"
   },
   {
    "duration": 7,
    "start_time": "2022-10-16T12:09:21.043Z"
   },
   {
    "duration": 37046,
    "start_time": "2022-10-16T12:09:21.052Z"
   },
   {
    "duration": 7,
    "start_time": "2022-10-16T12:09:58.100Z"
   },
   {
    "duration": 8,
    "start_time": "2022-10-16T12:09:58.109Z"
   },
   {
    "duration": 45968,
    "start_time": "2022-10-16T12:09:58.118Z"
   },
   {
    "duration": 14,
    "start_time": "2022-10-16T12:10:44.088Z"
   },
   {
    "duration": 5,
    "start_time": "2022-10-16T12:10:44.104Z"
   },
   {
    "duration": 8,
    "start_time": "2022-10-16T12:10:44.110Z"
   },
   {
    "duration": 17,
    "start_time": "2022-10-16T12:10:44.119Z"
   },
   {
    "duration": 27,
    "start_time": "2022-10-16T12:10:44.154Z"
   },
   {
    "duration": 7,
    "start_time": "2022-10-16T12:10:44.183Z"
   },
   {
    "duration": 19,
    "start_time": "2022-10-16T12:10:44.192Z"
   },
   {
    "duration": 9,
    "start_time": "2022-10-16T12:10:44.213Z"
   },
   {
    "duration": 444,
    "start_time": "2022-10-16T12:10:44.224Z"
   },
   {
    "duration": 3,
    "start_time": "2022-10-16T12:10:44.679Z"
   },
   {
    "duration": 194,
    "start_time": "2022-10-16T12:10:44.686Z"
   },
   {
    "duration": 141,
    "start_time": "2022-10-16T12:10:44.882Z"
   },
   {
    "duration": 586,
    "start_time": "2022-10-16T12:10:45.025Z"
   },
   {
    "duration": 18,
    "start_time": "2022-10-16T12:10:45.613Z"
   },
   {
    "duration": 452,
    "start_time": "2022-10-16T12:10:45.633Z"
   },
   {
    "duration": 19,
    "start_time": "2022-10-16T12:10:46.088Z"
   },
   {
    "duration": 14,
    "start_time": "2022-10-16T12:10:46.109Z"
   },
   {
    "duration": 245,
    "start_time": "2022-10-16T12:10:46.124Z"
   },
   {
    "duration": 4,
    "start_time": "2022-10-16T12:10:46.371Z"
   },
   {
    "duration": 237,
    "start_time": "2022-10-16T12:10:46.377Z"
   },
   {
    "duration": 227,
    "start_time": "2022-10-16T12:10:46.616Z"
   },
   {
    "duration": 237,
    "start_time": "2022-10-16T12:10:46.845Z"
   },
   {
    "duration": 231,
    "start_time": "2022-10-16T12:10:47.084Z"
   },
   {
    "duration": 291,
    "start_time": "2022-10-16T12:10:47.317Z"
   },
   {
    "duration": 235,
    "start_time": "2022-10-16T12:10:47.610Z"
   },
   {
    "duration": 226,
    "start_time": "2022-10-16T12:10:47.846Z"
   },
   {
    "duration": 300,
    "start_time": "2022-10-16T12:10:48.074Z"
   },
   {
    "duration": 172,
    "start_time": "2022-10-16T12:10:48.375Z"
   },
   {
    "duration": 12,
    "start_time": "2022-10-16T12:10:48.554Z"
   },
   {
    "duration": 425,
    "start_time": "2022-10-16T12:10:48.567Z"
   },
   {
    "duration": 5,
    "start_time": "2022-10-16T12:10:48.994Z"
   },
   {
    "duration": 13,
    "start_time": "2022-10-16T12:10:49.002Z"
   },
   {
    "duration": 11,
    "start_time": "2022-10-16T12:10:49.016Z"
   },
   {
    "duration": 408,
    "start_time": "2022-10-16T13:16:26.645Z"
   },
   {
    "duration": 70,
    "start_time": "2022-10-16T13:16:27.055Z"
   },
   {
    "duration": 20,
    "start_time": "2022-10-16T13:16:27.127Z"
   },
   {
    "duration": 12,
    "start_time": "2022-10-16T13:16:27.149Z"
   },
   {
    "duration": 3,
    "start_time": "2022-10-16T13:16:27.163Z"
   },
   {
    "duration": 6,
    "start_time": "2022-10-16T13:16:27.167Z"
   },
   {
    "duration": 5,
    "start_time": "2022-10-16T13:16:27.174Z"
   },
   {
    "duration": 29,
    "start_time": "2022-10-16T13:16:27.181Z"
   },
   {
    "duration": 9,
    "start_time": "2022-10-16T13:16:27.212Z"
   },
   {
    "duration": 13,
    "start_time": "2022-10-16T13:16:27.222Z"
   },
   {
    "duration": 10,
    "start_time": "2022-10-16T13:16:27.237Z"
   },
   {
    "duration": 6,
    "start_time": "2022-10-16T13:16:27.249Z"
   },
   {
    "duration": 5,
    "start_time": "2022-10-16T13:16:27.256Z"
   },
   {
    "duration": 29245,
    "start_time": "2022-10-16T13:16:27.264Z"
   },
   {
    "duration": 5,
    "start_time": "2022-10-16T13:16:56.510Z"
   },
   {
    "duration": 6,
    "start_time": "2022-10-16T13:16:56.517Z"
   },
   {
    "duration": 38496,
    "start_time": "2022-10-16T13:16:56.524Z"
   },
   {
    "duration": 12,
    "start_time": "2022-10-16T13:17:35.021Z"
   },
   {
    "duration": 4,
    "start_time": "2022-10-16T13:17:35.035Z"
   },
   {
    "duration": 7,
    "start_time": "2022-10-16T13:17:35.041Z"
   },
   {
    "duration": 13,
    "start_time": "2022-10-16T13:17:35.050Z"
   },
   {
    "duration": 14,
    "start_time": "2022-10-16T13:17:35.065Z"
   },
   {
    "duration": 29,
    "start_time": "2022-10-16T13:17:35.080Z"
   },
   {
    "duration": 16,
    "start_time": "2022-10-16T13:17:35.111Z"
   },
   {
    "duration": 11,
    "start_time": "2022-10-16T13:17:35.129Z"
   },
   {
    "duration": 532,
    "start_time": "2022-10-16T13:17:35.141Z"
   },
   {
    "duration": 3,
    "start_time": "2022-10-16T13:17:35.675Z"
   },
   {
    "duration": 180,
    "start_time": "2022-10-16T13:17:35.680Z"
   },
   {
    "duration": 119,
    "start_time": "2022-10-16T13:17:35.862Z"
   },
   {
    "duration": 474,
    "start_time": "2022-10-16T13:17:35.983Z"
   },
   {
    "duration": 16,
    "start_time": "2022-10-16T13:17:36.458Z"
   },
   {
    "duration": 426,
    "start_time": "2022-10-16T13:17:36.476Z"
   },
   {
    "duration": 18,
    "start_time": "2022-10-16T13:17:36.903Z"
   },
   {
    "duration": 27,
    "start_time": "2022-10-16T13:17:36.922Z"
   },
   {
    "duration": 178,
    "start_time": "2022-10-16T13:17:36.950Z"
   },
   {
    "duration": 3,
    "start_time": "2022-10-16T13:17:37.129Z"
   },
   {
    "duration": 224,
    "start_time": "2022-10-16T13:17:37.134Z"
   },
   {
    "duration": 187,
    "start_time": "2022-10-16T13:17:37.360Z"
   },
   {
    "duration": 196,
    "start_time": "2022-10-16T13:17:37.549Z"
   },
   {
    "duration": 192,
    "start_time": "2022-10-16T13:17:37.746Z"
   },
   {
    "duration": 229,
    "start_time": "2022-10-16T13:17:37.942Z"
   },
   {
    "duration": 196,
    "start_time": "2022-10-16T13:17:38.172Z"
   },
   {
    "duration": 192,
    "start_time": "2022-10-16T13:17:38.369Z"
   },
   {
    "duration": 250,
    "start_time": "2022-10-16T13:17:38.563Z"
   },
   {
    "duration": 152,
    "start_time": "2022-10-16T13:17:38.815Z"
   },
   {
    "duration": 6,
    "start_time": "2022-10-16T13:17:38.969Z"
   },
   {
    "duration": 436,
    "start_time": "2022-10-16T13:17:38.977Z"
   },
   {
    "duration": 5,
    "start_time": "2022-10-16T13:17:39.414Z"
   },
   {
    "duration": 8,
    "start_time": "2022-10-16T13:17:39.421Z"
   },
   {
    "duration": 4,
    "start_time": "2022-10-16T13:17:39.431Z"
   },
   {
    "duration": 95,
    "start_time": "2022-10-16T13:44:30.417Z"
   },
   {
    "duration": 398,
    "start_time": "2022-10-16T13:46:24.024Z"
   },
   {
    "duration": 40,
    "start_time": "2022-10-16T13:46:24.424Z"
   },
   {
    "duration": 20,
    "start_time": "2022-10-16T13:46:24.465Z"
   },
   {
    "duration": 14,
    "start_time": "2022-10-16T13:46:24.487Z"
   },
   {
    "duration": 8,
    "start_time": "2022-10-16T13:46:24.502Z"
   },
   {
    "duration": 13,
    "start_time": "2022-10-16T13:46:24.511Z"
   },
   {
    "duration": 7,
    "start_time": "2022-10-16T13:46:24.525Z"
   },
   {
    "duration": 5,
    "start_time": "2022-10-16T13:46:24.534Z"
   },
   {
    "duration": 10,
    "start_time": "2022-10-16T13:46:24.541Z"
   },
   {
    "duration": 14,
    "start_time": "2022-10-16T13:46:24.553Z"
   },
   {
    "duration": 9,
    "start_time": "2022-10-16T13:46:24.568Z"
   },
   {
    "duration": 31,
    "start_time": "2022-10-16T13:46:24.578Z"
   },
   {
    "duration": 3,
    "start_time": "2022-10-16T13:46:24.610Z"
   },
   {
    "duration": 29669,
    "start_time": "2022-10-16T13:46:24.614Z"
   },
   {
    "duration": 5,
    "start_time": "2022-10-16T13:46:54.285Z"
   },
   {
    "duration": 7,
    "start_time": "2022-10-16T13:46:54.292Z"
   },
   {
    "duration": 38533,
    "start_time": "2022-10-16T13:46:54.300Z"
   },
   {
    "duration": 13,
    "start_time": "2022-10-16T13:47:32.835Z"
   },
   {
    "duration": 4,
    "start_time": "2022-10-16T13:47:32.849Z"
   },
   {
    "duration": 4,
    "start_time": "2022-10-16T13:47:32.855Z"
   },
   {
    "duration": 107,
    "start_time": "2022-10-16T13:47:32.861Z"
   },
   {
    "duration": 13,
    "start_time": "2022-10-16T13:47:32.970Z"
   },
   {
    "duration": 30,
    "start_time": "2022-10-16T13:47:32.985Z"
   },
   {
    "duration": 6,
    "start_time": "2022-10-16T13:47:33.016Z"
   },
   {
    "duration": 17,
    "start_time": "2022-10-16T13:47:33.023Z"
   },
   {
    "duration": 7,
    "start_time": "2022-10-16T13:47:33.042Z"
   },
   {
    "duration": 365,
    "start_time": "2022-10-16T13:47:33.051Z"
   },
   {
    "duration": 2,
    "start_time": "2022-10-16T13:47:33.420Z"
   },
   {
    "duration": 185,
    "start_time": "2022-10-16T13:47:33.424Z"
   },
   {
    "duration": 141,
    "start_time": "2022-10-16T13:47:33.611Z"
   },
   {
    "duration": 510,
    "start_time": "2022-10-16T13:47:33.754Z"
   },
   {
    "duration": 17,
    "start_time": "2022-10-16T13:47:34.266Z"
   },
   {
    "duration": 410,
    "start_time": "2022-10-16T13:47:34.285Z"
   },
   {
    "duration": 22,
    "start_time": "2022-10-16T13:47:34.696Z"
   },
   {
    "duration": 17,
    "start_time": "2022-10-16T13:47:34.720Z"
   },
   {
    "duration": 198,
    "start_time": "2022-10-16T13:47:34.739Z"
   },
   {
    "duration": 4,
    "start_time": "2022-10-16T13:47:34.939Z"
   },
   {
    "duration": 205,
    "start_time": "2022-10-16T13:47:34.945Z"
   },
   {
    "duration": 199,
    "start_time": "2022-10-16T13:47:35.152Z"
   },
   {
    "duration": 195,
    "start_time": "2022-10-16T13:47:35.352Z"
   },
   {
    "duration": 197,
    "start_time": "2022-10-16T13:47:35.549Z"
   },
   {
    "duration": 229,
    "start_time": "2022-10-16T13:47:35.748Z"
   },
   {
    "duration": 191,
    "start_time": "2022-10-16T13:47:35.979Z"
   },
   {
    "duration": 201,
    "start_time": "2022-10-16T13:47:36.172Z"
   },
   {
    "duration": 267,
    "start_time": "2022-10-16T13:47:36.374Z"
   },
   {
    "duration": 145,
    "start_time": "2022-10-16T13:47:36.642Z"
   },
   {
    "duration": 6,
    "start_time": "2022-10-16T13:47:36.788Z"
   },
   {
    "duration": 417,
    "start_time": "2022-10-16T13:47:36.796Z"
   },
   {
    "duration": 5,
    "start_time": "2022-10-16T13:47:37.215Z"
   },
   {
    "duration": 11,
    "start_time": "2022-10-16T13:47:37.222Z"
   },
   {
    "duration": 6,
    "start_time": "2022-10-16T13:47:37.234Z"
   },
   {
    "duration": 8,
    "start_time": "2022-10-16T14:27:25.956Z"
   },
   {
    "duration": 53,
    "start_time": "2022-10-16T16:25:02.670Z"
   },
   {
    "duration": 400,
    "start_time": "2022-10-16T16:25:15.309Z"
   },
   {
    "duration": 222,
    "start_time": "2022-10-16T16:25:17.197Z"
   },
   {
    "duration": 31,
    "start_time": "2022-10-16T16:25:20.585Z"
   },
   {
    "duration": 19,
    "start_time": "2022-10-16T16:25:23.685Z"
   },
   {
    "duration": 16,
    "start_time": "2022-10-16T16:25:27.719Z"
   },
   {
    "duration": 14,
    "start_time": "2022-10-16T16:25:39.288Z"
   },
   {
    "duration": 3,
    "start_time": "2022-10-16T16:29:50.709Z"
   },
   {
    "duration": 4,
    "start_time": "2022-10-16T16:29:54.209Z"
   },
   {
    "duration": 35,
    "start_time": "2022-10-16T16:32:28.728Z"
   },
   {
    "duration": 9,
    "start_time": "2022-10-16T16:33:42.057Z"
   },
   {
    "duration": 8,
    "start_time": "2022-10-16T16:37:26.828Z"
   },
   {
    "duration": 4,
    "start_time": "2022-10-16T17:53:25.382Z"
   },
   {
    "duration": 5,
    "start_time": "2022-10-16T17:54:12.716Z"
   },
   {
    "duration": 5,
    "start_time": "2022-10-16T17:57:02.923Z"
   },
   {
    "duration": 5,
    "start_time": "2022-10-16T17:59:08.456Z"
   },
   {
    "duration": 12,
    "start_time": "2022-10-16T17:59:11.429Z"
   },
   {
    "duration": 9,
    "start_time": "2022-10-16T17:59:43.878Z"
   },
   {
    "duration": 15,
    "start_time": "2022-10-16T17:59:52.852Z"
   },
   {
    "duration": 4,
    "start_time": "2022-10-16T18:01:23.178Z"
   },
   {
    "duration": 3,
    "start_time": "2022-10-16T18:22:58.426Z"
   },
   {
    "duration": 612,
    "start_time": "2022-10-16T18:23:13.617Z"
   },
   {
    "duration": 134,
    "start_time": "2022-10-16T18:30:49.364Z"
   },
   {
    "duration": 453,
    "start_time": "2022-10-16T18:31:23.243Z"
   },
   {
    "duration": 508,
    "start_time": "2022-10-16T18:36:39.776Z"
   },
   {
    "duration": 454,
    "start_time": "2022-10-16T18:36:55.581Z"
   },
   {
    "duration": 541,
    "start_time": "2022-10-16T18:37:11.496Z"
   },
   {
    "duration": 489,
    "start_time": "2022-10-16T18:42:42.614Z"
   },
   {
    "duration": 17,
    "start_time": "2022-10-16T18:44:31.462Z"
   },
   {
    "duration": 8,
    "start_time": "2022-10-16T18:44:43.724Z"
   },
   {
    "duration": 20,
    "start_time": "2022-10-16T18:44:45.857Z"
   },
   {
    "duration": 9,
    "start_time": "2022-10-16T18:44:56.493Z"
   },
   {
    "duration": 161,
    "start_time": "2022-10-16T18:45:01.266Z"
   },
   {
    "duration": 3,
    "start_time": "2022-10-16T18:47:58.172Z"
   },
   {
    "duration": 194,
    "start_time": "2022-10-16T18:48:38.387Z"
   },
   {
    "duration": 277,
    "start_time": "2022-10-16T18:52:30.212Z"
   },
   {
    "duration": 231,
    "start_time": "2022-10-16T19:00:17.956Z"
   },
   {
    "duration": 195,
    "start_time": "2022-10-16T19:00:34.863Z"
   },
   {
    "duration": 211,
    "start_time": "2022-10-16T19:01:03.084Z"
   },
   {
    "duration": 204,
    "start_time": "2022-10-16T19:01:23.669Z"
   },
   {
    "duration": 298,
    "start_time": "2022-10-16T19:01:53.231Z"
   },
   {
    "duration": 204,
    "start_time": "2022-10-16T19:02:09.148Z"
   },
   {
    "duration": 215,
    "start_time": "2022-10-16T19:02:18.802Z"
   },
   {
    "duration": 210,
    "start_time": "2022-10-16T19:02:30.204Z"
   },
   {
    "duration": 199,
    "start_time": "2022-10-16T19:03:17.224Z"
   },
   {
    "duration": 201,
    "start_time": "2022-10-16T19:03:25.518Z"
   },
   {
    "duration": 306,
    "start_time": "2022-10-16T19:03:30.573Z"
   },
   {
    "duration": 204,
    "start_time": "2022-10-16T19:03:53.556Z"
   },
   {
    "duration": 194,
    "start_time": "2022-10-16T19:03:57.673Z"
   },
   {
    "duration": 208,
    "start_time": "2022-10-16T19:04:06.672Z"
   },
   {
    "duration": 217,
    "start_time": "2022-10-16T19:04:11.407Z"
   },
   {
    "duration": 203,
    "start_time": "2022-10-16T19:04:17.518Z"
   },
   {
    "duration": 300,
    "start_time": "2022-10-16T19:04:21.683Z"
   },
   {
    "duration": 266,
    "start_time": "2022-10-16T19:04:28.020Z"
   },
   {
    "duration": 241,
    "start_time": "2022-10-16T19:04:34.144Z"
   },
   {
    "duration": 212,
    "start_time": "2022-10-16T19:04:37.835Z"
   },
   {
    "duration": 215,
    "start_time": "2022-10-16T19:05:48.427Z"
   },
   {
    "duration": 206,
    "start_time": "2022-10-16T19:06:11.998Z"
   },
   {
    "duration": 295,
    "start_time": "2022-10-16T19:08:21.415Z"
   },
   {
    "duration": 206,
    "start_time": "2022-10-16T19:08:39.155Z"
   },
   {
    "duration": 215,
    "start_time": "2022-10-16T19:08:46.751Z"
   },
   {
    "duration": 220,
    "start_time": "2022-10-16T19:09:09.276Z"
   },
   {
    "duration": 2,
    "start_time": "2022-10-17T13:33:26.687Z"
   },
   {
    "duration": 206,
    "start_time": "2022-10-17T13:33:39.447Z"
   },
   {
    "duration": 213,
    "start_time": "2022-10-17T13:50:32.593Z"
   },
   {
    "duration": 292,
    "start_time": "2022-10-17T13:50:37.573Z"
   },
   {
    "duration": 210,
    "start_time": "2022-10-17T13:50:44.615Z"
   },
   {
    "duration": 212,
    "start_time": "2022-10-17T13:50:52.706Z"
   },
   {
    "duration": 195,
    "start_time": "2022-10-17T13:50:57.877Z"
   },
   {
    "duration": 228,
    "start_time": "2022-10-17T13:51:14.425Z"
   },
   {
    "duration": 211,
    "start_time": "2022-10-17T13:51:23.295Z"
   },
   {
    "duration": 510,
    "start_time": "2022-10-17T14:14:20.547Z"
   },
   {
    "duration": 19,
    "start_time": "2022-10-17T14:14:33.993Z"
   },
   {
    "duration": 15,
    "start_time": "2022-10-17T15:17:25.802Z"
   },
   {
    "duration": 14,
    "start_time": "2022-10-17T15:17:37.774Z"
   },
   {
    "duration": 176,
    "start_time": "2022-10-17T15:17:40.804Z"
   },
   {
    "duration": 8,
    "start_time": "2022-10-17T15:22:49.920Z"
   },
   {
    "duration": 114,
    "start_time": "2022-10-17T15:23:00.172Z"
   },
   {
    "duration": 125,
    "start_time": "2022-10-17T15:24:23.017Z"
   },
   {
    "duration": 222,
    "start_time": "2022-10-17T15:24:27.743Z"
   },
   {
    "duration": 164,
    "start_time": "2022-10-17T15:24:54.229Z"
   },
   {
    "duration": 286,
    "start_time": "2022-10-17T15:25:00.561Z"
   },
   {
    "duration": 273,
    "start_time": "2022-10-17T15:25:15.604Z"
   },
   {
    "duration": 301,
    "start_time": "2022-10-17T15:25:30.759Z"
   },
   {
    "duration": 357,
    "start_time": "2022-10-17T15:25:36.636Z"
   },
   {
    "duration": 293,
    "start_time": "2022-10-17T15:25:53.384Z"
   },
   {
    "duration": 291,
    "start_time": "2022-10-17T15:29:35.687Z"
   },
   {
    "duration": 285,
    "start_time": "2022-10-17T15:29:40.273Z"
   },
   {
    "duration": 239,
    "start_time": "2022-10-17T15:29:47.396Z"
   },
   {
    "duration": 294,
    "start_time": "2022-10-17T15:30:07.492Z"
   },
   {
    "duration": 401,
    "start_time": "2022-10-17T15:30:13.390Z"
   },
   {
    "duration": 301,
    "start_time": "2022-10-17T15:30:20.305Z"
   },
   {
    "duration": 286,
    "start_time": "2022-10-17T15:30:42.002Z"
   },
   {
    "duration": 271,
    "start_time": "2022-10-17T15:30:51.368Z"
   },
   {
    "duration": 273,
    "start_time": "2022-10-17T15:30:57.749Z"
   },
   {
    "duration": 283,
    "start_time": "2022-10-17T15:31:05.762Z"
   },
   {
    "duration": 396,
    "start_time": "2022-10-17T15:31:26.008Z"
   },
   {
    "duration": 92,
    "start_time": "2022-10-17T15:34:06.642Z"
   },
   {
    "duration": 21,
    "start_time": "2022-10-17T15:34:51.559Z"
   },
   {
    "duration": 19,
    "start_time": "2022-10-17T15:35:23.370Z"
   },
   {
    "duration": 19,
    "start_time": "2022-10-17T15:35:37.501Z"
   },
   {
    "duration": 18,
    "start_time": "2022-10-17T15:35:59.180Z"
   },
   {
    "duration": 120,
    "start_time": "2022-10-17T15:36:03.045Z"
   },
   {
    "duration": 28,
    "start_time": "2022-10-17T15:36:11.565Z"
   },
   {
    "duration": 20,
    "start_time": "2022-10-17T15:36:37.405Z"
   },
   {
    "duration": 21,
    "start_time": "2022-10-17T15:36:54.868Z"
   },
   {
    "duration": 264,
    "start_time": "2022-10-17T15:37:20.696Z"
   },
   {
    "duration": 284,
    "start_time": "2022-10-17T15:37:25.909Z"
   },
   {
    "duration": 199,
    "start_time": "2022-10-17T16:16:18.446Z"
   },
   {
    "duration": 203,
    "start_time": "2022-10-17T16:16:22.546Z"
   },
   {
    "duration": 190,
    "start_time": "2022-10-17T16:16:26.764Z"
   },
   {
    "duration": 184,
    "start_time": "2022-10-17T16:16:30.169Z"
   },
   {
    "duration": 232,
    "start_time": "2022-10-17T16:16:36.933Z"
   },
   {
    "duration": 185,
    "start_time": "2022-10-17T16:16:40.073Z"
   },
   {
    "duration": 192,
    "start_time": "2022-10-17T16:16:44.233Z"
   },
   {
    "duration": 239,
    "start_time": "2022-10-17T16:16:48.014Z"
   },
   {
    "duration": 15,
    "start_time": "2022-10-17T16:26:58.583Z"
   },
   {
    "duration": 1303,
    "start_time": "2022-10-17T16:28:00.581Z"
   },
   {
    "duration": 203,
    "start_time": "2022-10-17T16:28:21.147Z"
   },
   {
    "duration": 3,
    "start_time": "2022-10-17T16:29:03.065Z"
   },
   {
    "duration": 9,
    "start_time": "2022-10-17T16:32:21.669Z"
   },
   {
    "duration": 14,
    "start_time": "2022-10-17T16:32:29.812Z"
   },
   {
    "duration": 14,
    "start_time": "2022-10-17T16:32:59.243Z"
   },
   {
    "duration": 10,
    "start_time": "2022-10-17T16:36:40.222Z"
   },
   {
    "duration": 1128,
    "start_time": "2022-10-17T16:41:35.669Z"
   },
   {
    "duration": 77,
    "start_time": "2022-10-17T16:45:45.155Z"
   },
   {
    "duration": 1148,
    "start_time": "2022-10-17T16:46:03.117Z"
   },
   {
    "duration": 24,
    "start_time": "2022-10-17T16:46:26.964Z"
   },
   {
    "duration": 24,
    "start_time": "2022-10-17T16:46:49.389Z"
   },
   {
    "duration": 1360,
    "start_time": "2022-10-17T16:48:21.195Z"
   },
   {
    "duration": 1128,
    "start_time": "2022-10-17T16:50:05.405Z"
   },
   {
    "duration": 10,
    "start_time": "2022-10-17T16:50:11.436Z"
   },
   {
    "duration": 13,
    "start_time": "2022-10-17T16:50:36.986Z"
   },
   {
    "duration": 1251,
    "start_time": "2022-10-17T16:53:43.278Z"
   },
   {
    "duration": 16,
    "start_time": "2022-10-17T16:54:37.761Z"
   },
   {
    "duration": 17,
    "start_time": "2022-10-17T16:55:32.206Z"
   },
   {
    "duration": 1235,
    "start_time": "2022-10-17T16:57:23.801Z"
   },
   {
    "duration": 1261,
    "start_time": "2022-10-17T16:57:31.978Z"
   },
   {
    "duration": 26,
    "start_time": "2022-10-17T16:57:42.578Z"
   },
   {
    "duration": 15,
    "start_time": "2022-10-17T17:04:02.246Z"
   },
   {
    "duration": 21,
    "start_time": "2022-10-17T17:04:29.793Z"
   },
   {
    "duration": 21,
    "start_time": "2022-10-17T17:04:47.734Z"
   },
   {
    "duration": 16,
    "start_time": "2022-10-17T17:04:57.960Z"
   },
   {
    "duration": 22,
    "start_time": "2022-10-17T17:05:02.421Z"
   },
   {
    "duration": 1487,
    "start_time": "2022-10-17T17:05:26.961Z"
   },
   {
    "duration": 24,
    "start_time": "2022-10-17T17:05:44.119Z"
   },
   {
    "duration": 22,
    "start_time": "2022-10-17T17:13:27.519Z"
   },
   {
    "duration": 25,
    "start_time": "2022-10-17T17:13:31.342Z"
   },
   {
    "duration": 23,
    "start_time": "2022-10-17T17:13:39.365Z"
   },
   {
    "duration": 22,
    "start_time": "2022-10-17T17:14:50.814Z"
   },
   {
    "duration": 196,
    "start_time": "2022-10-17T17:16:19.303Z"
   },
   {
    "duration": 208,
    "start_time": "2022-10-17T17:16:46.941Z"
   },
   {
    "duration": 199,
    "start_time": "2022-10-17T17:16:53.023Z"
   },
   {
    "duration": 242,
    "start_time": "2022-10-17T17:42:12.047Z"
   },
   {
    "duration": 274,
    "start_time": "2022-10-17T17:43:38.037Z"
   },
   {
    "duration": 18,
    "start_time": "2022-10-17T17:45:54.738Z"
   },
   {
    "duration": 16,
    "start_time": "2022-10-17T17:46:17.177Z"
   },
   {
    "duration": 201,
    "start_time": "2022-10-17T17:47:36.203Z"
   },
   {
    "duration": 204,
    "start_time": "2022-10-17T17:47:45.194Z"
   },
   {
    "duration": 195,
    "start_time": "2022-10-17T17:47:48.463Z"
   },
   {
    "duration": 201,
    "start_time": "2022-10-17T17:48:12.700Z"
   },
   {
    "duration": 196,
    "start_time": "2022-10-17T17:48:34.167Z"
   },
   {
    "duration": 205,
    "start_time": "2022-10-17T17:48:56.993Z"
   },
   {
    "duration": 28,
    "start_time": "2022-10-17T17:50:58.091Z"
   },
   {
    "duration": 25,
    "start_time": "2022-10-17T17:53:01.525Z"
   },
   {
    "duration": 15,
    "start_time": "2022-10-17T17:53:35.800Z"
   },
   {
    "duration": 21,
    "start_time": "2022-10-17T17:53:47.371Z"
   },
   {
    "duration": 21,
    "start_time": "2022-10-17T17:53:52.945Z"
   },
   {
    "duration": 21,
    "start_time": "2022-10-17T17:53:57.087Z"
   },
   {
    "duration": 21,
    "start_time": "2022-10-17T17:54:02.368Z"
   },
   {
    "duration": 23,
    "start_time": "2022-10-17T17:54:11.207Z"
   },
   {
    "duration": 24,
    "start_time": "2022-10-17T17:54:24.008Z"
   },
   {
    "duration": 24,
    "start_time": "2022-10-17T17:54:42.466Z"
   },
   {
    "duration": 21,
    "start_time": "2022-10-17T17:54:59.200Z"
   },
   {
    "duration": 33,
    "start_time": "2022-10-17T17:56:01.877Z"
   },
   {
    "duration": 32,
    "start_time": "2022-10-17T17:56:18.578Z"
   },
   {
    "duration": 31,
    "start_time": "2022-10-17T17:56:41.205Z"
   },
   {
    "duration": 26,
    "start_time": "2022-10-17T17:57:02.098Z"
   },
   {
    "duration": 30,
    "start_time": "2022-10-17T17:57:11.272Z"
   },
   {
    "duration": 210,
    "start_time": "2022-10-17T17:57:14.126Z"
   },
   {
    "duration": 139,
    "start_time": "2022-10-17T17:58:34.972Z"
   },
   {
    "duration": 214,
    "start_time": "2022-10-17T17:58:55.452Z"
   },
   {
    "duration": 334,
    "start_time": "2022-10-17T18:01:42.390Z"
   },
   {
    "duration": 1256,
    "start_time": "2022-10-17T18:01:51.191Z"
   },
   {
    "duration": 28,
    "start_time": "2022-10-17T18:02:02.095Z"
   },
   {
    "duration": 30,
    "start_time": "2022-10-17T18:02:53.943Z"
   },
   {
    "duration": 1222,
    "start_time": "2022-10-17T18:03:07.112Z"
   },
   {
    "duration": 27,
    "start_time": "2022-10-17T18:03:35.691Z"
   },
   {
    "duration": 341,
    "start_time": "2022-10-17T18:03:51.696Z"
   },
   {
    "duration": 1123,
    "start_time": "2022-10-17T18:04:24.850Z"
   },
   {
    "duration": 197,
    "start_time": "2022-10-17T18:04:42.754Z"
   },
   {
    "duration": 137,
    "start_time": "2022-10-17T18:09:10.279Z"
   },
   {
    "duration": 225,
    "start_time": "2022-10-17T18:12:15.748Z"
   },
   {
    "duration": 220,
    "start_time": "2022-10-17T18:12:54.726Z"
   },
   {
    "duration": 21,
    "start_time": "2022-10-17T18:15:01.397Z"
   },
   {
    "duration": 280,
    "start_time": "2022-10-17T18:15:14.324Z"
   },
   {
    "duration": 223,
    "start_time": "2022-10-17T18:15:40.913Z"
   },
   {
    "duration": 245,
    "start_time": "2022-10-17T18:16:28.490Z"
   },
   {
    "duration": 362,
    "start_time": "2022-10-17T18:27:39.440Z"
   },
   {
    "duration": 3,
    "start_time": "2022-10-17T18:32:47.691Z"
   },
   {
    "duration": 2,
    "start_time": "2022-10-17T18:32:56.712Z"
   },
   {
    "duration": 215,
    "start_time": "2022-10-17T18:35:35.918Z"
   },
   {
    "duration": 3,
    "start_time": "2022-10-17T18:39:28.774Z"
   },
   {
    "duration": 427,
    "start_time": "2022-10-17T18:40:30.199Z"
   },
   {
    "duration": 421,
    "start_time": "2022-10-17T18:40:51.685Z"
   },
   {
    "duration": 405,
    "start_time": "2022-10-17T18:40:57.203Z"
   },
   {
    "duration": 421,
    "start_time": "2022-10-17T18:41:20.330Z"
   },
   {
    "duration": 1199,
    "start_time": "2022-10-17T18:52:53.012Z"
   },
   {
    "duration": 20,
    "start_time": "2022-10-17T18:53:20.707Z"
   },
   {
    "duration": 270,
    "start_time": "2022-10-17T18:53:44.418Z"
   },
   {
    "duration": 2,
    "start_time": "2022-10-17T18:54:15.448Z"
   },
   {
    "duration": 221,
    "start_time": "2022-10-17T18:54:46.182Z"
   },
   {
    "duration": 2,
    "start_time": "2022-10-17T19:05:23.861Z"
   },
   {
    "duration": 217,
    "start_time": "2022-10-17T19:06:15.890Z"
   },
   {
    "duration": 243,
    "start_time": "2022-10-17T19:07:05.173Z"
   },
   {
    "duration": 3,
    "start_time": "2022-10-17T19:07:20.473Z"
   },
   {
    "duration": 6,
    "start_time": "2022-10-17T20:23:57.279Z"
   },
   {
    "duration": 6,
    "start_time": "2022-10-17T20:24:09.514Z"
   },
   {
    "duration": 11,
    "start_time": "2022-10-17T20:24:30.438Z"
   },
   {
    "duration": 4,
    "start_time": "2022-10-17T20:25:05.758Z"
   },
   {
    "duration": 3,
    "start_time": "2022-10-17T20:25:27.018Z"
   },
   {
    "duration": 11,
    "start_time": "2022-10-17T20:25:42.505Z"
   },
   {
    "duration": 5,
    "start_time": "2022-10-17T20:26:11.376Z"
   },
   {
    "duration": 5,
    "start_time": "2022-10-17T20:26:18.227Z"
   },
   {
    "duration": 6,
    "start_time": "2022-10-17T20:26:19.846Z"
   },
   {
    "duration": 199,
    "start_time": "2022-10-17T20:31:46.965Z"
   },
   {
    "duration": 45,
    "start_time": "2022-10-18T09:54:57.635Z"
   },
   {
    "duration": 412,
    "start_time": "2022-10-18T09:55:04.700Z"
   },
   {
    "duration": 185,
    "start_time": "2022-10-18T09:55:05.114Z"
   },
   {
    "duration": 23,
    "start_time": "2022-10-18T09:55:05.302Z"
   },
   {
    "duration": 15,
    "start_time": "2022-10-18T09:55:05.327Z"
   },
   {
    "duration": 18,
    "start_time": "2022-10-18T09:55:05.344Z"
   },
   {
    "duration": 14,
    "start_time": "2022-10-18T09:55:05.363Z"
   },
   {
    "duration": 26,
    "start_time": "2022-10-18T09:55:05.379Z"
   },
   {
    "duration": 5,
    "start_time": "2022-10-18T09:55:05.407Z"
   },
   {
    "duration": 7,
    "start_time": "2022-10-18T09:55:05.413Z"
   },
   {
    "duration": 11,
    "start_time": "2022-10-18T09:55:05.423Z"
   },
   {
    "duration": 9,
    "start_time": "2022-10-18T09:55:05.436Z"
   },
   {
    "duration": 22,
    "start_time": "2022-10-18T09:55:05.447Z"
   },
   {
    "duration": 35,
    "start_time": "2022-10-18T09:55:05.471Z"
   },
   {
    "duration": 5,
    "start_time": "2022-10-18T09:55:05.508Z"
   },
   {
    "duration": 8,
    "start_time": "2022-10-18T09:55:05.515Z"
   },
   {
    "duration": 7,
    "start_time": "2022-10-18T09:55:05.524Z"
   },
   {
    "duration": 9,
    "start_time": "2022-10-18T09:55:05.532Z"
   },
   {
    "duration": 17,
    "start_time": "2022-10-18T09:55:05.543Z"
   },
   {
    "duration": 11,
    "start_time": "2022-10-18T09:55:05.562Z"
   },
   {
    "duration": 16,
    "start_time": "2022-10-18T09:55:05.575Z"
   },
   {
    "duration": 9,
    "start_time": "2022-10-18T09:55:05.593Z"
   },
   {
    "duration": 16,
    "start_time": "2022-10-18T09:55:05.604Z"
   },
   {
    "duration": 5,
    "start_time": "2022-10-18T09:55:05.622Z"
   },
   {
    "duration": 9,
    "start_time": "2022-10-18T09:55:05.628Z"
   },
   {
    "duration": 11,
    "start_time": "2022-10-18T09:55:05.638Z"
   },
   {
    "duration": 96,
    "start_time": "2022-10-18T09:55:05.651Z"
   },
   {
    "duration": 15,
    "start_time": "2022-10-18T09:55:05.749Z"
   },
   {
    "duration": 663,
    "start_time": "2022-10-18T09:55:05.769Z"
   },
   {
    "duration": 498,
    "start_time": "2022-10-18T09:55:06.434Z"
   },
   {
    "duration": 8,
    "start_time": "2022-10-18T09:55:06.933Z"
   },
   {
    "duration": 18,
    "start_time": "2022-10-18T09:55:06.943Z"
   },
   {
    "duration": 7,
    "start_time": "2022-10-18T09:55:06.963Z"
   },
   {
    "duration": 155,
    "start_time": "2022-10-18T09:55:06.972Z"
   },
   {
    "duration": 3,
    "start_time": "2022-10-18T09:55:07.128Z"
   },
   {
    "duration": 256,
    "start_time": "2022-10-18T09:55:07.132Z"
   },
   {
    "duration": 3,
    "start_time": "2022-10-18T09:55:07.390Z"
   },
   {
    "duration": 287,
    "start_time": "2022-10-18T09:55:07.395Z"
   },
   {
    "duration": 233,
    "start_time": "2022-10-18T09:55:07.684Z"
   },
   {
    "duration": 493,
    "start_time": "2022-10-18T09:55:07.919Z"
   },
   {
    "duration": 19,
    "start_time": "2022-10-18T09:55:08.414Z"
   },
   {
    "duration": 29,
    "start_time": "2022-10-18T09:55:08.435Z"
   },
   {
    "duration": 30,
    "start_time": "2022-10-18T09:55:08.466Z"
   },
   {
    "duration": 183,
    "start_time": "2022-10-18T09:55:08.506Z"
   },
   {
    "duration": 247,
    "start_time": "2022-10-18T09:55:08.691Z"
   },
   {
    "duration": 329,
    "start_time": "2022-10-18T09:55:08.940Z"
   },
   {
    "duration": 4,
    "start_time": "2022-10-18T09:55:09.271Z"
   },
   {
    "duration": 198,
    "start_time": "2022-10-18T09:55:09.276Z"
   },
   {
    "duration": 3,
    "start_time": "2022-10-18T09:55:09.475Z"
   },
   {
    "duration": 6,
    "start_time": "2022-10-18T09:55:09.480Z"
   },
   {
    "duration": 5,
    "start_time": "2022-10-18T09:55:09.488Z"
   },
   {
    "duration": 231,
    "start_time": "2022-10-18T09:55:09.504Z"
   },
   {
    "duration": 215,
    "start_time": "2022-10-18T09:55:09.737Z"
   },
   {
    "duration": 207,
    "start_time": "2022-10-18T09:55:09.953Z"
   },
   {
    "duration": 238,
    "start_time": "2022-10-18T09:55:10.162Z"
   },
   {
    "duration": 3,
    "start_time": "2022-10-18T09:55:10.405Z"
   },
   {
    "duration": 6,
    "start_time": "2022-10-18T09:55:10.410Z"
   },
   {
    "duration": 6,
    "start_time": "2022-10-18T09:55:10.418Z"
   },
   {
    "duration": 241,
    "start_time": "2022-10-18T09:55:10.426Z"
   },
   {
    "duration": 221,
    "start_time": "2022-10-18T09:55:10.668Z"
   },
   {
    "duration": 265,
    "start_time": "2022-10-18T09:55:10.892Z"
   },
   {
    "duration": 172,
    "start_time": "2022-10-18T09:55:11.158Z"
   },
   {
    "duration": 4,
    "start_time": "2022-10-18T09:55:11.332Z"
   },
   {
    "duration": 10,
    "start_time": "2022-10-18T09:55:11.337Z"
   },
   {
    "duration": 200,
    "start_time": "2022-10-18T09:55:11.349Z"
   },
   {
    "duration": 8,
    "start_time": "2022-10-18T09:55:11.551Z"
   },
   {
    "duration": 9,
    "start_time": "2022-10-18T09:55:11.561Z"
   },
   {
    "duration": 525,
    "start_time": "2022-10-18T09:55:11.572Z"
   },
   {
    "duration": 8,
    "start_time": "2022-10-18T09:55:12.099Z"
   },
   {
    "duration": 11,
    "start_time": "2022-10-18T09:55:12.108Z"
   },
   {
    "duration": 12,
    "start_time": "2022-10-18T09:55:12.120Z"
   },
   {
    "duration": 176,
    "start_time": "2022-10-18T09:56:44.039Z"
   },
   {
    "duration": 1432,
    "start_time": "2022-10-18T09:58:18.406Z"
   },
   {
    "duration": 169,
    "start_time": "2022-10-18T09:58:40.129Z"
   },
   {
    "duration": 5,
    "start_time": "2022-10-18T10:05:20.981Z"
   },
   {
    "duration": 153,
    "start_time": "2022-10-18T10:05:21.646Z"
   },
   {
    "duration": 179,
    "start_time": "2022-10-18T10:06:49.167Z"
   },
   {
    "duration": 186,
    "start_time": "2022-10-18T10:10:14.493Z"
   },
   {
    "duration": 6,
    "start_time": "2022-10-18T10:46:42.749Z"
   },
   {
    "duration": 7,
    "start_time": "2022-10-18T10:50:30.583Z"
   },
   {
    "duration": 36,
    "start_time": "2022-10-18T10:50:40.391Z"
   },
   {
    "duration": 14,
    "start_time": "2022-10-18T10:52:25.300Z"
   },
   {
    "duration": 14,
    "start_time": "2022-10-18T10:52:35.059Z"
   },
   {
    "duration": 14,
    "start_time": "2022-10-18T10:54:44.023Z"
   },
   {
    "duration": 106,
    "start_time": "2022-10-18T10:55:14.634Z"
   },
   {
    "duration": 111,
    "start_time": "2022-10-18T10:55:28.160Z"
   },
   {
    "duration": 4,
    "start_time": "2022-10-18T10:55:42.522Z"
   },
   {
    "duration": 130,
    "start_time": "2022-10-18T10:55:46.491Z"
   },
   {
    "duration": 206,
    "start_time": "2022-10-18T10:56:08.838Z"
   },
   {
    "duration": 121,
    "start_time": "2022-10-18T10:56:16.648Z"
   },
   {
    "duration": 376,
    "start_time": "2022-10-18T11:29:10.887Z"
   },
   {
    "duration": 415,
    "start_time": "2022-10-18T11:59:11.099Z"
   },
   {
    "duration": 48,
    "start_time": "2022-10-18T11:59:11.521Z"
   },
   {
    "duration": 23,
    "start_time": "2022-10-18T11:59:11.570Z"
   },
   {
    "duration": 17,
    "start_time": "2022-10-18T11:59:11.596Z"
   },
   {
    "duration": 26,
    "start_time": "2022-10-18T11:59:11.617Z"
   },
   {
    "duration": 4,
    "start_time": "2022-10-18T11:59:11.645Z"
   },
   {
    "duration": 9,
    "start_time": "2022-10-18T11:59:11.650Z"
   },
   {
    "duration": 8,
    "start_time": "2022-10-18T11:59:11.661Z"
   },
   {
    "duration": 5,
    "start_time": "2022-10-18T11:59:11.671Z"
   },
   {
    "duration": 11,
    "start_time": "2022-10-18T11:59:11.678Z"
   },
   {
    "duration": 9,
    "start_time": "2022-10-18T11:59:11.690Z"
   },
   {
    "duration": 21,
    "start_time": "2022-10-18T11:59:11.700Z"
   },
   {
    "duration": 10,
    "start_time": "2022-10-18T11:59:11.723Z"
   },
   {
    "duration": 8,
    "start_time": "2022-10-18T11:59:11.735Z"
   },
   {
    "duration": 4,
    "start_time": "2022-10-18T11:59:11.745Z"
   },
   {
    "duration": 6,
    "start_time": "2022-10-18T11:59:11.750Z"
   },
   {
    "duration": 6,
    "start_time": "2022-10-18T11:59:11.758Z"
   },
   {
    "duration": 9,
    "start_time": "2022-10-18T11:59:11.765Z"
   },
   {
    "duration": 6,
    "start_time": "2022-10-18T11:59:11.775Z"
   },
   {
    "duration": 5,
    "start_time": "2022-10-18T11:59:11.782Z"
   },
   {
    "duration": 15,
    "start_time": "2022-10-18T11:59:11.806Z"
   },
   {
    "duration": 14,
    "start_time": "2022-10-18T11:59:11.823Z"
   },
   {
    "duration": 5,
    "start_time": "2022-10-18T11:59:11.838Z"
   },
   {
    "duration": 7,
    "start_time": "2022-10-18T11:59:11.844Z"
   },
   {
    "duration": 10,
    "start_time": "2022-10-18T11:59:11.852Z"
   },
   {
    "duration": 96,
    "start_time": "2022-10-18T11:59:11.863Z"
   },
   {
    "duration": 12,
    "start_time": "2022-10-18T11:59:11.960Z"
   },
   {
    "duration": 407,
    "start_time": "2022-10-18T11:59:11.975Z"
   },
   {
    "duration": 495,
    "start_time": "2022-10-18T11:59:12.384Z"
   },
   {
    "duration": 6,
    "start_time": "2022-10-18T11:59:12.881Z"
   },
   {
    "duration": 30,
    "start_time": "2022-10-18T11:59:12.889Z"
   },
   {
    "duration": 9,
    "start_time": "2022-10-18T11:59:12.921Z"
   },
   {
    "duration": 140,
    "start_time": "2022-10-18T11:59:12.931Z"
   },
   {
    "duration": 3,
    "start_time": "2022-10-18T11:59:13.072Z"
   },
   {
    "duration": 218,
    "start_time": "2022-10-18T11:59:13.076Z"
   },
   {
    "duration": 2,
    "start_time": "2022-10-18T11:59:13.295Z"
   },
   {
    "duration": 222,
    "start_time": "2022-10-18T11:59:13.299Z"
   },
   {
    "duration": 199,
    "start_time": "2022-10-18T11:59:13.522Z"
   },
   {
    "duration": 394,
    "start_time": "2022-10-18T11:59:13.723Z"
   },
   {
    "duration": 18,
    "start_time": "2022-10-18T11:59:14.119Z"
   },
   {
    "duration": 395,
    "start_time": "2022-10-18T11:59:14.139Z"
   },
   {
    "duration": 16,
    "start_time": "2022-10-18T11:59:14.535Z"
   },
   {
    "duration": 11,
    "start_time": "2022-10-18T11:59:14.553Z"
   },
   {
    "duration": 188,
    "start_time": "2022-10-18T11:59:14.566Z"
   },
   {
    "duration": 312,
    "start_time": "2022-10-18T11:59:14.755Z"
   },
   {
    "duration": 264,
    "start_time": "2022-10-18T11:59:15.069Z"
   },
   {
    "duration": 3,
    "start_time": "2022-10-18T11:59:15.335Z"
   },
   {
    "duration": 202,
    "start_time": "2022-10-18T11:59:15.340Z"
   },
   {
    "duration": 2,
    "start_time": "2022-10-18T11:59:15.543Z"
   },
   {
    "duration": 5,
    "start_time": "2022-10-18T11:59:15.547Z"
   },
   {
    "duration": 5,
    "start_time": "2022-10-18T11:59:15.554Z"
   },
   {
    "duration": 217,
    "start_time": "2022-10-18T11:59:15.560Z"
   },
   {
    "duration": 209,
    "start_time": "2022-10-18T11:59:15.779Z"
   },
   {
    "duration": 208,
    "start_time": "2022-10-18T11:59:15.990Z"
   },
   {
    "duration": 228,
    "start_time": "2022-10-18T11:59:16.199Z"
   },
   {
    "duration": 3,
    "start_time": "2022-10-18T11:59:16.428Z"
   },
   {
    "duration": 9,
    "start_time": "2022-10-18T11:59:16.432Z"
   },
   {
    "duration": 5,
    "start_time": "2022-10-18T11:59:16.443Z"
   },
   {
    "duration": 216,
    "start_time": "2022-10-18T11:59:16.449Z"
   },
   {
    "duration": 215,
    "start_time": "2022-10-18T11:59:16.667Z"
   },
   {
    "duration": 217,
    "start_time": "2022-10-18T11:59:16.883Z"
   },
   {
    "duration": 19,
    "start_time": "2022-10-18T11:59:17.102Z"
   },
   {
    "duration": 267,
    "start_time": "2022-10-18T11:59:17.123Z"
   },
   {
    "duration": 7,
    "start_time": "2022-10-18T11:59:17.392Z"
   },
   {
    "duration": 226,
    "start_time": "2022-10-18T11:59:17.408Z"
   },
   {
    "duration": 191,
    "start_time": "2022-10-18T11:59:17.636Z"
   },
   {
    "duration": 210,
    "start_time": "2022-10-18T11:59:17.828Z"
   },
   {
    "duration": 8,
    "start_time": "2022-10-18T11:59:18.039Z"
   },
   {
    "duration": 10,
    "start_time": "2022-10-18T11:59:18.048Z"
   },
   {
    "duration": 437,
    "start_time": "2022-10-18T11:59:18.060Z"
   },
   {
    "duration": 12,
    "start_time": "2022-10-18T11:59:18.498Z"
   },
   {
    "duration": 121,
    "start_time": "2022-10-18T11:59:18.518Z"
   },
   {
    "duration": 6,
    "start_time": "2022-10-18T11:59:18.641Z"
   },
   {
    "duration": 8,
    "start_time": "2022-10-18T11:59:18.649Z"
   },
   {
    "duration": 131,
    "start_time": "2022-10-18T11:59:18.659Z"
   },
   {
    "duration": 3,
    "start_time": "2022-10-18T12:20:58.760Z"
   },
   {
    "duration": 60,
    "start_time": "2022-10-18T12:20:58.765Z"
   },
   {
    "duration": 14,
    "start_time": "2022-10-18T12:20:58.830Z"
   },
   {
    "duration": 19,
    "start_time": "2022-10-18T12:20:58.845Z"
   },
   {
    "duration": 16,
    "start_time": "2022-10-18T12:20:58.867Z"
   },
   {
    "duration": 30,
    "start_time": "2022-10-18T12:20:58.884Z"
   },
   {
    "duration": 19,
    "start_time": "2022-10-18T12:20:58.919Z"
   },
   {
    "duration": 13,
    "start_time": "2022-10-18T12:20:58.939Z"
   },
   {
    "duration": 8,
    "start_time": "2022-10-18T12:20:58.953Z"
   },
   {
    "duration": 9,
    "start_time": "2022-10-18T12:20:58.963Z"
   },
   {
    "duration": 7,
    "start_time": "2022-10-18T12:20:58.975Z"
   },
   {
    "duration": 13,
    "start_time": "2022-10-18T12:20:58.984Z"
   },
   {
    "duration": 14,
    "start_time": "2022-10-18T12:20:58.999Z"
   },
   {
    "duration": 32,
    "start_time": "2022-10-18T12:20:59.014Z"
   },
   {
    "duration": 7,
    "start_time": "2022-10-18T12:20:59.048Z"
   },
   {
    "duration": 7,
    "start_time": "2022-10-18T12:20:59.057Z"
   },
   {
    "duration": 5,
    "start_time": "2022-10-18T12:20:59.065Z"
   },
   {
    "duration": 8,
    "start_time": "2022-10-18T12:20:59.072Z"
   },
   {
    "duration": 8,
    "start_time": "2022-10-18T12:20:59.081Z"
   },
   {
    "duration": 4,
    "start_time": "2022-10-18T12:20:59.091Z"
   },
   {
    "duration": 15,
    "start_time": "2022-10-18T12:20:59.097Z"
   },
   {
    "duration": 32,
    "start_time": "2022-10-18T12:20:59.126Z"
   },
   {
    "duration": 5,
    "start_time": "2022-10-18T12:20:59.159Z"
   },
   {
    "duration": 6,
    "start_time": "2022-10-18T12:20:59.165Z"
   },
   {
    "duration": 7,
    "start_time": "2022-10-18T12:20:59.172Z"
   },
   {
    "duration": 97,
    "start_time": "2022-10-18T12:20:59.180Z"
   },
   {
    "duration": 28,
    "start_time": "2022-10-18T12:20:59.278Z"
   },
   {
    "duration": 157,
    "start_time": "2022-10-18T12:20:59.314Z"
   },
   {
    "duration": 563,
    "start_time": "2022-10-18T12:20:59.474Z"
   },
   {
    "duration": 5,
    "start_time": "2022-10-18T12:21:00.039Z"
   },
   {
    "duration": 19,
    "start_time": "2022-10-18T12:21:00.046Z"
   },
   {
    "duration": 8,
    "start_time": "2022-10-18T12:21:00.066Z"
   },
   {
    "duration": 167,
    "start_time": "2022-10-18T12:21:00.075Z"
   },
   {
    "duration": 2,
    "start_time": "2022-10-18T12:21:00.244Z"
   },
   {
    "duration": 193,
    "start_time": "2022-10-18T12:21:00.248Z"
   },
   {
    "duration": 3,
    "start_time": "2022-10-18T12:21:00.443Z"
   },
   {
    "duration": 220,
    "start_time": "2022-10-18T12:21:00.447Z"
   },
   {
    "duration": 225,
    "start_time": "2022-10-18T12:21:00.668Z"
   },
   {
    "duration": 440,
    "start_time": "2022-10-18T12:21:00.895Z"
   },
   {
    "duration": 17,
    "start_time": "2022-10-18T12:21:01.337Z"
   },
   {
    "duration": 480,
    "start_time": "2022-10-18T12:21:01.356Z"
   },
   {
    "duration": 70,
    "start_time": "2022-10-18T12:21:01.838Z"
   },
   {
    "duration": 26,
    "start_time": "2022-10-18T12:21:01.911Z"
   },
   {
    "duration": 237,
    "start_time": "2022-10-18T12:21:01.939Z"
   },
   {
    "duration": 379,
    "start_time": "2022-10-18T12:21:02.178Z"
   },
   {
    "duration": 290,
    "start_time": "2022-10-18T12:21:02.559Z"
   },
   {
    "duration": 4,
    "start_time": "2022-10-18T12:21:02.850Z"
   },
   {
    "duration": 212,
    "start_time": "2022-10-18T12:21:02.856Z"
   },
   {
    "duration": 2,
    "start_time": "2022-10-18T12:21:03.070Z"
   },
   {
    "duration": 5,
    "start_time": "2022-10-18T12:21:03.074Z"
   },
   {
    "duration": 6,
    "start_time": "2022-10-18T12:21:03.081Z"
   },
   {
    "duration": 247,
    "start_time": "2022-10-18T12:21:03.088Z"
   },
   {
    "duration": 209,
    "start_time": "2022-10-18T12:21:03.336Z"
   },
   {
    "duration": 213,
    "start_time": "2022-10-18T12:21:03.547Z"
   },
   {
    "duration": 236,
    "start_time": "2022-10-18T12:21:03.761Z"
   },
   {
    "duration": 15,
    "start_time": "2022-10-18T12:21:03.999Z"
   },
   {
    "duration": 10,
    "start_time": "2022-10-18T12:21:04.024Z"
   },
   {
    "duration": 6,
    "start_time": "2022-10-18T12:21:04.036Z"
   },
   {
    "duration": 225,
    "start_time": "2022-10-18T12:21:04.043Z"
   },
   {
    "duration": 230,
    "start_time": "2022-10-18T12:21:04.270Z"
   },
   {
    "duration": 257,
    "start_time": "2022-10-18T12:21:04.502Z"
   },
   {
    "duration": 4,
    "start_time": "2022-10-18T12:21:04.761Z"
   },
   {
    "duration": 193,
    "start_time": "2022-10-18T12:21:04.766Z"
   },
   {
    "duration": 6,
    "start_time": "2022-10-18T12:21:04.961Z"
   },
   {
    "duration": 215,
    "start_time": "2022-10-18T12:21:04.969Z"
   },
   {
    "duration": 239,
    "start_time": "2022-10-18T12:21:05.186Z"
   },
   {
    "duration": 210,
    "start_time": "2022-10-18T12:21:05.431Z"
   },
   {
    "duration": 9,
    "start_time": "2022-10-18T12:21:05.643Z"
   },
   {
    "duration": 8,
    "start_time": "2022-10-18T12:21:05.654Z"
   },
   {
    "duration": 5,
    "start_time": "2022-10-18T12:21:05.663Z"
   },
   {
    "duration": 7,
    "start_time": "2022-10-18T12:21:05.669Z"
   },
   {
    "duration": 157,
    "start_time": "2022-10-18T12:21:05.677Z"
   },
   {
    "duration": 7,
    "start_time": "2022-10-18T12:21:05.836Z"
   },
   {
    "duration": 6,
    "start_time": "2022-10-18T12:21:05.845Z"
   },
   {
    "duration": 139,
    "start_time": "2022-10-18T12:21:05.853Z"
   },
   {
    "duration": 513,
    "start_time": "2022-10-18T18:15:10.651Z"
   },
   {
    "duration": 44,
    "start_time": "2022-10-18T18:15:11.166Z"
   },
   {
    "duration": 24,
    "start_time": "2022-10-18T18:15:11.212Z"
   },
   {
    "duration": 27,
    "start_time": "2022-10-18T18:15:11.237Z"
   },
   {
    "duration": 31,
    "start_time": "2022-10-18T18:15:11.267Z"
   },
   {
    "duration": 9,
    "start_time": "2022-10-18T18:15:11.300Z"
   },
   {
    "duration": 99,
    "start_time": "2022-10-18T18:15:11.311Z"
   },
   {
    "duration": 48,
    "start_time": "2022-10-18T18:15:11.412Z"
   },
   {
    "duration": 54,
    "start_time": "2022-10-18T18:15:11.463Z"
   },
   {
    "duration": 41,
    "start_time": "2022-10-18T18:15:11.519Z"
   },
   {
    "duration": 44,
    "start_time": "2022-10-18T18:15:11.563Z"
   },
   {
    "duration": 80,
    "start_time": "2022-10-18T18:15:11.609Z"
   },
   {
    "duration": 83,
    "start_time": "2022-10-18T18:15:11.692Z"
   },
   {
    "duration": 48,
    "start_time": "2022-10-18T18:15:11.780Z"
   },
   {
    "duration": 18,
    "start_time": "2022-10-18T18:15:11.831Z"
   },
   {
    "duration": 26,
    "start_time": "2022-10-18T18:15:11.852Z"
   },
   {
    "duration": 37,
    "start_time": "2022-10-18T18:15:11.883Z"
   },
   {
    "duration": 47,
    "start_time": "2022-10-18T18:15:11.923Z"
   },
   {
    "duration": 22,
    "start_time": "2022-10-18T18:15:11.972Z"
   },
   {
    "duration": 22,
    "start_time": "2022-10-18T18:15:11.997Z"
   },
   {
    "duration": 25,
    "start_time": "2022-10-18T18:15:12.021Z"
   },
   {
    "duration": 50,
    "start_time": "2022-10-18T18:15:12.049Z"
   },
   {
    "duration": 51,
    "start_time": "2022-10-18T18:15:12.103Z"
   },
   {
    "duration": 28,
    "start_time": "2022-10-18T18:15:12.156Z"
   },
   {
    "duration": 22,
    "start_time": "2022-10-18T18:15:12.186Z"
   },
   {
    "duration": 154,
    "start_time": "2022-10-18T18:15:12.210Z"
   },
   {
    "duration": 16,
    "start_time": "2022-10-18T18:15:12.366Z"
   },
   {
    "duration": 483,
    "start_time": "2022-10-18T18:15:12.384Z"
   },
   {
    "duration": 564,
    "start_time": "2022-10-18T18:15:12.869Z"
   },
   {
    "duration": 8,
    "start_time": "2022-10-18T18:15:13.435Z"
   },
   {
    "duration": 40,
    "start_time": "2022-10-18T18:15:13.445Z"
   },
   {
    "duration": 31,
    "start_time": "2022-10-18T18:15:13.487Z"
   },
   {
    "duration": 205,
    "start_time": "2022-10-18T18:15:13.519Z"
   },
   {
    "duration": 3,
    "start_time": "2022-10-18T18:15:13.726Z"
   },
   {
    "duration": 219,
    "start_time": "2022-10-18T18:15:13.731Z"
   },
   {
    "duration": 3,
    "start_time": "2022-10-18T18:15:13.953Z"
   },
   {
    "duration": 341,
    "start_time": "2022-10-18T18:15:13.958Z"
   },
   {
    "duration": 239,
    "start_time": "2022-10-18T18:15:14.301Z"
   },
   {
    "duration": 484,
    "start_time": "2022-10-18T18:15:14.542Z"
   },
   {
    "duration": 27,
    "start_time": "2022-10-18T18:15:15.028Z"
   },
   {
    "duration": 473,
    "start_time": "2022-10-18T18:15:15.059Z"
   },
   {
    "duration": 32,
    "start_time": "2022-10-18T18:15:15.534Z"
   },
   {
    "duration": 40,
    "start_time": "2022-10-18T18:15:15.568Z"
   },
   {
    "duration": 230,
    "start_time": "2022-10-18T18:15:15.609Z"
   },
   {
    "duration": 306,
    "start_time": "2022-10-18T18:15:15.841Z"
   },
   {
    "duration": 449,
    "start_time": "2022-10-18T18:15:16.148Z"
   },
   {
    "duration": 3,
    "start_time": "2022-10-18T18:15:16.599Z"
   },
   {
    "duration": 277,
    "start_time": "2022-10-18T18:15:16.604Z"
   },
   {
    "duration": 4,
    "start_time": "2022-10-18T18:15:16.883Z"
   },
   {
    "duration": 23,
    "start_time": "2022-10-18T18:15:16.889Z"
   },
   {
    "duration": 21,
    "start_time": "2022-10-18T18:15:16.915Z"
   },
   {
    "duration": 276,
    "start_time": "2022-10-18T18:15:16.938Z"
   },
   {
    "duration": 311,
    "start_time": "2022-10-18T18:15:17.217Z"
   },
   {
    "duration": 258,
    "start_time": "2022-10-18T18:15:17.530Z"
   },
   {
    "duration": 271,
    "start_time": "2022-10-18T18:15:17.790Z"
   },
   {
    "duration": 2,
    "start_time": "2022-10-18T18:15:18.063Z"
   },
   {
    "duration": 33,
    "start_time": "2022-10-18T18:15:18.067Z"
   },
   {
    "duration": 15,
    "start_time": "2022-10-18T18:15:18.102Z"
   },
   {
    "duration": 263,
    "start_time": "2022-10-18T18:15:18.118Z"
   },
   {
    "duration": 253,
    "start_time": "2022-10-18T18:15:18.383Z"
   },
   {
    "duration": 271,
    "start_time": "2022-10-18T18:15:18.639Z"
   },
   {
    "duration": 5,
    "start_time": "2022-10-18T18:15:18.912Z"
   },
   {
    "duration": 208,
    "start_time": "2022-10-18T18:15:18.919Z"
   },
   {
    "duration": 6,
    "start_time": "2022-10-18T18:15:19.129Z"
   },
   {
    "duration": 355,
    "start_time": "2022-10-18T18:15:19.137Z"
   },
   {
    "duration": 228,
    "start_time": "2022-10-18T18:15:19.494Z"
   },
   {
    "duration": 240,
    "start_time": "2022-10-18T18:15:19.724Z"
   },
   {
    "duration": 10,
    "start_time": "2022-10-18T18:15:19.966Z"
   },
   {
    "duration": 20,
    "start_time": "2022-10-18T18:15:19.978Z"
   },
   {
    "duration": 475,
    "start_time": "2022-10-18T18:15:20.001Z"
   },
   {
    "duration": 6,
    "start_time": "2022-10-18T18:15:20.478Z"
   },
   {
    "duration": 150,
    "start_time": "2022-10-18T18:15:20.486Z"
   },
   {
    "duration": 7,
    "start_time": "2022-10-18T18:15:20.639Z"
   },
   {
    "duration": 26,
    "start_time": "2022-10-18T18:15:20.655Z"
   },
   {
    "duration": 173,
    "start_time": "2022-10-18T18:15:20.684Z"
   },
   {
    "duration": 6,
    "start_time": "2022-10-18T18:30:36.272Z"
   },
   {
    "duration": 4,
    "start_time": "2022-10-18T18:31:16.172Z"
   },
   {
    "duration": 5,
    "start_time": "2022-10-18T18:32:51.771Z"
   },
   {
    "duration": 430,
    "start_time": "2022-10-18T18:55:23.779Z"
   },
   {
    "duration": 69,
    "start_time": "2022-10-18T18:55:24.210Z"
   },
   {
    "duration": 18,
    "start_time": "2022-10-18T18:55:24.281Z"
   },
   {
    "duration": 24,
    "start_time": "2022-10-18T18:55:24.301Z"
   },
   {
    "duration": 15,
    "start_time": "2022-10-18T18:55:24.326Z"
   },
   {
    "duration": 3,
    "start_time": "2022-10-18T18:55:24.342Z"
   },
   {
    "duration": 9,
    "start_time": "2022-10-18T18:55:24.346Z"
   },
   {
    "duration": 10,
    "start_time": "2022-10-18T18:55:24.356Z"
   },
   {
    "duration": 8,
    "start_time": "2022-10-18T18:55:24.368Z"
   },
   {
    "duration": 10,
    "start_time": "2022-10-18T18:55:24.380Z"
   },
   {
    "duration": 18,
    "start_time": "2022-10-18T18:55:24.392Z"
   },
   {
    "duration": 16,
    "start_time": "2022-10-18T18:55:24.412Z"
   },
   {
    "duration": 12,
    "start_time": "2022-10-18T18:55:24.430Z"
   },
   {
    "duration": 9,
    "start_time": "2022-10-18T18:55:24.444Z"
   },
   {
    "duration": 8,
    "start_time": "2022-10-18T18:55:24.455Z"
   },
   {
    "duration": 9,
    "start_time": "2022-10-18T18:55:24.465Z"
   },
   {
    "duration": 14,
    "start_time": "2022-10-18T18:55:24.475Z"
   },
   {
    "duration": 19,
    "start_time": "2022-10-18T18:55:24.491Z"
   },
   {
    "duration": 18,
    "start_time": "2022-10-18T18:55:24.512Z"
   },
   {
    "duration": 12,
    "start_time": "2022-10-18T18:55:24.532Z"
   },
   {
    "duration": 11,
    "start_time": "2022-10-18T18:55:24.548Z"
   },
   {
    "duration": 45,
    "start_time": "2022-10-18T18:55:24.561Z"
   },
   {
    "duration": 6,
    "start_time": "2022-10-18T18:55:24.607Z"
   },
   {
    "duration": 4,
    "start_time": "2022-10-18T18:55:24.615Z"
   },
   {
    "duration": 19,
    "start_time": "2022-10-18T18:55:24.622Z"
   },
   {
    "duration": 104,
    "start_time": "2022-10-18T18:55:24.642Z"
   },
   {
    "duration": 13,
    "start_time": "2022-10-18T18:55:24.749Z"
   },
   {
    "duration": 555,
    "start_time": "2022-10-18T18:55:24.767Z"
   },
   {
    "duration": 488,
    "start_time": "2022-10-18T18:55:25.324Z"
   },
   {
    "duration": 7,
    "start_time": "2022-10-18T18:55:25.814Z"
   },
   {
    "duration": 17,
    "start_time": "2022-10-18T18:55:25.823Z"
   },
   {
    "duration": 7,
    "start_time": "2022-10-18T18:55:25.842Z"
   },
   {
    "duration": 153,
    "start_time": "2022-10-18T18:55:25.851Z"
   },
   {
    "duration": 3,
    "start_time": "2022-10-18T18:55:26.009Z"
   },
   {
    "duration": 215,
    "start_time": "2022-10-18T18:55:26.013Z"
   },
   {
    "duration": 3,
    "start_time": "2022-10-18T18:55:26.230Z"
   },
   {
    "duration": 210,
    "start_time": "2022-10-18T18:55:26.235Z"
   },
   {
    "duration": 215,
    "start_time": "2022-10-18T18:55:26.448Z"
   },
   {
    "duration": 394,
    "start_time": "2022-10-18T18:55:26.664Z"
   },
   {
    "duration": 16,
    "start_time": "2022-10-18T18:55:27.060Z"
   },
   {
    "duration": 406,
    "start_time": "2022-10-18T18:55:27.078Z"
   },
   {
    "duration": 24,
    "start_time": "2022-10-18T18:55:27.485Z"
   },
   {
    "duration": 13,
    "start_time": "2022-10-18T18:55:27.510Z"
   },
   {
    "duration": 175,
    "start_time": "2022-10-18T18:55:27.524Z"
   },
   {
    "duration": 299,
    "start_time": "2022-10-18T18:55:27.700Z"
   },
   {
    "duration": 256,
    "start_time": "2022-10-18T18:55:28.001Z"
   },
   {
    "duration": 3,
    "start_time": "2022-10-18T18:55:28.259Z"
   },
   {
    "duration": 188,
    "start_time": "2022-10-18T18:55:28.264Z"
   },
   {
    "duration": 3,
    "start_time": "2022-10-18T18:55:28.453Z"
   },
   {
    "duration": 7,
    "start_time": "2022-10-18T18:55:28.457Z"
   },
   {
    "duration": 15,
    "start_time": "2022-10-18T18:55:28.465Z"
   },
   {
    "duration": 198,
    "start_time": "2022-10-18T18:55:28.481Z"
   },
   {
    "duration": 198,
    "start_time": "2022-10-18T18:55:28.680Z"
   },
   {
    "duration": 209,
    "start_time": "2022-10-18T18:55:28.880Z"
   },
   {
    "duration": 220,
    "start_time": "2022-10-18T18:55:29.091Z"
   },
   {
    "duration": 2,
    "start_time": "2022-10-18T18:55:29.313Z"
   },
   {
    "duration": 29,
    "start_time": "2022-10-18T18:55:29.317Z"
   },
   {
    "duration": 22,
    "start_time": "2022-10-18T18:55:29.347Z"
   },
   {
    "duration": 224,
    "start_time": "2022-10-18T18:55:29.371Z"
   },
   {
    "duration": 207,
    "start_time": "2022-10-18T18:55:29.597Z"
   },
   {
    "duration": 210,
    "start_time": "2022-10-18T18:55:29.805Z"
   },
   {
    "duration": 3,
    "start_time": "2022-10-18T18:55:30.017Z"
   },
   {
    "duration": 221,
    "start_time": "2022-10-18T18:55:30.022Z"
   },
   {
    "duration": 5,
    "start_time": "2022-10-18T18:55:30.244Z"
   },
   {
    "duration": 184,
    "start_time": "2022-10-18T18:55:30.251Z"
   },
   {
    "duration": 175,
    "start_time": "2022-10-18T18:55:30.437Z"
   },
   {
    "duration": 191,
    "start_time": "2022-10-18T18:55:30.614Z"
   },
   {
    "duration": 9,
    "start_time": "2022-10-18T18:55:30.806Z"
   },
   {
    "duration": 24,
    "start_time": "2022-10-18T18:55:30.816Z"
   },
   {
    "duration": 464,
    "start_time": "2022-10-18T18:55:30.841Z"
   },
   {
    "duration": 5,
    "start_time": "2022-10-18T18:55:31.308Z"
   },
   {
    "duration": 14,
    "start_time": "2022-10-18T18:55:31.314Z"
   },
   {
    "duration": 108,
    "start_time": "2022-10-18T18:55:31.329Z"
   },
   {
    "duration": 5,
    "start_time": "2022-10-18T18:55:31.439Z"
   },
   {
    "duration": 18,
    "start_time": "2022-10-18T18:55:31.445Z"
   },
   {
    "duration": 149,
    "start_time": "2022-10-18T18:55:31.464Z"
   },
   {
    "duration": 7,
    "start_time": "2022-10-18T18:58:14.549Z"
   },
   {
    "duration": 475,
    "start_time": "2022-10-18T18:58:38.035Z"
   },
   {
    "duration": 18,
    "start_time": "2022-10-18T18:59:37.207Z"
   },
   {
    "duration": 5,
    "start_time": "2022-10-18T19:02:16.484Z"
   },
   {
    "duration": 393,
    "start_time": "2022-10-18T19:02:37.356Z"
   },
   {
    "duration": 17,
    "start_time": "2022-10-18T19:02:48.033Z"
   },
   {
    "duration": 5,
    "start_time": "2022-10-18T19:04:46.881Z"
   },
   {
    "duration": 6,
    "start_time": "2022-10-18T19:05:22.683Z"
   },
   {
    "duration": 5,
    "start_time": "2022-10-18T19:05:45.103Z"
   },
   {
    "duration": 5,
    "start_time": "2022-10-18T19:05:55.778Z"
   },
   {
    "duration": 111,
    "start_time": "2022-10-18T19:06:44.720Z"
   },
   {
    "duration": 6,
    "start_time": "2022-10-18T19:07:17.679Z"
   },
   {
    "duration": 6,
    "start_time": "2022-10-18T19:07:24.427Z"
   },
   {
    "duration": 114,
    "start_time": "2022-10-18T19:07:36.341Z"
   },
   {
    "duration": 4,
    "start_time": "2022-10-18T19:07:58.148Z"
   },
   {
    "duration": 381,
    "start_time": "2022-10-18T21:03:37.570Z"
   },
   {
    "duration": 80,
    "start_time": "2022-10-18T21:03:37.953Z"
   },
   {
    "duration": 130,
    "start_time": "2022-10-18T21:03:38.035Z"
   },
   {
    "duration": 20,
    "start_time": "2022-10-18T21:03:38.166Z"
   },
   {
    "duration": 17,
    "start_time": "2022-10-18T21:03:38.188Z"
   },
   {
    "duration": 3,
    "start_time": "2022-10-18T21:03:38.207Z"
   },
   {
    "duration": 10,
    "start_time": "2022-10-18T21:03:38.212Z"
   },
   {
    "duration": 7,
    "start_time": "2022-10-18T21:03:38.224Z"
   },
   {
    "duration": 8,
    "start_time": "2022-10-18T21:03:38.233Z"
   },
   {
    "duration": 15,
    "start_time": "2022-10-18T21:03:38.243Z"
   },
   {
    "duration": 8,
    "start_time": "2022-10-18T21:03:38.260Z"
   },
   {
    "duration": 14,
    "start_time": "2022-10-18T21:03:38.270Z"
   },
   {
    "duration": 8,
    "start_time": "2022-10-18T21:03:38.285Z"
   },
   {
    "duration": 29,
    "start_time": "2022-10-18T21:03:38.297Z"
   },
   {
    "duration": 4,
    "start_time": "2022-10-18T21:03:38.328Z"
   },
   {
    "duration": 6,
    "start_time": "2022-10-18T21:03:38.333Z"
   },
   {
    "duration": 6,
    "start_time": "2022-10-18T21:03:38.341Z"
   },
   {
    "duration": 9,
    "start_time": "2022-10-18T21:03:38.348Z"
   },
   {
    "duration": 8,
    "start_time": "2022-10-18T21:03:38.358Z"
   },
   {
    "duration": 4,
    "start_time": "2022-10-18T21:03:38.368Z"
   },
   {
    "duration": 7,
    "start_time": "2022-10-18T21:03:38.373Z"
   },
   {
    "duration": 19,
    "start_time": "2022-10-18T21:03:38.382Z"
   },
   {
    "duration": 21,
    "start_time": "2022-10-18T21:03:38.403Z"
   },
   {
    "duration": 3,
    "start_time": "2022-10-18T21:03:38.426Z"
   },
   {
    "duration": 12,
    "start_time": "2022-10-18T21:03:38.431Z"
   },
   {
    "duration": 102,
    "start_time": "2022-10-18T21:03:38.444Z"
   },
   {
    "duration": 14,
    "start_time": "2022-10-18T21:03:38.547Z"
   },
   {
    "duration": 662,
    "start_time": "2022-10-18T21:03:38.562Z"
   },
   {
    "duration": 511,
    "start_time": "2022-10-18T21:03:39.226Z"
   },
   {
    "duration": 6,
    "start_time": "2022-10-18T21:03:39.739Z"
   },
   {
    "duration": 25,
    "start_time": "2022-10-18T21:03:39.746Z"
   },
   {
    "duration": 10,
    "start_time": "2022-10-18T21:03:39.772Z"
   },
   {
    "duration": 203,
    "start_time": "2022-10-18T21:03:39.783Z"
   },
   {
    "duration": 3,
    "start_time": "2022-10-18T21:03:39.988Z"
   },
   {
    "duration": 240,
    "start_time": "2022-10-18T21:03:39.992Z"
   },
   {
    "duration": 2,
    "start_time": "2022-10-18T21:03:40.234Z"
   },
   {
    "duration": 226,
    "start_time": "2022-10-18T21:03:40.238Z"
   },
   {
    "duration": 266,
    "start_time": "2022-10-18T21:03:40.466Z"
   },
   {
    "duration": 5,
    "start_time": "2022-10-18T21:03:40.734Z"
   },
   {
    "duration": 456,
    "start_time": "2022-10-18T21:03:40.741Z"
   },
   {
    "duration": 26,
    "start_time": "2022-10-18T21:03:41.202Z"
   },
   {
    "duration": 7,
    "start_time": "2022-10-18T21:03:41.230Z"
   },
   {
    "duration": 452,
    "start_time": "2022-10-18T21:03:41.238Z"
   },
   {
    "duration": 33,
    "start_time": "2022-10-18T21:03:41.693Z"
   },
   {
    "duration": 14,
    "start_time": "2022-10-18T21:03:41.729Z"
   },
   {
    "duration": 201,
    "start_time": "2022-10-18T21:03:41.746Z"
   },
   {
    "duration": 306,
    "start_time": "2022-10-18T21:03:41.949Z"
   },
   {
    "duration": 255,
    "start_time": "2022-10-18T21:03:42.257Z"
   },
   {
    "duration": 3,
    "start_time": "2022-10-18T21:03:42.513Z"
   },
   {
    "duration": 191,
    "start_time": "2022-10-18T21:03:42.522Z"
   },
   {
    "duration": 8,
    "start_time": "2022-10-18T21:03:42.714Z"
   },
   {
    "duration": 8,
    "start_time": "2022-10-18T21:03:42.724Z"
   },
   {
    "duration": 4,
    "start_time": "2022-10-18T21:03:42.733Z"
   },
   {
    "duration": 220,
    "start_time": "2022-10-18T21:03:42.739Z"
   },
   {
    "duration": 219,
    "start_time": "2022-10-18T21:03:42.961Z"
   },
   {
    "duration": 205,
    "start_time": "2022-10-18T21:03:43.181Z"
   },
   {
    "duration": 230,
    "start_time": "2022-10-18T21:03:43.387Z"
   },
   {
    "duration": 2,
    "start_time": "2022-10-18T21:03:43.621Z"
   },
   {
    "duration": 6,
    "start_time": "2022-10-18T21:03:43.625Z"
   },
   {
    "duration": 7,
    "start_time": "2022-10-18T21:03:43.632Z"
   },
   {
    "duration": 229,
    "start_time": "2022-10-18T21:03:43.640Z"
   },
   {
    "duration": 231,
    "start_time": "2022-10-18T21:03:43.870Z"
   },
   {
    "duration": 219,
    "start_time": "2022-10-18T21:03:44.103Z"
   },
   {
    "duration": 4,
    "start_time": "2022-10-18T21:03:44.323Z"
   },
   {
    "duration": 238,
    "start_time": "2022-10-18T21:03:44.328Z"
   },
   {
    "duration": 6,
    "start_time": "2022-10-18T21:03:44.568Z"
   },
   {
    "duration": 188,
    "start_time": "2022-10-18T21:03:44.576Z"
   },
   {
    "duration": 189,
    "start_time": "2022-10-18T21:03:44.766Z"
   },
   {
    "duration": 201,
    "start_time": "2022-10-18T21:03:44.957Z"
   },
   {
    "duration": 11,
    "start_time": "2022-10-18T21:03:45.160Z"
   },
   {
    "duration": 10,
    "start_time": "2022-10-18T21:03:45.172Z"
   },
   {
    "duration": 439,
    "start_time": "2022-10-18T21:03:45.184Z"
   },
   {
    "duration": 5,
    "start_time": "2022-10-18T21:03:45.625Z"
   },
   {
    "duration": 14,
    "start_time": "2022-10-18T21:03:45.633Z"
   },
   {
    "duration": 142,
    "start_time": "2022-10-18T21:03:45.649Z"
   },
   {
    "duration": 6,
    "start_time": "2022-10-18T21:03:45.793Z"
   },
   {
    "duration": 11,
    "start_time": "2022-10-18T21:03:45.801Z"
   },
   {
    "duration": 125,
    "start_time": "2022-10-18T21:03:45.822Z"
   },
   {
    "duration": 445,
    "start_time": "2023-01-12T06:45:46.592Z"
   },
   {
    "duration": 107,
    "start_time": "2023-01-12T06:45:47.039Z"
   },
   {
    "duration": 22,
    "start_time": "2023-01-12T06:45:47.149Z"
   },
   {
    "duration": 19,
    "start_time": "2023-01-12T06:45:47.174Z"
   },
   {
    "duration": 28,
    "start_time": "2023-01-12T06:45:47.195Z"
   },
   {
    "duration": 4,
    "start_time": "2023-01-12T06:45:47.225Z"
   },
   {
    "duration": 15,
    "start_time": "2023-01-12T06:45:47.231Z"
   },
   {
    "duration": 12,
    "start_time": "2023-01-12T06:45:47.248Z"
   },
   {
    "duration": 19,
    "start_time": "2023-01-12T06:45:47.262Z"
   },
   {
    "duration": 14,
    "start_time": "2023-01-12T06:45:47.285Z"
   },
   {
    "duration": 20,
    "start_time": "2023-01-12T06:45:47.301Z"
   },
   {
    "duration": 11,
    "start_time": "2023-01-12T06:45:47.323Z"
   },
   {
    "duration": 17,
    "start_time": "2023-01-12T06:45:47.336Z"
   },
   {
    "duration": 4,
    "start_time": "2023-01-12T06:45:47.355Z"
   },
   {
    "duration": 10,
    "start_time": "2023-01-12T06:45:47.360Z"
   },
   {
    "duration": 28,
    "start_time": "2023-01-12T06:45:47.372Z"
   },
   {
    "duration": 13,
    "start_time": "2023-01-12T06:45:47.402Z"
   },
   {
    "duration": 13,
    "start_time": "2023-01-12T06:45:47.418Z"
   },
   {
    "duration": 20,
    "start_time": "2023-01-12T06:45:47.433Z"
   },
   {
    "duration": 15,
    "start_time": "2023-01-12T06:45:47.455Z"
   },
   {
    "duration": 9,
    "start_time": "2023-01-12T06:45:47.472Z"
   },
   {
    "duration": 15,
    "start_time": "2023-01-12T06:45:47.483Z"
   },
   {
    "duration": 414,
    "start_time": "2023-01-12T06:45:47.500Z"
   },
   {
    "duration": 528,
    "start_time": "2023-01-12T06:45:47.917Z"
   },
   {
    "duration": 6,
    "start_time": "2023-01-12T06:45:48.447Z"
   },
   {
    "duration": 19,
    "start_time": "2023-01-12T06:45:48.455Z"
   },
   {
    "duration": 28,
    "start_time": "2023-01-12T06:45:48.476Z"
   },
   {
    "duration": 182,
    "start_time": "2023-01-12T06:45:48.509Z"
   },
   {
    "duration": 3,
    "start_time": "2023-01-12T06:45:48.697Z"
   },
   {
    "duration": 207,
    "start_time": "2023-01-12T06:45:48.702Z"
   },
   {
    "duration": 328,
    "start_time": "2023-01-12T06:45:48.912Z"
   },
   {
    "duration": 248,
    "start_time": "2023-01-12T06:45:49.242Z"
   },
   {
    "duration": 9,
    "start_time": "2023-01-12T06:45:49.492Z"
   },
   {
    "duration": 482,
    "start_time": "2023-01-12T06:45:49.502Z"
   },
   {
    "duration": 28,
    "start_time": "2023-01-12T06:45:49.986Z"
   },
   {
    "duration": 13,
    "start_time": "2023-01-12T06:45:50.016Z"
   },
   {
    "duration": 495,
    "start_time": "2023-01-12T06:45:50.031Z"
   },
   {
    "duration": 21,
    "start_time": "2023-01-12T06:45:50.528Z"
   },
   {
    "duration": 18,
    "start_time": "2023-01-12T06:45:50.550Z"
   },
   {
    "duration": 215,
    "start_time": "2023-01-12T06:45:50.570Z"
   },
   {
    "duration": 283,
    "start_time": "2023-01-12T06:45:50.787Z"
   },
   {
    "duration": 383,
    "start_time": "2023-01-12T06:45:51.072Z"
   },
   {
    "duration": 5,
    "start_time": "2023-01-12T06:45:51.457Z"
   },
   {
    "duration": 211,
    "start_time": "2023-01-12T06:45:51.464Z"
   },
   {
    "duration": 246,
    "start_time": "2023-01-12T06:45:51.677Z"
   },
   {
    "duration": 256,
    "start_time": "2023-01-12T06:45:51.925Z"
   },
   {
    "duration": 239,
    "start_time": "2023-01-12T06:45:52.184Z"
   },
   {
    "duration": 260,
    "start_time": "2023-01-12T06:45:52.424Z"
   },
   {
    "duration": 257,
    "start_time": "2023-01-12T06:45:52.686Z"
   },
   {
    "duration": 254,
    "start_time": "2023-01-12T06:45:52.945Z"
   },
   {
    "duration": 252,
    "start_time": "2023-01-12T06:45:53.201Z"
   },
   {
    "duration": 4,
    "start_time": "2023-01-12T06:45:53.454Z"
   },
   {
    "duration": 182,
    "start_time": "2023-01-12T06:45:53.460Z"
   },
   {
    "duration": 6,
    "start_time": "2023-01-12T06:45:53.643Z"
   },
   {
    "duration": 302,
    "start_time": "2023-01-12T06:45:53.650Z"
   },
   {
    "duration": 221,
    "start_time": "2023-01-12T06:45:53.954Z"
   },
   {
    "duration": 231,
    "start_time": "2023-01-12T06:45:54.176Z"
   },
   {
    "duration": 6,
    "start_time": "2023-01-12T06:45:54.408Z"
   },
   {
    "duration": 410,
    "start_time": "2023-01-12T06:45:54.416Z"
   },
   {
    "duration": 7,
    "start_time": "2023-01-12T06:45:54.827Z"
   },
   {
    "duration": 131,
    "start_time": "2023-01-12T06:45:54.835Z"
   },
   {
    "duration": 7,
    "start_time": "2023-01-12T06:45:54.968Z"
   },
   {
    "duration": 33,
    "start_time": "2023-01-12T06:45:54.977Z"
   },
   {
    "duration": 140,
    "start_time": "2023-01-12T06:45:55.012Z"
   }
  ],
  "kernelspec": {
   "display_name": "Python 3 (ipykernel)",
   "language": "python",
   "name": "python3"
  },
  "language_info": {
   "codemirror_mode": {
    "name": "ipython",
    "version": 3
   },
   "file_extension": ".py",
   "mimetype": "text/x-python",
   "name": "python",
   "nbconvert_exporter": "python",
   "pygments_lexer": "ipython3",
   "version": "3.9.5"
  },
  "toc": {
   "base_numbering": 1,
   "nav_menu": {},
   "number_sections": true,
   "sideBar": true,
   "skip_h1_title": true,
   "title_cell": "Table of Contents",
   "title_sidebar": "Contents",
   "toc_cell": false,
   "toc_position": {
    "height": "calc(100% - 180px)",
    "left": "10px",
    "top": "150px",
    "width": "228px"
   },
   "toc_section_display": true,
   "toc_window_display": true
  }
 },
 "nbformat": 4,
 "nbformat_minor": 2
}
