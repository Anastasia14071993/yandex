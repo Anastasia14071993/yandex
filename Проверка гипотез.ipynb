{
 "cells": [
  {
   "cell_type": "markdown",
   "metadata": {},
   "source": [
    "**Описание проекта**\n",
    "\n",
    "Крупный интернет-магазин подготовил список гипотез для увеличения выручки.\n",
    "Необходимо приоритизировать гипотезы, запустить A/B-тест и проанализировать результаты."
   ]
  },
  {
   "cell_type": "markdown",
   "metadata": {},
   "source": [
    "## Часть 1. Приоритизация гипотез."
   ]
  },
  {
   "cell_type": "markdown",
   "metadata": {},
   "source": [
    "В файле /datasets/hypothesis.csv 9 гипотез по увеличению выручки интернет-магазина с указанными параметрами Reach, Impact, Confidence, Effort.\n",
    "Задача:\n",
    "\n",
    "- Примените фреймворк ICE для приоритизации гипотез. Отсортируйте их по убыванию приоритета.\n",
    "- Примените фреймворк RICE для приоритизации гипотез. Отсортируйте их по убыванию приоритета.\n",
    "- Укажите, как изменилась приоритизация гипотез при применении RICE вместо ICE. Объясните, почему так произошло."
   ]
  },
  {
   "cell_type": "code",
   "execution_count": 91,
   "metadata": {},
   "outputs": [],
   "source": [
    "import pandas as pd "
   ]
  },
  {
   "cell_type": "code",
   "execution_count": 92,
   "metadata": {},
   "outputs": [],
   "source": [
    "hypothesis=pd.read_csv('/datasets/hypothesis.csv')"
   ]
  },
  {
   "cell_type": "code",
   "execution_count": 93,
   "metadata": {
    "collapsed": true
   },
   "outputs": [
    {
     "data": {
      "text/html": [
       "<div>\n",
       "<style scoped>\n",
       "    .dataframe tbody tr th:only-of-type {\n",
       "        vertical-align: middle;\n",
       "    }\n",
       "\n",
       "    .dataframe tbody tr th {\n",
       "        vertical-align: top;\n",
       "    }\n",
       "\n",
       "    .dataframe thead th {\n",
       "        text-align: right;\n",
       "    }\n",
       "</style>\n",
       "<table border=\"1\" class=\"dataframe\">\n",
       "  <thead>\n",
       "    <tr style=\"text-align: right;\">\n",
       "      <th></th>\n",
       "      <th>Hypothesis</th>\n",
       "      <th>Reach</th>\n",
       "      <th>Impact</th>\n",
       "      <th>Confidence</th>\n",
       "      <th>Efforts</th>\n",
       "    </tr>\n",
       "  </thead>\n",
       "  <tbody>\n",
       "    <tr>\n",
       "      <th>0</th>\n",
       "      <td>Добавить два новых канала привлечения трафика, что позволит привлекать на 30% больше пользователей</td>\n",
       "      <td>3</td>\n",
       "      <td>10</td>\n",
       "      <td>8</td>\n",
       "      <td>6</td>\n",
       "    </tr>\n",
       "    <tr>\n",
       "      <th>1</th>\n",
       "      <td>Запустить собственную службу доставки, что сократит срок доставки заказов</td>\n",
       "      <td>2</td>\n",
       "      <td>5</td>\n",
       "      <td>4</td>\n",
       "      <td>10</td>\n",
       "    </tr>\n",
       "    <tr>\n",
       "      <th>2</th>\n",
       "      <td>Добавить блоки рекомендаций товаров на сайт интернет магазина, чтобы повысить конверсию и средний чек заказа</td>\n",
       "      <td>8</td>\n",
       "      <td>3</td>\n",
       "      <td>7</td>\n",
       "      <td>3</td>\n",
       "    </tr>\n",
       "    <tr>\n",
       "      <th>3</th>\n",
       "      <td>Изменить структура категорий, что увеличит конверсию, т.к. пользователи быстрее найдут нужный товар</td>\n",
       "      <td>8</td>\n",
       "      <td>3</td>\n",
       "      <td>3</td>\n",
       "      <td>8</td>\n",
       "    </tr>\n",
       "    <tr>\n",
       "      <th>4</th>\n",
       "      <td>Изменить цвет фона главной страницы, чтобы увеличить вовлеченность пользователей</td>\n",
       "      <td>3</td>\n",
       "      <td>1</td>\n",
       "      <td>1</td>\n",
       "      <td>1</td>\n",
       "    </tr>\n",
       "    <tr>\n",
       "      <th>5</th>\n",
       "      <td>Добавить страницу отзывов клиентов о магазине, что позволит увеличить количество заказов</td>\n",
       "      <td>3</td>\n",
       "      <td>2</td>\n",
       "      <td>2</td>\n",
       "      <td>3</td>\n",
       "    </tr>\n",
       "    <tr>\n",
       "      <th>6</th>\n",
       "      <td>Показать на главной странице баннеры с актуальными акциями и распродажами, чтобы увеличить конверсию</td>\n",
       "      <td>5</td>\n",
       "      <td>3</td>\n",
       "      <td>8</td>\n",
       "      <td>3</td>\n",
       "    </tr>\n",
       "    <tr>\n",
       "      <th>7</th>\n",
       "      <td>Добавить форму подписки на все основные страницы, чтобы собрать базу клиентов для email-рассылок</td>\n",
       "      <td>10</td>\n",
       "      <td>7</td>\n",
       "      <td>8</td>\n",
       "      <td>5</td>\n",
       "    </tr>\n",
       "    <tr>\n",
       "      <th>8</th>\n",
       "      <td>Запустить акцию, дающую скидку на товар в день рождения</td>\n",
       "      <td>1</td>\n",
       "      <td>9</td>\n",
       "      <td>9</td>\n",
       "      <td>5</td>\n",
       "    </tr>\n",
       "  </tbody>\n",
       "</table>\n",
       "</div>"
      ],
      "text/plain": [
       "                                                                                                     Hypothesis  \\\n",
       "0            Добавить два новых канала привлечения трафика, что позволит привлекать на 30% больше пользователей   \n",
       "1                                     Запустить собственную службу доставки, что сократит срок доставки заказов   \n",
       "2  Добавить блоки рекомендаций товаров на сайт интернет магазина, чтобы повысить конверсию и средний чек заказа   \n",
       "3           Изменить структура категорий, что увеличит конверсию, т.к. пользователи быстрее найдут нужный товар   \n",
       "4                              Изменить цвет фона главной страницы, чтобы увеличить вовлеченность пользователей   \n",
       "5                      Добавить страницу отзывов клиентов о магазине, что позволит увеличить количество заказов   \n",
       "6          Показать на главной странице баннеры с актуальными акциями и распродажами, чтобы увеличить конверсию   \n",
       "7              Добавить форму подписки на все основные страницы, чтобы собрать базу клиентов для email-рассылок   \n",
       "8                                                       Запустить акцию, дающую скидку на товар в день рождения   \n",
       "\n",
       "   Reach  Impact  Confidence  Efforts  \n",
       "0      3      10           8        6  \n",
       "1      2       5           4       10  \n",
       "2      8       3           7        3  \n",
       "3      8       3           3        8  \n",
       "4      3       1           1        1  \n",
       "5      3       2           2        3  \n",
       "6      5       3           8        3  \n",
       "7     10       7           8        5  \n",
       "8      1       9           9        5  "
      ]
     },
     "metadata": {},
     "output_type": "display_data"
    }
   ],
   "source": [
    "display(hypothesis) #выведем на экран датасет, для ознакомления"
   ]
  },
  {
   "cell_type": "code",
   "execution_count": 94,
   "metadata": {},
   "outputs": [
    {
     "name": "stdout",
     "output_type": "stream",
     "text": [
      "<class 'pandas.core.frame.DataFrame'>\n",
      "RangeIndex: 9 entries, 0 to 8\n",
      "Data columns (total 5 columns):\n",
      " #   Column      Non-Null Count  Dtype \n",
      "---  ------      --------------  ----- \n",
      " 0   Hypothesis  9 non-null      object\n",
      " 1   Reach       9 non-null      int64 \n",
      " 2   Impact      9 non-null      int64 \n",
      " 3   Confidence  9 non-null      int64 \n",
      " 4   Efforts     9 non-null      int64 \n",
      "dtypes: int64(4), object(1)\n",
      "memory usage: 488.0+ bytes\n"
     ]
    }
   ],
   "source": [
    "hypothesis.info() #ознакомимся с данными"
   ]
  },
  {
   "cell_type": "code",
   "execution_count": 95,
   "metadata": {},
   "outputs": [],
   "source": [
    "#приведем названия колонок к общепринятому стилю\n",
    "hypothesis.columns=hypothesis.columns.str.lower()"
   ]
  },
  {
   "cell_type": "code",
   "execution_count": 96,
   "metadata": {},
   "outputs": [
    {
     "data": {
      "text/html": [
       "<div>\n",
       "<style scoped>\n",
       "    .dataframe tbody tr th:only-of-type {\n",
       "        vertical-align: middle;\n",
       "    }\n",
       "\n",
       "    .dataframe tbody tr th {\n",
       "        vertical-align: top;\n",
       "    }\n",
       "\n",
       "    .dataframe thead th {\n",
       "        text-align: right;\n",
       "    }\n",
       "</style>\n",
       "<table border=\"1\" class=\"dataframe\">\n",
       "  <thead>\n",
       "    <tr style=\"text-align: right;\">\n",
       "      <th></th>\n",
       "      <th>hypothesis</th>\n",
       "      <th>ICE</th>\n",
       "    </tr>\n",
       "  </thead>\n",
       "  <tbody>\n",
       "    <tr>\n",
       "      <th>8</th>\n",
       "      <td>Запустить акцию, дающую скидку на товар в день рождения</td>\n",
       "      <td>16.20</td>\n",
       "    </tr>\n",
       "    <tr>\n",
       "      <th>0</th>\n",
       "      <td>Добавить два новых канала привлечения трафика, что позволит привлекать на 30% больше пользователей</td>\n",
       "      <td>13.33</td>\n",
       "    </tr>\n",
       "    <tr>\n",
       "      <th>7</th>\n",
       "      <td>Добавить форму подписки на все основные страницы, чтобы собрать базу клиентов для email-рассылок</td>\n",
       "      <td>11.20</td>\n",
       "    </tr>\n",
       "    <tr>\n",
       "      <th>6</th>\n",
       "      <td>Показать на главной странице баннеры с актуальными акциями и распродажами, чтобы увеличить конверсию</td>\n",
       "      <td>8.00</td>\n",
       "    </tr>\n",
       "    <tr>\n",
       "      <th>2</th>\n",
       "      <td>Добавить блоки рекомендаций товаров на сайт интернет магазина, чтобы повысить конверсию и средний чек заказа</td>\n",
       "      <td>7.00</td>\n",
       "    </tr>\n",
       "    <tr>\n",
       "      <th>1</th>\n",
       "      <td>Запустить собственную службу доставки, что сократит срок доставки заказов</td>\n",
       "      <td>2.00</td>\n",
       "    </tr>\n",
       "    <tr>\n",
       "      <th>5</th>\n",
       "      <td>Добавить страницу отзывов клиентов о магазине, что позволит увеличить количество заказов</td>\n",
       "      <td>1.33</td>\n",
       "    </tr>\n",
       "    <tr>\n",
       "      <th>3</th>\n",
       "      <td>Изменить структура категорий, что увеличит конверсию, т.к. пользователи быстрее найдут нужный товар</td>\n",
       "      <td>1.12</td>\n",
       "    </tr>\n",
       "    <tr>\n",
       "      <th>4</th>\n",
       "      <td>Изменить цвет фона главной страницы, чтобы увеличить вовлеченность пользователей</td>\n",
       "      <td>1.00</td>\n",
       "    </tr>\n",
       "  </tbody>\n",
       "</table>\n",
       "</div>"
      ],
      "text/plain": [
       "                                                                                                     hypothesis  \\\n",
       "8                                                       Запустить акцию, дающую скидку на товар в день рождения   \n",
       "0            Добавить два новых канала привлечения трафика, что позволит привлекать на 30% больше пользователей   \n",
       "7              Добавить форму подписки на все основные страницы, чтобы собрать базу клиентов для email-рассылок   \n",
       "6          Показать на главной странице баннеры с актуальными акциями и распродажами, чтобы увеличить конверсию   \n",
       "2  Добавить блоки рекомендаций товаров на сайт интернет магазина, чтобы повысить конверсию и средний чек заказа   \n",
       "1                                     Запустить собственную службу доставки, что сократит срок доставки заказов   \n",
       "5                      Добавить страницу отзывов клиентов о магазине, что позволит увеличить количество заказов   \n",
       "3           Изменить структура категорий, что увеличит конверсию, т.к. пользователи быстрее найдут нужный товар   \n",
       "4                              Изменить цвет фона главной страницы, чтобы увеличить вовлеченность пользователей   \n",
       "\n",
       "     ICE  \n",
       "8  16.20  \n",
       "0  13.33  \n",
       "7  11.20  \n",
       "6   8.00  \n",
       "2   7.00  \n",
       "1   2.00  \n",
       "5   1.33  \n",
       "3   1.12  \n",
       "4   1.00  "
      ]
     },
     "metadata": {},
     "output_type": "display_data"
    }
   ],
   "source": [
    "# применим фреймворк ICE\n",
    "hypothesis['ICE']= round(hypothesis['impact']*hypothesis['confidence']/hypothesis['efforts'], 2)\n",
    "display(hypothesis[['hypothesis', 'ICE']].sort_values(by='ICE', ascending=False))\n",
    "pd.set_option('display.max_colwidth', None)"
   ]
  },
  {
   "cell_type": "markdown",
   "metadata": {},
   "source": [
    "Наиболее перспективными гипотезами по ICE являются следующие гипотезы:\n",
    "\n",
    "- Запустить акцию, дающую скидку на товар в день рождения;\n",
    "\n",
    "- Добавить два новых канала привлечения трафика, что позволит привлекать на 30% больше пользователей;\n",
    "\n",
    "- Добавить форму подписки на все основные страницы, чтобы собрать базу клиентов для email-рассылок;\n",
    "\n",
    "- Показать на главной странице баннеры с актуальными акциями и распродажами, чтобы увеличить конверсию\t"
   ]
  },
  {
   "cell_type": "code",
   "execution_count": 97,
   "metadata": {},
   "outputs": [
    {
     "data": {
      "text/html": [
       "<div>\n",
       "<style scoped>\n",
       "    .dataframe tbody tr th:only-of-type {\n",
       "        vertical-align: middle;\n",
       "    }\n",
       "\n",
       "    .dataframe tbody tr th {\n",
       "        vertical-align: top;\n",
       "    }\n",
       "\n",
       "    .dataframe thead th {\n",
       "        text-align: right;\n",
       "    }\n",
       "</style>\n",
       "<table border=\"1\" class=\"dataframe\">\n",
       "  <thead>\n",
       "    <tr style=\"text-align: right;\">\n",
       "      <th></th>\n",
       "      <th>hypothesis</th>\n",
       "      <th>RICE</th>\n",
       "    </tr>\n",
       "  </thead>\n",
       "  <tbody>\n",
       "    <tr>\n",
       "      <th>7</th>\n",
       "      <td>Добавить форму подписки на все основные страницы, чтобы собрать базу клиентов для email-рассылок</td>\n",
       "      <td>112.0</td>\n",
       "    </tr>\n",
       "    <tr>\n",
       "      <th>2</th>\n",
       "      <td>Добавить блоки рекомендаций товаров на сайт интернет магазина, чтобы повысить конверсию и средний чек заказа</td>\n",
       "      <td>56.0</td>\n",
       "    </tr>\n",
       "    <tr>\n",
       "      <th>0</th>\n",
       "      <td>Добавить два новых канала привлечения трафика, что позволит привлекать на 30% больше пользователей</td>\n",
       "      <td>40.0</td>\n",
       "    </tr>\n",
       "    <tr>\n",
       "      <th>6</th>\n",
       "      <td>Показать на главной странице баннеры с актуальными акциями и распродажами, чтобы увеличить конверсию</td>\n",
       "      <td>40.0</td>\n",
       "    </tr>\n",
       "    <tr>\n",
       "      <th>8</th>\n",
       "      <td>Запустить акцию, дающую скидку на товар в день рождения</td>\n",
       "      <td>16.2</td>\n",
       "    </tr>\n",
       "    <tr>\n",
       "      <th>3</th>\n",
       "      <td>Изменить структура категорий, что увеличит конверсию, т.к. пользователи быстрее найдут нужный товар</td>\n",
       "      <td>9.0</td>\n",
       "    </tr>\n",
       "    <tr>\n",
       "      <th>1</th>\n",
       "      <td>Запустить собственную службу доставки, что сократит срок доставки заказов</td>\n",
       "      <td>4.0</td>\n",
       "    </tr>\n",
       "    <tr>\n",
       "      <th>5</th>\n",
       "      <td>Добавить страницу отзывов клиентов о магазине, что позволит увеличить количество заказов</td>\n",
       "      <td>4.0</td>\n",
       "    </tr>\n",
       "    <tr>\n",
       "      <th>4</th>\n",
       "      <td>Изменить цвет фона главной страницы, чтобы увеличить вовлеченность пользователей</td>\n",
       "      <td>3.0</td>\n",
       "    </tr>\n",
       "  </tbody>\n",
       "</table>\n",
       "</div>"
      ],
      "text/plain": [
       "                                                                                                     hypothesis  \\\n",
       "7              Добавить форму подписки на все основные страницы, чтобы собрать базу клиентов для email-рассылок   \n",
       "2  Добавить блоки рекомендаций товаров на сайт интернет магазина, чтобы повысить конверсию и средний чек заказа   \n",
       "0            Добавить два новых канала привлечения трафика, что позволит привлекать на 30% больше пользователей   \n",
       "6          Показать на главной странице баннеры с актуальными акциями и распродажами, чтобы увеличить конверсию   \n",
       "8                                                       Запустить акцию, дающую скидку на товар в день рождения   \n",
       "3           Изменить структура категорий, что увеличит конверсию, т.к. пользователи быстрее найдут нужный товар   \n",
       "1                                     Запустить собственную службу доставки, что сократит срок доставки заказов   \n",
       "5                      Добавить страницу отзывов клиентов о магазине, что позволит увеличить количество заказов   \n",
       "4                              Изменить цвет фона главной страницы, чтобы увеличить вовлеченность пользователей   \n",
       "\n",
       "    RICE  \n",
       "7  112.0  \n",
       "2   56.0  \n",
       "0   40.0  \n",
       "6   40.0  \n",
       "8   16.2  \n",
       "3    9.0  \n",
       "1    4.0  \n",
       "5    4.0  \n",
       "4    3.0  "
      ]
     },
     "metadata": {},
     "output_type": "display_data"
    }
   ],
   "source": [
    "# применим фреймворк RICE\n",
    "hypothesis['RICE']=hypothesis['reach']*hypothesis['impact']*hypothesis['confidence']/hypothesis['efforts']\n",
    "display(hypothesis[['hypothesis', 'RICE']].sort_values(by='RICE', ascending=False))"
   ]
  },
  {
   "cell_type": "markdown",
   "metadata": {},
   "source": [
    "Наиболее перспективными гипотезами по RICE являются следующие гипотезы:\n",
    " - Добавить форму подписки на все основные страницы, чтобы собрать базу клиентов для email-рассыло;\n",
    " - Добавить блоки рекомендаций товаров на сайт интернет магазина, чтобы повысить конверсию и средний чек заказа;\n",
    " - Добавить два новых канала привлечения трафика, что позволит привлекать на 30% больше пользователей;\n",
    " - Показать на главной странице баннеры с актуальными акциями и распродажами, чтобы увеличить конверсию."
   ]
  },
  {
   "cell_type": "markdown",
   "metadata": {},
   "source": [
    "**Вывод:**\n",
    "\n",
    "Изменения в приоритизации гипотез при применении RICE вместо ICE связаны с тем, что параметр reach в гипотезах \"Добавить форму подписки на все основные страницы, чтобы собрать базу клиентов для email-рассылок\" и \"Добавить блоки рекомендаций товаров на сайт интернет магазина, чтобы повысить конверсию и средний чек заказа\" имеют наибольшие значения: 10 и 8 соответсвенно. В связи с этим самой перспективной является гипотеза \"Добавить форму подписки на все основные страницы, чтобы собрать базу клиентов для email-рассылок\", чуть менее перспективной является гипотеза \"Добавить блоки рекомендаций товаров на сайт интернет магазина, чтобы повысить конверсию и средний чек заказа\", далее \"Добавить два новых канала привлечения трафика, что позволит привлекать на 30% больше пользователей\" и \"Показать на главной странице баннеры с актуальными акциями и распродажами, чтобы увеличить конверсию\". \n"
   ]
  },
  {
   "cell_type": "markdown",
   "metadata": {},
   "source": [
    "## Часть 2. Анализ A/B-теста"
   ]
  },
  {
   "cell_type": "markdown",
   "metadata": {},
   "source": [
    "Вы провели A/B-тест и получили результаты, которые описаны в файлах /datasets/orders.csv и /datasets/visitors.csv.\n",
    "Задача\n",
    "Проанализируйте A/B-тест:\n",
    "- Постройте график кумулятивной выручки по группам. Сделайте выводы и предположения.\n",
    "- Постройте график кумулятивного среднего чека по группам. Сделайте выводы и предположения.\n",
    "- Постройте график относительного изменения кумулятивного среднего чека группы B к группе A. Сделайте выводы и предположения.\n",
    "- Постройте график кумулятивного среднего количества заказов на посетителя по группам. Сделайте выводы и предположения.\n",
    "- Постройте график относительного изменения кумулятивного среднего количества заказов на посетителя группы B к группе A. Сделайте выводы и предположения.\n",
    "- Постройте точечный график количества заказов по пользователям. Сделайте выводы и предположения.\n",
    "- Посчитайте 95-й и 99-й перцентили количества заказов на пользователя. Выберите границу для определения аномальных пользователей.\n",
    "- Постройте точечный график стоимостей заказов. Сделайте выводы и предположения.\n",
    "- Посчитайте 95-й и 99-й перцентили стоимости заказов. Выберите границу для определения аномальных заказов.\n",
    "- Посчитайте статистическую значимость различий в среднем количестве заказов на посетителя между группами по «сырым» данным. Сделайте выводы и предположения.\n",
    "- Посчитайте статистическую значимость различий в среднем чеке заказа между группами по «сырым» данным. Сделайте выводы и предположения.\n",
    "- Посчитайте статистическую значимость различий в среднем количестве заказов на посетителя между группами по «очищенным» данным. Сделайте выводы и предположения.\n",
    "- Посчитайте статистическую значимость различий в среднем чеке заказа между группами по «очищенным» данным. Сделайте выводы и предположения.\n",
    "- Примите решение по результатам теста и объясните его. Варианты решений: 1. Остановить тест, зафиксировать победу одной из групп. 2. Остановить тест, зафиксировать отсутствие различий между группами. 3. Продолжить тест."
   ]
  },
  {
   "cell_type": "code",
   "execution_count": 98,
   "metadata": {},
   "outputs": [],
   "source": [
    "import datetime as dt\n",
    "import numpy as np"
   ]
  },
  {
   "cell_type": "code",
   "execution_count": 99,
   "metadata": {},
   "outputs": [],
   "source": [
    "orders=pd.read_csv('/datasets/orders.csv')\n",
    "visitors=pd.read_csv('/datasets/visitors.csv')"
   ]
  },
  {
   "cell_type": "code",
   "execution_count": 100,
   "metadata": {},
   "outputs": [
    {
     "data": {
      "text/html": [
       "<div>\n",
       "<style scoped>\n",
       "    .dataframe tbody tr th:only-of-type {\n",
       "        vertical-align: middle;\n",
       "    }\n",
       "\n",
       "    .dataframe tbody tr th {\n",
       "        vertical-align: top;\n",
       "    }\n",
       "\n",
       "    .dataframe thead th {\n",
       "        text-align: right;\n",
       "    }\n",
       "</style>\n",
       "<table border=\"1\" class=\"dataframe\">\n",
       "  <thead>\n",
       "    <tr style=\"text-align: right;\">\n",
       "      <th></th>\n",
       "      <th>transactionId</th>\n",
       "      <th>visitorId</th>\n",
       "      <th>date</th>\n",
       "      <th>revenue</th>\n",
       "      <th>group</th>\n",
       "    </tr>\n",
       "  </thead>\n",
       "  <tbody>\n",
       "    <tr>\n",
       "      <th>0</th>\n",
       "      <td>3667963787</td>\n",
       "      <td>3312258926</td>\n",
       "      <td>2019-08-15</td>\n",
       "      <td>1650</td>\n",
       "      <td>B</td>\n",
       "    </tr>\n",
       "    <tr>\n",
       "      <th>1</th>\n",
       "      <td>2804400009</td>\n",
       "      <td>3642806036</td>\n",
       "      <td>2019-08-15</td>\n",
       "      <td>730</td>\n",
       "      <td>B</td>\n",
       "    </tr>\n",
       "    <tr>\n",
       "      <th>2</th>\n",
       "      <td>2961555356</td>\n",
       "      <td>4069496402</td>\n",
       "      <td>2019-08-15</td>\n",
       "      <td>400</td>\n",
       "      <td>A</td>\n",
       "    </tr>\n",
       "    <tr>\n",
       "      <th>3</th>\n",
       "      <td>3797467345</td>\n",
       "      <td>1196621759</td>\n",
       "      <td>2019-08-15</td>\n",
       "      <td>9759</td>\n",
       "      <td>B</td>\n",
       "    </tr>\n",
       "    <tr>\n",
       "      <th>4</th>\n",
       "      <td>2282983706</td>\n",
       "      <td>2322279887</td>\n",
       "      <td>2019-08-15</td>\n",
       "      <td>2308</td>\n",
       "      <td>B</td>\n",
       "    </tr>\n",
       "  </tbody>\n",
       "</table>\n",
       "</div>"
      ],
      "text/plain": [
       "   transactionId   visitorId        date  revenue group\n",
       "0     3667963787  3312258926  2019-08-15     1650     B\n",
       "1     2804400009  3642806036  2019-08-15      730     B\n",
       "2     2961555356  4069496402  2019-08-15      400     A\n",
       "3     3797467345  1196621759  2019-08-15     9759     B\n",
       "4     2282983706  2322279887  2019-08-15     2308     B"
      ]
     },
     "metadata": {},
     "output_type": "display_data"
    },
    {
     "data": {
      "text/html": [
       "<div>\n",
       "<style scoped>\n",
       "    .dataframe tbody tr th:only-of-type {\n",
       "        vertical-align: middle;\n",
       "    }\n",
       "\n",
       "    .dataframe tbody tr th {\n",
       "        vertical-align: top;\n",
       "    }\n",
       "\n",
       "    .dataframe thead th {\n",
       "        text-align: right;\n",
       "    }\n",
       "</style>\n",
       "<table border=\"1\" class=\"dataframe\">\n",
       "  <thead>\n",
       "    <tr style=\"text-align: right;\">\n",
       "      <th></th>\n",
       "      <th>date</th>\n",
       "      <th>group</th>\n",
       "      <th>visitors</th>\n",
       "    </tr>\n",
       "  </thead>\n",
       "  <tbody>\n",
       "    <tr>\n",
       "      <th>0</th>\n",
       "      <td>2019-08-01</td>\n",
       "      <td>A</td>\n",
       "      <td>719</td>\n",
       "    </tr>\n",
       "    <tr>\n",
       "      <th>1</th>\n",
       "      <td>2019-08-02</td>\n",
       "      <td>A</td>\n",
       "      <td>619</td>\n",
       "    </tr>\n",
       "    <tr>\n",
       "      <th>2</th>\n",
       "      <td>2019-08-03</td>\n",
       "      <td>A</td>\n",
       "      <td>507</td>\n",
       "    </tr>\n",
       "    <tr>\n",
       "      <th>3</th>\n",
       "      <td>2019-08-04</td>\n",
       "      <td>A</td>\n",
       "      <td>717</td>\n",
       "    </tr>\n",
       "    <tr>\n",
       "      <th>4</th>\n",
       "      <td>2019-08-05</td>\n",
       "      <td>A</td>\n",
       "      <td>756</td>\n",
       "    </tr>\n",
       "  </tbody>\n",
       "</table>\n",
       "</div>"
      ],
      "text/plain": [
       "         date group  visitors\n",
       "0  2019-08-01     A       719\n",
       "1  2019-08-02     A       619\n",
       "2  2019-08-03     A       507\n",
       "3  2019-08-04     A       717\n",
       "4  2019-08-05     A       756"
      ]
     },
     "metadata": {},
     "output_type": "display_data"
    }
   ],
   "source": [
    "# для ознакомления выведем по 5 первых строк датасетов\n",
    "display(orders.head())\n",
    "display(visitors.head())"
   ]
  },
  {
   "cell_type": "code",
   "execution_count": 101,
   "metadata": {},
   "outputs": [
    {
     "name": "stdout",
     "output_type": "stream",
     "text": [
      "<class 'pandas.core.frame.DataFrame'>\n",
      "RangeIndex: 1197 entries, 0 to 1196\n",
      "Data columns (total 5 columns):\n",
      " #   Column         Non-Null Count  Dtype \n",
      "---  ------         --------------  ----- \n",
      " 0   transactionId  1197 non-null   int64 \n",
      " 1   visitorId      1197 non-null   int64 \n",
      " 2   date           1197 non-null   object\n",
      " 3   revenue        1197 non-null   int64 \n",
      " 4   group          1197 non-null   object\n",
      "dtypes: int64(3), object(2)\n",
      "memory usage: 46.9+ KB\n",
      "<class 'pandas.core.frame.DataFrame'>\n",
      "RangeIndex: 62 entries, 0 to 61\n",
      "Data columns (total 3 columns):\n",
      " #   Column    Non-Null Count  Dtype \n",
      "---  ------    --------------  ----- \n",
      " 0   date      62 non-null     object\n",
      " 1   group     62 non-null     object\n",
      " 2   visitors  62 non-null     int64 \n",
      "dtypes: int64(1), object(2)\n",
      "memory usage: 1.6+ KB\n"
     ]
    }
   ],
   "source": [
    "# ознакомимся с информацией о датасетах\n",
    "orders.info()\n",
    "visitors.info()"
   ]
  },
  {
   "cell_type": "markdown",
   "metadata": {},
   "source": [
    "**Построим график кумулятивной выручки по группам**"
   ]
  },
  {
   "cell_type": "code",
   "execution_count": 102,
   "metadata": {},
   "outputs": [],
   "source": [
    "# создим массив уникальных пар значений дат и групп теста\n",
    "datesGroups = orders[['date','group']].drop_duplicates()"
   ]
  },
  {
   "cell_type": "code",
   "execution_count": 103,
   "metadata": {},
   "outputs": [],
   "source": [
    "# cоберём агрегированные кумулятивные по дням данные о заказах\n",
    "ordersAggregated = datesGroups.apply(lambda x: orders[np.logical_and(orders['date'] <= x['date'], orders['group'] == x['group'])]\\\n",
    ".agg({'date' : 'max', 'group' : 'max', 'transactionId' : 'nunique', 'visitorId' : 'nunique', 'revenue' : 'sum'}), axis=1).sort_values(by=['date','group'])"
   ]
  },
  {
   "cell_type": "code",
   "execution_count": 104,
   "metadata": {},
   "outputs": [],
   "source": [
    "# cоберём агрегированные кумулятивные по дням данные о посетителях\n",
    "visitorsAggregated = datesGroups.apply(lambda x: visitors[np.logical_and(visitors['date'] <= x['date'], visitors['group'] == x['group'])]\\\n",
    ".agg({'date' : 'max', 'group' : 'max', 'visitors' : 'sum'}), axis=1).sort_values(by=['date','group'])"
   ]
  },
  {
   "cell_type": "code",
   "execution_count": 105,
   "metadata": {},
   "outputs": [
    {
     "data": {
      "text/html": [
       "<div>\n",
       "<style scoped>\n",
       "    .dataframe tbody tr th:only-of-type {\n",
       "        vertical-align: middle;\n",
       "    }\n",
       "\n",
       "    .dataframe tbody tr th {\n",
       "        vertical-align: top;\n",
       "    }\n",
       "\n",
       "    .dataframe thead th {\n",
       "        text-align: right;\n",
       "    }\n",
       "</style>\n",
       "<table border=\"1\" class=\"dataframe\">\n",
       "  <thead>\n",
       "    <tr style=\"text-align: right;\">\n",
       "      <th></th>\n",
       "      <th>date</th>\n",
       "      <th>group</th>\n",
       "      <th>orders</th>\n",
       "      <th>buyers</th>\n",
       "      <th>revenue</th>\n",
       "      <th>visitors</th>\n",
       "    </tr>\n",
       "  </thead>\n",
       "  <tbody>\n",
       "    <tr>\n",
       "      <th>0</th>\n",
       "      <td>2019-08-01</td>\n",
       "      <td>A</td>\n",
       "      <td>24</td>\n",
       "      <td>20</td>\n",
       "      <td>148579</td>\n",
       "      <td>719</td>\n",
       "    </tr>\n",
       "    <tr>\n",
       "      <th>1</th>\n",
       "      <td>2019-08-01</td>\n",
       "      <td>B</td>\n",
       "      <td>21</td>\n",
       "      <td>20</td>\n",
       "      <td>101217</td>\n",
       "      <td>713</td>\n",
       "    </tr>\n",
       "    <tr>\n",
       "      <th>2</th>\n",
       "      <td>2019-08-02</td>\n",
       "      <td>A</td>\n",
       "      <td>44</td>\n",
       "      <td>38</td>\n",
       "      <td>242401</td>\n",
       "      <td>1338</td>\n",
       "    </tr>\n",
       "    <tr>\n",
       "      <th>3</th>\n",
       "      <td>2019-08-02</td>\n",
       "      <td>B</td>\n",
       "      <td>45</td>\n",
       "      <td>43</td>\n",
       "      <td>266748</td>\n",
       "      <td>1294</td>\n",
       "    </tr>\n",
       "    <tr>\n",
       "      <th>4</th>\n",
       "      <td>2019-08-03</td>\n",
       "      <td>A</td>\n",
       "      <td>68</td>\n",
       "      <td>62</td>\n",
       "      <td>354874</td>\n",
       "      <td>1845</td>\n",
       "    </tr>\n",
       "  </tbody>\n",
       "</table>\n",
       "</div>"
      ],
      "text/plain": [
       "         date group  orders  buyers  revenue  visitors\n",
       "0  2019-08-01     A      24      20   148579       719\n",
       "1  2019-08-01     B      21      20   101217       713\n",
       "2  2019-08-02     A      44      38   242401      1338\n",
       "3  2019-08-02     B      45      43   266748      1294\n",
       "4  2019-08-03     A      68      62   354874      1845"
      ]
     },
     "metadata": {},
     "output_type": "display_data"
    }
   ],
   "source": [
    "# объединим кумулятивные данные в одной таблице и присвоим ее столбцам понятные названия\n",
    "cumulativeData = ordersAggregated.merge(visitorsAggregated, left_on=['date', 'group'], right_on=['date', 'group'])\n",
    "cumulativeData.columns = ['date', 'group', 'orders', 'buyers', 'revenue', 'visitors']\n",
    "display(cumulativeData.head())"
   ]
  },
  {
   "cell_type": "code",
   "execution_count": 106,
   "metadata": {},
   "outputs": [
    {
     "data": {
      "text/plain": [
       "0"
      ]
     },
     "execution_count": 106,
     "metadata": {},
     "output_type": "execute_result"
    }
   ],
   "source": [
    "orders.duplicated().sum()"
   ]
  },
  {
   "cell_type": "code",
   "execution_count": 107,
   "metadata": {},
   "outputs": [
    {
     "data": {
      "text/plain": [
       "0"
      ]
     },
     "execution_count": 107,
     "metadata": {},
     "output_type": "execute_result"
    }
   ],
   "source": [
    "visitors.duplicated().sum()"
   ]
  },
  {
   "cell_type": "markdown",
   "metadata": {},
   "source": [
    "Явные дубликаты отсутствуют"
   ]
  },
  {
   "cell_type": "code",
   "execution_count": 108,
   "metadata": {},
   "outputs": [
    {
     "data": {
      "text/plain": [
       "group    58\n",
       "dtype: int64"
      ]
     },
     "execution_count": 108,
     "metadata": {},
     "output_type": "execute_result"
    }
   ],
   "source": [
    "# проверим, сколько пользователей входят одновременно в обе группы\n",
    "orders.groupby('visitorId').agg({'group' : 'nunique'}).query('group>1').count()"
   ]
  },
  {
   "cell_type": "markdown",
   "metadata": {},
   "source": [
    "58 пользователей состоят в группе А и В. Так как в дальнейшем, мы будем анализировать средний чек по каждой группе, мы оставим все как есть "
   ]
  },
  {
   "cell_type": "code",
   "execution_count": 109,
   "metadata": {},
   "outputs": [],
   "source": [
    "import matplotlib.pyplot as plt"
   ]
  },
  {
   "cell_type": "code",
   "execution_count": 110,
   "metadata": {},
   "outputs": [
    {
     "data": {
      "image/png": "[encoded data removed]",
      "text/plain": [
       "<Figure size 432x288 with 1 Axes>"
      ]
     },
     "metadata": {
      "needs_background": "light"
     },
     "output_type": "display_data"
    }
   ],
   "source": [
    "# датафрейм с кумулятивным количеством заказов и кумулятивной выручкой по дням в группе А\n",
    "cumulativeRevenueA = cumulativeData[cumulativeData['group']=='A'][['date','revenue', 'orders']]\n",
    "\n",
    "# датафрейм с кумулятивным количеством заказов и кумулятивной выручкой по дням в группе B\n",
    "cumulativeRevenueB = cumulativeData[cumulativeData['group']=='B'][['date','revenue', 'orders']]\n",
    "# выделим день из даты\n",
    "cumulativeRevenueA['date']=pd.DatetimeIndex(cumulativeRevenueA['date']).day\n",
    "cumulativeRevenueB['date']=pd.DatetimeIndex(cumulativeRevenueB['date']).day\n",
    "# Строим график выручки группы А\n",
    "plt.plot(cumulativeRevenueA['date'], cumulativeRevenueA['revenue'], label='A')\n",
    "\n",
    "# Строим график выручки группы B\n",
    "plt.plot(cumulativeRevenueB['date'], cumulativeRevenueB['revenue'], label='B')\n",
    "\n",
    "plt.title('Кумулятивная выручка по группам')\n",
    "plt.xlabel('День месяца')\n",
    "plt.ylabel('Выручка')\n",
    "plt.legend()\n",
    "plt.show()"
   ]
  },
  {
   "cell_type": "code",
   "execution_count": 111,
   "metadata": {},
   "outputs": [
    {
     "name": "stdout",
     "output_type": "stream",
     "text": [
      "2019-08-01\n",
      "2019-08-31\n"
     ]
    }
   ],
   "source": [
    "# выведем на экран минимальную и максимальные даты проведения тестов\n",
    "print(min(cumulativeData['date']))\n",
    "print(max(cumulativeData['date']))"
   ]
  },
  {
   "cell_type": "markdown",
   "metadata": {},
   "source": [
    "На протяжении всего теста выручка обеих групп растет. Однако, выручка группы B имеет резкий подъем примерно на половине теста. Такое явление возможно из за резкого увеличения количества заказов или из-за увеличения суммы заказов (покупки совершались во второй поливине августа, возможно повлияла подготовка детей к школе)."
   ]
  },
  {
   "cell_type": "markdown",
   "metadata": {},
   "source": [
    "**Построим график кумулятивного среднего чека по группам**"
   ]
  },
  {
   "cell_type": "code",
   "execution_count": 112,
   "metadata": {},
   "outputs": [
    {
     "data": {
      "image/png": "[encoded data removed]",
      "text/plain": [
       "<Figure size 432x288 with 1 Axes>"
      ]
     },
     "metadata": {
      "needs_background": "light"
     },
     "output_type": "display_data"
    }
   ],
   "source": [
    "plt.plot(cumulativeRevenueA['date'], cumulativeRevenueA['revenue']/cumulativeRevenueA['orders'], label='A')\n",
    "plt.plot(cumulativeRevenueB['date'], cumulativeRevenueB['revenue']/cumulativeRevenueB['orders'], label='B')\n",
    "plt.title('Кумулятивный средний чек по группам')\n",
    "plt.xlabel('День месяца')\n",
    "plt.ylabel('Средняя сумма чека')\n",
    "plt.legend()\n",
    "plt.show()"
   ]
  },
  {
   "cell_type": "markdown",
   "metadata": {},
   "source": [
    "Средний чек становится равномерным только к концу теста. В группе А присутсвует падение чека в начале теста примерно до 1000, затем резкий подъем ближе к середине месяца примерно до 7500 и небольшой спад до 7000 который к концу месяца поднимается обратно до 7500. В группе B два резких подъема в начале теста до 6000 и 7000, затем один резкий рост в середине, достигающий 10000. Далее следует плавный спад примерно до 9000 к концу месяца.\n"
   ]
  },
  {
   "cell_type": "markdown",
   "metadata": {},
   "source": [
    "**Построим график относительного изменения кумулятивного среднего чека группы B к группе A** "
   ]
  },
  {
   "cell_type": "code",
   "execution_count": 113,
   "metadata": {},
   "outputs": [
    {
     "data": {
      "image/png": "[encoded data removed]",
      "text/plain": [
       "<Figure size 432x288 with 1 Axes>"
      ]
     },
     "metadata": {
      "needs_background": "light"
     },
     "output_type": "display_data"
    }
   ],
   "source": [
    "# собираем данные в одном датафрейме\n",
    "mergedCumulativeRevenue = cumulativeRevenueA.merge(cumulativeRevenueB, left_on='date', right_on='date', how='left', suffixes=['A', 'B'])\n",
    "\n",
    "# cтроим отношение средних чеков\n",
    "plt.plot(mergedCumulativeRevenue['date'], (mergedCumulativeRevenue['revenueB']/mergedCumulativeRevenue['ordersB'])/(mergedCumulativeRevenue['revenueA']/mergedCumulativeRevenue['ordersA'])-1)\n",
    "\n",
    "# добавляем ось X\n",
    "plt.axhline(y=0, color='black', linestyle='--')\n",
    "plt.title('Относительное изменение кумулятивного среднего чека группы B к группе A')\n",
    "plt.xlabel('День месяца')\n",
    "plt.ylabel('Доля группы B к группе А')\n",
    "plt.show()"
   ]
  },
  {
   "cell_type": "markdown",
   "metadata": {},
   "source": [
    "График различия между средними чеками резко скачет в нескольких точках. Вероятно в данных есть выбросы или особо крупные заказы"
   ]
  },
  {
   "cell_type": "markdown",
   "metadata": {},
   "source": [
    "**Построим график кумулятивного среднего количества заказов на посетителя по группам**"
   ]
  },
  {
   "cell_type": "code",
   "execution_count": 114,
   "metadata": {},
   "outputs": [],
   "source": [
    "import warnings\n",
    "\n",
    "warnings.filterwarnings('ignore')"
   ]
  },
  {
   "cell_type": "code",
   "execution_count": 115,
   "metadata": {},
   "outputs": [
    {
     "data": {
      "image/png": "[encoded data removed]",
      "text/plain": [
       "<Figure size 432x288 with 1 Axes>"
      ]
     },
     "metadata": {
      "needs_background": "light"
     },
     "output_type": "display_data"
    }
   ],
   "source": [
    "# считаем кумулятивную конверсию\n",
    "cumulativeData['conversion'] = cumulativeData['orders']/cumulativeData['visitors']\n",
    "\n",
    "# отделяем данные по группе A\n",
    "cumulativeDataA = cumulativeData[cumulativeData['group']=='A']\n",
    "\n",
    "# отделяем данные по группе B\n",
    "cumulativeDataB = cumulativeData[cumulativeData['group']=='B']\n",
    " # выделим день из даты\n",
    "cumulativeDataA['date']=pd.DatetimeIndex(cumulativeDataA['date']).day\n",
    "cumulativeDataB['date']=pd.DatetimeIndex(cumulativeDataB['date']).day\n",
    "\n",
    "# строим графики\n",
    "plt.plot(cumulativeDataA['date'], cumulativeDataA['conversion'], label='A')\n",
    "plt.plot(cumulativeDataB['date'], cumulativeDataB['conversion'], label='B')\n",
    "\n",
    "plt.title('Кумулятивное среднее количество заказов на посетителя по группам')\n",
    "plt.xlabel('День месяца')\n",
    "plt.ylabel('Конверсия')\n",
    "plt.show()\n"
   ]
  },
  {
   "cell_type": "markdown",
   "metadata": {},
   "source": [
    "\n",
    "Обе группы имеют резкий подъем в начале теста затем резкий спад. Но группа A так и продалжает снижаться, а группа B поднимается обратно. Стабилизации в конверсии не наблюдается."
   ]
  },
  {
   "cell_type": "markdown",
   "metadata": {},
   "source": [
    "**Построим график относительного изменения кумулятивного среднего количества заказов на посетителя группы B к группе A**"
   ]
  },
  {
   "cell_type": "code",
   "execution_count": 129,
   "metadata": {},
   "outputs": [
    {
     "data": {
      "image/png": "[encoded data removed]",
      "text/plain": [
       "<Figure size 432x288 with 1 Axes>"
      ]
     },
     "metadata": {
      "needs_background": "light"
     },
     "output_type": "display_data"
    }
   ],
   "source": [
    "mergedCumulativeConversions = cumulativeDataA[['date','conversion']].merge(cumulativeDataB[['date','conversion']], left_on='date', right_on='date', how='left', suffixes=['A', 'B'])\n",
    "\n",
    "plt.plot(mergedCumulativeConversions['date'], mergedCumulativeConversions['conversionB']/mergedCumulativeConversions['conversionA']-1, label=\"Относительный прирост конверсии группы B относительно группы A\")\n",
    "plt.legend()\n",
    "\n",
    "plt.axhline(y=0, color='black', linestyle='--')\n",
    "plt.title('Относительное изменение кумулятивного среднего количества заказов на посетителя группы B к группе A')\n",
    "plt.xlabel('День месяца')\n",
    "plt.ylabel('Отношение В к А')\n",
    "plt.show()\n"
   ]
  },
  {
   "cell_type": "markdown",
   "metadata": {},
   "source": [
    "Группа B относительно группы А в начале теста имела резкий подъем и резкий спад. Группа А не долго продержалась на лидирующих позициях и к половине теста группа B снова поднялась и не имела резких снижений."
   ]
  },
  {
   "cell_type": "markdown",
   "metadata": {},
   "source": [
    "**Постройте точечный график количества заказов по пользователям**"
   ]
  },
  {
   "cell_type": "code",
   "execution_count": 117,
   "metadata": {},
   "outputs": [
    {
     "name": "stdout",
     "output_type": "stream",
     "text": [
      "          userId  orders\n",
      "1023  4256040402      11\n",
      "591   2458001652      11\n",
      "569   2378935119       9\n",
      "487   2038680547       8\n",
      "44     199603092       5\n",
      "744   3062433592       5\n",
      "55     237748145       5\n",
      "917   3803269165       5\n",
      "299   1230306981       5\n",
      "897   3717692402       5\n"
     ]
    }
   ],
   "source": [
    "ordersByUsers = (\n",
    "    orders.groupby('visitorId', as_index=False)\n",
    "    .agg({'transactionId': 'nunique'})\n",
    ")\n",
    "\n",
    "ordersByUsers.columns = ['userId', 'orders']\n",
    "\n",
    "print(ordersByUsers.sort_values(by='orders', ascending=False).head(10))\n"
   ]
  },
  {
   "cell_type": "code",
   "execution_count": 118,
   "metadata": {},
   "outputs": [
    {
     "data": {
      "text/plain": [
       "<matplotlib.collections.PathCollection at 0x7f875c719f70>"
      ]
     },
     "execution_count": 118,
     "metadata": {},
     "output_type": "execute_result"
    },
    {
     "data": {
      "image/png": "[encoded data removed]",
      "text/plain": [
       "<Figure size 432x288 with 1 Axes>"
      ]
     },
     "metadata": {
      "needs_background": "light"
     },
     "output_type": "display_data"
    }
   ],
   "source": [
    "x_values = pd.Series(range(0,len(ordersByUsers)))\n",
    "\n",
    "plt.scatter(x_values, ordersByUsers['orders'])"
   ]
  },
  {
   "cell_type": "markdown",
   "metadata": {},
   "source": [
    "Большая часть пользователей не более чем с 2 заказами. Но для анализа аномалий, необходимо посчитать перцентили."
   ]
  },
  {
   "cell_type": "markdown",
   "metadata": {},
   "source": [
    "**Посчитаем 95-й и 99-й перцентили количества заказов на пользователя**"
   ]
  },
  {
   "cell_type": "code",
   "execution_count": 119,
   "metadata": {},
   "outputs": [
    {
     "name": "stdout",
     "output_type": "stream",
     "text": [
      "[2. 4.]\n"
     ]
    }
   ],
   "source": [
    "print(np.percentile(ordersByUsers['orders'], [95, 99]))"
   ]
  },
  {
   "cell_type": "markdown",
   "metadata": {},
   "source": [
    "Не более 5% пользователей оформили больше 2 заказов. И 1% оформили 4 заказа и более. В данном случае, логичнее будет выбрать 4 и более заказов за аномальные."
   ]
  },
  {
   "cell_type": "markdown",
   "metadata": {},
   "source": [
    "**Построим точечный график стоимостей заказов**"
   ]
  },
  {
   "cell_type": "code",
   "execution_count": 120,
   "metadata": {},
   "outputs": [
    {
     "data": {
      "text/plain": [
       "<matplotlib.collections.PathCollection at 0x7f875c440610>"
      ]
     },
     "execution_count": 120,
     "metadata": {},
     "output_type": "execute_result"
    },
    {
     "data": {
      "image/png": "[encoded data removed]",
      "text/plain": [
       "<Figure size 432x288 with 1 Axes>"
      ]
     },
     "metadata": {
      "needs_background": "light"
     },
     "output_type": "display_data"
    }
   ],
   "source": [
    "x_values = pd.Series(range(0,len(orders['revenue'])))\n",
    "plt.scatter(x_values, orders['revenue']) "
   ]
  },
  {
   "cell_type": "markdown",
   "metadata": {},
   "source": [
    "По данному графику можно \"на глаз\" определить аномальные значения в отметках 0.2 и 1.2. Но для более точного определения посчитаем 95-й и 99-й перцентили "
   ]
  },
  {
   "cell_type": "markdown",
   "metadata": {},
   "source": [
    "**Посчитаем 95-й и 99-й перцентили стоимости заказов**\n"
   ]
  },
  {
   "cell_type": "code",
   "execution_count": 121,
   "metadata": {},
   "outputs": [
    {
     "name": "stdout",
     "output_type": "stream",
     "text": [
      "[28000.  58233.2]\n"
     ]
    }
   ],
   "source": [
    "print(np.percentile(orders['revenue'], [95, 99]))"
   ]
  },
  {
   "cell_type": "markdown",
   "metadata": {},
   "source": [
    "5% заказов дороже 28000, и 1% заказов дороже 58233.2. Так как в соответствии с графиком, первый выброс находится на уровне 0.2e6, возьмем за аномальные значения заказы стоимостью выше 58233.2 "
   ]
  },
  {
   "cell_type": "markdown",
   "metadata": {},
   "source": [
    "**Посчитаем статистическую значимость различий в среднем количестве заказов на посетителя между группами по «сырым» данным**\n",
    "\n",
    "Н0 - статистически значимых различий в среднем числе заказов между группами нет\n",
    "\n",
    "Н1 - есть статистически значимые различия в среднем числе заказов между группами"
   ]
  },
  {
   "cell_type": "code",
   "execution_count": 122,
   "metadata": {},
   "outputs": [
    {
     "data": {
      "text/html": [
       "<div>\n",
       "<style scoped>\n",
       "    .dataframe tbody tr th:only-of-type {\n",
       "        vertical-align: middle;\n",
       "    }\n",
       "\n",
       "    .dataframe tbody tr th {\n",
       "        vertical-align: top;\n",
       "    }\n",
       "\n",
       "    .dataframe thead th {\n",
       "        text-align: right;\n",
       "    }\n",
       "</style>\n",
       "<table border=\"1\" class=\"dataframe\">\n",
       "  <thead>\n",
       "    <tr style=\"text-align: right;\">\n",
       "      <th></th>\n",
       "      <th>date</th>\n",
       "      <th>ordersPerDateA</th>\n",
       "      <th>revenuePerDateA</th>\n",
       "      <th>ordersPerDateB</th>\n",
       "      <th>revenuePerDateB</th>\n",
       "      <th>ordersCummulativeA</th>\n",
       "      <th>revenueCummulativeA</th>\n",
       "      <th>ordersCummulativeB</th>\n",
       "      <th>revenueCummulativeB</th>\n",
       "      <th>visitorsPerDateA</th>\n",
       "      <th>visitorsPerDateB</th>\n",
       "      <th>visitorsCummulativeA</th>\n",
       "      <th>visitorsCummulativeB</th>\n",
       "    </tr>\n",
       "  </thead>\n",
       "  <tbody>\n",
       "    <tr>\n",
       "      <th>0</th>\n",
       "      <td>2019-08-01</td>\n",
       "      <td>24</td>\n",
       "      <td>148579</td>\n",
       "      <td>21</td>\n",
       "      <td>101217</td>\n",
       "      <td>24</td>\n",
       "      <td>148579</td>\n",
       "      <td>21</td>\n",
       "      <td>101217</td>\n",
       "      <td>719</td>\n",
       "      <td>713</td>\n",
       "      <td>719</td>\n",
       "      <td>713</td>\n",
       "    </tr>\n",
       "    <tr>\n",
       "      <th>1</th>\n",
       "      <td>2019-08-02</td>\n",
       "      <td>20</td>\n",
       "      <td>93822</td>\n",
       "      <td>24</td>\n",
       "      <td>165531</td>\n",
       "      <td>44</td>\n",
       "      <td>242401</td>\n",
       "      <td>45</td>\n",
       "      <td>266748</td>\n",
       "      <td>619</td>\n",
       "      <td>581</td>\n",
       "      <td>1338</td>\n",
       "      <td>1294</td>\n",
       "    </tr>\n",
       "    <tr>\n",
       "      <th>2</th>\n",
       "      <td>2019-08-03</td>\n",
       "      <td>24</td>\n",
       "      <td>112473</td>\n",
       "      <td>16</td>\n",
       "      <td>114248</td>\n",
       "      <td>68</td>\n",
       "      <td>354874</td>\n",
       "      <td>61</td>\n",
       "      <td>380996</td>\n",
       "      <td>507</td>\n",
       "      <td>509</td>\n",
       "      <td>1845</td>\n",
       "      <td>1803</td>\n",
       "    </tr>\n",
       "    <tr>\n",
       "      <th>3</th>\n",
       "      <td>2019-08-04</td>\n",
       "      <td>16</td>\n",
       "      <td>70825</td>\n",
       "      <td>17</td>\n",
       "      <td>108571</td>\n",
       "      <td>84</td>\n",
       "      <td>425699</td>\n",
       "      <td>78</td>\n",
       "      <td>489567</td>\n",
       "      <td>717</td>\n",
       "      <td>770</td>\n",
       "      <td>2562</td>\n",
       "      <td>2573</td>\n",
       "    </tr>\n",
       "    <tr>\n",
       "      <th>4</th>\n",
       "      <td>2019-08-05</td>\n",
       "      <td>25</td>\n",
       "      <td>124218</td>\n",
       "      <td>23</td>\n",
       "      <td>92428</td>\n",
       "      <td>109</td>\n",
       "      <td>549917</td>\n",
       "      <td>101</td>\n",
       "      <td>581995</td>\n",
       "      <td>756</td>\n",
       "      <td>707</td>\n",
       "      <td>3318</td>\n",
       "      <td>3280</td>\n",
       "    </tr>\n",
       "  </tbody>\n",
       "</table>\n",
       "</div>"
      ],
      "text/plain": [
       "         date  ordersPerDateA  revenuePerDateA  ordersPerDateB  \\\n",
       "0  2019-08-01              24           148579              21   \n",
       "1  2019-08-02              20            93822              24   \n",
       "2  2019-08-03              24           112473              16   \n",
       "3  2019-08-04              16            70825              17   \n",
       "4  2019-08-05              25           124218              23   \n",
       "\n",
       "   revenuePerDateB  ordersCummulativeA  revenueCummulativeA  \\\n",
       "0           101217                  24               148579   \n",
       "1           165531                  44               242401   \n",
       "2           114248                  68               354874   \n",
       "3           108571                  84               425699   \n",
       "4            92428                 109               549917   \n",
       "\n",
       "   ordersCummulativeB  revenueCummulativeB  visitorsPerDateA  \\\n",
       "0                  21               101217               719   \n",
       "1                  45               266748               619   \n",
       "2                  61               380996               507   \n",
       "3                  78               489567               717   \n",
       "4                 101               581995               756   \n",
       "\n",
       "   visitorsPerDateB  visitorsCummulativeA  visitorsCummulativeB  \n",
       "0               713                   719                   713  \n",
       "1               581                  1338                  1294  \n",
       "2               509                  1845                  1803  \n",
       "3               770                  2562                  2573  \n",
       "4               707                  3318                  3280  "
      ]
     },
     "metadata": {},
     "output_type": "display_data"
    }
   ],
   "source": [
    "visitorsADaily = visitors[visitors['group'] == 'A'][['date', 'visitors']]\n",
    "visitorsADaily.columns = ['date', 'visitorsPerDateA']\n",
    "\n",
    "visitorsACummulative = visitorsADaily.apply(\n",
    "    lambda x: visitorsADaily[visitorsADaily['date'] <= x['date']].agg(\n",
    "        {'date': 'max', 'visitorsPerDateA': 'sum'}\n",
    "    ),\n",
    "    axis=1,\n",
    ")\n",
    "visitorsACummulative.columns = ['date', 'visitorsCummulativeA']\n",
    "\n",
    "visitorsBDaily = visitors[visitors['group'] == 'B'][['date', 'visitors']]\n",
    "visitorsBDaily.columns = ['date', 'visitorsPerDateB']\n",
    "\n",
    "visitorsBCummulative = visitorsBDaily.apply(\n",
    "    lambda x: visitorsBDaily[visitorsBDaily['date'] <= x['date']].agg(\n",
    "        {'date': 'max', 'visitorsPerDateB': 'sum'}\n",
    "    ),\n",
    "    axis=1,\n",
    ")\n",
    "visitorsBCummulative.columns = ['date', 'visitorsCummulativeB']\n",
    "\n",
    "ordersADaily = (\n",
    "    orders[orders['group'] == 'A'][['date', 'transactionId', 'visitorId', 'revenue']]\n",
    "    .groupby('date', as_index=False)\n",
    "    .agg({'transactionId': pd.Series.nunique, 'revenue': 'sum'})\n",
    ")\n",
    "ordersADaily.columns = ['date', 'ordersPerDateA', 'revenuePerDateA']\n",
    "\n",
    "ordersACummulative = ordersADaily.apply(\n",
    "    lambda x: ordersADaily[ordersADaily['date'] <= x['date']].agg(\n",
    "        {'date': 'max', 'ordersPerDateA': 'sum', 'revenuePerDateA': 'sum'}\n",
    "    ),\n",
    "    axis=1,\n",
    ").sort_values(by=['date'])\n",
    "ordersACummulative.columns = [\n",
    "    'date',\n",
    "    'ordersCummulativeA',\n",
    "    'revenueCummulativeA',\n",
    "]\n",
    "\n",
    "ordersBDaily = (\n",
    "    orders[orders['group'] == 'B'][['date', 'transactionId', 'visitorId', 'revenue']]\n",
    "    .groupby('date', as_index=False)\n",
    "    .agg({'transactionId': pd.Series.nunique, 'revenue': 'sum'})\n",
    ")\n",
    "ordersBDaily.columns = ['date', 'ordersPerDateB', 'revenuePerDateB']\n",
    "\n",
    "ordersBCummulative = ordersBDaily.apply(\n",
    "    lambda x: ordersBDaily[ordersBDaily['date'] <= x['date']].agg(\n",
    "        {'date': 'max', 'ordersPerDateB': 'sum', 'revenuePerDateB': 'sum'}\n",
    "    ),\n",
    "    axis=1,\n",
    ").sort_values(by=['date'])\n",
    "ordersBCummulative.columns = [\n",
    "    'date',\n",
    "    'ordersCummulativeB',\n",
    "    'revenueCummulativeB',\n",
    "]\n",
    "\n",
    "data = (\n",
    "    ordersADaily.merge(\n",
    "        ordersBDaily, left_on='date', right_on='date', how='left'\n",
    "    )\n",
    "    .merge(ordersACummulative, left_on='date', right_on='date', how='left')\n",
    "    .merge(ordersBCummulative, left_on='date', right_on='date', how='left')\n",
    "    .merge(visitorsADaily, left_on='date', right_on='date', how='left')\n",
    "    .merge(visitorsBDaily, left_on='date', right_on='date', how='left')\n",
    "    .merge(visitorsACummulative, left_on='date', right_on='date', how='left')\n",
    "    .merge(visitorsBCummulative, left_on='date', right_on='date', how='left')\n",
    ")\n",
    "\n",
    "display(data.head(5))"
   ]
  },
  {
   "cell_type": "code",
   "execution_count": 123,
   "metadata": {},
   "outputs": [
    {
     "name": "stdout",
     "output_type": "stream",
     "text": [
      "p-value : 0.017\n",
      "Oтношение группы B к A:0.138\n"
     ]
    }
   ],
   "source": [
    "import scipy.stats as stats\n",
    "ordersByUsersA = (\n",
    "    orders[orders['group'] == 'A']\n",
    "    .groupby('visitorId', as_index=False)\n",
    "    .agg({'transactionId': pd.Series.nunique})\n",
    ")\n",
    "ordersByUsersA.columns = ['userId', 'orders']\n",
    "\n",
    "ordersByUsersB = (\n",
    "    orders[orders['group'] == 'B']\n",
    "    .groupby('visitorId', as_index=False)\n",
    "    .agg({'transactionId': pd.Series.nunique})\n",
    ")\n",
    "ordersByUsersB.columns = ['userId', 'orders']\n",
    "\n",
    "sampleA = pd.concat(\n",
    "    [\n",
    "        ordersByUsersA['orders'],\n",
    "        pd.Series(\n",
    "            0,\n",
    "            index=np.arange(\n",
    "                data['visitorsPerDateA'].sum() - len(ordersByUsersA['orders'])\n",
    "            ),\n",
    "            name='orders',\n",
    "        ),\n",
    "    ],\n",
    "    axis=0,\n",
    ")\n",
    "\n",
    "sampleB = pd.concat(\n",
    "    [\n",
    "        ordersByUsersB['orders'],\n",
    "        pd.Series(\n",
    "            0,\n",
    "            index=np.arange(\n",
    "                data['visitorsPerDateB'].sum() - len(ordersByUsersB['orders'])\n",
    "            ),\n",
    "            name='orders',\n",
    "        ),\n",
    "    ],\n",
    "    axis=0,\n",
    ")\n",
    "\n",
    "print('p-value : {0:.3f}'.format(stats.mannwhitneyu(sampleA, sampleB)[1]))\n",
    "\n",
    "print('Oтношение группы B к A:{0:.3f}'.format(sampleB.mean() / sampleA.mean() - 1))\n"
   ]
  },
  {
   "cell_type": "markdown",
   "metadata": {},
   "source": [
    "В соответствии с тем, что p-value меньше 0.05, значит отвергаем нулевую гипотезу о том что статистически значимых различий в среднем числе заказов между группами нет. Однако группа B лидирует по отношению к группе A на 13,8%. "
   ]
  },
  {
   "cell_type": "markdown",
   "metadata": {},
   "source": [
    "**Посчитаем статистическую значимость различий в среднем чеке заказа между группами по «сырым» данным**\n",
    "\n",
    "Н0 - статистически значимых различий в среднем чеке заказов между группами нет\n",
    "\n",
    "Н1 - есть статистически значиме различия в среднем числе заказов между группами"
   ]
  },
  {
   "cell_type": "code",
   "execution_count": 124,
   "metadata": {},
   "outputs": [
    {
     "name": "stdout",
     "output_type": "stream",
     "text": [
      "p-value : 0.729\n",
      "Oтношение группы B к A:0.259\n"
     ]
    }
   ],
   "source": [
    "print('p-value : {0:.3f}'.format(stats.mannwhitneyu(orders[orders['group']=='A']['revenue'], orders[orders['group']=='B']['revenue'])[1]))\n",
    "print('Oтношение группы B к A:{0:.3f}'.format(orders[orders['group']=='B']['revenue'].mean()/orders[orders['group']=='A']['revenue'].mean()-1))"
   ]
  },
  {
   "cell_type": "markdown",
   "metadata": {},
   "source": [
    "Показатель p-value=0.729 больше 0.05. Это означает, что мы не можем отвергунть нулевую гипотезу. Средний чек группы B выше среднего чека группы А на 25%, что говорит о присутствии в данных аномальных значений, которые повлияли на разницу в чеках\n"
   ]
  },
  {
   "cell_type": "markdown",
   "metadata": {},
   "source": [
    "**Посчитаем статистическую значимость различий в среднем количестве заказов на посетителя между группами по «очищенным» данным**\n",
    "\n",
    "Н0 - статистически значимых различий в среднем количестве заказов на посетителя между группами нет\n",
    "\n",
    "Н1 - есть статистически значимые различия в среднем количестве заказов на посетителя между группами"
   ]
  },
  {
   "cell_type": "code",
   "execution_count": 132,
   "metadata": {},
   "outputs": [
    {
     "data": {
      "text/plain": [
       "1099     148427295\n",
       "949      887908475\n",
       "744      888512513\n",
       "1103    1164614297\n",
       "1136    1307669133\n",
       "dtype: int64"
      ]
     },
     "metadata": {},
     "output_type": "display_data"
    },
    {
     "data": {
      "text/plain": [
       "15"
      ]
     },
     "metadata": {},
     "output_type": "display_data"
    }
   ],
   "source": [
    "usersWithManyOrders = pd.concat(\n",
    "    [\n",
    "        ordersByUsersA[ordersByUsersA['orders'] > np.percentile(ordersByUsers['orders'], 99)]['userId'],\n",
    "        ordersByUsersB[ordersByUsersB['orders'] > np.percentile(ordersByUsers['orders'], 99)]['userId'],\n",
    "    ],\n",
    "    axis=0,\n",
    ")\n",
    "usersWithExpensiveOrders = orders[orders['revenue'] > np.percentile(orders['revenue'], 99)]['visitorId']\n",
    "abnormalUsers = (\n",
    "    pd.concat([usersWithManyOrders, usersWithExpensiveOrders], axis=0)\n",
    "    .drop_duplicates()\n",
    "    .sort_values()\n",
    ")\n",
    "display(abnormalUsers.head(5))\n",
    "display(abnormalUsers.shape[0])"
   ]
  },
  {
   "cell_type": "markdown",
   "metadata": {},
   "source": [
    "Выявленно только 15 аномальных пользователей."
   ]
  },
  {
   "cell_type": "code",
   "execution_count": 126,
   "metadata": {},
   "outputs": [],
   "source": [
    "sampleAFiltered = pd.concat(\n",
    "    [\n",
    "        ordersByUsersA[\n",
    "            np.logical_not(ordersByUsersA['userId'].isin(abnormalUsers))\n",
    "        ]['orders'],\n",
    "        pd.Series(\n",
    "            0,\n",
    "            index=np.arange(\n",
    "                data['visitorsPerDateA'].sum() - len(ordersByUsersA['orders'])\n",
    "            ),\n",
    "            name='orders',\n",
    "        ),\n",
    "    ],\n",
    "    axis=0,\n",
    ")\n",
    "\n",
    "sampleBFiltered = pd.concat(\n",
    "    [\n",
    "        ordersByUsersB[\n",
    "            np.logical_not(ordersByUsersB['userId'].isin(abnormalUsers))\n",
    "        ]['orders'],\n",
    "        pd.Series(\n",
    "            0,\n",
    "            index=np.arange(\n",
    "                data['visitorsPerDateB'].sum() - len(ordersByUsersB['orders'])\n",
    "            ),\n",
    "            name='orders',\n",
    "        ),\n",
    "    ],\n",
    "    axis=0,\n",
    ")\n"
   ]
  },
  {
   "cell_type": "code",
   "execution_count": 127,
   "metadata": {},
   "outputs": [
    {
     "name": "stdout",
     "output_type": "stream",
     "text": [
      "p-value : 0.013\n",
      "Oтношение группы B к A:0.155\n"
     ]
    }
   ],
   "source": [
    "print('p-value : {0:.3f}'.format(stats.mannwhitneyu(sampleAFiltered, sampleBFiltered)[1]))\n",
    "print('Oтношение группы B к A:{0:.3f}'.format(sampleBFiltered.mean()/sampleAFiltered.mean()-1))"
   ]
  },
  {
   "cell_type": "markdown",
   "metadata": {},
   "source": [
    "Результат почти не изменился. Так же отвергаем нулевую гипотезу о том что статистически значимых различий в среднем числе заказов между группами нет. Группа B по прежднему лидирует по отношению к группе A, только уже на 15.5%."
   ]
  },
  {
   "cell_type": "markdown",
   "metadata": {},
   "source": [
    "**Посчитаем статистическую значимость различий в среднем чеке заказа между группами по «очищенным» данным**\n",
    "\n",
    "Н0 - статистически значимых различий в среднем чеке заказа между группами нет\n",
    "\n",
    "Н1 - есть статистически значимые различия в среднем чеке заказа между группами"
   ]
  },
  {
   "cell_type": "code",
   "execution_count": 128,
   "metadata": {},
   "outputs": [
    {
     "name": "stdout",
     "output_type": "stream",
     "text": [
      "p-value : 0.814\n",
      "Oтношение группы B к A:0.007\n"
     ]
    }
   ],
   "source": [
    "print(\n",
    "    'p-value : {0:.3f}'.format(\n",
    "        stats.mannwhitneyu(\n",
    "            orders[\n",
    "                np.logical_and(\n",
    "                    orders['group'] == 'A',\n",
    "                    np.logical_not(orders['visitorId'].isin(abnormalUsers)),\n",
    "                )\n",
    "            ]['revenue'],\n",
    "            orders[\n",
    "                np.logical_and(\n",
    "                    orders['group'] == 'B',\n",
    "                    np.logical_not(orders['visitorId'].isin(abnormalUsers)),\n",
    "                )\n",
    "            ]['revenue'],\n",
    "        )[1]\n",
    "    )\n",
    ")\n",
    "\n",
    "print(\n",
    "    'Oтношение группы B к A:{0:.3f}'.format(\n",
    "        orders[\n",
    "            np.logical_and(\n",
    "                orders['group'] == 'B',\n",
    "                np.logical_not(orders['visitorId'].isin(abnormalUsers)),\n",
    "            )\n",
    "        ]['revenue'].mean()\n",
    "        / orders[\n",
    "            np.logical_and(\n",
    "                orders['group'] == 'A',\n",
    "                np.logical_not(orders['visitorId'].isin(abnormalUsers)),\n",
    "            )\n",
    "        ]['revenue'].mean()\n",
    "        - 1\n",
    "    )\n",
    ")"
   ]
  },
  {
   "cell_type": "markdown",
   "metadata": {},
   "source": [
    "Так как показатель p-value превышает значение alpha (0.05), мы не можем отвергнуть нулевую гипотезу. Что видно и по изменившемуся отношению группы В к А, в сравнении с \"сырыми\" даннымию"
   ]
  },
  {
   "cell_type": "markdown",
   "metadata": {},
   "source": [
    "**Примем решение по результатам теста.**\n",
    "\n",
    "Варианты решений: \n",
    "1. Остановить тест, зафиксировать победу одной из групп. \n",
    "2. Остановить тест, зафиксировать отсутствие различий между группами. \n",
    "3. Продолжить тест."
   ]
  },
  {
   "cell_type": "markdown",
   "metadata": {},
   "source": [
    "Исходя из проведенного анализа, можно сделать следующие выводы:\n",
    "\n",
    "- Присутствует статистически значимое различие по среднему количеству заказов между группами как по «сырым», так и по \"очищенным\" данным;\n",
    "- Нет статистически значимого различия по среднему чеку между группами ни по «сырым», ни по данным после фильтрации аномалий;\n",
    "- В соответствии с графиками кумулятивного среднего чека по группам, кумулятивного среднего количества заказов и относительного изменения кумулятивного среднего количества заказов на посетителя группы B к группе A можно сделать вывод о том, что группа В лидирует в данном тесте и по количеству заказов и по среднему чеку. Возможно в группу B попали родители \"первоклашек\", а в группу А студенты. Для подготовки к 1 сентября потребности у этих двух групп разные. \n",
    "\n",
    "В связи с тем, что тест проводится в период подготовки к новому учебному году, рекомендуется либо продолжить тест, либо остановить его и начать заново примерно через месяц. "
   ]
  }
 ],
 "metadata": {
  "ExecuteTimeLog": [
   {
    "duration": 347,
    "start_time": "2022-12-14T10:57:19.450Z"
   },
   {
    "duration": 69,
    "start_time": "2022-12-14T10:57:40.637Z"
   },
   {
    "duration": 14,
    "start_time": "2022-12-14T10:58:00.522Z"
   },
   {
    "duration": 12,
    "start_time": "2022-12-14T10:59:18.124Z"
   },
   {
    "duration": 4,
    "start_time": "2022-12-14T11:02:54.982Z"
   },
   {
    "duration": 7,
    "start_time": "2022-12-14T11:02:57.575Z"
   },
   {
    "duration": 5,
    "start_time": "2022-12-14T11:13:27.699Z"
   },
   {
    "duration": 11,
    "start_time": "2022-12-14T11:14:53.174Z"
   },
   {
    "duration": 11,
    "start_time": "2022-12-14T11:17:59.585Z"
   },
   {
    "duration": 9,
    "start_time": "2022-12-14T11:19:35.718Z"
   },
   {
    "duration": 10,
    "start_time": "2022-12-14T11:19:45.195Z"
   },
   {
    "duration": 63,
    "start_time": "2022-12-14T11:42:57.292Z"
   },
   {
    "duration": 156,
    "start_time": "2022-12-14T11:47:28.122Z"
   },
   {
    "duration": 21,
    "start_time": "2022-12-14T11:47:49.395Z"
   },
   {
    "duration": 5,
    "start_time": "2022-12-14T11:49:15.589Z"
   },
   {
    "duration": 402,
    "start_time": "2022-12-15T08:55:44.301Z"
   },
   {
    "duration": 72,
    "start_time": "2022-12-15T08:55:44.705Z"
   },
   {
    "duration": 15,
    "start_time": "2022-12-15T08:55:44.779Z"
   },
   {
    "duration": 11,
    "start_time": "2022-12-15T08:55:44.795Z"
   },
   {
    "duration": 7,
    "start_time": "2022-12-15T08:55:44.807Z"
   },
   {
    "duration": 14,
    "start_time": "2022-12-15T08:55:44.816Z"
   },
   {
    "duration": 10,
    "start_time": "2022-12-15T08:55:44.831Z"
   },
   {
    "duration": 201,
    "start_time": "2022-12-15T08:55:44.842Z"
   },
   {
    "duration": 22,
    "start_time": "2022-12-15T08:55:45.044Z"
   },
   {
    "duration": 6,
    "start_time": "2022-12-15T08:55:45.068Z"
   },
   {
    "duration": 74,
    "start_time": "2022-12-15T08:56:01.642Z"
   },
   {
    "duration": 16,
    "start_time": "2022-12-15T08:58:00.114Z"
   },
   {
    "duration": 2,
    "start_time": "2022-12-15T09:01:51.312Z"
   },
   {
    "duration": 6,
    "start_time": "2022-12-15T09:01:52.561Z"
   },
   {
    "duration": 382,
    "start_time": "2022-12-15T10:42:15.215Z"
   },
   {
    "duration": 69,
    "start_time": "2022-12-15T10:42:15.599Z"
   },
   {
    "duration": 16,
    "start_time": "2022-12-15T10:42:15.670Z"
   },
   {
    "duration": 14,
    "start_time": "2022-12-15T10:42:15.687Z"
   },
   {
    "duration": 6,
    "start_time": "2022-12-15T10:42:15.703Z"
   },
   {
    "duration": 16,
    "start_time": "2022-12-15T10:42:15.710Z"
   },
   {
    "duration": 12,
    "start_time": "2022-12-15T10:42:15.727Z"
   },
   {
    "duration": 14,
    "start_time": "2022-12-15T10:42:15.741Z"
   },
   {
    "duration": 145,
    "start_time": "2022-12-15T10:42:15.757Z"
   },
   {
    "duration": 18,
    "start_time": "2022-12-15T10:43:05.049Z"
   },
   {
    "duration": 19,
    "start_time": "2022-12-15T10:43:23.161Z"
   },
   {
    "duration": 17,
    "start_time": "2022-12-15T10:45:14.851Z"
   },
   {
    "duration": 6,
    "start_time": "2022-12-15T10:46:44.348Z"
   },
   {
    "duration": 157,
    "start_time": "2022-12-15T10:50:42.743Z"
   },
   {
    "duration": 111,
    "start_time": "2022-12-15T10:54:00.783Z"
   },
   {
    "duration": 2,
    "start_time": "2022-12-15T10:58:33.026Z"
   },
   {
    "duration": 49,
    "start_time": "2022-12-15T10:58:33.030Z"
   },
   {
    "duration": 8,
    "start_time": "2022-12-15T10:58:33.081Z"
   },
   {
    "duration": 27,
    "start_time": "2022-12-15T10:58:33.090Z"
   },
   {
    "duration": 24,
    "start_time": "2022-12-15T10:58:33.119Z"
   },
   {
    "duration": 25,
    "start_time": "2022-12-15T10:58:33.145Z"
   },
   {
    "duration": 27,
    "start_time": "2022-12-15T10:58:33.173Z"
   },
   {
    "duration": 17,
    "start_time": "2022-12-15T10:58:33.202Z"
   },
   {
    "duration": 57,
    "start_time": "2022-12-15T10:58:33.222Z"
   },
   {
    "duration": 15,
    "start_time": "2022-12-15T10:58:33.280Z"
   },
   {
    "duration": 32,
    "start_time": "2022-12-15T10:58:33.297Z"
   },
   {
    "duration": 12,
    "start_time": "2022-12-15T10:58:33.331Z"
   },
   {
    "duration": 183,
    "start_time": "2022-12-15T10:58:33.345Z"
   },
   {
    "duration": 138,
    "start_time": "2022-12-15T10:58:33.531Z"
   },
   {
    "duration": 7,
    "start_time": "2022-12-15T11:01:39.875Z"
   },
   {
    "duration": 13,
    "start_time": "2022-12-15T11:02:05.236Z"
   },
   {
    "duration": 396,
    "start_time": "2022-12-15T11:02:37.321Z"
   },
   {
    "duration": 265,
    "start_time": "2022-12-15T11:03:33.870Z"
   },
   {
    "duration": 268,
    "start_time": "2022-12-15T11:12:17.156Z"
   },
   {
    "duration": 267,
    "start_time": "2022-12-15T11:12:27.244Z"
   },
   {
    "duration": 316,
    "start_time": "2022-12-15T11:14:06.908Z"
   },
   {
    "duration": 705,
    "start_time": "2022-12-15T11:15:48.989Z"
   },
   {
    "duration": 297,
    "start_time": "2022-12-15T11:16:04.818Z"
   },
   {
    "duration": 6,
    "start_time": "2022-12-15T11:20:21.875Z"
   },
   {
    "duration": 5,
    "start_time": "2022-12-15T11:20:44.081Z"
   },
   {
    "duration": 5,
    "start_time": "2022-12-15T11:21:18.425Z"
   },
   {
    "duration": 5,
    "start_time": "2022-12-15T11:21:38.789Z"
   },
   {
    "duration": 4,
    "start_time": "2022-12-15T11:21:54.336Z"
   },
   {
    "duration": 4,
    "start_time": "2022-12-15T11:22:05.559Z"
   },
   {
    "duration": 4,
    "start_time": "2022-12-15T11:23:06.988Z"
   },
   {
    "duration": 268,
    "start_time": "2022-12-15T11:31:41.500Z"
   },
   {
    "duration": 438,
    "start_time": "2022-12-15T11:44:09.227Z"
   },
   {
    "duration": 282,
    "start_time": "2022-12-15T11:51:21.551Z"
   },
   {
    "duration": 358,
    "start_time": "2022-12-15T11:52:13.598Z"
   },
   {
    "duration": 300,
    "start_time": "2022-12-15T11:53:26.504Z"
   },
   {
    "duration": 407,
    "start_time": "2022-12-15T12:10:08.848Z"
   },
   {
    "duration": 364,
    "start_time": "2022-12-15T12:11:14.112Z"
   },
   {
    "duration": 87,
    "start_time": "2022-12-15T12:37:20.564Z"
   },
   {
    "duration": 126,
    "start_time": "2022-12-15T12:38:15.514Z"
   },
   {
    "duration": 5,
    "start_time": "2022-12-15T12:43:04.099Z"
   },
   {
    "duration": 5,
    "start_time": "2022-12-15T12:43:09.251Z"
   },
   {
    "duration": 75,
    "start_time": "2022-12-15T12:44:41.860Z"
   },
   {
    "duration": 9,
    "start_time": "2022-12-15T12:45:31.297Z"
   },
   {
    "duration": 184,
    "start_time": "2022-12-15T12:45:36.355Z"
   },
   {
    "duration": 5,
    "start_time": "2022-12-15T12:46:00.722Z"
   },
   {
    "duration": 453,
    "start_time": "2022-12-15T17:10:04.852Z"
   },
   {
    "duration": 88,
    "start_time": "2022-12-15T17:10:05.307Z"
   },
   {
    "duration": 16,
    "start_time": "2022-12-15T17:10:05.397Z"
   },
   {
    "duration": 23,
    "start_time": "2022-12-15T17:10:05.415Z"
   },
   {
    "duration": 8,
    "start_time": "2022-12-15T17:10:05.441Z"
   },
   {
    "duration": 28,
    "start_time": "2022-12-15T17:10:05.453Z"
   },
   {
    "duration": 17,
    "start_time": "2022-12-15T17:10:05.483Z"
   },
   {
    "duration": 8,
    "start_time": "2022-12-15T17:10:05.502Z"
   },
   {
    "duration": 161,
    "start_time": "2022-12-15T17:10:05.512Z"
   },
   {
    "duration": 14,
    "start_time": "2022-12-15T17:10:05.675Z"
   },
   {
    "duration": 18,
    "start_time": "2022-12-15T17:10:05.691Z"
   },
   {
    "duration": 5,
    "start_time": "2022-12-15T17:10:05.711Z"
   },
   {
    "duration": 180,
    "start_time": "2022-12-15T17:10:05.718Z"
   },
   {
    "duration": 123,
    "start_time": "2022-12-15T17:10:05.902Z"
   },
   {
    "duration": 23,
    "start_time": "2022-12-15T17:10:06.027Z"
   },
   {
    "duration": 413,
    "start_time": "2022-12-15T17:10:06.053Z"
   },
   {
    "duration": 300,
    "start_time": "2022-12-15T17:10:06.469Z"
   },
   {
    "duration": 5,
    "start_time": "2022-12-15T17:10:06.771Z"
   },
   {
    "duration": 288,
    "start_time": "2022-12-15T17:10:06.778Z"
   },
   {
    "duration": 426,
    "start_time": "2022-12-15T17:10:07.068Z"
   },
   {
    "duration": 372,
    "start_time": "2022-12-15T17:10:07.496Z"
   },
   {
    "duration": 398,
    "start_time": "2022-12-15T17:10:07.871Z"
   },
   {
    "duration": 11,
    "start_time": "2022-12-15T17:10:08.271Z"
   },
   {
    "duration": 136,
    "start_time": "2022-12-15T17:10:08.284Z"
   },
   {
    "duration": 4,
    "start_time": "2022-12-15T17:10:08.422Z"
   },
   {
    "duration": 78,
    "start_time": "2022-12-15T17:10:44.840Z"
   },
   {
    "duration": 228,
    "start_time": "2022-12-15T17:37:00.967Z"
   },
   {
    "duration": 217,
    "start_time": "2022-12-15T17:45:11.680Z"
   },
   {
    "duration": 235,
    "start_time": "2022-12-15T17:45:22.271Z"
   },
   {
    "duration": 211,
    "start_time": "2022-12-15T17:45:39.532Z"
   },
   {
    "duration": 608,
    "start_time": "2022-12-15T17:46:04.321Z"
   },
   {
    "duration": 73,
    "start_time": "2022-12-15T17:49:45.981Z"
   },
   {
    "duration": 191,
    "start_time": "2022-12-15T17:49:50.127Z"
   },
   {
    "duration": 187,
    "start_time": "2022-12-15T17:50:01.497Z"
   },
   {
    "duration": 203,
    "start_time": "2022-12-15T17:51:06.571Z"
   },
   {
    "duration": 181,
    "start_time": "2022-12-15T17:51:15.302Z"
   },
   {
    "duration": 12,
    "start_time": "2022-12-15T18:21:13.162Z"
   },
   {
    "duration": 12,
    "start_time": "2022-12-15T18:25:27.298Z"
   },
   {
    "duration": 134,
    "start_time": "2022-12-15T18:46:06.657Z"
   },
   {
    "duration": 4,
    "start_time": "2022-12-15T18:49:04.400Z"
   },
   {
    "duration": 1215,
    "start_time": "2022-12-15T19:00:43.114Z"
   },
   {
    "duration": 1097,
    "start_time": "2022-12-15T19:01:03.348Z"
   },
   {
    "duration": 10,
    "start_time": "2022-12-15T19:01:26.193Z"
   },
   {
    "duration": 11,
    "start_time": "2022-12-15T19:01:42.449Z"
   },
   {
    "duration": 10,
    "start_time": "2022-12-15T19:01:51.720Z"
   },
   {
    "duration": 12,
    "start_time": "2022-12-15T19:08:38.110Z"
   },
   {
    "duration": 11,
    "start_time": "2022-12-15T19:08:45.936Z"
   },
   {
    "duration": 11,
    "start_time": "2022-12-15T19:08:53.505Z"
   },
   {
    "duration": 8,
    "start_time": "2022-12-15T19:11:37.808Z"
   },
   {
    "duration": 25,
    "start_time": "2022-12-15T19:11:58.408Z"
   },
   {
    "duration": 18,
    "start_time": "2022-12-15T19:49:42.148Z"
   },
   {
    "duration": 48,
    "start_time": "2022-12-16T06:55:36.557Z"
   },
   {
    "duration": 410,
    "start_time": "2022-12-16T06:55:39.563Z"
   },
   {
    "duration": 73,
    "start_time": "2022-12-16T06:55:39.976Z"
   },
   {
    "duration": 16,
    "start_time": "2022-12-16T06:55:40.051Z"
   },
   {
    "duration": 14,
    "start_time": "2022-12-16T06:55:40.068Z"
   },
   {
    "duration": 7,
    "start_time": "2022-12-16T06:55:40.085Z"
   },
   {
    "duration": 15,
    "start_time": "2022-12-16T06:55:40.094Z"
   },
   {
    "duration": 11,
    "start_time": "2022-12-16T06:55:40.111Z"
   },
   {
    "duration": 3,
    "start_time": "2022-12-16T06:55:40.124Z"
   },
   {
    "duration": 217,
    "start_time": "2022-12-16T06:55:40.156Z"
   },
   {
    "duration": 16,
    "start_time": "2022-12-16T06:55:40.374Z"
   },
   {
    "duration": 29,
    "start_time": "2022-12-16T06:55:40.391Z"
   },
   {
    "duration": 6,
    "start_time": "2022-12-16T06:55:40.422Z"
   },
   {
    "duration": 187,
    "start_time": "2022-12-16T06:55:40.430Z"
   },
   {
    "duration": 138,
    "start_time": "2022-12-16T06:55:40.619Z"
   },
   {
    "duration": 13,
    "start_time": "2022-12-16T06:55:40.758Z"
   },
   {
    "duration": 421,
    "start_time": "2022-12-16T06:55:40.772Z"
   },
   {
    "duration": 284,
    "start_time": "2022-12-16T06:55:41.195Z"
   },
   {
    "duration": 4,
    "start_time": "2022-12-16T06:55:41.481Z"
   },
   {
    "duration": 287,
    "start_time": "2022-12-16T06:55:41.486Z"
   },
   {
    "duration": 383,
    "start_time": "2022-12-16T06:55:41.774Z"
   },
   {
    "duration": 364,
    "start_time": "2022-12-16T06:55:42.159Z"
   },
   {
    "duration": 434,
    "start_time": "2022-12-16T06:55:42.524Z"
   },
   {
    "duration": 13,
    "start_time": "2022-12-16T06:55:42.960Z"
   },
   {
    "duration": 146,
    "start_time": "2022-12-16T06:55:42.975Z"
   },
   {
    "duration": 4,
    "start_time": "2022-12-16T06:55:43.123Z"
   },
   {
    "duration": 145,
    "start_time": "2022-12-16T06:55:43.128Z"
   },
   {
    "duration": 5,
    "start_time": "2022-12-16T06:55:43.274Z"
   },
   {
    "duration": 235,
    "start_time": "2022-12-16T06:55:43.281Z"
   },
   {
    "duration": 632,
    "start_time": "2022-12-16T06:55:43.518Z"
   },
   {
    "duration": 11,
    "start_time": "2022-12-16T06:55:44.154Z"
   },
   {
    "duration": 14,
    "start_time": "2022-12-16T06:55:44.167Z"
   },
   {
    "duration": 12,
    "start_time": "2022-12-16T06:55:44.183Z"
   },
   {
    "duration": 26,
    "start_time": "2022-12-16T06:55:44.197Z"
   },
   {
    "duration": 42,
    "start_time": "2022-12-16T06:55:44.226Z"
   },
   {
    "duration": 24,
    "start_time": "2022-12-16T07:00:46.185Z"
   },
   {
    "duration": 5,
    "start_time": "2022-12-16T07:17:19.071Z"
   },
   {
    "duration": 5,
    "start_time": "2022-12-16T07:17:23.684Z"
   },
   {
    "duration": 52,
    "start_time": "2022-12-16T07:18:39.715Z"
   },
   {
    "duration": 66,
    "start_time": "2022-12-16T07:18:48.973Z"
   },
   {
    "duration": 6,
    "start_time": "2022-12-16T07:19:33.707Z"
   },
   {
    "duration": 5,
    "start_time": "2022-12-16T07:19:36.249Z"
   },
   {
    "duration": 6,
    "start_time": "2022-12-16T07:19:48.038Z"
   },
   {
    "duration": 3,
    "start_time": "2022-12-16T07:23:17.418Z"
   },
   {
    "duration": 35,
    "start_time": "2022-12-16T07:23:17.424Z"
   },
   {
    "duration": 12,
    "start_time": "2022-12-16T07:23:17.462Z"
   },
   {
    "duration": 23,
    "start_time": "2022-12-16T07:23:17.477Z"
   },
   {
    "duration": 6,
    "start_time": "2022-12-16T07:23:17.505Z"
   },
   {
    "duration": 17,
    "start_time": "2022-12-16T07:23:17.514Z"
   },
   {
    "duration": 36,
    "start_time": "2022-12-16T07:23:17.533Z"
   },
   {
    "duration": 37,
    "start_time": "2022-12-16T07:23:17.571Z"
   },
   {
    "duration": 68,
    "start_time": "2022-12-16T07:23:17.611Z"
   },
   {
    "duration": 17,
    "start_time": "2022-12-16T07:23:17.681Z"
   },
   {
    "duration": 22,
    "start_time": "2022-12-16T07:23:17.702Z"
   },
   {
    "duration": 6,
    "start_time": "2022-12-16T07:23:17.726Z"
   },
   {
    "duration": 209,
    "start_time": "2022-12-16T07:23:17.734Z"
   },
   {
    "duration": 153,
    "start_time": "2022-12-16T07:23:17.946Z"
   },
   {
    "duration": 18,
    "start_time": "2022-12-16T07:23:18.101Z"
   },
   {
    "duration": 5,
    "start_time": "2022-12-16T07:23:18.121Z"
   },
   {
    "duration": 446,
    "start_time": "2022-12-16T07:23:18.127Z"
   },
   {
    "duration": 4,
    "start_time": "2022-12-16T07:23:18.575Z"
   },
   {
    "duration": 393,
    "start_time": "2022-12-16T07:23:18.582Z"
   },
   {
    "duration": 430,
    "start_time": "2022-12-16T07:23:18.978Z"
   },
   {
    "duration": 397,
    "start_time": "2022-12-16T07:23:19.410Z"
   },
   {
    "duration": 464,
    "start_time": "2022-12-16T07:23:19.809Z"
   },
   {
    "duration": 14,
    "start_time": "2022-12-16T07:23:20.276Z"
   },
   {
    "duration": 151,
    "start_time": "2022-12-16T07:23:20.293Z"
   },
   {
    "duration": 12,
    "start_time": "2022-12-16T07:23:20.446Z"
   },
   {
    "duration": 243,
    "start_time": "2022-12-16T07:23:20.460Z"
   },
   {
    "duration": 6,
    "start_time": "2022-12-16T07:23:20.706Z"
   },
   {
    "duration": 295,
    "start_time": "2022-12-16T07:23:20.715Z"
   },
   {
    "duration": 237,
    "start_time": "2022-12-16T07:23:21.015Z"
   },
   {
    "duration": 16,
    "start_time": "2022-12-16T07:23:21.256Z"
   },
   {
    "duration": 16,
    "start_time": "2022-12-16T07:23:21.275Z"
   },
   {
    "duration": 19,
    "start_time": "2022-12-16T07:23:21.292Z"
   },
   {
    "duration": 73,
    "start_time": "2022-12-16T07:23:21.313Z"
   },
   {
    "duration": 24,
    "start_time": "2022-12-16T07:23:21.388Z"
   },
   {
    "duration": 77,
    "start_time": "2022-12-16T10:15:19.342Z"
   },
   {
    "duration": 454,
    "start_time": "2022-12-16T10:15:25.307Z"
   },
   {
    "duration": 80,
    "start_time": "2022-12-16T10:15:25.763Z"
   },
   {
    "duration": 15,
    "start_time": "2022-12-16T10:15:25.844Z"
   },
   {
    "duration": 21,
    "start_time": "2022-12-16T10:15:25.860Z"
   },
   {
    "duration": 6,
    "start_time": "2022-12-16T10:15:25.884Z"
   },
   {
    "duration": 18,
    "start_time": "2022-12-16T10:15:25.891Z"
   },
   {
    "duration": 15,
    "start_time": "2022-12-16T10:15:25.911Z"
   },
   {
    "duration": 2,
    "start_time": "2022-12-16T10:15:25.929Z"
   },
   {
    "duration": 146,
    "start_time": "2022-12-16T10:15:25.934Z"
   },
   {
    "duration": 14,
    "start_time": "2022-12-16T10:15:26.082Z"
   },
   {
    "duration": 24,
    "start_time": "2022-12-16T10:15:26.098Z"
   },
   {
    "duration": 10,
    "start_time": "2022-12-16T10:15:26.124Z"
   },
   {
    "duration": 182,
    "start_time": "2022-12-16T10:15:26.136Z"
   },
   {
    "duration": 140,
    "start_time": "2022-12-16T10:15:26.322Z"
   },
   {
    "duration": 12,
    "start_time": "2022-12-16T10:15:26.464Z"
   },
   {
    "duration": 397,
    "start_time": "2022-12-16T10:15:26.478Z"
   },
   {
    "duration": 281,
    "start_time": "2022-12-16T10:15:26.877Z"
   },
   {
    "duration": 4,
    "start_time": "2022-12-16T10:15:27.160Z"
   },
   {
    "duration": 274,
    "start_time": "2022-12-16T10:15:27.165Z"
   },
   {
    "duration": 375,
    "start_time": "2022-12-16T10:15:27.441Z"
   },
   {
    "duration": 315,
    "start_time": "2022-12-16T10:15:27.818Z"
   },
   {
    "duration": 370,
    "start_time": "2022-12-16T10:15:28.135Z"
   },
   {
    "duration": 13,
    "start_time": "2022-12-16T10:15:28.512Z"
   },
   {
    "duration": 124,
    "start_time": "2022-12-16T10:15:28.527Z"
   },
   {
    "duration": 4,
    "start_time": "2022-12-16T10:15:28.653Z"
   },
   {
    "duration": 140,
    "start_time": "2022-12-16T10:15:28.658Z"
   },
   {
    "duration": 4,
    "start_time": "2022-12-16T10:15:28.800Z"
   },
   {
    "duration": 229,
    "start_time": "2022-12-16T10:15:28.814Z"
   },
   {
    "duration": 538,
    "start_time": "2022-12-16T10:15:29.045Z"
   },
   {
    "duration": 10,
    "start_time": "2022-12-16T10:15:29.585Z"
   },
   {
    "duration": 19,
    "start_time": "2022-12-16T10:15:29.596Z"
   },
   {
    "duration": 8,
    "start_time": "2022-12-16T10:15:29.616Z"
   },
   {
    "duration": 28,
    "start_time": "2022-12-16T10:15:29.625Z"
   },
   {
    "duration": 13,
    "start_time": "2022-12-16T10:15:29.655Z"
   },
   {
    "duration": 14,
    "start_time": "2022-12-16T10:17:33.373Z"
   },
   {
    "duration": 3,
    "start_time": "2022-12-16T10:17:41.781Z"
   },
   {
    "duration": 31,
    "start_time": "2022-12-16T10:17:41.786Z"
   },
   {
    "duration": 9,
    "start_time": "2022-12-16T10:17:41.819Z"
   },
   {
    "duration": 45,
    "start_time": "2022-12-16T10:17:41.830Z"
   },
   {
    "duration": 11,
    "start_time": "2022-12-16T10:17:41.878Z"
   },
   {
    "duration": 21,
    "start_time": "2022-12-16T10:17:41.891Z"
   },
   {
    "duration": 28,
    "start_time": "2022-12-16T10:17:41.914Z"
   },
   {
    "duration": 8,
    "start_time": "2022-12-16T10:17:41.944Z"
   },
   {
    "duration": 54,
    "start_time": "2022-12-16T10:17:41.954Z"
   },
   {
    "duration": 12,
    "start_time": "2022-12-16T10:17:42.009Z"
   },
   {
    "duration": 31,
    "start_time": "2022-12-16T10:17:42.023Z"
   },
   {
    "duration": 23,
    "start_time": "2022-12-16T10:17:42.056Z"
   },
   {
    "duration": 158,
    "start_time": "2022-12-16T10:17:42.081Z"
   },
   {
    "duration": 129,
    "start_time": "2022-12-16T10:17:42.242Z"
   },
   {
    "duration": 15,
    "start_time": "2022-12-16T10:17:42.373Z"
   },
   {
    "duration": 5,
    "start_time": "2022-12-16T10:17:42.390Z"
   },
   {
    "duration": 372,
    "start_time": "2022-12-16T10:17:42.414Z"
   },
   {
    "duration": 3,
    "start_time": "2022-12-16T10:17:42.788Z"
   },
   {
    "duration": 286,
    "start_time": "2022-12-16T10:17:42.793Z"
   },
   {
    "duration": 387,
    "start_time": "2022-12-16T10:17:43.081Z"
   },
   {
    "duration": 291,
    "start_time": "2022-12-16T10:17:43.470Z"
   },
   {
    "duration": 367,
    "start_time": "2022-12-16T10:17:43.762Z"
   },
   {
    "duration": 9,
    "start_time": "2022-12-16T10:17:44.131Z"
   },
   {
    "duration": 141,
    "start_time": "2022-12-16T10:17:44.141Z"
   },
   {
    "duration": 5,
    "start_time": "2022-12-16T10:17:44.283Z"
   },
   {
    "duration": 151,
    "start_time": "2022-12-16T10:17:44.289Z"
   },
   {
    "duration": 4,
    "start_time": "2022-12-16T10:17:44.442Z"
   },
   {
    "duration": 248,
    "start_time": "2022-12-16T10:17:44.448Z"
   },
   {
    "duration": 186,
    "start_time": "2022-12-16T10:17:44.697Z"
   },
   {
    "duration": 10,
    "start_time": "2022-12-16T10:17:44.885Z"
   },
   {
    "duration": 22,
    "start_time": "2022-12-16T10:17:44.913Z"
   },
   {
    "duration": 16,
    "start_time": "2022-12-16T10:17:44.937Z"
   },
   {
    "duration": 28,
    "start_time": "2022-12-16T10:17:44.955Z"
   },
   {
    "duration": 14,
    "start_time": "2022-12-16T10:17:44.985Z"
   },
   {
    "duration": 6,
    "start_time": "2022-12-16T10:31:08.785Z"
   },
   {
    "duration": 92,
    "start_time": "2022-12-16T10:32:05.031Z"
   },
   {
    "duration": 7,
    "start_time": "2022-12-16T10:32:28.376Z"
   },
   {
    "duration": 5,
    "start_time": "2022-12-16T10:32:55.911Z"
   },
   {
    "duration": 7,
    "start_time": "2022-12-16T10:39:29.678Z"
   },
   {
    "duration": 8,
    "start_time": "2022-12-16T10:39:47.590Z"
   },
   {
    "duration": 64,
    "start_time": "2022-12-16T10:42:40.810Z"
   },
   {
    "duration": 12,
    "start_time": "2022-12-16T10:43:07.073Z"
   },
   {
    "duration": 13,
    "start_time": "2022-12-16T10:43:14.954Z"
   },
   {
    "duration": 11,
    "start_time": "2022-12-16T10:43:27.316Z"
   },
   {
    "duration": 19,
    "start_time": "2022-12-16T10:43:39.943Z"
   },
   {
    "duration": 10,
    "start_time": "2022-12-16T10:44:21.341Z"
   },
   {
    "duration": 11,
    "start_time": "2022-12-16T10:44:53.062Z"
   },
   {
    "duration": 235,
    "start_time": "2022-12-16T10:50:07.754Z"
   },
   {
    "duration": 254,
    "start_time": "2022-12-16T10:51:04.160Z"
   },
   {
    "duration": 247,
    "start_time": "2022-12-16T10:57:51.083Z"
   },
   {
    "duration": 351,
    "start_time": "2022-12-16T11:10:29.810Z"
   },
   {
    "duration": 392,
    "start_time": "2022-12-16T11:16:22.142Z"
   },
   {
    "duration": 342,
    "start_time": "2022-12-16T11:16:49.179Z"
   },
   {
    "duration": 253,
    "start_time": "2022-12-16T11:19:36.821Z"
   },
   {
    "duration": 148,
    "start_time": "2022-12-16T11:19:53.110Z"
   },
   {
    "duration": 146,
    "start_time": "2022-12-16T11:20:52.719Z"
   },
   {
    "duration": 146,
    "start_time": "2022-12-16T11:21:06.209Z"
   },
   {
    "duration": 143,
    "start_time": "2022-12-16T11:22:04.522Z"
   },
   {
    "duration": 146,
    "start_time": "2022-12-16T11:22:41.925Z"
   },
   {
    "duration": 147,
    "start_time": "2022-12-16T11:23:26.609Z"
   },
   {
    "duration": 154,
    "start_time": "2022-12-16T11:23:56.264Z"
   },
   {
    "duration": 148,
    "start_time": "2022-12-16T11:24:07.654Z"
   },
   {
    "duration": 4,
    "start_time": "2022-12-16T11:24:34.069Z"
   },
   {
    "duration": 51,
    "start_time": "2022-12-16T15:48:28.532Z"
   },
   {
    "duration": 434,
    "start_time": "2022-12-16T15:48:32.054Z"
   },
   {
    "duration": 70,
    "start_time": "2022-12-16T15:48:32.491Z"
   },
   {
    "duration": 18,
    "start_time": "2022-12-16T15:48:32.563Z"
   },
   {
    "duration": 34,
    "start_time": "2022-12-16T15:48:32.583Z"
   },
   {
    "duration": 24,
    "start_time": "2022-12-16T15:48:32.619Z"
   },
   {
    "duration": 25,
    "start_time": "2022-12-16T15:48:32.645Z"
   },
   {
    "duration": 12,
    "start_time": "2022-12-16T15:48:32.672Z"
   },
   {
    "duration": 6,
    "start_time": "2022-12-16T15:48:32.686Z"
   },
   {
    "duration": 169,
    "start_time": "2022-12-16T15:48:32.693Z"
   },
   {
    "duration": 13,
    "start_time": "2022-12-16T15:48:32.864Z"
   },
   {
    "duration": 25,
    "start_time": "2022-12-16T15:48:32.879Z"
   },
   {
    "duration": 9,
    "start_time": "2022-12-16T15:48:32.906Z"
   },
   {
    "duration": 156,
    "start_time": "2022-12-16T15:48:32.917Z"
   },
   {
    "duration": 115,
    "start_time": "2022-12-16T15:48:33.076Z"
   },
   {
    "duration": 16,
    "start_time": "2022-12-16T15:48:33.192Z"
   },
   {
    "duration": 7,
    "start_time": "2022-12-16T15:48:33.210Z"
   },
   {
    "duration": 9,
    "start_time": "2022-12-16T15:48:33.219Z"
   },
   {
    "duration": 12,
    "start_time": "2022-12-16T15:48:33.235Z"
   },
   {
    "duration": 351,
    "start_time": "2022-12-16T15:48:33.248Z"
   },
   {
    "duration": 172,
    "start_time": "2022-12-16T15:48:33.601Z"
   },
   {
    "duration": 3,
    "start_time": "2022-12-16T15:48:33.775Z"
   },
   {
    "duration": 146,
    "start_time": "2022-12-16T15:48:33.780Z"
   },
   {
    "duration": 280,
    "start_time": "2022-12-16T15:48:33.928Z"
   },
   {
    "duration": 268,
    "start_time": "2022-12-16T15:48:34.210Z"
   },
   {
    "duration": 422,
    "start_time": "2022-12-16T15:48:34.480Z"
   },
   {
    "duration": 10,
    "start_time": "2022-12-16T15:48:34.904Z"
   },
   {
    "duration": 130,
    "start_time": "2022-12-16T15:48:34.916Z"
   },
   {
    "duration": 4,
    "start_time": "2022-12-16T15:48:35.047Z"
   },
   {
    "duration": 139,
    "start_time": "2022-12-16T15:48:35.052Z"
   },
   {
    "duration": 4,
    "start_time": "2022-12-16T15:48:35.192Z"
   },
   {
    "duration": 219,
    "start_time": "2022-12-16T15:48:35.198Z"
   },
   {
    "duration": 561,
    "start_time": "2022-12-16T15:48:35.419Z"
   },
   {
    "duration": 10,
    "start_time": "2022-12-16T15:48:35.982Z"
   },
   {
    "duration": 22,
    "start_time": "2022-12-16T15:48:35.994Z"
   },
   {
    "duration": 34,
    "start_time": "2022-12-16T15:48:36.018Z"
   },
   {
    "duration": 33,
    "start_time": "2022-12-16T15:48:36.054Z"
   },
   {
    "duration": 13,
    "start_time": "2022-12-16T15:48:36.089Z"
   },
   {
    "duration": 270,
    "start_time": "2022-12-16T15:49:56.870Z"
   },
   {
    "duration": 217,
    "start_time": "2022-12-16T15:52:05.721Z"
   },
   {
    "duration": 324,
    "start_time": "2022-12-16T15:54:42.516Z"
   },
   {
    "duration": 286,
    "start_time": "2022-12-16T15:54:52.301Z"
   },
   {
    "duration": 256,
    "start_time": "2022-12-16T15:55:16.369Z"
   },
   {
    "duration": 162,
    "start_time": "2022-12-16T15:57:52.865Z"
   },
   {
    "duration": 275,
    "start_time": "2022-12-16T16:00:00.328Z"
   },
   {
    "duration": 156,
    "start_time": "2022-12-16T16:00:29.695Z"
   },
   {
    "duration": 160,
    "start_time": "2022-12-16T16:01:08.491Z"
   },
   {
    "duration": 2,
    "start_time": "2022-12-16T16:01:54.650Z"
   },
   {
    "duration": 158,
    "start_time": "2022-12-16T16:01:55.287Z"
   },
   {
    "duration": 148,
    "start_time": "2022-12-16T16:02:05.146Z"
   },
   {
    "duration": 3,
    "start_time": "2022-12-16T16:02:08.692Z"
   },
   {
    "duration": 78,
    "start_time": "2022-12-16T16:02:08.697Z"
   },
   {
    "duration": 9,
    "start_time": "2022-12-16T16:02:08.777Z"
   },
   {
    "duration": 28,
    "start_time": "2022-12-16T16:02:08.789Z"
   },
   {
    "duration": 32,
    "start_time": "2022-12-16T16:02:08.820Z"
   },
   {
    "duration": 36,
    "start_time": "2022-12-16T16:02:08.854Z"
   },
   {
    "duration": 41,
    "start_time": "2022-12-16T16:02:08.892Z"
   },
   {
    "duration": 6,
    "start_time": "2022-12-16T16:02:08.935Z"
   },
   {
    "duration": 76,
    "start_time": "2022-12-16T16:02:08.943Z"
   },
   {
    "duration": 12,
    "start_time": "2022-12-16T16:02:09.021Z"
   },
   {
    "duration": 32,
    "start_time": "2022-12-16T16:02:09.035Z"
   },
   {
    "duration": 41,
    "start_time": "2022-12-16T16:02:09.069Z"
   },
   {
    "duration": 199,
    "start_time": "2022-12-16T16:02:09.112Z"
   },
   {
    "duration": 131,
    "start_time": "2022-12-16T16:02:09.312Z"
   },
   {
    "duration": 12,
    "start_time": "2022-12-16T16:02:09.445Z"
   },
   {
    "duration": 28,
    "start_time": "2022-12-16T16:02:09.459Z"
   },
   {
    "duration": 28,
    "start_time": "2022-12-16T16:02:09.489Z"
   },
   {
    "duration": 36,
    "start_time": "2022-12-16T16:02:09.519Z"
   },
   {
    "duration": 25,
    "start_time": "2022-12-16T16:02:09.557Z"
   },
   {
    "duration": 192,
    "start_time": "2022-12-16T16:02:09.585Z"
   },
   {
    "duration": 3,
    "start_time": "2022-12-16T16:02:09.779Z"
   },
   {
    "duration": 308,
    "start_time": "2022-12-16T16:02:09.784Z"
   },
   {
    "duration": 251,
    "start_time": "2022-12-16T16:02:10.093Z"
   },
   {
    "duration": 3,
    "start_time": "2022-12-16T16:02:10.346Z"
   },
   {
    "duration": 184,
    "start_time": "2022-12-16T16:02:10.351Z"
   },
   {
    "duration": 285,
    "start_time": "2022-12-16T16:02:10.537Z"
   },
   {
    "duration": 16,
    "start_time": "2022-12-16T16:02:10.824Z"
   },
   {
    "duration": 135,
    "start_time": "2022-12-16T16:02:10.842Z"
   },
   {
    "duration": 5,
    "start_time": "2022-12-16T16:02:10.981Z"
   },
   {
    "duration": 157,
    "start_time": "2022-12-16T16:02:10.987Z"
   },
   {
    "duration": 5,
    "start_time": "2022-12-16T16:02:11.146Z"
   },
   {
    "duration": 226,
    "start_time": "2022-12-16T16:02:11.153Z"
   },
   {
    "duration": 171,
    "start_time": "2022-12-16T16:02:11.381Z"
   },
   {
    "duration": 14,
    "start_time": "2022-12-16T16:02:11.554Z"
   },
   {
    "duration": 50,
    "start_time": "2022-12-16T16:02:11.570Z"
   },
   {
    "duration": 23,
    "start_time": "2022-12-16T16:02:11.622Z"
   },
   {
    "duration": 57,
    "start_time": "2022-12-16T16:02:11.647Z"
   },
   {
    "duration": 25,
    "start_time": "2022-12-16T16:02:11.706Z"
   },
   {
    "duration": 220,
    "start_time": "2022-12-16T16:02:49.106Z"
   },
   {
    "duration": 180,
    "start_time": "2022-12-16T16:04:01.978Z"
   },
   {
    "duration": 3,
    "start_time": "2022-12-16T16:17:24.214Z"
   },
   {
    "duration": 35,
    "start_time": "2022-12-16T16:17:24.219Z"
   },
   {
    "duration": 9,
    "start_time": "2022-12-16T16:17:24.256Z"
   },
   {
    "duration": 40,
    "start_time": "2022-12-16T16:17:24.266Z"
   },
   {
    "duration": 13,
    "start_time": "2022-12-16T16:17:24.309Z"
   },
   {
    "duration": 35,
    "start_time": "2022-12-16T16:17:24.325Z"
   },
   {
    "duration": 29,
    "start_time": "2022-12-16T16:17:24.362Z"
   },
   {
    "duration": 18,
    "start_time": "2022-12-16T16:17:24.393Z"
   },
   {
    "duration": 76,
    "start_time": "2022-12-16T16:17:24.413Z"
   },
   {
    "duration": 14,
    "start_time": "2022-12-16T16:17:24.491Z"
   },
   {
    "duration": 28,
    "start_time": "2022-12-16T16:17:24.507Z"
   },
   {
    "duration": 32,
    "start_time": "2022-12-16T16:17:24.536Z"
   },
   {
    "duration": 187,
    "start_time": "2022-12-16T16:17:24.572Z"
   },
   {
    "duration": 127,
    "start_time": "2022-12-16T16:17:24.760Z"
   },
   {
    "duration": 12,
    "start_time": "2022-12-16T16:17:24.889Z"
   },
   {
    "duration": 27,
    "start_time": "2022-12-16T16:17:24.903Z"
   },
   {
    "duration": 56,
    "start_time": "2022-12-16T16:17:24.932Z"
   },
   {
    "duration": 20,
    "start_time": "2022-12-16T16:17:24.989Z"
   },
   {
    "duration": 19,
    "start_time": "2022-12-16T16:17:25.011Z"
   },
   {
    "duration": 199,
    "start_time": "2022-12-16T16:17:25.032Z"
   },
   {
    "duration": 5,
    "start_time": "2022-12-16T16:17:25.235Z"
   },
   {
    "duration": 204,
    "start_time": "2022-12-16T16:17:25.242Z"
   },
   {
    "duration": 287,
    "start_time": "2022-12-16T16:17:25.448Z"
   },
   {
    "duration": 3,
    "start_time": "2022-12-16T16:17:25.738Z"
   },
   {
    "duration": 183,
    "start_time": "2022-12-16T16:17:25.743Z"
   },
   {
    "duration": 317,
    "start_time": "2022-12-16T16:17:25.928Z"
   },
   {
    "duration": 11,
    "start_time": "2022-12-16T16:17:26.247Z"
   },
   {
    "duration": 242,
    "start_time": "2022-12-16T16:17:26.260Z"
   },
   {
    "duration": 5,
    "start_time": "2022-12-16T16:17:26.505Z"
   },
   {
    "duration": 157,
    "start_time": "2022-12-16T16:17:26.512Z"
   },
   {
    "duration": 5,
    "start_time": "2022-12-16T16:17:26.672Z"
   },
   {
    "duration": 296,
    "start_time": "2022-12-16T16:17:26.678Z"
   },
   {
    "duration": 176,
    "start_time": "2022-12-16T16:17:26.976Z"
   },
   {
    "duration": 10,
    "start_time": "2022-12-16T16:17:27.154Z"
   },
   {
    "duration": 41,
    "start_time": "2022-12-16T16:17:27.166Z"
   },
   {
    "duration": 39,
    "start_time": "2022-12-16T16:17:27.209Z"
   },
   {
    "duration": 144,
    "start_time": "2022-12-16T16:17:27.253Z"
   },
   {
    "duration": 29,
    "start_time": "2022-12-16T16:17:27.400Z"
   },
   {
    "duration": 298,
    "start_time": "2022-12-16T16:19:13.340Z"
   },
   {
    "duration": 45,
    "start_time": "2022-12-16T16:24:17.914Z"
   },
   {
    "duration": 12,
    "start_time": "2022-12-16T16:56:37.559Z"
   },
   {
    "duration": 13,
    "start_time": "2022-12-16T16:57:23.216Z"
   }
  ],
  "kernelspec": {
   "display_name": "Python 3 (ipykernel)",
   "language": "python",
   "name": "python3"
  },
  "language_info": {
   "codemirror_mode": {
    "name": "ipython",
    "version": 3
   },
   "file_extension": ".py",
   "mimetype": "text/x-python",
   "name": "python",
   "nbconvert_exporter": "python",
   "pygments_lexer": "ipython3",
   "version": "3.9.5"
  },
  "toc": {
   "base_numbering": 1,
   "nav_menu": {
    "height": "60px",
    "width": "261px"
   },
   "number_sections": true,
   "sideBar": true,
   "skip_h1_title": true,
   "title_cell": "Table of Contents",
   "title_sidebar": "Contents",
   "toc_cell": false,
   "toc_position": {},
   "toc_section_display": true,
   "toc_window_display": false
  }
 },
 "nbformat": 4,
 "nbformat_minor": 2
}
